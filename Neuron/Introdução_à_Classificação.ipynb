{
  "nbformat": 4,
  "nbformat_minor": 0,
  "metadata": {
    "colab": {
      "name": "Introdução à Classificação.ipynb",
      "provenance": [],
      "collapsed_sections": []
    },
    "kernelspec": {
      "name": "python3",
      "display_name": "Python 3"
    }
  },
  "cells": [
    {
      "cell_type": "markdown",
      "metadata": {
        "id": "mO2rS7J6T6XD",
        "colab_type": "text"
      },
      "source": [
        "# Bootcamp Neuron 2020\n",
        "\n",
        "\\\\\n",
        "\n",
        "**Autor**: Felipe Maia Polo  \n",
        "\n",
        "**Bio**: Bacharel em ciências econômicas pela FEARP/USP e mestrando em estatística pelo IME/USP.  É um dos fundadores do Neuron/DSAI e atualmente atua como consultor em ciência de dados e Research Assistant no Advanced Institute of Artificial Intelligence (AI2). Tem interesse pelas áreas de aprendizado de máquina probabilístico, inferência Bayesiana e métodos estatísticos para dados superdimensionados.\n",
        "\n",
        "**Linkedin**: https://www.linkedin.com/in/felipemaiapolo/\n",
        "\n",
        "**E-mail**: felipemaiapolo@gmail.com\n",
        "\n",
        "\\\\"
      ]
    },
    {
      "cell_type": "markdown",
      "metadata": {
        "id": "2y6w3EKxT-ne",
        "colab_type": "text"
      },
      "source": [
        "# Introdução à Classificação em Machine Learning\n",
        "\n",
        "\n",
        "\n",
        "Abrindo pacotes que utilizaremos hoje:\n",
        "\n"
      ]
    },
    {
      "cell_type": "code",
      "metadata": {
        "id": "UA3Hi_zpTj3F",
        "colab_type": "code",
        "colab": {}
      },
      "source": [
        "import numpy as np\n",
        "import random\n",
        "\n",
        "from sklearn.model_selection import train_test_split\n",
        "from sklearn import metrics\n",
        "from sklearn.metrics import confusion_matrix, plot_confusion_matrix, classification_report, log_loss, confusion_matrix\n",
        "from sklearn.linear_model import LogisticRegression\n",
        "from sklearn.model_selection import GridSearchCV\n",
        "from sklearn.preprocessing import StandardScaler\n",
        "from sklearn.datasets import load_breast_cancer\n",
        "from sklearn.pipeline import Pipeline\n",
        "\n",
        "import matplotlib\n",
        "import matplotlib.cm as cm\n",
        "import matplotlib.mlab as mlab\n",
        "import matplotlib.pyplot as plt\n",
        "import seaborn as sns\n",
        "\n",
        "from IPython.display import Image\n",
        "from IPython.core.display import HTML "
      ],
      "execution_count": null,
      "outputs": []
    },
    {
      "cell_type": "markdown",
      "metadata": {
        "id": "LH1_iLEpUelG",
        "colab_type": "text"
      },
      "source": [
        "## O modelo de Regressão Logística\n",
        "\n",
        "Vamos observer a função Sigmoid:"
      ]
    },
    {
      "cell_type": "code",
      "metadata": {
        "id": "-CMo3RFDTlhp",
        "colab_type": "code",
        "colab": {
          "base_uri": "https://localhost:8080/",
          "height": 279
        },
        "outputId": "08c16803-990d-4726-f708-c7d0d8eda627"
      },
      "source": [
        "def sigmoid(z): return 1/(1+np.exp(-z))\n",
        "\n",
        "x = np.arange(-10, 10, 0.1)\n",
        "plt.plot(x, sigmoid(x), 'g', lw=3)\n",
        "plt.xlabel('z')\n",
        "plt.ylabel('Sigmoid(z)')\n",
        "\n",
        "plt.show()"
      ],
      "execution_count": null,
      "outputs": [
        {
          "output_type": "display_data",
          "data": {
            "image/png": "[encoded data removed]",
            "text/plain": [
              "<Figure size 432x288 with 1 Axes>"
            ]
          },
          "metadata": {
            "tags": [],
            "needs_background": "light"
          }
        }
      ]
    },
    {
      "cell_type": "markdown",
      "metadata": {
        "id": "RY18IfOvUiZu",
        "colab_type": "text"
      },
      "source": [
        "### Exemplo 1\n",
        "\n",
        "Neste exemplo criaremos um modelo um pouco mais complexo incluindo o que chamamos de intercepto ou bias.\n",
        "\n",
        "Gerando dados:"
      ]
    },
    {
      "cell_type": "code",
      "metadata": {
        "id": "7Vhw9pYPUgTX",
        "colab_type": "code",
        "colab": {
          "base_uri": "https://localhost:8080/",
          "height": 34
        },
        "outputId": "c9ea6e22-49ec-4b14-b49b-969824acf7e2"
      },
      "source": [
        "random.seed(0)\n",
        "\n",
        "n=500\n",
        "\n",
        "mean_0 = 1\n",
        "mean_1 = 4\n",
        "scale = 1\n",
        "\n",
        "X = np.hstack((np.random.normal(mean_0, scale, n), np.random.normal(mean_1, scale, n)))\n",
        "y = np.hstack((np.zeros(n), np.ones(n)))\n",
        "\n",
        "print(np.shape(X), np.shape(y))"
      ],
      "execution_count": null,
      "outputs": [
        {
          "output_type": "stream",
          "text": [
            "(1000,) (1000,)\n"
          ],
          "name": "stdout"
        }
      ]
    },
    {
      "cell_type": "markdown",
      "metadata": {
        "id": "jqZzHC1oUmYs",
        "colab_type": "text"
      },
      "source": [
        "Vamos dividir os dados nos conjuntos de treino e de teste:\n",
        "\n",
        "**Atenção: toda a modelagem é feita no conjunto de treino e o conjunto de teste só é utilizado para a avaliação final do modelo!!!**"
      ]
    },
    {
      "cell_type": "code",
      "metadata": {
        "id": "-XeehMpSUkIr",
        "colab_type": "code",
        "colab": {}
      },
      "source": [
        "X_train, X_test, y_train, y_test = train_test_split(X, y, test_size=0.2, stratify=y, random_state=0)"
      ],
      "execution_count": null,
      "outputs": []
    },
    {
      "cell_type": "markdown",
      "metadata": {
        "id": "-HWfFgU6UrAC",
        "colab_type": "text"
      },
      "source": [
        "Neste exemplo só temos uma variável como atributo e nosso rótulo é binário. Vamos visualizar os dados de treino:"
      ]
    },
    {
      "cell_type": "code",
      "metadata": {
        "id": "9MWVa5NfUoWu",
        "colab_type": "code",
        "colab": {
          "base_uri": "https://localhost:8080/",
          "height": 279
        },
        "outputId": "d292a0a3-4504-401e-8d89-594246bfa565"
      },
      "source": [
        "plt.scatter(X_train,y_train,c=y_train,cmap='bwr')\n",
        "\n",
        "plt.xlabel('X')\n",
        "plt.ylabel('Y')\n",
        "\n",
        "plt.show()"
      ],
      "execution_count": null,
      "outputs": [
        {
          "output_type": "display_data",
          "data": {
            "image/png": "[encoded data removed]",
            "text/plain": [
              "<Figure size 432x288 with 1 Axes>"
            ]
          },
          "metadata": {
            "tags": [],
            "needs_background": "light"
          }
        }
      ]
    },
    {
      "cell_type": "markdown",
      "metadata": {
        "id": "eNaum8JVUv61",
        "colab_type": "text"
      },
      "source": [
        "Neste problema nosso primeiro modelo para a probabilidade condicional do rótulo 1 é da seguinte cara:\n",
        "\n",
        "\\begin{align}\n",
        "  \\mathbb{P}(Y=1|X=x)=\\frac{1}{1+e^{-(w \\cdot x)}}=\\sigma(w \\cdot x)\n",
        "\\end{align}\n",
        "\n",
        "Dado isso, \"treinar\" o modelo ou o algoritmo se consiste no aprendizado dos melhores valores de $w$ para o nosso caso. Para isso definimos uma função de **ERRO** que deve ser minimizada. Neste caso a função é chamada de Log Loss. Vamos codar a função erro:"
      ]
    },
    {
      "cell_type": "code",
      "metadata": {
        "id": "0KSZLAJzUsro",
        "colab_type": "code",
        "colab": {}
      },
      "source": [
        "def logloss(b,w,X=X_train,y=y_train):\n",
        "    out=0\n",
        "    for i in range(np.shape(X)[0]):\n",
        "        eps=10**-50\n",
        "        out += -(y[i]*np.log(sigmoid(b+w*X[i])+eps) + (1-y[i])*np.log(1-sigmoid(b+w*X[i])+eps))\n",
        "    return(out/y.shape[0])"
      ],
      "execution_count": null,
      "outputs": []
    },
    {
      "cell_type": "markdown",
      "metadata": {
        "id": "b7R3uDimU1Dt",
        "colab_type": "text"
      },
      "source": [
        "Agora vamos visualizar a função de erro assumindo $b=0$:"
      ]
    },
    {
      "cell_type": "code",
      "metadata": {
        "id": "zNe5xqNEUyvM",
        "colab_type": "code",
        "colab": {
          "base_uri": "https://localhost:8080/",
          "height": 282
        },
        "outputId": "8ee62a44-404e-4153-a3e8-74acdb55238d"
      },
      "source": [
        "w = np.linspace(-2, 5, 100)\n",
        "\n",
        "loss=[logloss(0,ww) for ww in w]\n",
        "\n",
        "plt.plot(w,loss, 'g', lw=3)\n",
        "plt.xlabel('w', fontsize=12)\n",
        "plt.ylabel('$\\hat{Erro}(w)$', fontsize=12)\n",
        "plt.show()"
      ],
      "execution_count": null,
      "outputs": [
        {
          "output_type": "display_data",
          "data": {
            "image/png": "[encoded data removed]",
            "text/plain": [
              "<Figure size 432x288 with 1 Axes>"
            ]
          },
          "metadata": {
            "tags": [],
            "needs_background": "light"
          }
        }
      ]
    },
    {
      "cell_type": "markdown",
      "metadata": {
        "id": "D8vv7LxOU5Z9",
        "colab_type": "text"
      },
      "source": [
        "Agora utilizaremos a biblioteca Scikit-Learn para fazer a máquina aprender o melhor valor para $w$:"
      ]
    },
    {
      "cell_type": "code",
      "metadata": {
        "id": "NVLzdOegU22c",
        "colab_type": "code",
        "colab": {}
      },
      "source": [
        "#O pacote somente X como um array de 2 dimensões... vamos dar um reshape\n",
        "X_train=X_train.reshape((-1,1)) \n",
        "\n",
        "#Treinando modelo\n",
        "logreg = LogisticRegression(penalty='none', solver='newton-cg', fit_intercept=False)\n",
        "logreg = logreg.fit(X_train, y_train)"
      ],
      "execution_count": null,
      "outputs": []
    },
    {
      "cell_type": "code",
      "metadata": {
        "id": "umPC0BMWU-PF",
        "colab_type": "code",
        "colab": {
          "base_uri": "https://localhost:8080/",
          "height": 34
        },
        "outputId": "4033e6ba-024f-4ff4-9f88-59bed42b9301"
      },
      "source": [
        "w=logreg.coef_[0][0]\n",
        "\n",
        "w, logloss(0,w)"
      ],
      "execution_count": null,
      "outputs": [
        {
          "output_type": "execute_result",
          "data": {
            "text/plain": [
              "(0.36719042326362666, 0.5710459516841064)"
            ]
          },
          "metadata": {
            "tags": []
          },
          "execution_count": 60
        }
      ]
    },
    {
      "cell_type": "markdown",
      "metadata": {
        "id": "aC-elP_tU8QD",
        "colab_type": "text"
      },
      "source": [
        "Agora vamos plotar nosso modelo aprendido nos dados de treino:"
      ]
    },
    {
      "cell_type": "code",
      "metadata": {
        "id": "Rtht8BuQU7X2",
        "colab_type": "code",
        "colab": {
          "base_uri": "https://localhost:8080/",
          "height": 280
        },
        "outputId": "075ae7b6-c883-4f5c-eec5-2bf2bc1b88a8"
      },
      "source": [
        "x = np.arange(-5, 7, 0.1)\n",
        "plt.plot(x, sigmoid(w*x), 'g', lw=3)\n",
        "\n",
        "plt.scatter(X_train,y_train,c=y_train,cmap='bwr')\n",
        "plt.xlim((-5,7))\n",
        "plt.xlabel('X_train')\n",
        "plt.ylabel('Y_train  &  P(Y=1|X=x)')\n",
        "\n",
        "plt.show()"
      ],
      "execution_count": null,
      "outputs": [
        {
          "output_type": "display_data",
          "data": {
            "image/png": "[encoded data removed]",
            "text/plain": [
              "<Figure size 432x288 with 1 Axes>"
            ]
          },
          "metadata": {
            "tags": [],
            "needs_background": "light"
          }
        }
      ]
    },
    {
      "cell_type": "markdown",
      "metadata": {
        "id": "0_N0UAAXVSml",
        "colab_type": "text"
      },
      "source": [
        "Vamos plotar nosso modelo contra os dados de teste"
      ]
    },
    {
      "cell_type": "code",
      "metadata": {
        "id": "yC4cZTNrVC-k",
        "colab_type": "code",
        "colab": {
          "base_uri": "https://localhost:8080/",
          "height": 280
        },
        "outputId": "9dc51679-aaa1-4fcf-ecc8-1ad45bc7deb9"
      },
      "source": [
        "x = np.arange(-5, 7, 0.1)\n",
        "plt.plot(x, sigmoid(w*x), 'g', lw=3)\n",
        "\n",
        "plt.scatter(X_test,y_test,c=y_test,cmap='bwr')\n",
        "plt.xlim((-5,7))\n",
        "plt.xlabel('X_test')\n",
        "plt.ylabel('Y_test  &  P(Y=1|X=x)')\n",
        "\n",
        "plt.show()"
      ],
      "execution_count": null,
      "outputs": [
        {
          "output_type": "display_data",
          "data": {
            "image/png": "[encoded data removed]",
            "text/plain": [
              "<Figure size 432x288 with 1 Axes>"
            ]
          },
          "metadata": {
            "tags": [],
            "needs_background": "light"
          }
        }
      ]
    },
    {
      "cell_type": "markdown",
      "metadata": {
        "id": "3VgVZ-RfVVwr",
        "colab_type": "text"
      },
      "source": [
        "Avaliando função de Erro no conjunto de teste para o valor ótimo de $w$:"
      ]
    },
    {
      "cell_type": "code",
      "metadata": {
        "id": "wbs_HGClVUGM",
        "colab_type": "code",
        "colab": {
          "base_uri": "https://localhost:8080/",
          "height": 34
        },
        "outputId": "0c363fcc-3e00-49d7-f793-d2794f141f36"
      },
      "source": [
        "logloss(0,w,X=X_test,y=y_test)"
      ],
      "execution_count": null,
      "outputs": [
        {
          "output_type": "execute_result",
          "data": {
            "text/plain": [
              "0.5689856830354519"
            ]
          },
          "metadata": {
            "tags": []
          },
          "execution_count": 63
        }
      ]
    },
    {
      "cell_type": "markdown",
      "metadata": {
        "id": "OKP7TqVQVaaE",
        "colab_type": "text"
      },
      "source": [
        "Neste problema nosso modelo para a probabilidade condicional do rótulo 1 é da seguinte cara:\n",
        "\n",
        "\\begin{align}\n",
        "  \\mathbb{P}(Y=1|X=x)=\\frac{1}{1+e^{-(b+w \\cdot x)}}=\\sigma(b+w \\cdot x)\n",
        "\\end{align}\n",
        "\n",
        "Dado isso, \"treinar\" o modelo ou o algoritmo se consiste no aprendizado dos melhores valores de $b$ e de $w$ para o nosso caso."
      ]
    },
    {
      "cell_type": "markdown",
      "metadata": {
        "id": "RvmfGjvEVdo5",
        "colab_type": "text"
      },
      "source": [
        "Vamos visualizar as curvas de nível da função Erro:"
      ]
    },
    {
      "cell_type": "code",
      "metadata": {
        "id": "6tM6J1K5VXuW",
        "colab_type": "code",
        "colab": {
          "base_uri": "https://localhost:8080/",
          "height": 304
        },
        "outputId": "a32115d1-6cf6-4959-85f8-d72da1392140"
      },
      "source": [
        "delta = 0.4\n",
        "\n",
        "m1 = np.arange(-10, 2, delta)\n",
        "m2 = np.arange(-3, 9, delta)\n",
        "M1, M2 = np.meshgrid(m1, m2)\n",
        "\n",
        "Z=np.zeros(np.shape(M1))\n",
        "\n",
        "for i in range(np.shape(m1)[0]):\n",
        "    for j in range(np.shape(m2)[0]):\n",
        "        Z[i,j] = logloss(M1[i,j], M2[i,j])\n",
        "\n",
        "plt.figure()\n",
        "CS = plt.contour(M1, M2, Z)\n",
        "plt.clabel(CS, inline=1, fontsize=10)\n",
        "plt.xlabel('b', fontsize=12)\n",
        "plt.ylabel('w', fontsize=12)\n",
        "plt.title('$\\hat{Erro}(b,w)$', fontsize=12) \n",
        "plt.show()"
      ],
      "execution_count": null,
      "outputs": [
        {
          "output_type": "display_data",
          "data": {
            "image/png": "[encoded data removed]",
            "text/plain": [
              "<Figure size 432x288 with 1 Axes>"
            ]
          },
          "metadata": {
            "tags": [],
            "needs_background": "light"
          }
        }
      ]
    },
    {
      "cell_type": "markdown",
      "metadata": {
        "id": "JWy7NHNdVhlo",
        "colab_type": "text"
      },
      "source": [
        "Agora utilizaremos a biblioteca Scikit-Learn para fazer a máquina aprender os melhores valores para $b$ e $w$:"
      ]
    },
    {
      "cell_type": "code",
      "metadata": {
        "id": "6zxU-Ff8VfUp",
        "colab_type": "code",
        "colab": {}
      },
      "source": [
        "#O pacote somente X como um array de 2 dimensões... vamos dar um reshape\n",
        "X_train=X_train.reshape((-1,1)) \n",
        "\n",
        "#Treinando modelo\n",
        "logreg = LogisticRegression(penalty='none', solver='newton-cg')\n",
        "logreg = logreg.fit(X_train, y_train)"
      ],
      "execution_count": null,
      "outputs": []
    },
    {
      "cell_type": "markdown",
      "metadata": {
        "id": "aT_Sz9hNVhPg",
        "colab_type": "text"
      },
      "source": [
        "Recuperando os pesos aprendidos:"
      ]
    },
    {
      "cell_type": "code",
      "metadata": {
        "id": "F6czWxD5Vri3",
        "colab_type": "code",
        "colab": {
          "base_uri": "https://localhost:8080/",
          "height": 34
        },
        "outputId": "751136f5-78bf-4104-d8a1-98c90e164aed"
      },
      "source": [
        "b=logreg.intercept_[0]\n",
        "w=logreg.coef_[0][0]\n",
        "\n",
        "b, w, logloss(b,w)"
      ],
      "execution_count": null,
      "outputs": [
        {
          "output_type": "execute_result",
          "data": {
            "text/plain": [
              "(-6.831349865882596, 2.694196143161914, 0.19380099858131355)"
            ]
          },
          "metadata": {
            "tags": []
          },
          "execution_count": 66
        }
      ]
    },
    {
      "cell_type": "markdown",
      "metadata": {
        "id": "RYMWL1GkV1N_",
        "colab_type": "text"
      },
      "source": [
        "Agora vamos plotar nossa modelo aprendido nos dados de treino:"
      ]
    },
    {
      "cell_type": "code",
      "metadata": {
        "id": "h6U9Ui2OVtVD",
        "colab_type": "code",
        "colab": {
          "base_uri": "https://localhost:8080/",
          "height": 280
        },
        "outputId": "ee74d8bc-2ea6-47b8-bc80-d3397119a530"
      },
      "source": [
        "x = np.arange(-5, 7, 0.1)\n",
        "plt.plot(x, sigmoid(b+w*x), 'g', lw=3)\n",
        "\n",
        "plt.scatter(X_train,y_train,c=y_train,cmap='bwr')\n",
        "plt.xlim((-5,7))\n",
        "plt.xlabel('X_train')\n",
        "plt.ylabel('Y_train  &  P(Y=1|X=x)')\n",
        "\n",
        "plt.show()"
      ],
      "execution_count": null,
      "outputs": [
        {
          "output_type": "display_data",
          "data": {
            "image/png": "[encoded data removed]",
            "text/plain": [
              "<Figure size 432x288 with 1 Axes>"
            ]
          },
          "metadata": {
            "tags": [],
            "needs_background": "light"
          }
        }
      ]
    },
    {
      "cell_type": "markdown",
      "metadata": {
        "id": "ERFIlAZSWFT5",
        "colab_type": "text"
      },
      "source": [
        "Vamos visualizar como nosso modelo generalizaria para o conjunto de teste:"
      ]
    },
    {
      "cell_type": "code",
      "metadata": {
        "id": "uxR6VXVKV5VU",
        "colab_type": "code",
        "colab": {
          "base_uri": "https://localhost:8080/",
          "height": 280
        },
        "outputId": "e3d61507-c76a-4d74-b3eb-32f25458dda1"
      },
      "source": [
        "x = np.arange(-5, 7, 0.1)\n",
        "plt.plot(x, sigmoid(b+w*x), 'g', lw=3)\n",
        "\n",
        "plt.scatter(X_test,y_test,c=y_test,cmap='bwr')\n",
        "plt.xlim((-5,7))\n",
        "plt.xlabel('X_test')\n",
        "plt.ylabel('Y_test  &  P(Y=1|X=x)')\n",
        "\n",
        "plt.show()"
      ],
      "execution_count": null,
      "outputs": [
        {
          "output_type": "display_data",
          "data": {
            "image/png": "[encoded data removed]",
            "text/plain": [
              "<Figure size 432x288 with 1 Axes>"
            ]
          },
          "metadata": {
            "tags": [],
            "needs_background": "light"
          }
        }
      ]
    },
    {
      "cell_type": "markdown",
      "metadata": {
        "id": "TtTE0eFyWJiq",
        "colab_type": "text"
      },
      "source": [
        "Avaliando função de Erro no conjunto de teste para os valores ótimos de $w$ e $b$:"
      ]
    },
    {
      "cell_type": "code",
      "metadata": {
        "id": "TLnk4uKnWHnT",
        "colab_type": "code",
        "colab": {
          "base_uri": "https://localhost:8080/",
          "height": 34
        },
        "outputId": "d7f9ea0b-d248-4069-dcb8-f018840128f4"
      },
      "source": [
        "logloss(b,w,X=X_test,y=y_test)"
      ],
      "execution_count": null,
      "outputs": [
        {
          "output_type": "execute_result",
          "data": {
            "text/plain": [
              "0.18579155114784765"
            ]
          },
          "metadata": {
            "tags": []
          },
          "execution_count": 69
        }
      ]
    },
    {
      "cell_type": "markdown",
      "metadata": {
        "id": "aFvaEkuQWWnL",
        "colab_type": "text"
      },
      "source": [
        "### Exemplo 2: Aplicações com dados reais"
      ]
    },
    {
      "cell_type": "markdown",
      "metadata": {
        "id": "CvelMwywWYmL",
        "colab_type": "text"
      },
      "source": [
        "Carregando o dataset:"
      ]
    },
    {
      "cell_type": "code",
      "metadata": {
        "id": "_4aIP0htWK8q",
        "colab_type": "code",
        "colab": {
          "base_uri": "https://localhost:8080/",
          "height": 34
        },
        "outputId": "1f3acc36-00fe-47d9-9af1-2490babcde43"
      },
      "source": [
        "X, y = load_breast_cancer(return_X_y=True)\n",
        "X.shape"
      ],
      "execution_count": null,
      "outputs": [
        {
          "output_type": "execute_result",
          "data": {
            "text/plain": [
              "(569, 30)"
            ]
          },
          "metadata": {
            "tags": []
          },
          "execution_count": 70
        }
      ]
    },
    {
      "cell_type": "markdown",
      "metadata": {
        "id": "WKLwyTIEWcPn",
        "colab_type": "text"
      },
      "source": [
        "Dividindo treino e teste"
      ]
    },
    {
      "cell_type": "code",
      "metadata": {
        "id": "N1xXsFmtWaEd",
        "colab_type": "code",
        "colab": {}
      },
      "source": [
        "X_train, X_test, y_train, y_test = train_test_split(X, y, test_size=.5, stratify=y, random_state=27)"
      ],
      "execution_count": null,
      "outputs": []
    },
    {
      "cell_type": "markdown",
      "metadata": {
        "id": "Y-TmmySxWftS",
        "colab_type": "text"
      },
      "source": [
        "Treinando regresão logística:"
      ]
    },
    {
      "cell_type": "code",
      "metadata": {
        "id": "Ew7nOMCVWd_p",
        "colab_type": "code",
        "colab": {
          "base_uri": "https://localhost:8080/",
          "height": 70
        },
        "outputId": "cb85ee2b-10f0-4052-8426-66db2245e360"
      },
      "source": [
        "logreg = LogisticRegression(penalty='none', solver='newton-cg').fit(X_train, y_train)"
      ],
      "execution_count": null,
      "outputs": [
        {
          "output_type": "stream",
          "text": [
            "/usr/local/lib/python3.6/dist-packages/sklearn/utils/optimize.py:212: ConvergenceWarning: newton-cg failed to converge. Increase the number of iterations.\n",
            "  \"number of iterations.\", ConvergenceWarning)\n"
          ],
          "name": "stderr"
        }
      ]
    },
    {
      "cell_type": "markdown",
      "metadata": {
        "id": "ITEwlFV9W98T",
        "colab_type": "text"
      },
      "source": [
        "Veja que tivemos problemas de convergência. Para evitar esse tipo de problema, podemos recorrer à padronização das variáveis, afim de deixar tudo na mesma escala. Para padronizar fazemos a seguinte atualização:\n",
        "\n",
        "\\begin{align}\n",
        "    x_i \\leftarrow \\frac{x_i-\\text{avg}(x)}{\\text{std}(x)}\n",
        "\\end{align}\n",
        "\n",
        "A média e o dp são calculado no conjunto de treino. Padronizando:"
      ]
    },
    {
      "cell_type": "code",
      "metadata": {
        "id": "TTWUSUPTWhQ1",
        "colab_type": "code",
        "colab": {}
      },
      "source": [
        "scaler = StandardScaler()\n",
        "X_train=scaler.fit_transform(X_train)"
      ],
      "execution_count": null,
      "outputs": []
    },
    {
      "cell_type": "markdown",
      "metadata": {
        "id": "vCatcxuGXHKc",
        "colab_type": "text"
      },
      "source": [
        "Treinando novamente"
      ]
    },
    {
      "cell_type": "code",
      "metadata": {
        "id": "Jjf7wObAXBc5",
        "colab_type": "code",
        "colab": {}
      },
      "source": [
        "logreg = LogisticRegression(penalty='none', solver='newton-cg').fit(X_train, y_train)"
      ],
      "execution_count": null,
      "outputs": []
    },
    {
      "cell_type": "markdown",
      "metadata": {
        "id": "d2yD_UsUviS5",
        "colab_type": "text"
      },
      "source": [
        "Vendo pesos estimados"
      ]
    },
    {
      "cell_type": "code",
      "metadata": {
        "id": "Nt1WMD8gvpk6",
        "colab_type": "code",
        "colab": {
          "base_uri": "https://localhost:8080/",
          "height": 34
        },
        "outputId": "af5d37e0-1e3c-4738-bbe6-bf8bb5faa6a6"
      },
      "source": [
        "logreg.intercept_[0]"
      ],
      "execution_count": null,
      "outputs": [
        {
          "output_type": "execute_result",
          "data": {
            "text/plain": [
              "3.9271493056002247"
            ]
          },
          "metadata": {
            "tags": []
          },
          "execution_count": 75
        }
      ]
    },
    {
      "cell_type": "code",
      "metadata": {
        "id": "ktwmFntEvimK",
        "colab_type": "code",
        "colab": {
          "base_uri": "https://localhost:8080/",
          "height": 151
        },
        "outputId": "2358febc-2da5-4e21-f47c-344325fe76f1"
      },
      "source": [
        "logreg.coef_[0]"
      ],
      "execution_count": null,
      "outputs": [
        {
          "output_type": "execute_result",
          "data": {
            "text/plain": [
              "array([  0.96740833,  -6.46780108,   2.22705071,  -1.77365438,\n",
              "         4.42830437,  12.99517129, -12.69411298, -15.98914508,\n",
              "        -1.71851571,   6.06473186, -13.31185709,   4.48022786,\n",
              "         3.79454978, -10.70340159,   5.55440992,   8.27948246,\n",
              "        -6.622762  ,   3.61202902,  -4.44438348,  11.50613653,\n",
              "       -16.29181446, -14.1266622 ,  -4.99972378, -16.27849931,\n",
              "        -3.23356537,  10.00394837, -14.48735182, -16.64793569,\n",
              "       -14.11988774,  -5.14136451])"
            ]
          },
          "metadata": {
            "tags": []
          },
          "execution_count": 76
        }
      ]
    },
    {
      "cell_type": "markdown",
      "metadata": {
        "id": "4KqIPxD6XMPu",
        "colab_type": "text"
      },
      "source": [
        "Prevendo probabilidades para conjunto de teste:"
      ]
    },
    {
      "cell_type": "code",
      "metadata": {
        "id": "vjfZy_TxXIkO",
        "colab_type": "code",
        "colab": {
          "base_uri": "https://localhost:8080/",
          "height": 34
        },
        "outputId": "1f224781-61b3-4977-c042-751dcfe633ec"
      },
      "source": [
        "X_test=scaler.transform(X_test)\n",
        "\n",
        "y_prob = logreg.predict_proba(X_test)\n",
        "\n",
        "y_prob.shape"
      ],
      "execution_count": null,
      "outputs": [
        {
          "output_type": "execute_result",
          "data": {
            "text/plain": [
              "(285, 2)"
            ]
          },
          "metadata": {
            "tags": []
          },
          "execution_count": 77
        }
      ]
    },
    {
      "cell_type": "markdown",
      "metadata": {
        "id": "uPqvYocZXPgp",
        "colab_type": "text"
      },
      "source": [
        "Na segunda coluna estão as probabilidades da classe 1:"
      ]
    },
    {
      "cell_type": "code",
      "metadata": {
        "id": "xpC6_CpdXNxp",
        "colab_type": "code",
        "colab": {
          "base_uri": "https://localhost:8080/",
          "height": 67
        },
        "outputId": "ca9481f8-34e8-4bf2-af18-f8d2486efc3d"
      },
      "source": [
        "y_prob=y_prob[:,1]\n",
        "\n",
        "np.round(y_prob,5)[:20]"
      ],
      "execution_count": null,
      "outputs": [
        {
          "output_type": "execute_result",
          "data": {
            "text/plain": [
              "array([0.05041, 0.     , 1.     , 1.     , 0.     , 1.     , 0.     ,\n",
              "       1.     , 0.     , 0.99994, 1.     , 0.     , 1.     , 1.     ,\n",
              "       0.     , 1.     , 0.     , 1.     , 0.     , 1.     ])"
            ]
          },
          "metadata": {
            "tags": []
          },
          "execution_count": 78
        }
      ]
    },
    {
      "cell_type": "markdown",
      "metadata": {
        "id": "F5iuOp7VXUlc",
        "colab_type": "text"
      },
      "source": [
        "Calculando o erro no teste"
      ]
    },
    {
      "cell_type": "code",
      "metadata": {
        "id": "qO66qaq8XRbj",
        "colab_type": "code",
        "colab": {
          "base_uri": "https://localhost:8080/",
          "height": 34
        },
        "outputId": "1f1eaf89-d950-4956-d3bf-8d35de2b2bd8"
      },
      "source": [
        "log_loss(y_test,y_prob)"
      ],
      "execution_count": null,
      "outputs": [
        {
          "output_type": "execute_result",
          "data": {
            "text/plain": [
              "0.8703292239306463"
            ]
          },
          "metadata": {
            "tags": []
          },
          "execution_count": 79
        }
      ]
    },
    {
      "cell_type": "markdown",
      "metadata": {
        "id": "vacXlGfbXs3q",
        "colab_type": "text"
      },
      "source": [
        "### Exemplo 3: Regularização"
      ]
    },
    {
      "cell_type": "markdown",
      "metadata": {
        "id": "ij0W_aOyXvFd",
        "colab_type": "text"
      },
      "source": [
        "Arrumando as coisas :)"
      ]
    },
    {
      "cell_type": "code",
      "metadata": {
        "id": "XY-aNm3HXqCB",
        "colab_type": "code",
        "colab": {}
      },
      "source": [
        "X, y = load_breast_cancer(return_X_y=True)\n",
        "X_train, X_test, y_train, y_test = train_test_split(X, y, test_size=.5, stratify=y, random_state=27)"
      ],
      "execution_count": null,
      "outputs": []
    },
    {
      "cell_type": "markdown",
      "metadata": {
        "id": "N40NeKt6X0mI",
        "colab_type": "text"
      },
      "source": [
        "Escolhendo melhor hiperparâmetro"
      ]
    },
    {
      "cell_type": "code",
      "metadata": {
        "id": "ZXfxXhumXw5k",
        "colab_type": "code",
        "colab": {
          "base_uri": "https://localhost:8080/",
          "height": 34
        },
        "outputId": "65d65139-7ba7-4c9f-f0ee-e99e2e658b1f"
      },
      "source": [
        "pipe = Pipeline([('scaler', StandardScaler()), \n",
        "                 ('logreg', LogisticRegression(penalty='l1',solver='liblinear'))])\n",
        "parameters = {'logreg__C': np.linspace(10**-5,10,100)}\n",
        " \n",
        "gcv=GridSearchCV(pipe, parameters, cv=3, scoring='neg_log_loss', n_jobs=-1)\n",
        "gcv.fit(X_train, y_train)\n",
        "\n",
        "#Vendo o melhor valor e o escore associado\n",
        "c=gcv.best_params_['logreg__C']\n",
        "\n",
        "c, gcv.best_score_"
      ],
      "execution_count": null,
      "outputs": [
        {
          "output_type": "execute_result",
          "data": {
            "text/plain": [
              "(4.343439999999999, -0.04770473962844424)"
            ]
          },
          "metadata": {
            "tags": []
          },
          "execution_count": 81
        }
      ]
    },
    {
      "cell_type": "markdown",
      "metadata": {
        "id": "7IZ799xzX4l5",
        "colab_type": "text"
      },
      "source": [
        "Treinando e predizendo"
      ]
    },
    {
      "cell_type": "code",
      "metadata": {
        "id": "kEmNLHNSX2ff",
        "colab_type": "code",
        "colab": {
          "base_uri": "https://localhost:8080/",
          "height": 218
        },
        "outputId": "5ab8a0b0-920a-41a4-d995-5ef0bdd6c12d"
      },
      "source": [
        "pipe = Pipeline([('scaler', StandardScaler()), \n",
        "                 ('logreg', LogisticRegression(penalty='l1', C=c, solver='liblinear'))])\n",
        "pipe.fit(X_train, y_train)"
      ],
      "execution_count": null,
      "outputs": [
        {
          "output_type": "execute_result",
          "data": {
            "text/plain": [
              "Pipeline(memory=None,\n",
              "         steps=[('scaler',\n",
              "                 StandardScaler(copy=True, with_mean=True, with_std=True)),\n",
              "                ('logreg',\n",
              "                 LogisticRegression(C=4.343439999999999, class_weight=None,\n",
              "                                    dual=False, fit_intercept=True,\n",
              "                                    intercept_scaling=1, l1_ratio=None,\n",
              "                                    max_iter=100, multi_class='auto',\n",
              "                                    n_jobs=None, penalty='l1',\n",
              "                                    random_state=None, solver='liblinear',\n",
              "                                    tol=0.0001, verbose=0, warm_start=False))],\n",
              "         verbose=False)"
            ]
          },
          "metadata": {
            "tags": []
          },
          "execution_count": 82
        }
      ]
    },
    {
      "cell_type": "markdown",
      "metadata": {
        "id": "L66vSOdwvbZ3",
        "colab_type": "text"
      },
      "source": [
        "Vendo pesos estimados:"
      ]
    },
    {
      "cell_type": "code",
      "metadata": {
        "id": "zATnww6vuyPX",
        "colab_type": "code",
        "colab": {
          "base_uri": "https://localhost:8080/",
          "height": 34
        },
        "outputId": "cdd86221-0be4-4b85-889f-9d27bf673562"
      },
      "source": [
        "pipe['logreg'].intercept_[0]"
      ],
      "execution_count": null,
      "outputs": [
        {
          "output_type": "execute_result",
          "data": {
            "text/plain": [
              "0.04932041993824579"
            ]
          },
          "metadata": {
            "tags": []
          },
          "execution_count": 83
        }
      ]
    },
    {
      "cell_type": "code",
      "metadata": {
        "id": "SxqAMsCUvPqa",
        "colab_type": "code",
        "colab": {
          "base_uri": "https://localhost:8080/",
          "height": 118
        },
        "outputId": "805274c9-f30c-46b6-da08-07a51920372f"
      },
      "source": [
        "pipe['logreg'].coef_[0]"
      ],
      "execution_count": null,
      "outputs": [
        {
          "output_type": "execute_result",
          "data": {
            "text/plain": [
              "array([ 0.        , -1.50765925,  0.        ,  0.        ,  0.        ,\n",
              "        1.79712694, -3.45430409,  0.        ,  0.        ,  0.10720845,\n",
              "       -2.09179799,  0.        ,  0.        ,  0.        ,  0.        ,\n",
              "        0.79492314,  0.        ,  0.        ,  0.        ,  1.69646058,\n",
              "       -0.88762373, -1.21618743,  0.        , -7.43921182,  0.        ,\n",
              "        0.02222314, -0.8639796 , -3.3935842 , -1.98518113,  0.        ])"
            ]
          },
          "metadata": {
            "tags": []
          },
          "execution_count": 84
        }
      ]
    },
    {
      "cell_type": "code",
      "metadata": {
        "id": "dF2-T2qTxvrA",
        "colab_type": "code",
        "colab": {
          "base_uri": "https://localhost:8080/",
          "height": 34
        },
        "outputId": "398cc3a2-f214-4916-95e8-46157ba8a6ee"
      },
      "source": [
        "np.mean(pipe['logreg'].coef_[0]!=0)"
      ],
      "execution_count": null,
      "outputs": [
        {
          "output_type": "execute_result",
          "data": {
            "text/plain": [
              "0.4666666666666667"
            ]
          },
          "metadata": {
            "tags": []
          },
          "execution_count": 85
        }
      ]
    },
    {
      "cell_type": "markdown",
      "metadata": {
        "id": "w1umUvwmvYey",
        "colab_type": "text"
      },
      "source": [
        "Predizendo"
      ]
    },
    {
      "cell_type": "code",
      "metadata": {
        "id": "5pKJNvJuvYAe",
        "colab_type": "code",
        "colab": {}
      },
      "source": [
        "y_prob = pipe.predict_proba(X_test)\n",
        "y_prob = y_prob[:,1]"
      ],
      "execution_count": null,
      "outputs": []
    },
    {
      "cell_type": "markdown",
      "metadata": {
        "id": "PAFY5f18X7jH",
        "colab_type": "text"
      },
      "source": [
        "Verificando erro no teste"
      ]
    },
    {
      "cell_type": "code",
      "metadata": {
        "id": "o0AZlGICX6Df",
        "colab_type": "code",
        "colab": {
          "base_uri": "https://localhost:8080/",
          "height": 34
        },
        "outputId": "eab9fc2e-a708-4708-97bf-216f114ff694"
      },
      "source": [
        "log_loss(y_test,y_prob)"
      ],
      "execution_count": null,
      "outputs": [
        {
          "output_type": "execute_result",
          "data": {
            "text/plain": [
              "0.15030173529420715"
            ]
          },
          "metadata": {
            "tags": []
          },
          "execution_count": 87
        }
      ]
    },
    {
      "cell_type": "markdown",
      "metadata": {
        "id": "omV9gTFNYCgy",
        "colab_type": "text"
      },
      "source": [
        "## Classificação e Métricas de Avaliação"
      ]
    },
    {
      "cell_type": "markdown",
      "metadata": {
        "id": "EmFtcOJQYEyV",
        "colab_type": "text"
      },
      "source": [
        "### Exemplo 4"
      ]
    },
    {
      "cell_type": "markdown",
      "metadata": {
        "id": "zNLl7iV5gSKi",
        "colab_type": "text"
      },
      "source": [
        "Gerando dados quando temos 2 atributos:"
      ]
    },
    {
      "cell_type": "code",
      "metadata": {
        "id": "svoy8FkOftqf",
        "colab_type": "code",
        "colab": {
          "base_uri": "https://localhost:8080/",
          "height": 34
        },
        "outputId": "cab6327d-a795-4fea-8b8c-131c520b0c60"
      },
      "source": [
        "n=500\n",
        "\n",
        "mean_0 = [0, 0]\n",
        "cov_0 = [[1, 0], [0, 1]]\n",
        "\n",
        "mean_1 = [2, 2]\n",
        "cov_1 = [[1, 0], [0, 1]]\n",
        "\n",
        "X = np.vstack((np.random.multivariate_normal(mean_0, cov_0, n), np.random.multivariate_normal(mean_1, cov_1, n)))\n",
        "y = np.hstack((np.zeros(n), np.ones(n)))\n",
        "\n",
        "np.shape(X), np.shape(y)"
      ],
      "execution_count": null,
      "outputs": [
        {
          "output_type": "execute_result",
          "data": {
            "text/plain": [
              "((1000, 2), (1000,))"
            ]
          },
          "metadata": {
            "tags": []
          },
          "execution_count": 88
        }
      ]
    },
    {
      "cell_type": "markdown",
      "metadata": {
        "id": "RL4y4EGWgWLb",
        "colab_type": "text"
      },
      "source": [
        "Divindo conjuntos de treino e teste:"
      ]
    },
    {
      "cell_type": "code",
      "metadata": {
        "id": "0M_4CFIPfwGT",
        "colab_type": "code",
        "colab": {}
      },
      "source": [
        "X_train, X_test, y_train, y_test = train_test_split(X, y, test_size=0.2, stratify=y, random_state=0)"
      ],
      "execution_count": null,
      "outputs": []
    },
    {
      "cell_type": "markdown",
      "metadata": {
        "id": "kK-9gK8LgZfb",
        "colab_type": "text"
      },
      "source": [
        "Visualizando dados de treino:"
      ]
    },
    {
      "cell_type": "code",
      "metadata": {
        "id": "0CrNV1U2fyeO",
        "colab_type": "code",
        "colab": {
          "base_uri": "https://localhost:8080/",
          "height": 283
        },
        "outputId": "e80a95a0-712f-48e8-c911-6fd36c4f9e41"
      },
      "source": [
        "plt.scatter(X_train[:,0],X_train[:,1],c=y_train,cmap='bwr')\n",
        "\n",
        "plt.xlabel('x1')\n",
        "plt.ylabel('x2')\n",
        "plt.xlim((-3,5))\n",
        "plt.ylim((-3,5))\n",
        "plt.show()"
      ],
      "execution_count": null,
      "outputs": [
        {
          "output_type": "display_data",
          "data": {
            "image/png": "[encoded data removed]",
            "text/plain": [
              "<Figure size 432x288 with 1 Axes>"
            ]
          },
          "metadata": {
            "tags": [],
            "needs_background": "light"
          }
        }
      ]
    },
    {
      "cell_type": "markdown",
      "metadata": {
        "id": "M8Q4i9jAgcp8",
        "colab_type": "text"
      },
      "source": [
        "Neste problema nosso modelo para a probabilidade condicional do rótulo 1 é da seguinte cara:\n",
        "\n",
        "\\begin{align}\n",
        "  \\mathbb{P}(Y=1|X_1=x_1,X_2=x_2)=\\frac{1}{1+e^{-(b+w_1 \\cdot x_1 +w_2 \\cdot x_2)}}=\\sigma(b+w_1 \\cdot x_1 +w_2 \\cdot x_2)\n",
        "\\end{align}\n",
        "\n",
        "\n",
        "Treinando modelo de regressão logística no conjunto de treinamento:"
      ]
    },
    {
      "cell_type": "code",
      "metadata": {
        "id": "ybaXocY0ft1I",
        "colab_type": "code",
        "colab": {}
      },
      "source": [
        "logreg = LogisticRegression()\n",
        "logreg = logreg.fit(X_train, y_train)"
      ],
      "execution_count": null,
      "outputs": []
    },
    {
      "cell_type": "markdown",
      "metadata": {
        "id": "8dnu3QCTgjOv",
        "colab_type": "text"
      },
      "source": [
        "Recuperando pesos aprendidos:"
      ]
    },
    {
      "cell_type": "code",
      "metadata": {
        "id": "clV6t0IegIA0",
        "colab_type": "code",
        "colab": {
          "base_uri": "https://localhost:8080/",
          "height": 34
        },
        "outputId": "714f2b9a-9a17-49eb-d5e8-2ff4ba996dbe"
      },
      "source": [
        "b=logreg.intercept_[0]\n",
        "w1=logreg.coef_[0][0]\n",
        "w2=logreg.coef_[0][1]\n",
        "\n",
        "b, w1, w2"
      ],
      "execution_count": null,
      "outputs": [
        {
          "output_type": "execute_result",
          "data": {
            "text/plain": [
              "(-4.457724008699683, 2.1541048297645706, 2.1303998111630413)"
            ]
          },
          "metadata": {
            "tags": []
          },
          "execution_count": 92
        }
      ]
    },
    {
      "cell_type": "markdown",
      "metadata": {
        "id": "i9nzejNFgm9T",
        "colab_type": "text"
      },
      "source": [
        "Visualizado o modelo aprendido juntamente com os dados de treino:"
      ]
    },
    {
      "cell_type": "code",
      "metadata": {
        "id": "83NlYqtpj9QN",
        "colab_type": "code",
        "colab": {
          "base_uri": "https://localhost:8080/",
          "height": 298
        },
        "outputId": "5f4b5620-e5a0-4525-dc22-189d28b3b50d"
      },
      "source": [
        "delta = 0.01\n",
        "\n",
        "m1 = np.arange(-3, 5, delta)\n",
        "m2 = np.arange(-3, 5, delta)\n",
        "M1, M2 = np.meshgrid(m1, m2)\n",
        "\n",
        "Z=np.zeros(np.shape(M1))\n",
        "\n",
        "for i in range(np.shape(m1)[0]):\n",
        "    for j in range(np.shape(m2)[0]):\n",
        "        Z[i,j] = sigmoid(b+w1*M1[i,j]+w2*M2[i,j])\n",
        "\n",
        "plt.figure()\n",
        "CS = plt.contour(M1, M2, Z)\n",
        "plt.clabel(CS, inline=1, fontsize=10)\n",
        "plt.xlabel('x1', fontsize=12)\n",
        "plt.ylabel('x2', fontsize=12)\n",
        "plt.title('P(Y=1|X1=x2, X2=x2)', fontsize=12)\n",
        "plt.xlim((-3,5))\n",
        "plt.ylim((-3,5))\n",
        "plt.show()"
      ],
      "execution_count": null,
      "outputs": [
        {
          "output_type": "display_data",
          "data": {
            "image/png": "[encoded data removed]",
            "text/plain": [
              "<Figure size 432x288 with 1 Axes>"
            ]
          },
          "metadata": {
            "tags": [],
            "needs_background": "light"
          }
        }
      ]
    },
    {
      "cell_type": "code",
      "metadata": {
        "id": "tKju0ZSCf6T5",
        "colab_type": "code",
        "colab": {
          "base_uri": "https://localhost:8080/",
          "height": 298
        },
        "outputId": "3c9ce66f-9f13-4e69-faf5-946a756f3431"
      },
      "source": [
        "plt.figure()\n",
        "CS = plt.contour(M1, M2, Z)\n",
        "plt.scatter(X_train[:,0],X_train[:,1],c=y_train,cmap='bwr')\n",
        "plt.clabel(CS, inline=1, fontsize=10)\n",
        "plt.xlabel('x1', fontsize=12)\n",
        "plt.ylabel('x2', fontsize=12)\n",
        "plt.title('P(Y=1|X1=x2, X2=x2)', fontsize=12)\n",
        "plt.xlim((-3,5))\n",
        "plt.ylim((-3,5))\n",
        "plt.show()"
      ],
      "execution_count": null,
      "outputs": [
        {
          "output_type": "display_data",
          "data": {
            "image/png": "[encoded data removed]",
            "text/plain": [
              "<Figure size 432x288 with 1 Axes>"
            ]
          },
          "metadata": {
            "tags": [],
            "needs_background": "light"
          }
        }
      ]
    },
    {
      "cell_type": "markdown",
      "metadata": {
        "id": "BJotga5JYIIQ",
        "colab_type": "text"
      },
      "source": [
        "A partir das probabilidades preditas, vamos classificar as amostras como 0 ou 1:"
      ]
    },
    {
      "cell_type": "code",
      "metadata": {
        "id": "yqUv_-Cag0Ic",
        "colab_type": "code",
        "colab": {}
      },
      "source": [
        "y_prob = logreg.predict_proba(X_test)\n",
        "y_prob = y_prob[:,1]"
      ],
      "execution_count": null,
      "outputs": []
    },
    {
      "cell_type": "code",
      "metadata": {
        "id": "qCAnEv-TX86Z",
        "colab_type": "code",
        "colab": {}
      },
      "source": [
        "cut=.1\n",
        "\n",
        "y_pred=1*(y_prob>cut)"
      ],
      "execution_count": null,
      "outputs": []
    },
    {
      "cell_type": "code",
      "metadata": {
        "id": "D_T9UoycOTQ6",
        "colab_type": "code",
        "colab": {
          "base_uri": "https://localhost:8080/",
          "height": 34
        },
        "outputId": "fd588699-688a-415f-cc36-cfb18fe31d4d"
      },
      "source": [
        "y_pred[:10]"
      ],
      "execution_count": null,
      "outputs": [
        {
          "output_type": "execute_result",
          "data": {
            "text/plain": [
              "array([1, 1, 0, 1, 1, 0, 0, 1, 0, 1])"
            ]
          },
          "metadata": {
            "tags": []
          },
          "execution_count": 107
        }
      ]
    },
    {
      "cell_type": "markdown",
      "metadata": {
        "id": "igI6groEg6Nh",
        "colab_type": "text"
      },
      "source": [
        "Obs: Utilizar o ponto de corte igual a 1/2 é igual a utilizar o método \"predict\" da regressão logística:"
      ]
    },
    {
      "cell_type": "code",
      "metadata": {
        "id": "nlpeBYPlhkFm",
        "colab_type": "code",
        "colab": {
          "base_uri": "https://localhost:8080/",
          "height": 34
        },
        "outputId": "915c27ce-8724-4224-dbc5-771c31e92f20"
      },
      "source": [
        "y_pred2=logreg.predict(X_test)\n",
        "\n",
        "np.mean(y_pred==y_pred2)"
      ],
      "execution_count": null,
      "outputs": [
        {
          "output_type": "execute_result",
          "data": {
            "text/plain": [
              "1.0"
            ]
          },
          "metadata": {
            "tags": []
          },
          "execution_count": 98
        }
      ]
    },
    {
      "cell_type": "markdown",
      "metadata": {
        "id": "-ldis5AMYLRJ",
        "colab_type": "text"
      },
      "source": [
        "Podemos então checar a acurácia do modelo (% de acerto):"
      ]
    },
    {
      "cell_type": "code",
      "metadata": {
        "id": "W26mNrHvYJmT",
        "colab_type": "code",
        "colab": {
          "base_uri": "https://localhost:8080/",
          "height": 34
        },
        "outputId": "07c66bd8-5cd4-4937-b492-400413b9b3b0"
      },
      "source": [
        "np.mean(y_test==y_pred)"
      ],
      "execution_count": null,
      "outputs": [
        {
          "output_type": "execute_result",
          "data": {
            "text/plain": [
              "0.92"
            ]
          },
          "metadata": {
            "tags": []
          },
          "execution_count": 103
        }
      ]
    },
    {
      "cell_type": "markdown",
      "metadata": {
        "id": "umpo_9U8YOqB",
        "colab_type": "text"
      },
      "source": [
        "A acurácia pode ser uma métrica relevante, mas não é a única e na prática é raro utilizarmos somente ela. \n",
        "\n",
        "A matriz de confusão nos traz mais informações relevantes:"
      ]
    },
    {
      "cell_type": "code",
      "metadata": {
        "id": "FWAR3fdlYNBW",
        "colab_type": "code",
        "colab": {}
      },
      "source": [
        "cf_matrix=confusion_matrix(y_test, y_pred)"
      ],
      "execution_count": null,
      "outputs": []
    },
    {
      "cell_type": "code",
      "metadata": {
        "id": "D-CfrLNuYQTS",
        "colab_type": "code",
        "colab": {
          "base_uri": "https://localhost:8080/",
          "height": 279
        },
        "outputId": "deafd789-fc48-4ed2-9d01-81c93b1caedd"
      },
      "source": [
        "group_names = ['Verdadeiro Negativo (VN)','Falso Positivo (FP)','False Negativo (FN)','Verdadeiro Positivo (VP)']\n",
        "group_counts = ['{0:0.0f}'.format(value) for value in\n",
        "                cf_matrix.flatten()]\n",
        "group_percentages = ['{0:.2%}'.format(value) for value in\n",
        "                     cf_matrix.flatten()/np.sum(cf_matrix)]\n",
        "labels = [f'{v1}\\n{v2}\\n{v3}' for v1, v2, v3 in\n",
        "          zip(group_names,group_counts,group_percentages)]\n",
        "labels = np.asarray(labels).reshape(2,2)\n",
        "sns.heatmap(cf_matrix, annot=labels, fmt='', cmap='Blues')\n",
        "plt.xlabel(\"Rótulo Predito\")\n",
        "plt.ylabel(\"Rótulo Real\")\n",
        "plt.show()"
      ],
      "execution_count": null,
      "outputs": [
        {
          "output_type": "display_data",
          "data": {
            "image/png": "[encoded data removed]",
            "text/plain": [
              "<Figure size 432x288 with 2 Axes>"
            ]
          },
          "metadata": {
            "tags": [],
            "needs_background": "light"
          }
        }
      ]
    },
    {
      "cell_type": "markdown",
      "metadata": {
        "id": "U9i6MHttYUpf",
        "colab_type": "text"
      },
      "source": [
        "Na figura acima, por exemplo, VN é o número de exemplos negativos (ou 0) e que foram de fato classificados como negativos - por isso Verdadeiros Negativos! Já FN é o número de exemplos que são positivos mas que foram classificados erroneamente como negativos - por isso Falsos Negativos! Analogamente, também temos os FPs e os VPs. A Acurácia, então, poderia ser definida como:\n",
        "\n",
        "\\\\\n",
        "\n",
        "\\begin{align}\n",
        "  \\text{Acurácia}=\\frac{VN+VP}{VN+VP+FN+FP}\n",
        "\\end{align}\n",
        "\n",
        "\\\\\n",
        "\n",
        "A fórmula acima pega o número de casos em que acertamos a divide pelo número total de casos, que é algo que já havíamos comentado. Uma outra importante métrica é a Precisão que é definida pela seguinte fórmula:\n",
        "\n",
        "\\\\\n",
        "\n",
        "\\begin{equation}\n",
        "\\text{Precisão}=\\frac{VP}{VP+FP}\n",
        "\\end{equation}\n",
        "\n",
        "\\\\\n",
        "\n",
        "O que a fórmula da Precisão quer nos dizer? Ela nos dá o percentual de acertos quando predizemos a classe positiva (ou 1). Ou seja, se classificamos 100 indivíduos como positivos em nossa amostra, mas destes 100 só 80 são realmente positivos, nossa Precisão seria de $0,8=80\\%$. Uma outra importante métrica, que complementa bem a informação trazida pela Precisão, é o *Recall* (ou Sensitividade), que é dado pela seguinte fórmula:\n",
        "\n",
        "\\\\\n",
        "\n",
        "\\begin{equation}\n",
        "\\text{Recall}=\\frac{VP}{VP+FN}\n",
        "\\end{equation} \n",
        "\n",
        "\\\\\n",
        "\n",
        "O que a fórmula de *Recall* quer nos dizer? Ela nos dá o percentual de indivíduos da classe positiva que estão na nossa amostra e que conseguimos prever. Ou seja, se há 100 indivíduos positivos em nossa amostra, mas destes 100 só classificamos 70 como sendo positivos, nosso Recall seria de $0,7=70\\%$. É importante dizer que existem métricas análogas à Precisão e ao Recall para os exemplos negativos (e.g. o 'Recall' para os exemplos negativos é chamado de **Especificidade**). A última métrica que apresentaremos aqui é o Escore F1, que é a média harmônica entre Recall e Precisão:\n",
        "\n",
        "\\\\\n",
        "\n",
        "\\begin{equation}\n",
        "\\text{F1}=2 \\cdot \\frac{\\text{Recall} \\cdot \\text{Precisão}}{\\text{Recall} + \\text{Precisão}}\n",
        "\\end{equation} \n",
        "\n",
        "\\\\\n"
      ]
    },
    {
      "cell_type": "markdown",
      "metadata": {
        "id": "qUgI3LdfYXWi",
        "colab_type": "text"
      },
      "source": [
        "Definido um ponto de corte, podemos avaliar todas as métricas aqui apresentadas de uma só vez:"
      ]
    },
    {
      "cell_type": "code",
      "metadata": {
        "id": "t-giWGVmYR6R",
        "colab_type": "code",
        "colab": {
          "base_uri": "https://localhost:8080/",
          "height": 168
        },
        "outputId": "3fd23c1c-6af2-40b8-cf0a-d42e911bb0d1"
      },
      "source": [
        "report=classification_report(y_test, y_pred)\n",
        "\n",
        "print(report)"
      ],
      "execution_count": null,
      "outputs": [
        {
          "output_type": "stream",
          "text": [
            "              precision    recall  f1-score   support\n",
            "\n",
            "         0.0       0.96      0.76      0.85       100\n",
            "         1.0       0.80      0.97      0.88       100\n",
            "\n",
            "    accuracy                           0.86       200\n",
            "   macro avg       0.88      0.86      0.86       200\n",
            "weighted avg       0.88      0.86      0.86       200\n",
            "\n"
          ],
          "name": "stdout"
        }
      ]
    },
    {
      "cell_type": "markdown",
      "metadata": {
        "id": "WndjEYGYYa44",
        "colab_type": "text"
      },
      "source": [
        "Na tabela acima temos um resumo bem legal de como nosso classificador performou no conjunto de teste. A coluna '**support**' nos dá o número de indivíduos na classe 0, classe 1 e total. As linha '**macro avg**' nos dá uma média simples das métricas Precisão, Recall e Escore F1 nas duas classes e a linha '**weighted avg**' nos dá a média ponderada das métricas Precisão, Recall e Escore F1 nas duas classes. É importante dizer que quando temos um base de dados desbalanceada, i.e. o número de exemplos positivos e negativos difere muito, mas mesmo assim queremos dar o mesmo peso para as duas classes na hora da avaliação, olhamos para as médias simples. "
      ]
    },
    {
      "cell_type": "code",
      "metadata": {
        "id": "yzkenitlYY_1",
        "colab_type": "code",
        "colab": {}
      },
      "source": [
        ""
      ],
      "execution_count": null,
      "outputs": []
    }
  ]
}