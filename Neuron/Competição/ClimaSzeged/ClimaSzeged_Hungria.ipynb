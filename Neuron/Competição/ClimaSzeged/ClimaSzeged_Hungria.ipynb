{
  "nbformat": 4,
  "nbformat_minor": 0,
  "metadata": {
    "colab": {
      "name": "ClimaSzeged-Hungria.ipynb",
      "provenance": [],
      "collapsed_sections": []
    },
    "kernelspec": {
      "name": "python3",
      "display_name": "Python 3"
    }
  },
  "cells": [
    {
      "cell_type": "markdown",
      "metadata": {
        "id": "nO7J2dVv_hkZ",
        "colab_type": "text"
      },
      "source": [
        "# Clima Szeged - Hungria\n",
        "Sugestões: \n",
        "1. Análise Descritiva das Variáveis.\n",
        "2. Análise de relação entre variáveis.\n",
        "3. Visualização das análises.\n",
        "4. Regressão linear simples e múltipla.\n",
        "\n",
        "Objetivo:\n",
        "- Criar modelo de regressão linear múltipla de forma a minimizar o “Erro Quadrático Médio” no conjunto de teste.\n",
        "\n",
        "Entrega:\n",
        "- Arquivo .csv com apenas uma coluna dos valores alvo estimados [Temperatura]. (com a mesma sequência que foi entregue)"
      ]
    },
    {
      "cell_type": "code",
      "metadata": {
        "id": "P_khnzxTPZqA",
        "colab_type": "code",
        "colab": {
          "base_uri": "https://localhost:8080/",
          "height": 71
        },
        "outputId": "cd072ed7-366f-4b3c-e54a-d2087008ad2a"
      },
      "source": [
        "import pandas as pd # Importacao do pandas\n",
        "import numpy as np # Importacao do numpy\n",
        "import matplotlib.pyplot as plt # Importacao do matplotlib\n",
        "import seaborn as sns # Importacao do seaborn"
      ],
      "execution_count": 1,
      "outputs": [
        {
          "output_type": "stream",
          "text": [
            "/usr/local/lib/python3.6/dist-packages/statsmodels/tools/_testing.py:19: FutureWarning: pandas.util.testing is deprecated. Use the functions in the public API at pandas.testing instead.\n",
            "  import pandas.util.testing as tm\n"
          ],
          "name": "stderr"
        }
      ]
    },
    {
      "cell_type": "code",
      "metadata": {
        "id": "He94NnCePb8v",
        "colab_type": "code",
        "colab": {}
      },
      "source": [
        "df = pd.read_csv('https://raw.githubusercontent.com/MaksonViini/Teste/master/arquivos/weather_szeged_train.csv')"
      ],
      "execution_count": 2,
      "outputs": []
    },
    {
      "cell_type": "markdown",
      "metadata": {
        "id": "eP8cyDbQrd2-",
        "colab_type": "text"
      },
      "source": [
        "###**Analise Exploratoria dos dados de Treino**"
      ]
    },
    {
      "cell_type": "code",
      "metadata": {
        "id": "gXM5OyYZQNKA",
        "colab_type": "code",
        "colab": {
          "base_uri": "https://localhost:8080/",
          "height": 359
        },
        "outputId": "fb14f299-4143-4000-b0bf-e2b1ba4b1585"
      },
      "source": [
        "df.head(10)"
      ],
      "execution_count": 3,
      "outputs": [
        {
          "output_type": "execute_result",
          "data": {
            "text/html": [
              "<div>\n",
              "<style scoped>\n",
              "    .dataframe tbody tr th:only-of-type {\n",
              "        vertical-align: middle;\n",
              "    }\n",
              "\n",
              "    .dataframe tbody tr th {\n",
              "        vertical-align: top;\n",
              "    }\n",
              "\n",
              "    .dataframe thead th {\n",
              "        text-align: right;\n",
              "    }\n",
              "</style>\n",
              "<table border=\"1\" class=\"dataframe\">\n",
              "  <thead>\n",
              "    <tr style=\"text-align: right;\">\n",
              "      <th></th>\n",
              "      <th>Temperature (C)</th>\n",
              "      <th>Apparent Temperature (C)</th>\n",
              "      <th>Humidity</th>\n",
              "      <th>Wind Speed (km/h)</th>\n",
              "      <th>Visibility (km)</th>\n",
              "      <th>Pressure (millibars)</th>\n",
              "    </tr>\n",
              "  </thead>\n",
              "  <tbody>\n",
              "    <tr>\n",
              "      <th>0</th>\n",
              "      <td>19.400000</td>\n",
              "      <td>19.400000</td>\n",
              "      <td>0.93</td>\n",
              "      <td>6.2790</td>\n",
              "      <td>14.7315</td>\n",
              "      <td>1018.23</td>\n",
              "    </tr>\n",
              "    <tr>\n",
              "      <th>1</th>\n",
              "      <td>4.950000</td>\n",
              "      <td>3.122222</td>\n",
              "      <td>1.00</td>\n",
              "      <td>7.8890</td>\n",
              "      <td>5.8926</td>\n",
              "      <td>1000.86</td>\n",
              "    </tr>\n",
              "    <tr>\n",
              "      <th>2</th>\n",
              "      <td>22.661111</td>\n",
              "      <td>22.661111</td>\n",
              "      <td>0.38</td>\n",
              "      <td>13.9426</td>\n",
              "      <td>16.0517</td>\n",
              "      <td>1022.64</td>\n",
              "    </tr>\n",
              "    <tr>\n",
              "      <th>3</th>\n",
              "      <td>17.044444</td>\n",
              "      <td>17.044444</td>\n",
              "      <td>0.81</td>\n",
              "      <td>12.9766</td>\n",
              "      <td>14.9569</td>\n",
              "      <td>1008.99</td>\n",
              "    </tr>\n",
              "    <tr>\n",
              "      <th>4</th>\n",
              "      <td>1.061111</td>\n",
              "      <td>-4.494444</td>\n",
              "      <td>0.56</td>\n",
              "      <td>24.7779</td>\n",
              "      <td>15.8263</td>\n",
              "      <td>1013.73</td>\n",
              "    </tr>\n",
              "    <tr>\n",
              "      <th>5</th>\n",
              "      <td>2.238889</td>\n",
              "      <td>-2.650000</td>\n",
              "      <td>0.79</td>\n",
              "      <td>21.9604</td>\n",
              "      <td>10.8192</td>\n",
              "      <td>1008.84</td>\n",
              "    </tr>\n",
              "    <tr>\n",
              "      <th>6</th>\n",
              "      <td>3.933333</td>\n",
              "      <td>2.422222</td>\n",
              "      <td>0.76</td>\n",
              "      <td>6.2629</td>\n",
              "      <td>15.8263</td>\n",
              "      <td>1017.12</td>\n",
              "    </tr>\n",
              "    <tr>\n",
              "      <th>7</th>\n",
              "      <td>19.105556</td>\n",
              "      <td>19.105556</td>\n",
              "      <td>0.50</td>\n",
              "      <td>12.8800</td>\n",
              "      <td>11.3988</td>\n",
              "      <td>1022.37</td>\n",
              "    </tr>\n",
              "    <tr>\n",
              "      <th>8</th>\n",
              "      <td>15.216667</td>\n",
              "      <td>15.216667</td>\n",
              "      <td>0.95</td>\n",
              "      <td>3.0590</td>\n",
              "      <td>15.3111</td>\n",
              "      <td>1023.20</td>\n",
              "    </tr>\n",
              "    <tr>\n",
              "      <th>9</th>\n",
              "      <td>8.955556</td>\n",
              "      <td>7.138889</td>\n",
              "      <td>0.99</td>\n",
              "      <td>11.5115</td>\n",
              "      <td>4.0250</td>\n",
              "      <td>1009.19</td>\n",
              "    </tr>\n",
              "  </tbody>\n",
              "</table>\n",
              "</div>"
            ],
            "text/plain": [
              "   Temperature (C)  ...  Pressure (millibars)\n",
              "0        19.400000  ...               1018.23\n",
              "1         4.950000  ...               1000.86\n",
              "2        22.661111  ...               1022.64\n",
              "3        17.044444  ...               1008.99\n",
              "4         1.061111  ...               1013.73\n",
              "5         2.238889  ...               1008.84\n",
              "6         3.933333  ...               1017.12\n",
              "7        19.105556  ...               1022.37\n",
              "8        15.216667  ...               1023.20\n",
              "9         8.955556  ...               1009.19\n",
              "\n",
              "[10 rows x 6 columns]"
            ]
          },
          "metadata": {
            "tags": []
          },
          "execution_count": 3
        }
      ]
    },
    {
      "cell_type": "code",
      "metadata": {
        "id": "nBHfVJZrQYga",
        "colab_type": "code",
        "colab": {
          "base_uri": "https://localhost:8080/",
          "height": 34
        },
        "outputId": "d95ea2f1-7bd9-47d7-fae9-5fc7273738a5"
      },
      "source": [
        "df.shape # tamanho do dataframe"
      ],
      "execution_count": 4,
      "outputs": [
        {
          "output_type": "execute_result",
          "data": {
            "text/plain": [
              "(8247, 6)"
            ]
          },
          "metadata": {
            "tags": []
          },
          "execution_count": 4
        }
      ]
    },
    {
      "cell_type": "code",
      "metadata": {
        "id": "XZSHvJ6a8xVP",
        "colab_type": "code",
        "colab": {
          "base_uri": "https://localhost:8080/",
          "height": 136
        },
        "outputId": "a10ad93b-beff-4233-cc38-05fdd1247792"
      },
      "source": [
        "df.isnull().sum() # Verificando valores nulos"
      ],
      "execution_count": 5,
      "outputs": [
        {
          "output_type": "execute_result",
          "data": {
            "text/plain": [
              "Temperature (C)             7249\n",
              "Apparent Temperature (C)    7249\n",
              "Humidity                    7249\n",
              "Wind Speed (km/h)           7249\n",
              "Visibility (km)             7249\n",
              "Pressure (millibars)        7249\n",
              "dtype: int64"
            ]
          },
          "metadata": {
            "tags": []
          },
          "execution_count": 5
        }
      ]
    },
    {
      "cell_type": "code",
      "metadata": {
        "id": "46bR2c1282k2",
        "colab_type": "code",
        "colab": {
          "base_uri": "https://localhost:8080/",
          "height": 419
        },
        "outputId": "80959d92-2f2c-4624-d031-d705def6c16c"
      },
      "source": [
        "df.isna() # Vendo a relacao booleana para os dados NaN"
      ],
      "execution_count": 6,
      "outputs": [
        {
          "output_type": "execute_result",
          "data": {
            "text/html": [
              "<div>\n",
              "<style scoped>\n",
              "    .dataframe tbody tr th:only-of-type {\n",
              "        vertical-align: middle;\n",
              "    }\n",
              "\n",
              "    .dataframe tbody tr th {\n",
              "        vertical-align: top;\n",
              "    }\n",
              "\n",
              "    .dataframe thead th {\n",
              "        text-align: right;\n",
              "    }\n",
              "</style>\n",
              "<table border=\"1\" class=\"dataframe\">\n",
              "  <thead>\n",
              "    <tr style=\"text-align: right;\">\n",
              "      <th></th>\n",
              "      <th>Temperature (C)</th>\n",
              "      <th>Apparent Temperature (C)</th>\n",
              "      <th>Humidity</th>\n",
              "      <th>Wind Speed (km/h)</th>\n",
              "      <th>Visibility (km)</th>\n",
              "      <th>Pressure (millibars)</th>\n",
              "    </tr>\n",
              "  </thead>\n",
              "  <tbody>\n",
              "    <tr>\n",
              "      <th>0</th>\n",
              "      <td>False</td>\n",
              "      <td>False</td>\n",
              "      <td>False</td>\n",
              "      <td>False</td>\n",
              "      <td>False</td>\n",
              "      <td>False</td>\n",
              "    </tr>\n",
              "    <tr>\n",
              "      <th>1</th>\n",
              "      <td>False</td>\n",
              "      <td>False</td>\n",
              "      <td>False</td>\n",
              "      <td>False</td>\n",
              "      <td>False</td>\n",
              "      <td>False</td>\n",
              "    </tr>\n",
              "    <tr>\n",
              "      <th>2</th>\n",
              "      <td>False</td>\n",
              "      <td>False</td>\n",
              "      <td>False</td>\n",
              "      <td>False</td>\n",
              "      <td>False</td>\n",
              "      <td>False</td>\n",
              "    </tr>\n",
              "    <tr>\n",
              "      <th>3</th>\n",
              "      <td>False</td>\n",
              "      <td>False</td>\n",
              "      <td>False</td>\n",
              "      <td>False</td>\n",
              "      <td>False</td>\n",
              "      <td>False</td>\n",
              "    </tr>\n",
              "    <tr>\n",
              "      <th>4</th>\n",
              "      <td>False</td>\n",
              "      <td>False</td>\n",
              "      <td>False</td>\n",
              "      <td>False</td>\n",
              "      <td>False</td>\n",
              "      <td>False</td>\n",
              "    </tr>\n",
              "    <tr>\n",
              "      <th>...</th>\n",
              "      <td>...</td>\n",
              "      <td>...</td>\n",
              "      <td>...</td>\n",
              "      <td>...</td>\n",
              "      <td>...</td>\n",
              "      <td>...</td>\n",
              "    </tr>\n",
              "    <tr>\n",
              "      <th>8242</th>\n",
              "      <td>True</td>\n",
              "      <td>True</td>\n",
              "      <td>True</td>\n",
              "      <td>True</td>\n",
              "      <td>True</td>\n",
              "      <td>True</td>\n",
              "    </tr>\n",
              "    <tr>\n",
              "      <th>8243</th>\n",
              "      <td>True</td>\n",
              "      <td>True</td>\n",
              "      <td>True</td>\n",
              "      <td>True</td>\n",
              "      <td>True</td>\n",
              "      <td>True</td>\n",
              "    </tr>\n",
              "    <tr>\n",
              "      <th>8244</th>\n",
              "      <td>True</td>\n",
              "      <td>True</td>\n",
              "      <td>True</td>\n",
              "      <td>True</td>\n",
              "      <td>True</td>\n",
              "      <td>True</td>\n",
              "    </tr>\n",
              "    <tr>\n",
              "      <th>8245</th>\n",
              "      <td>True</td>\n",
              "      <td>True</td>\n",
              "      <td>True</td>\n",
              "      <td>True</td>\n",
              "      <td>True</td>\n",
              "      <td>True</td>\n",
              "    </tr>\n",
              "    <tr>\n",
              "      <th>8246</th>\n",
              "      <td>True</td>\n",
              "      <td>True</td>\n",
              "      <td>True</td>\n",
              "      <td>True</td>\n",
              "      <td>True</td>\n",
              "      <td>True</td>\n",
              "    </tr>\n",
              "  </tbody>\n",
              "</table>\n",
              "<p>8247 rows × 6 columns</p>\n",
              "</div>"
            ],
            "text/plain": [
              "      Temperature (C)  ...  Pressure (millibars)\n",
              "0               False  ...                 False\n",
              "1               False  ...                 False\n",
              "2               False  ...                 False\n",
              "3               False  ...                 False\n",
              "4               False  ...                 False\n",
              "...               ...  ...                   ...\n",
              "8242             True  ...                  True\n",
              "8243             True  ...                  True\n",
              "8244             True  ...                  True\n",
              "8245             True  ...                  True\n",
              "8246             True  ...                  True\n",
              "\n",
              "[8247 rows x 6 columns]"
            ]
          },
          "metadata": {
            "tags": []
          },
          "execution_count": 6
        }
      ]
    },
    {
      "cell_type": "code",
      "metadata": {
        "id": "QSyxy1CA9BRu",
        "colab_type": "code",
        "colab": {}
      },
      "source": [
        "df = df.dropna(how='all', axis=0) # Eliminando as linhas NaN, 'axis=0' do dataframe"
      ],
      "execution_count": 7,
      "outputs": []
    },
    {
      "cell_type": "code",
      "metadata": {
        "id": "TCuuTcdC_f4O",
        "colab_type": "code",
        "colab": {
          "base_uri": "https://localhost:8080/",
          "height": 34
        },
        "outputId": "bb225fd4-184e-426f-e93c-039131a11ef2"
      },
      "source": [
        "df.shape"
      ],
      "execution_count": 8,
      "outputs": [
        {
          "output_type": "execute_result",
          "data": {
            "text/plain": [
              "(998, 6)"
            ]
          },
          "metadata": {
            "tags": []
          },
          "execution_count": 8
        }
      ]
    },
    {
      "cell_type": "code",
      "metadata": {
        "id": "7UTqUw8R-atH",
        "colab_type": "code",
        "colab": {
          "base_uri": "https://localhost:8080/",
          "height": 34
        },
        "outputId": "91f0f3ac-dd56-4d71-860f-f3a95e1534e5"
      },
      "source": [
        "df.duplicated().sum() # Verificando dados duplicados"
      ],
      "execution_count": 9,
      "outputs": [
        {
          "output_type": "execute_result",
          "data": {
            "text/plain": [
              "0"
            ]
          },
          "metadata": {
            "tags": []
          },
          "execution_count": 9
        }
      ]
    },
    {
      "cell_type": "code",
      "metadata": {
        "id": "4Vw1TFqI_lrW",
        "colab_type": "code",
        "colab": {
          "base_uri": "https://localhost:8080/",
          "height": 136
        },
        "outputId": "4f1b7918-2b0a-4698-da48-b644d7d19fe1"
      },
      "source": [
        "df.nunique() # A maioria sao dados unicos e que nao se repetem"
      ],
      "execution_count": 10,
      "outputs": [
        {
          "output_type": "execute_result",
          "data": {
            "text/plain": [
              "Temperature (C)             822\n",
              "Apparent Temperature (C)    868\n",
              "Humidity                     72\n",
              "Wind Speed (km/h)           639\n",
              "Visibility (km)             235\n",
              "Pressure (millibars)        815\n",
              "dtype: int64"
            ]
          },
          "metadata": {
            "tags": []
          },
          "execution_count": 10
        }
      ]
    },
    {
      "cell_type": "code",
      "metadata": {
        "id": "Nqusq_Lo_oWe",
        "colab_type": "code",
        "colab": {
          "base_uri": "https://localhost:8080/",
          "height": 238
        },
        "outputId": "9933f4e1-e193-4a07-d2ae-22e77eb7c89e"
      },
      "source": [
        "df.info() # Dados do tipo inteiramente flutuante"
      ],
      "execution_count": 11,
      "outputs": [
        {
          "output_type": "stream",
          "text": [
            "<class 'pandas.core.frame.DataFrame'>\n",
            "Int64Index: 998 entries, 0 to 997\n",
            "Data columns (total 6 columns):\n",
            " #   Column                    Non-Null Count  Dtype  \n",
            "---  ------                    --------------  -----  \n",
            " 0   Temperature (C)           998 non-null    float64\n",
            " 1   Apparent Temperature (C)  998 non-null    float64\n",
            " 2   Humidity                  998 non-null    float64\n",
            " 3   Wind Speed (km/h)         998 non-null    float64\n",
            " 4   Visibility (km)           998 non-null    float64\n",
            " 5   Pressure (millibars)      998 non-null    float64\n",
            "dtypes: float64(6)\n",
            "memory usage: 54.6 KB\n"
          ],
          "name": "stdout"
        }
      ]
    },
    {
      "cell_type": "code",
      "metadata": {
        "id": "Oi65ZHAi_3RG",
        "colab_type": "code",
        "colab": {
          "base_uri": "https://localhost:8080/",
          "height": 299
        },
        "outputId": "e19291dc-dc1e-4658-bb7e-d935f0dc1326"
      },
      "source": [
        "plt.style.use('ggplot')\n",
        "sns.barplot(x=df['Apparent Temperature (C)'], y=df['Temperature (C)'], data=df) # Relacao temperatura com sensacao terminca"
      ],
      "execution_count": 12,
      "outputs": [
        {
          "output_type": "execute_result",
          "data": {
            "text/plain": [
              "<matplotlib.axes._subplots.AxesSubplot at 0x7fad248e8e10>"
            ]
          },
          "metadata": {
            "tags": []
          },
          "execution_count": 12
        },
        {
          "output_type": "display_data",
          "data": {
            "image/png": "[encoded data removed]",
            "text/plain": [
              "<Figure size 432x288 with 1 Axes>"
            ]
          },
          "metadata": {
            "tags": []
          }
        }
      ]
    },
    {
      "cell_type": "code",
      "metadata": {
        "id": "fMRE97pdAlUW",
        "colab_type": "code",
        "colab": {
          "base_uri": "https://localhost:8080/",
          "height": 836
        },
        "outputId": "ec55e2d2-ccab-45c3-b529-17f8e8198f2e"
      },
      "source": [
        "plt.style.use('ggplot') # Unsado ggplot\n",
        "numeric_cols = df.select_dtypes(include=('float64')).columns\n",
        "\n",
        "df[numeric_cols[:7]].hist(figsize=(12, 12))  # Selecionando e plotando todas as colunas\n",
        "# Relacao de quantas cidades tem respectivas dados da coluna em grafico"
      ],
      "execution_count": 13,
      "outputs": [
        {
          "output_type": "execute_result",
          "data": {
            "text/plain": [
              "array([[<matplotlib.axes._subplots.AxesSubplot object at 0x7fad23fe2cf8>,\n",
              "        <matplotlib.axes._subplots.AxesSubplot object at 0x7fad23093d30>],\n",
              "       [<matplotlib.axes._subplots.AxesSubplot object at 0x7fad2296b828>,\n",
              "        <matplotlib.axes._subplots.AxesSubplot object at 0x7fad22892a90>],\n",
              "       [<matplotlib.axes._subplots.AxesSubplot object at 0x7fad22861cc0>,\n",
              "        <matplotlib.axes._subplots.AxesSubplot object at 0x7fad22950080>]],\n",
              "      dtype=object)"
            ]
          },
          "metadata": {
            "tags": []
          },
          "execution_count": 13
        },
        {
          "output_type": "display_data",
          "data": {
            "image/png": "[encoded data removed]",
            "text/plain": [
              "<Figure size 864x864 with 6 Axes>"
            ]
          },
          "metadata": {
            "tags": []
          }
        }
      ]
    },
    {
      "cell_type": "code",
      "metadata": {
        "id": "D4j2Dc7xCj9W",
        "colab_type": "code",
        "colab": {
          "base_uri": "https://localhost:8080/",
          "height": 282
        },
        "outputId": "5f1f6db4-11fc-4d23-b226-d95e35cd0b1a"
      },
      "source": [
        "# Grafico de dispersao de sensacao termina em relacao com a humidade\n",
        "plt.scatter(df['Apparent Temperature (C)'], df['Humidity']) # Humidade maior em locais com temperatura aproximando de 0"
      ],
      "execution_count": 14,
      "outputs": [
        {
          "output_type": "execute_result",
          "data": {
            "text/plain": [
              "<matplotlib.collections.PathCollection at 0x7fad226aa0f0>"
            ]
          },
          "metadata": {
            "tags": []
          },
          "execution_count": 14
        },
        {
          "output_type": "display_data",
          "data": {
            "image/png": "[encoded data removed]",
            "text/plain": [
              "<Figure size 432x288 with 1 Axes>"
            ]
          },
          "metadata": {
            "tags": []
          }
        }
      ]
    },
    {
      "cell_type": "code",
      "metadata": {
        "id": "h_BYcN8zHPB0",
        "colab_type": "code",
        "colab": {
          "base_uri": "https://localhost:8080/",
          "height": 299
        },
        "outputId": "7f1062e8-f224-4e50-bfad-2e1e1827f8f2"
      },
      "source": [
        "sns.barplot(x=df['Temperature (C)'], y=df['Humidity']) # Relacao da temperatura com a humidade"
      ],
      "execution_count": 15,
      "outputs": [
        {
          "output_type": "execute_result",
          "data": {
            "text/plain": [
              "<matplotlib.axes._subplots.AxesSubplot at 0x7fad23fbdb70>"
            ]
          },
          "metadata": {
            "tags": []
          },
          "execution_count": 15
        },
        {
          "output_type": "display_data",
          "data": {
            "image/png": "[encoded data removed]",
            "text/plain": [
              "<Figure size 432x288 with 1 Axes>"
            ]
          },
          "metadata": {
            "tags": []
          }
        }
      ]
    },
    {
      "cell_type": "code",
      "metadata": {
        "id": "bSsU02q6Iybq",
        "colab_type": "code",
        "colab": {
          "base_uri": "https://localhost:8080/",
          "height": 299
        },
        "outputId": "d070856b-4926-4d44-c329-7958b24f7f5c"
      },
      "source": [
        "sns.lineplot(x=df['Visibility (km)'], y=df['Wind Speed (km/h)']) # Grafico de linha com a visibilidade e a velocidade do vento"
      ],
      "execution_count": 16,
      "outputs": [
        {
          "output_type": "execute_result",
          "data": {
            "text/plain": [
              "<matplotlib.axes._subplots.AxesSubplot at 0x7fad226749e8>"
            ]
          },
          "metadata": {
            "tags": []
          },
          "execution_count": 16
        },
        {
          "output_type": "display_data",
          "data": {
            "image/png": "[encoded data removed]",
            "text/plain": [
              "<Figure size 432x288 with 1 Axes>"
            ]
          },
          "metadata": {
            "tags": []
          }
        }
      ]
    },
    {
      "cell_type": "code",
      "metadata": {
        "id": "_Q2YkRh9JHLq",
        "colab_type": "code",
        "colab": {
          "base_uri": "https://localhost:8080/",
          "height": 299
        },
        "outputId": "3da2e86f-6482-46ba-cb6d-94c6cff23be1"
      },
      "source": [
        "sns.barplot(df['Temperature (C)'], df['Pressure (millibars)']) # Relacao da pressao com a temperatura"
      ],
      "execution_count": 17,
      "outputs": [
        {
          "output_type": "execute_result",
          "data": {
            "text/plain": [
              "<matplotlib.axes._subplots.AxesSubplot at 0x7fad209227b8>"
            ]
          },
          "metadata": {
            "tags": []
          },
          "execution_count": 17
        },
        {
          "output_type": "display_data",
          "data": {
            "image/png": "[encoded data removed]",
            "text/plain": [
              "<Figure size 432x288 with 1 Axes>"
            ]
          },
          "metadata": {
            "tags": []
          }
        }
      ]
    },
    {
      "cell_type": "code",
      "metadata": {
        "id": "4GcrmiurK0qD",
        "colab_type": "code",
        "colab": {
          "base_uri": "https://localhost:8080/",
          "height": 445
        },
        "outputId": "54acd66d-fadd-4c8d-9a0c-a920e0d14013"
      },
      "source": [
        "plt.subplots(figsize=(15, 7))\n",
        "sns.lineplot(x=df.index, y='Temperature (C)', data=df) # Relacao dos indices com a temperatura"
      ],
      "execution_count": 18,
      "outputs": [
        {
          "output_type": "execute_result",
          "data": {
            "text/plain": [
              "<matplotlib.axes._subplots.AxesSubplot at 0x7fad20a74c50>"
            ]
          },
          "metadata": {
            "tags": []
          },
          "execution_count": 18
        },
        {
          "output_type": "display_data",
          "data": {
            "image/png": "[encoded data removed]",
            "text/plain": [
              "<Figure size 1080x504 with 1 Axes>"
            ]
          },
          "metadata": {
            "tags": []
          }
        }
      ]
    },
    {
      "cell_type": "code",
      "metadata": {
        "id": "osnrI9vrJevt",
        "colab_type": "code",
        "colab": {
          "base_uri": "https://localhost:8080/",
          "height": 386
        },
        "outputId": "dd872aa5-dc8c-43b0-f01e-eb01ad222cc9"
      },
      "source": [
        "sns.relplot(x='Temperature (C)', y='Wind Speed (km/h)', data=df) # Grafico de relacao temperatura com a velocidade do vento"
      ],
      "execution_count": 19,
      "outputs": [
        {
          "output_type": "execute_result",
          "data": {
            "text/plain": [
              "<seaborn.axisgrid.FacetGrid at 0x7fad207730b8>"
            ]
          },
          "metadata": {
            "tags": []
          },
          "execution_count": 19
        },
        {
          "output_type": "display_data",
          "data": {
            "image/png": "[encoded data removed]",
            "text/plain": [
              "<Figure size 360x360 with 1 Axes>"
            ]
          },
          "metadata": {
            "tags": []
          }
        }
      ]
    },
    {
      "cell_type": "code",
      "metadata": {
        "id": "aPqGc76TNlbK",
        "colab_type": "code",
        "colab": {
          "base_uri": "https://localhost:8080/",
          "height": 406
        },
        "outputId": "786a0806-3f74-40fa-8b96-49ab71feb739"
      },
      "source": [
        "sns.heatmap(df.corr(), annot=True, cmap=\"PiYG\") # Grafico de correlacao"
      ],
      "execution_count": 20,
      "outputs": [
        {
          "output_type": "execute_result",
          "data": {
            "text/plain": [
              "<matplotlib.axes._subplots.AxesSubplot at 0x7fad1eee5b70>"
            ]
          },
          "metadata": {
            "tags": []
          },
          "execution_count": 20
        },
        {
          "output_type": "display_data",
          "data": {
            "image/png": "[encoded data removed]",
            "text/plain": [
              "<Figure size 432x288 with 2 Axes>"
            ]
          },
          "metadata": {
            "tags": []
          }
        }
      ]
    },
    {
      "cell_type": "markdown",
      "metadata": {
        "id": "0D5GcQpgEi6Z",
        "colab_type": "text"
      },
      "source": [
        "###**Analise Descritiva**"
      ]
    },
    {
      "cell_type": "code",
      "metadata": {
        "id": "Iz1gQlweElt8",
        "colab_type": "code",
        "colab": {
          "base_uri": "https://localhost:8080/",
          "height": 297
        },
        "outputId": "8ae2e578-087d-4cca-eff7-c758bf8979cc"
      },
      "source": [
        "df.describe() # Analise descritiva dos dados"
      ],
      "execution_count": 21,
      "outputs": [
        {
          "output_type": "execute_result",
          "data": {
            "text/html": [
              "<div>\n",
              "<style scoped>\n",
              "    .dataframe tbody tr th:only-of-type {\n",
              "        vertical-align: middle;\n",
              "    }\n",
              "\n",
              "    .dataframe tbody tr th {\n",
              "        vertical-align: top;\n",
              "    }\n",
              "\n",
              "    .dataframe thead th {\n",
              "        text-align: right;\n",
              "    }\n",
              "</style>\n",
              "<table border=\"1\" class=\"dataframe\">\n",
              "  <thead>\n",
              "    <tr style=\"text-align: right;\">\n",
              "      <th></th>\n",
              "      <th>Temperature (C)</th>\n",
              "      <th>Apparent Temperature (C)</th>\n",
              "      <th>Humidity</th>\n",
              "      <th>Wind Speed (km/h)</th>\n",
              "      <th>Visibility (km)</th>\n",
              "      <th>Pressure (millibars)</th>\n",
              "    </tr>\n",
              "  </thead>\n",
              "  <tbody>\n",
              "    <tr>\n",
              "      <th>count</th>\n",
              "      <td>998.000000</td>\n",
              "      <td>998.000000</td>\n",
              "      <td>998.000000</td>\n",
              "      <td>998.000000</td>\n",
              "      <td>998.000000</td>\n",
              "      <td>998.00000</td>\n",
              "    </tr>\n",
              "    <tr>\n",
              "      <th>mean</th>\n",
              "      <td>10.978084</td>\n",
              "      <td>9.908962</td>\n",
              "      <td>0.773317</td>\n",
              "      <td>10.299289</td>\n",
              "      <td>9.739774</td>\n",
              "      <td>999.05508</td>\n",
              "    </tr>\n",
              "    <tr>\n",
              "      <th>std</th>\n",
              "      <td>9.367005</td>\n",
              "      <td>10.594406</td>\n",
              "      <td>0.170484</td>\n",
              "      <td>6.747872</td>\n",
              "      <td>4.016944</td>\n",
              "      <td>139.47797</td>\n",
              "    </tr>\n",
              "    <tr>\n",
              "      <th>min</th>\n",
              "      <td>-14.022222</td>\n",
              "      <td>-19.961111</td>\n",
              "      <td>0.290000</td>\n",
              "      <td>0.000000</td>\n",
              "      <td>0.000000</td>\n",
              "      <td>0.00000</td>\n",
              "    </tr>\n",
              "    <tr>\n",
              "      <th>25%</th>\n",
              "      <td>2.800000</td>\n",
              "      <td>0.795833</td>\n",
              "      <td>0.670000</td>\n",
              "      <td>4.878300</td>\n",
              "      <td>7.973525</td>\n",
              "      <td>1012.91250</td>\n",
              "    </tr>\n",
              "    <tr>\n",
              "      <th>50%</th>\n",
              "      <td>11.622222</td>\n",
              "      <td>11.622222</td>\n",
              "      <td>0.810000</td>\n",
              "      <td>9.378250</td>\n",
              "      <td>9.982000</td>\n",
              "      <td>1017.47500</td>\n",
              "    </tr>\n",
              "    <tr>\n",
              "      <th>75%</th>\n",
              "      <td>17.908333</td>\n",
              "      <td>17.908333</td>\n",
              "      <td>0.920000</td>\n",
              "      <td>13.821850</td>\n",
              "      <td>11.270000</td>\n",
              "      <td>1022.61500</td>\n",
              "    </tr>\n",
              "    <tr>\n",
              "      <th>max</th>\n",
              "      <td>32.877778</td>\n",
              "      <td>33.566667</td>\n",
              "      <td>1.000000</td>\n",
              "      <td>45.933300</td>\n",
              "      <td>16.051700</td>\n",
              "      <td>1042.83000</td>\n",
              "    </tr>\n",
              "  </tbody>\n",
              "</table>\n",
              "</div>"
            ],
            "text/plain": [
              "       Temperature (C)  ...  Pressure (millibars)\n",
              "count       998.000000  ...             998.00000\n",
              "mean         10.978084  ...             999.05508\n",
              "std           9.367005  ...             139.47797\n",
              "min         -14.022222  ...               0.00000\n",
              "25%           2.800000  ...            1012.91250\n",
              "50%          11.622222  ...            1017.47500\n",
              "75%          17.908333  ...            1022.61500\n",
              "max          32.877778  ...            1042.83000\n",
              "\n",
              "[8 rows x 6 columns]"
            ]
          },
          "metadata": {
            "tags": []
          },
          "execution_count": 21
        }
      ]
    },
    {
      "cell_type": "code",
      "metadata": {
        "id": "XtB-fq4GFBJC",
        "colab_type": "code",
        "colab": {
          "base_uri": "https://localhost:8080/",
          "height": 235
        },
        "outputId": "d21b02e0-3038-49a0-f301-40f03c24df23"
      },
      "source": [
        "df.cov() # Covariância entre os dados"
      ],
      "execution_count": 22,
      "outputs": [
        {
          "output_type": "execute_result",
          "data": {
            "text/html": [
              "<div>\n",
              "<style scoped>\n",
              "    .dataframe tbody tr th:only-of-type {\n",
              "        vertical-align: middle;\n",
              "    }\n",
              "\n",
              "    .dataframe tbody tr th {\n",
              "        vertical-align: top;\n",
              "    }\n",
              "\n",
              "    .dataframe thead th {\n",
              "        text-align: right;\n",
              "    }\n",
              "</style>\n",
              "<table border=\"1\" class=\"dataframe\">\n",
              "  <thead>\n",
              "    <tr style=\"text-align: right;\">\n",
              "      <th></th>\n",
              "      <th>Temperature (C)</th>\n",
              "      <th>Apparent Temperature (C)</th>\n",
              "      <th>Humidity</th>\n",
              "      <th>Wind Speed (km/h)</th>\n",
              "      <th>Visibility (km)</th>\n",
              "      <th>Pressure (millibars)</th>\n",
              "    </tr>\n",
              "  </thead>\n",
              "  <tbody>\n",
              "    <tr>\n",
              "      <th>Temperature (C)</th>\n",
              "      <td>87.740779</td>\n",
              "      <td>98.514730</td>\n",
              "      <td>-0.873365</td>\n",
              "      <td>0.477994</td>\n",
              "      <td>14.795444</td>\n",
              "      <td>-110.626945</td>\n",
              "    </tr>\n",
              "    <tr>\n",
              "      <th>Apparent Temperature (C)</th>\n",
              "      <td>98.514730</td>\n",
              "      <td>112.241438</td>\n",
              "      <td>-0.937688</td>\n",
              "      <td>-4.329947</td>\n",
              "      <td>16.345560</td>\n",
              "      <td>-122.073863</td>\n",
              "    </tr>\n",
              "    <tr>\n",
              "      <th>Humidity</th>\n",
              "      <td>-0.873365</td>\n",
              "      <td>-0.937688</td>\n",
              "      <td>0.029065</td>\n",
              "      <td>-0.311545</td>\n",
              "      <td>-0.229403</td>\n",
              "      <td>1.709116</td>\n",
              "    </tr>\n",
              "    <tr>\n",
              "      <th>Wind Speed (km/h)</th>\n",
              "      <td>0.477994</td>\n",
              "      <td>-4.329947</td>\n",
              "      <td>-0.311545</td>\n",
              "      <td>45.533771</td>\n",
              "      <td>2.673193</td>\n",
              "      <td>-59.741102</td>\n",
              "    </tr>\n",
              "    <tr>\n",
              "      <th>Visibility (km)</th>\n",
              "      <td>14.795444</td>\n",
              "      <td>16.345560</td>\n",
              "      <td>-0.229403</td>\n",
              "      <td>2.673193</td>\n",
              "      <td>16.135838</td>\n",
              "      <td>-2.095567</td>\n",
              "    </tr>\n",
              "    <tr>\n",
              "      <th>Pressure (millibars)</th>\n",
              "      <td>-110.626945</td>\n",
              "      <td>-122.073863</td>\n",
              "      <td>1.709116</td>\n",
              "      <td>-59.741102</td>\n",
              "      <td>-2.095567</td>\n",
              "      <td>19454.104162</td>\n",
              "    </tr>\n",
              "  </tbody>\n",
              "</table>\n",
              "</div>"
            ],
            "text/plain": [
              "                          Temperature (C)  ...  Pressure (millibars)\n",
              "Temperature (C)                 87.740779  ...           -110.626945\n",
              "Apparent Temperature (C)        98.514730  ...           -122.073863\n",
              "Humidity                        -0.873365  ...              1.709116\n",
              "Wind Speed (km/h)                0.477994  ...            -59.741102\n",
              "Visibility (km)                 14.795444  ...             -2.095567\n",
              "Pressure (millibars)          -110.626945  ...          19454.104162\n",
              "\n",
              "[6 rows x 6 columns]"
            ]
          },
          "metadata": {
            "tags": []
          },
          "execution_count": 22
        }
      ]
    },
    {
      "cell_type": "code",
      "metadata": {
        "id": "Z5_qcm1_FPnE",
        "colab_type": "code",
        "colab": {
          "base_uri": "https://localhost:8080/",
          "height": 235
        },
        "outputId": "e8b35712-6cc1-425e-d953-924dc8e94e5f"
      },
      "source": [
        "df.corr() # Correlacao entre os dados"
      ],
      "execution_count": 23,
      "outputs": [
        {
          "output_type": "execute_result",
          "data": {
            "text/html": [
              "<div>\n",
              "<style scoped>\n",
              "    .dataframe tbody tr th:only-of-type {\n",
              "        vertical-align: middle;\n",
              "    }\n",
              "\n",
              "    .dataframe tbody tr th {\n",
              "        vertical-align: top;\n",
              "    }\n",
              "\n",
              "    .dataframe thead th {\n",
              "        text-align: right;\n",
              "    }\n",
              "</style>\n",
              "<table border=\"1\" class=\"dataframe\">\n",
              "  <thead>\n",
              "    <tr style=\"text-align: right;\">\n",
              "      <th></th>\n",
              "      <th>Temperature (C)</th>\n",
              "      <th>Apparent Temperature (C)</th>\n",
              "      <th>Humidity</th>\n",
              "      <th>Wind Speed (km/h)</th>\n",
              "      <th>Visibility (km)</th>\n",
              "      <th>Pressure (millibars)</th>\n",
              "    </tr>\n",
              "  </thead>\n",
              "  <tbody>\n",
              "    <tr>\n",
              "      <th>Temperature (C)</th>\n",
              "      <td>1.000000</td>\n",
              "      <td>0.992713</td>\n",
              "      <td>-0.546905</td>\n",
              "      <td>0.007562</td>\n",
              "      <td>0.393216</td>\n",
              "      <td>-0.084675</td>\n",
              "    </tr>\n",
              "    <tr>\n",
              "      <th>Apparent Temperature (C)</th>\n",
              "      <td>0.992713</td>\n",
              "      <td>1.000000</td>\n",
              "      <td>-0.519157</td>\n",
              "      <td>-0.060567</td>\n",
              "      <td>0.384085</td>\n",
              "      <td>-0.082611</td>\n",
              "    </tr>\n",
              "    <tr>\n",
              "      <th>Humidity</th>\n",
              "      <td>-0.546905</td>\n",
              "      <td>-0.519157</td>\n",
              "      <td>1.000000</td>\n",
              "      <td>-0.270814</td>\n",
              "      <td>-0.334981</td>\n",
              "      <td>0.071876</td>\n",
              "    </tr>\n",
              "    <tr>\n",
              "      <th>Wind Speed (km/h)</th>\n",
              "      <td>0.007562</td>\n",
              "      <td>-0.060567</td>\n",
              "      <td>-0.270814</td>\n",
              "      <td>1.000000</td>\n",
              "      <td>0.098621</td>\n",
              "      <td>-0.063475</td>\n",
              "    </tr>\n",
              "    <tr>\n",
              "      <th>Visibility (km)</th>\n",
              "      <td>0.393216</td>\n",
              "      <td>0.384085</td>\n",
              "      <td>-0.334981</td>\n",
              "      <td>0.098621</td>\n",
              "      <td>1.000000</td>\n",
              "      <td>-0.003740</td>\n",
              "    </tr>\n",
              "    <tr>\n",
              "      <th>Pressure (millibars)</th>\n",
              "      <td>-0.084675</td>\n",
              "      <td>-0.082611</td>\n",
              "      <td>0.071876</td>\n",
              "      <td>-0.063475</td>\n",
              "      <td>-0.003740</td>\n",
              "      <td>1.000000</td>\n",
              "    </tr>\n",
              "  </tbody>\n",
              "</table>\n",
              "</div>"
            ],
            "text/plain": [
              "                          Temperature (C)  ...  Pressure (millibars)\n",
              "Temperature (C)                  1.000000  ...             -0.084675\n",
              "Apparent Temperature (C)         0.992713  ...             -0.082611\n",
              "Humidity                        -0.546905  ...              0.071876\n",
              "Wind Speed (km/h)                0.007562  ...             -0.063475\n",
              "Visibility (km)                  0.393216  ...             -0.003740\n",
              "Pressure (millibars)            -0.084675  ...              1.000000\n",
              "\n",
              "[6 rows x 6 columns]"
            ]
          },
          "metadata": {
            "tags": []
          },
          "execution_count": 23
        }
      ]
    },
    {
      "cell_type": "code",
      "metadata": {
        "id": "uxyQcZ9iWRfv",
        "colab_type": "code",
        "colab": {
          "base_uri": "https://localhost:8080/",
          "height": 136
        },
        "outputId": "6c6feda8-2abe-40a8-bdf4-947a61d0ea62"
      },
      "source": [
        "df.median() # Mediana dos dados"
      ],
      "execution_count": 24,
      "outputs": [
        {
          "output_type": "execute_result",
          "data": {
            "text/plain": [
              "Temperature (C)               11.622222\n",
              "Apparent Temperature (C)      11.622222\n",
              "Humidity                       0.810000\n",
              "Wind Speed (km/h)              9.378250\n",
              "Visibility (km)                9.982000\n",
              "Pressure (millibars)        1017.475000\n",
              "dtype: float64"
            ]
          },
          "metadata": {
            "tags": []
          },
          "execution_count": 24
        }
      ]
    },
    {
      "cell_type": "markdown",
      "metadata": {
        "id": "qQ6Gym27GNBU",
        "colab_type": "text"
      },
      "source": [
        "# **Modelo Regressão Multipla**"
      ]
    },
    {
      "cell_type": "code",
      "metadata": {
        "id": "HGHYK2zAGRZe",
        "colab_type": "code",
        "colab": {}
      },
      "source": [
        "# Importando bibliotecas\n",
        "from sklearn.linear_model import LinearRegression\n",
        "from sklearn.metrics import mean_squared_error, r2_score\n",
        "from sklearn.model_selection import train_test_split"
      ],
      "execution_count": 25,
      "outputs": []
    },
    {
      "cell_type": "code",
      "metadata": {
        "id": "zjCDoWZ5pHdv",
        "colab_type": "code",
        "colab": {}
      },
      "source": [
        "# definindo o modelo\n",
        "ln_reg_clima = LinearRegression()"
      ],
      "execution_count": 26,
      "outputs": []
    },
    {
      "cell_type": "code",
      "metadata": {
        "id": "1cEOv279pO6l",
        "colab_type": "code",
        "colab": {}
      },
      "source": [
        "# Definição do target\n",
        "df_column_target = df[\"Temperature (C)\"]"
      ],
      "execution_count": 27,
      "outputs": []
    },
    {
      "cell_type": "code",
      "metadata": {
        "id": "y05QAIpCqalZ",
        "colab_type": "code",
        "colab": {}
      },
      "source": [
        "# Copiando o dataframe\n",
        "df_reg_mult = df.copy()"
      ],
      "execution_count": 29,
      "outputs": []
    },
    {
      "cell_type": "code",
      "metadata": {
        "id": "3Jho3P7nq5vR",
        "colab_type": "code",
        "colab": {
          "base_uri": "https://localhost:8080/",
          "height": 419
        },
        "outputId": "972ea7a0-5aa6-4bea-e404-d9b5c5330733"
      },
      "source": [
        "df_reg_mult = df_reg_mult.drop('Temperature (C)',axis=1)\n",
        "df_reg_mult"
      ],
      "execution_count": 35,
      "outputs": [
        {
          "output_type": "execute_result",
          "data": {
            "text/html": [
              "<div>\n",
              "<style scoped>\n",
              "    .dataframe tbody tr th:only-of-type {\n",
              "        vertical-align: middle;\n",
              "    }\n",
              "\n",
              "    .dataframe tbody tr th {\n",
              "        vertical-align: top;\n",
              "    }\n",
              "\n",
              "    .dataframe thead th {\n",
              "        text-align: right;\n",
              "    }\n",
              "</style>\n",
              "<table border=\"1\" class=\"dataframe\">\n",
              "  <thead>\n",
              "    <tr style=\"text-align: right;\">\n",
              "      <th></th>\n",
              "      <th>Apparent Temperature (C)</th>\n",
              "      <th>Humidity</th>\n",
              "      <th>Wind Speed (km/h)</th>\n",
              "      <th>Visibility (km)</th>\n",
              "      <th>Pressure (millibars)</th>\n",
              "    </tr>\n",
              "  </thead>\n",
              "  <tbody>\n",
              "    <tr>\n",
              "      <th>0</th>\n",
              "      <td>19.400000</td>\n",
              "      <td>0.93</td>\n",
              "      <td>6.2790</td>\n",
              "      <td>14.7315</td>\n",
              "      <td>1018.23</td>\n",
              "    </tr>\n",
              "    <tr>\n",
              "      <th>1</th>\n",
              "      <td>3.122222</td>\n",
              "      <td>1.00</td>\n",
              "      <td>7.8890</td>\n",
              "      <td>5.8926</td>\n",
              "      <td>1000.86</td>\n",
              "    </tr>\n",
              "    <tr>\n",
              "      <th>2</th>\n",
              "      <td>22.661111</td>\n",
              "      <td>0.38</td>\n",
              "      <td>13.9426</td>\n",
              "      <td>16.0517</td>\n",
              "      <td>1022.64</td>\n",
              "    </tr>\n",
              "    <tr>\n",
              "      <th>3</th>\n",
              "      <td>17.044444</td>\n",
              "      <td>0.81</td>\n",
              "      <td>12.9766</td>\n",
              "      <td>14.9569</td>\n",
              "      <td>1008.99</td>\n",
              "    </tr>\n",
              "    <tr>\n",
              "      <th>4</th>\n",
              "      <td>-4.494444</td>\n",
              "      <td>0.56</td>\n",
              "      <td>24.7779</td>\n",
              "      <td>15.8263</td>\n",
              "      <td>1013.73</td>\n",
              "    </tr>\n",
              "    <tr>\n",
              "      <th>...</th>\n",
              "      <td>...</td>\n",
              "      <td>...</td>\n",
              "      <td>...</td>\n",
              "      <td>...</td>\n",
              "      <td>...</td>\n",
              "    </tr>\n",
              "    <tr>\n",
              "      <th>993</th>\n",
              "      <td>12.133333</td>\n",
              "      <td>0.81</td>\n",
              "      <td>4.4919</td>\n",
              "      <td>9.9820</td>\n",
              "      <td>1025.15</td>\n",
              "    </tr>\n",
              "    <tr>\n",
              "      <th>994</th>\n",
              "      <td>7.916667</td>\n",
              "      <td>0.92</td>\n",
              "      <td>3.2844</td>\n",
              "      <td>9.9820</td>\n",
              "      <td>1020.29</td>\n",
              "    </tr>\n",
              "    <tr>\n",
              "      <th>995</th>\n",
              "      <td>0.611111</td>\n",
              "      <td>0.70</td>\n",
              "      <td>7.8568</td>\n",
              "      <td>9.8049</td>\n",
              "      <td>1020.72</td>\n",
              "    </tr>\n",
              "    <tr>\n",
              "      <th>996</th>\n",
              "      <td>12.244444</td>\n",
              "      <td>0.89</td>\n",
              "      <td>1.5295</td>\n",
              "      <td>15.8263</td>\n",
              "      <td>1015.72</td>\n",
              "    </tr>\n",
              "    <tr>\n",
              "      <th>997</th>\n",
              "      <td>13.888889</td>\n",
              "      <td>1.00</td>\n",
              "      <td>8.0178</td>\n",
              "      <td>11.1251</td>\n",
              "      <td>0.00</td>\n",
              "    </tr>\n",
              "  </tbody>\n",
              "</table>\n",
              "<p>998 rows × 5 columns</p>\n",
              "</div>"
            ],
            "text/plain": [
              "     Apparent Temperature (C)  Humidity  ...  Visibility (km)  Pressure (millibars)\n",
              "0                   19.400000      0.93  ...          14.7315               1018.23\n",
              "1                    3.122222      1.00  ...           5.8926               1000.86\n",
              "2                   22.661111      0.38  ...          16.0517               1022.64\n",
              "3                   17.044444      0.81  ...          14.9569               1008.99\n",
              "4                   -4.494444      0.56  ...          15.8263               1013.73\n",
              "..                        ...       ...  ...              ...                   ...\n",
              "993                 12.133333      0.81  ...           9.9820               1025.15\n",
              "994                  7.916667      0.92  ...           9.9820               1020.29\n",
              "995                  0.611111      0.70  ...           9.8049               1020.72\n",
              "996                 12.244444      0.89  ...          15.8263               1015.72\n",
              "997                 13.888889      1.00  ...          11.1251                  0.00\n",
              "\n",
              "[998 rows x 5 columns]"
            ]
          },
          "metadata": {
            "tags": []
          },
          "execution_count": 35
        }
      ]
    },
    {
      "cell_type": "code",
      "metadata": {
        "id": "BqZfw1KbrsRA",
        "colab_type": "code",
        "colab": {}
      },
      "source": [
        "# Dividindo o dataset em trieno e teste\n",
        "X_train_clima, X_test_clima, y_train_clima, y_test_clima = train_test_split(df_reg_mult, df_column_target, test_size=0.30, random_state=42)"
      ],
      "execution_count": 59,
      "outputs": []
    },
    {
      "cell_type": "code",
      "metadata": {
        "id": "swXKzDc-sHxr",
        "colab_type": "code",
        "colab": {
          "base_uri": "https://localhost:8080/",
          "height": 34
        },
        "outputId": "6a7b07c3-209f-4576-a97f-e934db45c071"
      },
      "source": [
        "# Treinando modelo\n",
        "ln_reg_clima.fit(X_train_clima, y_train_clima)"
      ],
      "execution_count": 37,
      "outputs": [
        {
          "output_type": "execute_result",
          "data": {
            "text/plain": [
              "LinearRegression(copy_X=True, fit_intercept=True, n_jobs=None, normalize=False)"
            ]
          },
          "metadata": {
            "tags": []
          },
          "execution_count": 37
        }
      ]
    },
    {
      "cell_type": "code",
      "metadata": {
        "id": "q0Cd0XWnsRUR",
        "colab_type": "code",
        "colab": {}
      },
      "source": [
        "# Gravando as novas predições\n",
        "pred_clima = ln_reg_clima.predict(X_test_clima)"
      ],
      "execution_count": 38,
      "outputs": []
    },
    {
      "cell_type": "code",
      "metadata": {
        "id": "iGWz-jeFtBza",
        "colab_type": "code",
        "colab": {
          "base_uri": "https://localhost:8080/",
          "height": 1000
        },
        "outputId": "44256f7a-aa90-4530-d2f3-3cebf24dc5f7"
      },
      "source": [
        "pred_clima"
      ],
      "execution_count": 39,
      "outputs": [
        {
          "output_type": "execute_result",
          "data": {
            "text/plain": [
              "array([ 13.18543305,  -0.10686279,   8.86197389,   6.85430857,\n",
              "         1.27667538,  17.13755366,  12.8921546 ,   8.50238027,\n",
              "        -0.79698616,  13.38122171,  19.06019218,  25.11103851,\n",
              "        18.13751333,  20.70295349,  20.68254957,  13.59167177,\n",
              "        -7.04547141,  22.82375914,  22.34540887,  14.77330379,\n",
              "        23.71768348,   9.55081833,   6.77300382,  -3.16483788,\n",
              "         3.87190178,  27.0875329 ,  17.46244792,  19.11359867,\n",
              "        15.50926815,   5.05033809,   7.53971418,  22.89242725,\n",
              "        16.44308837,  13.33610731,  17.88575965,  13.06139075,\n",
              "         0.82213494,   3.44307622,  12.90442213,   8.85792981,\n",
              "        -3.35468455,  13.34067837,  -0.9313139 ,   7.30685977,\n",
              "        13.22770825,  19.13762614,  16.99817551,  -2.7341307 ,\n",
              "        18.31656006,  14.65202745,   6.79610248,   0.54864087,\n",
              "        17.0975707 ,  13.90046187,  21.16036056,  13.53011728,\n",
              "         2.02058644,  20.93005535,  18.07824554,  20.56356779,\n",
              "        -6.17363413,   3.65453224,  29.49002022,  18.12583796,\n",
              "        -3.34049728,  -0.72943069,  30.01916867,  -4.91084792,\n",
              "        13.59778253,  19.99344462,  12.00232731,   1.14472459,\n",
              "        13.07749392,   3.94122166,  18.6419685 ,   4.48972884,\n",
              "         2.42752624,  23.79186711,  18.65913981,  15.99728116,\n",
              "        13.66697744,  -9.26389505,  18.83989863,   5.19485558,\n",
              "        12.21491235,  19.56380021,  -0.35202276,  -1.5292591 ,\n",
              "         0.98551163,  -0.25598966,  12.48408476,  23.73476395,\n",
              "         0.62740436,  -1.94568688,  15.77118695,   1.25402812,\n",
              "        19.35052569,  10.13872619,   5.51225734,  14.11510531,\n",
              "        17.43984283,  -4.46589075,  12.39580816,  11.43254275,\n",
              "        14.12498339,   6.58370848,  19.12718397,   8.49326809,\n",
              "        -5.20875879,  22.05475723,   6.60405028,  -2.15237133,\n",
              "        11.16300263,  22.31957612,  -2.63859939,  17.47521279,\n",
              "        14.45918982,  13.58118699,  26.88306572,   1.64345779,\n",
              "        21.92843446,  19.47173191,  20.21536385,   9.339762  ,\n",
              "        21.84323217,  16.85981963,   4.03212229,  -2.62957048,\n",
              "         8.54490336,  12.24647613,  27.38068447,  12.39109939,\n",
              "        23.33242326,  17.5235258 ,   9.14989369,   8.06103826,\n",
              "        18.32897946,  24.70885857,  14.31653192,   1.220193  ,\n",
              "        19.68437292,  10.32694928,   9.44190614,  12.38170422,\n",
              "        27.13556522,   1.98111569,  21.39447847,   9.77581916,\n",
              "        14.05359314,  12.70663079,  17.09851416,  19.37484046,\n",
              "        25.70261828,  13.88101551,  16.72374335,  -2.93968508,\n",
              "         5.79099689,  17.18496826,   8.64880135,  14.86756381,\n",
              "        14.98709415,   2.13364441,  15.43717866,  13.36447416,\n",
              "        25.25210607,  -4.40291763,   8.62631776,  -1.39621569,\n",
              "         8.18389819,   1.79440251,   6.77463823,   1.64662909,\n",
              "        28.01992214,  21.04410777,  14.28595782,  12.23744767,\n",
              "        19.59065184,   1.73166343,  24.59306609,  -0.27703337,\n",
              "        16.91902569,   5.58109715,  11.97129483,   0.65226337,\n",
              "        22.960477  ,  16.1198615 ,  15.9925553 ,  14.80400099,\n",
              "        29.77895427,  23.12924894,   1.99550221,  13.93659593,\n",
              "        23.83793792,  21.1617267 ,  19.95727511,  17.60846173,\n",
              "        16.10078638,   9.19421404,   1.01404044,   7.26782516,\n",
              "         0.05431822,   5.10134379,  -5.46850235,   3.74551644,\n",
              "        17.55619436,  12.81342781,   6.64860712,  -4.11026922,\n",
              "         7.60904662,  15.6797134 ,  12.9934789 ,  20.67945948,\n",
              "         8.19563285,  19.17209995,   8.64944399,  13.94380305,\n",
              "         5.99837029,  20.53170924,   2.51305572,  22.74239705,\n",
              "        -0.14685594,  12.21991081,  20.83118248,   2.94556809,\n",
              "        11.3853665 ,   6.92558904,  24.73121937,  12.23452494,\n",
              "         0.13160745,  13.41882548,   4.46448604,  14.65934383,\n",
              "        17.48613355,  10.10318237,   0.9524758 ,   9.58563003,\n",
              "        17.45030102,  14.6764499 ,  17.18152314,  31.79014559,\n",
              "        -0.11151346,  22.69319436,   6.64754802,  -7.29021655,\n",
              "        -7.44284511,  15.08243429,   4.05738026,  18.16279934,\n",
              "        -1.08921357,   2.20354787,   7.73455548,   6.37671044,\n",
              "        15.38998818,  11.80544922,  22.8067592 ,  23.90149325,\n",
              "        21.21467056,  13.74717726,   1.08246502,  22.98843212,\n",
              "        12.68976068, -10.52896794,   6.02189739,  17.50129516,\n",
              "         1.3390423 ,  -5.2871802 ,   5.51161704,  21.66767818,\n",
              "        -3.10881395,  13.03389252,  11.84361801,  18.65617408,\n",
              "         0.45244033,  24.04094524,   8.46430541,  30.36989205,\n",
              "        12.05180647,   1.65541036,  12.07703388,  19.96741757,\n",
              "         0.58604201,   2.59160968,  19.29641939,  16.63913045,\n",
              "        19.49939906,   1.71176348,  14.53467193,  21.78884526,\n",
              "         2.75769537,  26.90022024,  19.73573445,  -2.07298927,\n",
              "        18.95986032,  14.26045731,  14.17814305,  14.69024408,\n",
              "         9.09503418,  19.48121456,  11.34739205,  16.77357808])"
            ]
          },
          "metadata": {
            "tags": []
          },
          "execution_count": 39
        }
      ]
    },
    {
      "cell_type": "code",
      "metadata": {
        "id": "K25QIF2212dP",
        "colab_type": "code",
        "colab": {
          "base_uri": "https://localhost:8080/",
          "height": 51
        },
        "outputId": "04748b78-e433-450c-99c5-43ed336d20c1"
      },
      "source": [
        "# Avaliação do modelo\n",
        "print(\"R2: {:.3f}\".format(ln_reg_clima.score(X_test_clima, y_test_clima)))\n",
        "print(\"MSE: {}\".format(mean_squared_error(y_test_clima, ln_reg_clima.predict(X_test_clima))))"
      ],
      "execution_count": 40,
      "outputs": [
        {
          "output_type": "stream",
          "text": [
            "R2: 0.990\n",
            "MSE: 0.8190103256727762\n"
          ],
          "name": "stdout"
        }
      ]
    },
    {
      "cell_type": "code",
      "metadata": {
        "id": "pf9xAswR5gO5",
        "colab_type": "code",
        "colab": {}
      },
      "source": [
        "def train_linear_model(model, X_train, X_test,  y_train, y_test, print_coef=True):\n",
        "\n",
        "  #não printar com notação científica\n",
        "  np.set_printoptions(suppress=True)\n",
        "\n",
        "\n",
        "  #treinando e avaliando o modelo\n",
        "  model.fit(X_train, y_train)\n",
        "  print(\"R2: {:.3f}\".format(model.score(X_test, y_test)))\n",
        "  print(\"MSE: {}\".format(mean_squared_error(y_test, model.predict(X_test))))\n"
      ],
      "execution_count": 70,
      "outputs": []
    },
    {
      "cell_type": "code",
      "metadata": {
        "id": "ZjPBMZLk3Eg9",
        "colab_type": "code",
        "colab": {
          "base_uri": "https://localhost:8080/",
          "height": 51
        },
        "outputId": "ab1b4d9e-4294-4ed4-a167-caa68dc7a08b"
      },
      "source": [
        "from sklearn.linear_model import SGDRegressor\n",
        "\n",
        "train_linear_model(SGDRegressor(), X_train_clima.values, X_test_clima.values,  y_train_clima.values, y_test_clima.values)"
      ],
      "execution_count": 50,
      "outputs": [
        {
          "output_type": "stream",
          "text": [
            "R2: -2203164197257077454018707456.000\n",
            "MSE: 1.812929406499058e+29\n"
          ],
          "name": "stdout"
        }
      ]
    },
    {
      "cell_type": "code",
      "metadata": {
        "id": "RmLg7Qto4gEh",
        "colab_type": "code",
        "colab": {
          "base_uri": "https://localhost:8080/",
          "height": 51
        },
        "outputId": "e78d0420-2768-4bab-e686-589e7fe7ab76"
      },
      "source": [
        "from sklearn.linear_model import Ridge\n",
        "\n",
        "train_linear_model(Ridge(), X_train_clima.values, X_test_clima.values,  y_train_clima.values, y_test_clima.values)"
      ],
      "execution_count": 51,
      "outputs": [
        {
          "output_type": "stream",
          "text": [
            "R2: 0.990\n",
            "MSE: 0.8197118259040966\n"
          ],
          "name": "stdout"
        }
      ]
    },
    {
      "cell_type": "code",
      "metadata": {
        "id": "uYiE4xwi_8KJ",
        "colab_type": "code",
        "colab": {
          "base_uri": "https://localhost:8080/",
          "height": 51
        },
        "outputId": "7f671c27-b616-4266-a0d1-3cb3bfd223ba"
      },
      "source": [
        "from sklearn.linear_model import Lasso\n",
        "\n",
        "train_linear_model(Lasso(),  X_train_clima.values, X_test_clima.values,  y_train_clima.values, y_test_clima.values)"
      ],
      "execution_count": 79,
      "outputs": [
        {
          "output_type": "stream",
          "text": [
            "R2: 0.989\n",
            "MSE: 0.8789920672467363\n"
          ],
          "name": "stdout"
        }
      ]
    },
    {
      "cell_type": "code",
      "metadata": {
        "id": "9jV47Z8mAEDx",
        "colab_type": "code",
        "colab": {
          "base_uri": "https://localhost:8080/",
          "height": 51
        },
        "outputId": "13af2855-633b-4955-a220-65ad9739752e"
      },
      "source": [
        "from sklearn.linear_model import ElasticNet\n",
        "\n",
        "train_linear_model(ElasticNet(), X_train_clima.values, X_test_clima.values,  y_train_clima.values, y_test_clima.values)"
      ],
      "execution_count": 80,
      "outputs": [
        {
          "output_type": "stream",
          "text": [
            "R2: 0.990\n",
            "MSE: 0.86295063054898\n"
          ],
          "name": "stdout"
        }
      ]
    },
    {
      "cell_type": "code",
      "metadata": {
        "id": "1JnOXbNkAVn6",
        "colab_type": "code",
        "colab": {
          "base_uri": "https://localhost:8080/",
          "height": 51
        },
        "outputId": "c2fec6d2-02a0-4e03-b94a-a6a5074e88ac"
      },
      "source": [
        "from sklearn.linear_model import Lars\n",
        "\n",
        "train_linear_model(Lars(), X_train_clima.values, X_test_clima.values,  y_train_clima.values, y_test_clima.values)"
      ],
      "execution_count": 81,
      "outputs": [
        {
          "output_type": "stream",
          "text": [
            "R2: 0.990\n",
            "MSE: 0.8190103256727749\n"
          ],
          "name": "stdout"
        }
      ]
    },
    {
      "cell_type": "code",
      "metadata": {
        "id": "CXSJTff9Aogt",
        "colab_type": "code",
        "colab": {
          "base_uri": "https://localhost:8080/",
          "height": 51
        },
        "outputId": "d872bcce-0170-4b38-b592-87c03cf86a9b"
      },
      "source": [
        "from sklearn.linear_model import RANSACRegressor\n",
        "\n",
        "ransac = RANSACRegressor()\n",
        "\n",
        "train_linear_model(ransac, X_train_clima.values, X_test_clima.values,  y_train_clima.values, y_test_clima.values)"
      ],
      "execution_count": 82,
      "outputs": [
        {
          "output_type": "stream",
          "text": [
            "R2: 0.990\n",
            "MSE: 0.8166042273728853\n"
          ],
          "name": "stdout"
        }
      ]
    },
    {
      "cell_type": "markdown",
      "metadata": {
        "id": "sY-2bASu6i64",
        "colab_type": "text"
      },
      "source": [
        "Regularização dos dados"
      ]
    },
    {
      "cell_type": "code",
      "metadata": {
        "id": "oFooycl-6oFF",
        "colab_type": "code",
        "colab": {}
      },
      "source": [
        "# Deifindo as variáveis de feature e target\n",
        "X = df_reg_mult\n",
        "y = df_column_target"
      ],
      "execution_count": 53,
      "outputs": []
    },
    {
      "cell_type": "code",
      "metadata": {
        "id": "NLZ-ZSHR7LCR",
        "colab_type": "code",
        "colab": {}
      },
      "source": [
        "# Dividindo novamente meus dados entre treino e teste\n",
        "X_train, X_test, y_train, y_test = train_test_split(X, y, test_size=0.3, random_state=42)"
      ],
      "execution_count": 60,
      "outputs": []
    },
    {
      "cell_type": "code",
      "metadata": {
        "id": "WGW_HjxW7Otz",
        "colab_type": "code",
        "colab": {}
      },
      "source": [
        "# Importando novas bibliotecas\n",
        "from sklearn.pipeline import Pipeline\n",
        "from sklearn.preprocessing import StandardScaler"
      ],
      "execution_count": 63,
      "outputs": []
    },
    {
      "cell_type": "code",
      "metadata": {
        "id": "iAenAm0X8vQM",
        "colab_type": "code",
        "colab": {
          "base_uri": "https://localhost:8080/",
          "height": 136
        },
        "outputId": "b38e705f-2fce-4c99-f581-174a13f50966"
      },
      "source": [
        "# Treinando e gerando valores preditos\n",
        "pipe = Pipeline([('scaler', StandardScaler()), \n",
        "                 ('logreg', LinearRegression())])\n",
        "pipe.fit(X_train, y_train)"
      ],
      "execution_count": 72,
      "outputs": [
        {
          "output_type": "execute_result",
          "data": {
            "text/plain": [
              "Pipeline(memory=None,\n",
              "         steps=[('scaler',\n",
              "                 StandardScaler(copy=True, with_mean=True, with_std=True)),\n",
              "                ('logreg',\n",
              "                 LinearRegression(copy_X=True, fit_intercept=True, n_jobs=None,\n",
              "                                  normalize=False))],\n",
              "         verbose=False)"
            ]
          },
          "metadata": {
            "tags": []
          },
          "execution_count": 72
        }
      ]
    },
    {
      "cell_type": "code",
      "metadata": {
        "id": "QnQBrFPC-1Mj",
        "colab_type": "code",
        "colab": {
          "base_uri": "https://localhost:8080/",
          "height": 34
        },
        "outputId": "0d37507f-b3bf-4c9a-e16c-af692bacfcf3"
      },
      "source": [
        "pipe['logreg'].intercept_"
      ],
      "execution_count": 73,
      "outputs": [
        {
          "output_type": "execute_result",
          "data": {
            "text/plain": [
              "10.736071314867848"
            ]
          },
          "metadata": {
            "tags": []
          },
          "execution_count": 73
        }
      ]
    },
    {
      "cell_type": "code",
      "metadata": {
        "id": "xsUGM5Il_DWm",
        "colab_type": "code",
        "colab": {
          "base_uri": "https://localhost:8080/",
          "height": 34
        },
        "outputId": "42f6a8f7-1c50-4b04-a60b-69db5bb1089a"
      },
      "source": [
        "pipe['logreg'].coef_"
      ],
      "execution_count": 74,
      "outputs": [
        {
          "output_type": "execute_result",
          "data": {
            "text/plain": [
              "array([ 9.35943304, -0.14711396,  0.58825385,  0.02798273,  0.03803717])"
            ]
          },
          "metadata": {
            "tags": []
          },
          "execution_count": 74
        }
      ]
    },
    {
      "cell_type": "code",
      "metadata": {
        "id": "8RNX5KWP_KAK",
        "colab_type": "code",
        "colab": {
          "base_uri": "https://localhost:8080/",
          "height": 51
        },
        "outputId": "00a42f43-4633-4d2f-f156-d732dd599a6c"
      },
      "source": [
        "#Avaliando o modelo\n",
        "print(\"R2: {:.3f}\".format(pipe.score(X_test, y_test)))\n",
        "print(\"MSE: {}\".format(mean_squared_error(y_test, pipe.predict(X_test))))"
      ],
      "execution_count": 75,
      "outputs": [
        {
          "output_type": "stream",
          "text": [
            "R2: 0.990\n",
            "MSE: 0.8190103256727743\n"
          ],
          "name": "stdout"
        }
      ]
    },
    {
      "cell_type": "markdown",
      "metadata": {
        "id": "PejHu-ymBj0F",
        "colab_type": "text"
      },
      "source": [
        "Treinando modelo com menos colunas"
      ]
    },
    {
      "cell_type": "code",
      "metadata": {
        "id": "4LiKWLb1Bh60",
        "colab_type": "code",
        "colab": {}
      },
      "source": [
        "# definindo o modelo\n",
        "ln_reg_limpo = LinearRegression()"
      ],
      "execution_count": 87,
      "outputs": []
    },
    {
      "cell_type": "code",
      "metadata": {
        "id": "G4_QDd5JCGNR",
        "colab_type": "code",
        "colab": {
          "base_uri": "https://localhost:8080/",
          "height": 419
        },
        "outputId": "f7c127bb-7fba-41d5-a76e-1db9f059bbaf"
      },
      "source": [
        "df_reg_mult"
      ],
      "execution_count": 83,
      "outputs": [
        {
          "output_type": "execute_result",
          "data": {
            "text/html": [
              "<div>\n",
              "<style scoped>\n",
              "    .dataframe tbody tr th:only-of-type {\n",
              "        vertical-align: middle;\n",
              "    }\n",
              "\n",
              "    .dataframe tbody tr th {\n",
              "        vertical-align: top;\n",
              "    }\n",
              "\n",
              "    .dataframe thead th {\n",
              "        text-align: right;\n",
              "    }\n",
              "</style>\n",
              "<table border=\"1\" class=\"dataframe\">\n",
              "  <thead>\n",
              "    <tr style=\"text-align: right;\">\n",
              "      <th></th>\n",
              "      <th>Apparent Temperature (C)</th>\n",
              "      <th>Humidity</th>\n",
              "      <th>Wind Speed (km/h)</th>\n",
              "      <th>Visibility (km)</th>\n",
              "      <th>Pressure (millibars)</th>\n",
              "    </tr>\n",
              "  </thead>\n",
              "  <tbody>\n",
              "    <tr>\n",
              "      <th>0</th>\n",
              "      <td>19.400000</td>\n",
              "      <td>0.93</td>\n",
              "      <td>6.2790</td>\n",
              "      <td>14.7315</td>\n",
              "      <td>1018.23</td>\n",
              "    </tr>\n",
              "    <tr>\n",
              "      <th>1</th>\n",
              "      <td>3.122222</td>\n",
              "      <td>1.00</td>\n",
              "      <td>7.8890</td>\n",
              "      <td>5.8926</td>\n",
              "      <td>1000.86</td>\n",
              "    </tr>\n",
              "    <tr>\n",
              "      <th>2</th>\n",
              "      <td>22.661111</td>\n",
              "      <td>0.38</td>\n",
              "      <td>13.9426</td>\n",
              "      <td>16.0517</td>\n",
              "      <td>1022.64</td>\n",
              "    </tr>\n",
              "    <tr>\n",
              "      <th>3</th>\n",
              "      <td>17.044444</td>\n",
              "      <td>0.81</td>\n",
              "      <td>12.9766</td>\n",
              "      <td>14.9569</td>\n",
              "      <td>1008.99</td>\n",
              "    </tr>\n",
              "    <tr>\n",
              "      <th>4</th>\n",
              "      <td>-4.494444</td>\n",
              "      <td>0.56</td>\n",
              "      <td>24.7779</td>\n",
              "      <td>15.8263</td>\n",
              "      <td>1013.73</td>\n",
              "    </tr>\n",
              "    <tr>\n",
              "      <th>...</th>\n",
              "      <td>...</td>\n",
              "      <td>...</td>\n",
              "      <td>...</td>\n",
              "      <td>...</td>\n",
              "      <td>...</td>\n",
              "    </tr>\n",
              "    <tr>\n",
              "      <th>993</th>\n",
              "      <td>12.133333</td>\n",
              "      <td>0.81</td>\n",
              "      <td>4.4919</td>\n",
              "      <td>9.9820</td>\n",
              "      <td>1025.15</td>\n",
              "    </tr>\n",
              "    <tr>\n",
              "      <th>994</th>\n",
              "      <td>7.916667</td>\n",
              "      <td>0.92</td>\n",
              "      <td>3.2844</td>\n",
              "      <td>9.9820</td>\n",
              "      <td>1020.29</td>\n",
              "    </tr>\n",
              "    <tr>\n",
              "      <th>995</th>\n",
              "      <td>0.611111</td>\n",
              "      <td>0.70</td>\n",
              "      <td>7.8568</td>\n",
              "      <td>9.8049</td>\n",
              "      <td>1020.72</td>\n",
              "    </tr>\n",
              "    <tr>\n",
              "      <th>996</th>\n",
              "      <td>12.244444</td>\n",
              "      <td>0.89</td>\n",
              "      <td>1.5295</td>\n",
              "      <td>15.8263</td>\n",
              "      <td>1015.72</td>\n",
              "    </tr>\n",
              "    <tr>\n",
              "      <th>997</th>\n",
              "      <td>13.888889</td>\n",
              "      <td>1.00</td>\n",
              "      <td>8.0178</td>\n",
              "      <td>11.1251</td>\n",
              "      <td>0.00</td>\n",
              "    </tr>\n",
              "  </tbody>\n",
              "</table>\n",
              "<p>998 rows × 5 columns</p>\n",
              "</div>"
            ],
            "text/plain": [
              "     Apparent Temperature (C)  Humidity  ...  Visibility (km)  Pressure (millibars)\n",
              "0                   19.400000      0.93  ...          14.7315               1018.23\n",
              "1                    3.122222      1.00  ...           5.8926               1000.86\n",
              "2                   22.661111      0.38  ...          16.0517               1022.64\n",
              "3                   17.044444      0.81  ...          14.9569               1008.99\n",
              "4                   -4.494444      0.56  ...          15.8263               1013.73\n",
              "..                        ...       ...  ...              ...                   ...\n",
              "993                 12.133333      0.81  ...           9.9820               1025.15\n",
              "994                  7.916667      0.92  ...           9.9820               1020.29\n",
              "995                  0.611111      0.70  ...           9.8049               1020.72\n",
              "996                 12.244444      0.89  ...          15.8263               1015.72\n",
              "997                 13.888889      1.00  ...          11.1251                  0.00\n",
              "\n",
              "[998 rows x 5 columns]"
            ]
          },
          "metadata": {
            "tags": []
          },
          "execution_count": 83
        }
      ]
    },
    {
      "cell_type": "code",
      "metadata": {
        "id": "0_4LdmmrBvKJ",
        "colab_type": "code",
        "colab": {}
      },
      "source": [
        "# Definição do target\n",
        "df_target = df[\"Temperature (C)\"]"
      ],
      "execution_count": 86,
      "outputs": []
    },
    {
      "cell_type": "code",
      "metadata": {
        "id": "8t99QhUuCYIA",
        "colab_type": "code",
        "colab": {
          "base_uri": "https://localhost:8080/",
          "height": 419
        },
        "outputId": "8e66e90c-a1af-4031-c006-c3c7173d0935"
      },
      "source": [
        "df_feature = df_reg_mult.drop(['Humidity','Pressure (millibars)'],axis=1)\n",
        "df_feature"
      ],
      "execution_count": 85,
      "outputs": [
        {
          "output_type": "execute_result",
          "data": {
            "text/html": [
              "<div>\n",
              "<style scoped>\n",
              "    .dataframe tbody tr th:only-of-type {\n",
              "        vertical-align: middle;\n",
              "    }\n",
              "\n",
              "    .dataframe tbody tr th {\n",
              "        vertical-align: top;\n",
              "    }\n",
              "\n",
              "    .dataframe thead th {\n",
              "        text-align: right;\n",
              "    }\n",
              "</style>\n",
              "<table border=\"1\" class=\"dataframe\">\n",
              "  <thead>\n",
              "    <tr style=\"text-align: right;\">\n",
              "      <th></th>\n",
              "      <th>Apparent Temperature (C)</th>\n",
              "      <th>Wind Speed (km/h)</th>\n",
              "      <th>Visibility (km)</th>\n",
              "    </tr>\n",
              "  </thead>\n",
              "  <tbody>\n",
              "    <tr>\n",
              "      <th>0</th>\n",
              "      <td>19.400000</td>\n",
              "      <td>6.2790</td>\n",
              "      <td>14.7315</td>\n",
              "    </tr>\n",
              "    <tr>\n",
              "      <th>1</th>\n",
              "      <td>3.122222</td>\n",
              "      <td>7.8890</td>\n",
              "      <td>5.8926</td>\n",
              "    </tr>\n",
              "    <tr>\n",
              "      <th>2</th>\n",
              "      <td>22.661111</td>\n",
              "      <td>13.9426</td>\n",
              "      <td>16.0517</td>\n",
              "    </tr>\n",
              "    <tr>\n",
              "      <th>3</th>\n",
              "      <td>17.044444</td>\n",
              "      <td>12.9766</td>\n",
              "      <td>14.9569</td>\n",
              "    </tr>\n",
              "    <tr>\n",
              "      <th>4</th>\n",
              "      <td>-4.494444</td>\n",
              "      <td>24.7779</td>\n",
              "      <td>15.8263</td>\n",
              "    </tr>\n",
              "    <tr>\n",
              "      <th>...</th>\n",
              "      <td>...</td>\n",
              "      <td>...</td>\n",
              "      <td>...</td>\n",
              "    </tr>\n",
              "    <tr>\n",
              "      <th>993</th>\n",
              "      <td>12.133333</td>\n",
              "      <td>4.4919</td>\n",
              "      <td>9.9820</td>\n",
              "    </tr>\n",
              "    <tr>\n",
              "      <th>994</th>\n",
              "      <td>7.916667</td>\n",
              "      <td>3.2844</td>\n",
              "      <td>9.9820</td>\n",
              "    </tr>\n",
              "    <tr>\n",
              "      <th>995</th>\n",
              "      <td>0.611111</td>\n",
              "      <td>7.8568</td>\n",
              "      <td>9.8049</td>\n",
              "    </tr>\n",
              "    <tr>\n",
              "      <th>996</th>\n",
              "      <td>12.244444</td>\n",
              "      <td>1.5295</td>\n",
              "      <td>15.8263</td>\n",
              "    </tr>\n",
              "    <tr>\n",
              "      <th>997</th>\n",
              "      <td>13.888889</td>\n",
              "      <td>8.0178</td>\n",
              "      <td>11.1251</td>\n",
              "    </tr>\n",
              "  </tbody>\n",
              "</table>\n",
              "<p>998 rows × 3 columns</p>\n",
              "</div>"
            ],
            "text/plain": [
              "     Apparent Temperature (C)  Wind Speed (km/h)  Visibility (km)\n",
              "0                   19.400000             6.2790          14.7315\n",
              "1                    3.122222             7.8890           5.8926\n",
              "2                   22.661111            13.9426          16.0517\n",
              "3                   17.044444            12.9766          14.9569\n",
              "4                   -4.494444            24.7779          15.8263\n",
              "..                        ...                ...              ...\n",
              "993                 12.133333             4.4919           9.9820\n",
              "994                  7.916667             3.2844           9.9820\n",
              "995                  0.611111             7.8568           9.8049\n",
              "996                 12.244444             1.5295          15.8263\n",
              "997                 13.888889             8.0178          11.1251\n",
              "\n",
              "[998 rows x 3 columns]"
            ]
          },
          "metadata": {
            "tags": []
          },
          "execution_count": 85
        }
      ]
    },
    {
      "cell_type": "code",
      "metadata": {
        "id": "vIEw3ZQ8Clk9",
        "colab_type": "code",
        "colab": {
          "base_uri": "https://localhost:8080/",
          "height": 34
        },
        "outputId": "1cdc7884-088a-4127-ded4-7ae551661b56"
      },
      "source": [
        "# Dividindo o dataset em trieno e teste e treino do modelo\n",
        "X_train_limpo, X_test_limpo, y_train_limpo, y_test_limpa = train_test_split(df_feature, df_target, test_size=0.30, random_state=42)\n",
        "ln_reg_limpo.fit(X_train_limpo,y_train_limpo)"
      ],
      "execution_count": 88,
      "outputs": [
        {
          "output_type": "execute_result",
          "data": {
            "text/plain": [
              "LinearRegression(copy_X=True, fit_intercept=True, n_jobs=None, normalize=False)"
            ]
          },
          "metadata": {
            "tags": []
          },
          "execution_count": 88
        }
      ]
    },
    {
      "cell_type": "code",
      "metadata": {
        "id": "kjVr-RejDT4f",
        "colab_type": "code",
        "colab": {}
      },
      "source": [
        "# Gravando as novas predições\n",
        "pred_clima_limpo = ln_reg_limpo.predict(X_test_limpo)"
      ],
      "execution_count": 89,
      "outputs": []
    },
    {
      "cell_type": "code",
      "metadata": {
        "id": "t7UeSpN0DbYX",
        "colab_type": "code",
        "colab": {
          "base_uri": "https://localhost:8080/",
          "height": 1000
        },
        "outputId": "45beaf1e-6751-4ac9-d6ae-58e2cf5806ad"
      },
      "source": [
        "pred_clima_limpo"
      ],
      "execution_count": 91,
      "outputs": [
        {
          "output_type": "execute_result",
          "data": {
            "text/plain": [
              "array([ 13.30841021,  -0.1977674 ,   8.96221598,   6.90325344,\n",
              "         1.32668607,  17.3103752 ,  13.03133047,   8.56470299,\n",
              "        -0.8313467 ,  13.39097295,  19.17641718,  25.06441364,\n",
              "        18.26967164,  20.78466005,  20.82834963,  13.73879818,\n",
              "        -7.07564298,  22.64006352,  22.49544842,  14.81805788,\n",
              "        23.79234704,   9.64842262,   6.86254532,  -3.29956183,\n",
              "         3.99711695,  26.8373121 ,  17.49725746,  19.19261271,\n",
              "        15.69013047,   4.99378679,   7.59906289,  22.76240947,\n",
              "        16.51761778,  13.46355149,  18.04787834,  13.21628045,\n",
              "         0.90216756,   3.46322741,  12.85808103,   8.86091821,\n",
              "        -3.36556113,  13.43895791,  -0.863365  ,   7.36236723,\n",
              "        13.18019287,  19.31812247,  16.87753412,  -2.75508807,\n",
              "        18.20412524,  14.45850905,   6.836644  ,   0.54066163,\n",
              "        17.23736424,  14.06521331,  21.19265199,  13.53197098,\n",
              "         1.83359478,  21.03379016,  18.08409307,  20.34245464,\n",
              "        -6.23630534,   3.68608717,  29.30417647,  18.19770735,\n",
              "        -3.36937224,  -0.73319213,  29.96476191,  -5.0011984 ,\n",
              "        13.7351851 ,  20.13607702,  12.01834178,   1.21435852,\n",
              "        13.01671112,   3.98259662,  18.80895456,   4.4489746 ,\n",
              "         2.50130536,  23.94163441,  18.50278226,  15.81865337,\n",
              "        13.73231466,  -9.4073105 ,  18.86130165,   5.37025615,\n",
              "        12.28813618,  19.32682598,  -0.35173801,  -1.54631703,\n",
              "         0.99568547,  -0.25834334,  12.64291253,  23.55591054,\n",
              "         0.63520738,  -2.04631601,  15.52182706,   1.2800218 ,\n",
              "        19.55071792,  10.21339655,   5.41376919,  14.19828776,\n",
              "        17.58130557,  -4.69613968,  12.51976114,  11.62176336,\n",
              "        14.24378455,   6.66822421,  19.27089438,   8.47725405,\n",
              "        -5.2905394 ,  22.10806749,   6.73684395,  -2.08389803,\n",
              "        11.20639207,  22.42673736,  -2.60976041,  17.25043751,\n",
              "        14.32616415,  13.77422252,  26.75230682,   1.57911852,\n",
              "        21.85899763,  19.47503482,  20.16128165,   9.35277297,\n",
              "        21.95486973,  16.84565297,   3.91135513,  -2.7123328 ,\n",
              "         8.61448153,  12.3403593 ,  27.24314138,  12.39721965,\n",
              "        23.18547552,  17.6916837 ,   9.22608488,   8.17405265,\n",
              "        18.25352303,  24.47427466,  14.45936367,   1.22191672,\n",
              "        19.77225665,  10.45304852,   9.50713368,  12.51337438,\n",
              "        26.96318146,   1.86568602,  21.25492035,   9.79316235,\n",
              "        14.03286174,  12.76876792,  17.30204402,  19.52056361,\n",
              "        25.56561875,  13.86854237,  16.79859485,  -2.99796837,\n",
              "         5.86767159,  17.31888851,   8.75505262,  14.94854   ,\n",
              "        15.07043373,   2.14046636,  15.49159686,  13.39311401,\n",
              "        25.22280642,  -4.42048692,   8.71231187,  -1.341915  ,\n",
              "         8.17053989,   1.8216718 ,   6.83008147,   1.61866886,\n",
              "        28.0054288 ,  21.24172358,  14.28831952,  12.27643883,\n",
              "        19.81814512,   1.82472049,  24.4078885 ,  -0.28854012,\n",
              "        16.8947364 ,   5.57992015,  12.13890631,   0.68954468,\n",
              "        22.7536694 ,  16.2324048 ,  15.94657636,  14.81607742,\n",
              "        29.60106566,  23.01965381,   1.73471084,  13.95679119,\n",
              "        23.83391401,  21.27798544,  19.72772099,  17.53298989,\n",
              "        16.10932368,   9.24457089,   0.98957699,   7.35803236,\n",
              "         0.07853882,   5.10931878,  -5.53974747,   3.40391696,\n",
              "        17.60670681,  12.88926668,   6.53313637,  -4.26228199,\n",
              "         7.58379579,  15.65337365,  13.02161536,  20.61488285,\n",
              "         8.19688915,  19.07423464,   8.78528545,  13.93182537,\n",
              "         6.07435875,  20.3322704 ,   2.42968639,  22.78697658,\n",
              "        -0.15904459,  12.3919061 ,  20.8279708 ,   2.99275404,\n",
              "        11.49958246,   6.64622395,  24.7101024 ,  12.33016766,\n",
              "         0.11474171,  13.50499408,   4.41609242,  14.50798794,\n",
              "        17.49797701,  10.14580836,   0.98942244,   9.6192406 ,\n",
              "        17.5695134 ,  14.74079766,  17.34051806,  31.64350729,\n",
              "        -0.13639864,  22.52645288,   6.80195913,  -7.40472895,\n",
              "        -7.68180998,  15.0652687 ,   4.08288456,  18.02555132,\n",
              "        -1.08520471,   2.27578396,   7.80095323,   6.40470607,\n",
              "        15.44165341,  11.80328605,  22.60177932,  23.57264763,\n",
              "        21.02128323,  13.86388112,   1.09411176,  23.02137068,\n",
              "        12.72196112, -10.69475621,   6.1033669 ,  17.66183151,\n",
              "         1.31164036,  -5.31760258,   5.85953191,  21.72867919,\n",
              "        -3.26610795,  13.12105653,  11.89443483,  18.73221814,\n",
              "         0.46808104,  23.80113738,   8.61081916,  30.09911704,\n",
              "        11.97511815,   1.65798437,  11.99525269,  20.08362102,\n",
              "         0.676657  ,   2.40212579,  19.20945232,  16.77747316,\n",
              "        19.55637697,   1.66323531,  14.61223097,  21.91895552,\n",
              "         2.73708239,  26.86031109,  19.90540779,  -2.00379225,\n",
              "        19.03563333,  14.35414793,  14.31282378,  14.8354863 ,\n",
              "         9.08164573,  19.32656973,  11.34573491,  16.56470155])"
            ]
          },
          "metadata": {
            "tags": []
          },
          "execution_count": 91
        }
      ]
    },
    {
      "cell_type": "code",
      "metadata": {
        "id": "QG8VuCAXDkk8",
        "colab_type": "code",
        "colab": {
          "base_uri": "https://localhost:8080/",
          "height": 51
        },
        "outputId": "38ec896d-c2cd-4e95-bbad-7c8c6c154e9f"
      },
      "source": [
        "# Avaliação do modelo\n",
        "print(\"R2: {:.3f}\".format(ln_reg_limpo.score(X_test_limpo, y_test_limpa)))\n",
        "print(\"MSE: {}\".format(mean_squared_error(y_test_limpa, ln_reg_limpo.predict(X_test_limpo))))"
      ],
      "execution_count": 92,
      "outputs": [
        {
          "output_type": "stream",
          "text": [
            "R2: 0.990\n",
            "MSE: 0.8366280327063998\n"
          ],
          "name": "stdout"
        }
      ]
    },
    {
      "cell_type": "markdown",
      "metadata": {
        "id": "LxBK2uvwHiLK",
        "colab_type": "text"
      },
      "source": [
        "Montando dataframe para exportação"
      ]
    },
    {
      "cell_type": "code",
      "metadata": {
        "id": "UY559B17PawN",
        "colab_type": "code",
        "colab": {}
      },
      "source": [
        "df_total_exp =pd.DataFrame(pred_clima_limpo, columns=['Temperatura']) "
      ],
      "execution_count": 111,
      "outputs": []
    },
    {
      "cell_type": "code",
      "metadata": {
        "id": "fN6_7KPDH8rK",
        "colab_type": "code",
        "colab": {
          "base_uri": "https://localhost:8080/",
          "height": 17
        },
        "outputId": "de68fc5f-5a63-4f95-f7d7-3ecfa2aabe3d"
      },
      "source": [
        "# Gerando a exportação dos dados\n",
        "from google.colab import files\n",
        "df_export.to_csv('ClimaSzeged.csv') \n",
        "files.download('ClimaSzeged.csv')"
      ],
      "execution_count": 112,
      "outputs": [
        {
          "output_type": "display_data",
          "data": {
            "application/javascript": [
              "\n",
              "    async function download(id, filename, size) {\n",
              "      if (!google.colab.kernel.accessAllowed) {\n",
              "        return;\n",
              "      }\n",
              "      const div = document.createElement('div');\n",
              "      const label = document.createElement('label');\n",
              "      label.textContent = `Downloading \"${filename}\": `;\n",
              "      div.appendChild(label);\n",
              "      const progress = document.createElement('progress');\n",
              "      progress.max = size;\n",
              "      div.appendChild(progress);\n",
              "      document.body.appendChild(div);\n",
              "\n",
              "      const buffers = [];\n",
              "      let downloaded = 0;\n",
              "\n",
              "      const channel = await google.colab.kernel.comms.open(id);\n",
              "      // Send a message to notify the kernel that we're ready.\n",
              "      channel.send({})\n",
              "\n",
              "      for await (const message of channel.messages) {\n",
              "        // Send a message to notify the kernel that we're ready.\n",
              "        channel.send({})\n",
              "        if (message.buffers) {\n",
              "          for (const buffer of message.buffers) {\n",
              "            buffers.push(buffer);\n",
              "            downloaded += buffer.byteLength;\n",
              "            progress.value = downloaded;\n",
              "          }\n",
              "        }\n",
              "      }\n",
              "      const blob = new Blob(buffers, {type: 'application/binary'});\n",
              "      const a = document.createElement('a');\n",
              "      a.href = window.URL.createObjectURL(blob);\n",
              "      a.download = filename;\n",
              "      div.appendChild(a);\n",
              "      a.click();\n",
              "      div.remove();\n",
              "    }\n",
              "  "
            ],
            "text/plain": [
              "<IPython.core.display.Javascript object>"
            ]
          },
          "metadata": {
            "tags": []
          }
        },
        {
          "output_type": "display_data",
          "data": {
            "application/javascript": [
              "download(\"download_395b6eab-ea2e-4bcc-9239-52be82d89eb1\", \"ClimaSzeged.csv\", 6713)"
            ],
            "text/plain": [
              "<IPython.core.display.Javascript object>"
            ]
          },
          "metadata": {
            "tags": []
          }
        }
      ]
    }
  ]
}