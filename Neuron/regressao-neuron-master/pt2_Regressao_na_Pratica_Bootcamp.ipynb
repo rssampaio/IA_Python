{
  "nbformat": 4,
  "nbformat_minor": 0,
  "metadata": {
    "colab": {
      "name": "pt2_Regressao_na_Pratica_Bootcamp.ipynb",
      "provenance": [],
      "collapsed_sections": []
    },
    "kernelspec": {
      "name": "python3",
      "display_name": "Python 3"
    },
    "widgets": {
      "application/vnd.jupyter.widget-state+json": {
        "201339ec51b1476fbe7bdd36136371df": {
          "model_module": "@jupyter-widgets/controls",
          "model_name": "IntProgressModel",
          "state": {
            "_view_name": "ProgressView",
            "style": "IPY_MODEL_7bbcaa42840b4afba179b78502cfa59d",
            "_dom_classes": [],
            "description": "Processing: ",
            "_model_name": "IntProgressModel",
            "bar_style": "",
            "max": 13,
            "_view_module": "@jupyter-widgets/controls",
            "_model_module_version": "1.5.0",
            "value": 3,
            "_view_count": null,
            "_view_module_version": "1.5.0",
            "orientation": "horizontal",
            "min": 0,
            "description_tooltip": null,
            "_model_module": "@jupyter-widgets/controls",
            "layout": "IPY_MODEL_212088e95d854aa6a9ab3d10eb6e99a9"
          }
        },
        "7bbcaa42840b4afba179b78502cfa59d": {
          "model_module": "@jupyter-widgets/controls",
          "model_name": "ProgressStyleModel",
          "state": {
            "_view_name": "StyleView",
            "_model_name": "ProgressStyleModel",
            "description_width": "",
            "_view_module": "@jupyter-widgets/base",
            "_model_module_version": "1.5.0",
            "_view_count": null,
            "_view_module_version": "1.2.0",
            "bar_color": null,
            "_model_module": "@jupyter-widgets/controls"
          }
        },
        "212088e95d854aa6a9ab3d10eb6e99a9": {
          "model_module": "@jupyter-widgets/base",
          "model_name": "LayoutModel",
          "state": {
            "_view_name": "LayoutView",
            "grid_template_rows": null,
            "right": null,
            "justify_content": null,
            "_view_module": "@jupyter-widgets/base",
            "overflow": null,
            "_model_module_version": "1.2.0",
            "_view_count": null,
            "flex_flow": null,
            "width": null,
            "min_width": null,
            "border": null,
            "align_items": null,
            "bottom": null,
            "_model_module": "@jupyter-widgets/base",
            "top": null,
            "grid_column": null,
            "overflow_y": null,
            "overflow_x": null,
            "grid_auto_flow": null,
            "grid_area": null,
            "grid_template_columns": null,
            "flex": null,
            "_model_name": "LayoutModel",
            "justify_items": null,
            "grid_row": null,
            "max_height": null,
            "align_content": null,
            "visibility": null,
            "align_self": null,
            "height": null,
            "min_height": null,
            "padding": null,
            "grid_auto_rows": null,
            "grid_gap": null,
            "max_width": null,
            "order": null,
            "_view_module_version": "1.2.0",
            "grid_template_areas": null,
            "object_position": null,
            "object_fit": null,
            "grid_auto_columns": null,
            "margin": null,
            "display": null,
            "left": null
          }
        },
        "5f63ee5eadf048938395514a3169b517": {
          "model_module": "@jupyter-widgets/controls",
          "model_name": "TextModel",
          "state": {
            "_view_name": "TextView",
            "style": "IPY_MODEL_183b84197ef04f219ec7880c3fcaa132",
            "_dom_classes": [],
            "description": "",
            "_model_name": "TextModel",
            "placeholder": "​",
            "_view_module": "@jupyter-widgets/controls",
            "_model_module_version": "1.5.0",
            "value": "Following data types have been inferred automatically, if they are correct press enter to continue or type 'quit' otherwise.",
            "_view_count": null,
            "disabled": false,
            "_view_module_version": "1.5.0",
            "continuous_update": true,
            "description_tooltip": null,
            "_model_module": "@jupyter-widgets/controls",
            "layout": "IPY_MODEL_2d1d3e7f4c654a69ad747c48ad08f653"
          }
        },
        "183b84197ef04f219ec7880c3fcaa132": {
          "model_module": "@jupyter-widgets/controls",
          "model_name": "DescriptionStyleModel",
          "state": {
            "_view_name": "StyleView",
            "_model_name": "DescriptionStyleModel",
            "description_width": "",
            "_view_module": "@jupyter-widgets/base",
            "_model_module_version": "1.5.0",
            "_view_count": null,
            "_view_module_version": "1.2.0",
            "_model_module": "@jupyter-widgets/controls"
          }
        },
        "2d1d3e7f4c654a69ad747c48ad08f653": {
          "model_module": "@jupyter-widgets/base",
          "model_name": "LayoutModel",
          "state": {
            "_view_name": "LayoutView",
            "grid_template_rows": null,
            "right": null,
            "justify_content": null,
            "_view_module": "@jupyter-widgets/base",
            "overflow": null,
            "_model_module_version": "1.2.0",
            "_view_count": null,
            "flex_flow": null,
            "width": "100%",
            "min_width": null,
            "border": null,
            "align_items": null,
            "bottom": null,
            "_model_module": "@jupyter-widgets/base",
            "top": null,
            "grid_column": null,
            "overflow_y": null,
            "overflow_x": null,
            "grid_auto_flow": null,
            "grid_area": null,
            "grid_template_columns": null,
            "flex": null,
            "_model_name": "LayoutModel",
            "justify_items": null,
            "grid_row": null,
            "max_height": null,
            "align_content": null,
            "visibility": null,
            "align_self": null,
            "height": null,
            "min_height": null,
            "padding": null,
            "grid_auto_rows": null,
            "grid_gap": null,
            "max_width": null,
            "order": null,
            "_view_module_version": "1.2.0",
            "grid_template_areas": null,
            "object_position": null,
            "object_fit": null,
            "grid_auto_columns": null,
            "margin": null,
            "display": null,
            "left": null
          }
        },
        "3cba5e05ab50489f9d4e1795607e868f": {
          "model_module": "@jupyter-widgets/controls",
          "model_name": "IntProgressModel",
          "state": {
            "_view_name": "ProgressView",
            "style": "IPY_MODEL_9a864028664e4831a7f1d4252896eb8c",
            "_dom_classes": [],
            "description": "Processing: ",
            "_model_name": "IntProgressModel",
            "bar_style": "",
            "max": 98,
            "_view_module": "@jupyter-widgets/controls",
            "_model_module_version": "1.5.0",
            "value": 95,
            "_view_count": null,
            "_view_module_version": "1.5.0",
            "orientation": "horizontal",
            "min": 0,
            "description_tooltip": null,
            "_model_module": "@jupyter-widgets/controls",
            "layout": "IPY_MODEL_2f4a5f942d4d4c258e9ffbd564c830ea"
          }
        },
        "9a864028664e4831a7f1d4252896eb8c": {
          "model_module": "@jupyter-widgets/controls",
          "model_name": "ProgressStyleModel",
          "state": {
            "_view_name": "StyleView",
            "_model_name": "ProgressStyleModel",
            "description_width": "",
            "_view_module": "@jupyter-widgets/base",
            "_model_module_version": "1.5.0",
            "_view_count": null,
            "_view_module_version": "1.2.0",
            "bar_color": null,
            "_model_module": "@jupyter-widgets/controls"
          }
        },
        "2f4a5f942d4d4c258e9ffbd564c830ea": {
          "model_module": "@jupyter-widgets/base",
          "model_name": "LayoutModel",
          "state": {
            "_view_name": "LayoutView",
            "grid_template_rows": null,
            "right": null,
            "justify_content": null,
            "_view_module": "@jupyter-widgets/base",
            "overflow": null,
            "_model_module_version": "1.2.0",
            "_view_count": null,
            "flex_flow": null,
            "width": null,
            "min_width": null,
            "border": null,
            "align_items": null,
            "bottom": null,
            "_model_module": "@jupyter-widgets/base",
            "top": null,
            "grid_column": null,
            "overflow_y": null,
            "overflow_x": null,
            "grid_auto_flow": null,
            "grid_area": null,
            "grid_template_columns": null,
            "flex": null,
            "_model_name": "LayoutModel",
            "justify_items": null,
            "grid_row": null,
            "max_height": null,
            "align_content": null,
            "visibility": null,
            "align_self": null,
            "height": null,
            "min_height": null,
            "padding": null,
            "grid_auto_rows": null,
            "grid_gap": null,
            "max_width": null,
            "order": null,
            "_view_module_version": "1.2.0",
            "grid_template_areas": null,
            "object_position": null,
            "object_fit": null,
            "grid_auto_columns": null,
            "margin": null,
            "display": null,
            "left": null
          }
        },
        "c176d45b64cd462bbdd4b0b15eefe223": {
          "model_module": "@jupyter-widgets/controls",
          "model_name": "IntProgressModel",
          "state": {
            "_view_name": "ProgressView",
            "style": "IPY_MODEL_ac0f7cf39087416b92003972290f61cd",
            "_dom_classes": [],
            "description": "Processing: ",
            "_model_name": "IntProgressModel",
            "bar_style": "",
            "max": 13,
            "_view_module": "@jupyter-widgets/controls",
            "_model_module_version": "1.5.0",
            "value": 3,
            "_view_count": null,
            "_view_module_version": "1.5.0",
            "orientation": "horizontal",
            "min": 0,
            "description_tooltip": null,
            "_model_module": "@jupyter-widgets/controls",
            "layout": "IPY_MODEL_fb33f8d7e28d47548661d73b91d3d694"
          }
        },
        "ac0f7cf39087416b92003972290f61cd": {
          "model_module": "@jupyter-widgets/controls",
          "model_name": "ProgressStyleModel",
          "state": {
            "_view_name": "StyleView",
            "_model_name": "ProgressStyleModel",
            "description_width": "",
            "_view_module": "@jupyter-widgets/base",
            "_model_module_version": "1.5.0",
            "_view_count": null,
            "_view_module_version": "1.2.0",
            "bar_color": null,
            "_model_module": "@jupyter-widgets/controls"
          }
        },
        "fb33f8d7e28d47548661d73b91d3d694": {
          "model_module": "@jupyter-widgets/base",
          "model_name": "LayoutModel",
          "state": {
            "_view_name": "LayoutView",
            "grid_template_rows": null,
            "right": null,
            "justify_content": null,
            "_view_module": "@jupyter-widgets/base",
            "overflow": null,
            "_model_module_version": "1.2.0",
            "_view_count": null,
            "flex_flow": null,
            "width": null,
            "min_width": null,
            "border": null,
            "align_items": null,
            "bottom": null,
            "_model_module": "@jupyter-widgets/base",
            "top": null,
            "grid_column": null,
            "overflow_y": null,
            "overflow_x": null,
            "grid_auto_flow": null,
            "grid_area": null,
            "grid_template_columns": null,
            "flex": null,
            "_model_name": "LayoutModel",
            "justify_items": null,
            "grid_row": null,
            "max_height": null,
            "align_content": null,
            "visibility": null,
            "align_self": null,
            "height": null,
            "min_height": null,
            "padding": null,
            "grid_auto_rows": null,
            "grid_gap": null,
            "max_width": null,
            "order": null,
            "_view_module_version": "1.2.0",
            "grid_template_areas": null,
            "object_position": null,
            "object_fit": null,
            "grid_auto_columns": null,
            "margin": null,
            "display": null,
            "left": null
          }
        },
        "cd6cac114e85417a91cd6fb36e2e3bcb": {
          "model_module": "@jupyter-widgets/controls",
          "model_name": "TextModel",
          "state": {
            "_view_name": "TextView",
            "style": "IPY_MODEL_1318a8bb05a64810a2db5f41166edbfa",
            "_dom_classes": [],
            "description": "",
            "_model_name": "TextModel",
            "placeholder": "​",
            "_view_module": "@jupyter-widgets/controls",
            "_model_module_version": "1.5.0",
            "value": "Following data types have been inferred automatically, if they are correct press enter to continue or type 'quit' otherwise.",
            "_view_count": null,
            "disabled": false,
            "_view_module_version": "1.5.0",
            "continuous_update": true,
            "description_tooltip": null,
            "_model_module": "@jupyter-widgets/controls",
            "layout": "IPY_MODEL_89eb4cded3604deeb36caf80e6ac090a"
          }
        },
        "1318a8bb05a64810a2db5f41166edbfa": {
          "model_module": "@jupyter-widgets/controls",
          "model_name": "DescriptionStyleModel",
          "state": {
            "_view_name": "StyleView",
            "_model_name": "DescriptionStyleModel",
            "description_width": "",
            "_view_module": "@jupyter-widgets/base",
            "_model_module_version": "1.5.0",
            "_view_count": null,
            "_view_module_version": "1.2.0",
            "_model_module": "@jupyter-widgets/controls"
          }
        },
        "89eb4cded3604deeb36caf80e6ac090a": {
          "model_module": "@jupyter-widgets/base",
          "model_name": "LayoutModel",
          "state": {
            "_view_name": "LayoutView",
            "grid_template_rows": null,
            "right": null,
            "justify_content": null,
            "_view_module": "@jupyter-widgets/base",
            "overflow": null,
            "_model_module_version": "1.2.0",
            "_view_count": null,
            "flex_flow": null,
            "width": "100%",
            "min_width": null,
            "border": null,
            "align_items": null,
            "bottom": null,
            "_model_module": "@jupyter-widgets/base",
            "top": null,
            "grid_column": null,
            "overflow_y": null,
            "overflow_x": null,
            "grid_auto_flow": null,
            "grid_area": null,
            "grid_template_columns": null,
            "flex": null,
            "_model_name": "LayoutModel",
            "justify_items": null,
            "grid_row": null,
            "max_height": null,
            "align_content": null,
            "visibility": null,
            "align_self": null,
            "height": null,
            "min_height": null,
            "padding": null,
            "grid_auto_rows": null,
            "grid_gap": null,
            "max_width": null,
            "order": null,
            "_view_module_version": "1.2.0",
            "grid_template_areas": null,
            "object_position": null,
            "object_fit": null,
            "grid_auto_columns": null,
            "margin": null,
            "display": null,
            "left": null
          }
        },
        "00826d1dc2e742debc5ec916aaeb27c7": {
          "model_module": "@jupyter-widgets/controls",
          "model_name": "IntProgressModel",
          "state": {
            "_view_name": "ProgressView",
            "style": "IPY_MODEL_fe9ed07752e7400a974ebad677be0cf8",
            "_dom_classes": [],
            "description": "Processing: ",
            "_model_name": "IntProgressModel",
            "bar_style": "",
            "max": 98,
            "_view_module": "@jupyter-widgets/controls",
            "_model_module_version": "1.5.0",
            "value": 95,
            "_view_count": null,
            "_view_module_version": "1.5.0",
            "orientation": "horizontal",
            "min": 0,
            "description_tooltip": null,
            "_model_module": "@jupyter-widgets/controls",
            "layout": "IPY_MODEL_9fb68aa2d988435ba745fa2e0a2d42f8"
          }
        },
        "fe9ed07752e7400a974ebad677be0cf8": {
          "model_module": "@jupyter-widgets/controls",
          "model_name": "ProgressStyleModel",
          "state": {
            "_view_name": "StyleView",
            "_model_name": "ProgressStyleModel",
            "description_width": "",
            "_view_module": "@jupyter-widgets/base",
            "_model_module_version": "1.5.0",
            "_view_count": null,
            "_view_module_version": "1.2.0",
            "bar_color": null,
            "_model_module": "@jupyter-widgets/controls"
          }
        },
        "9fb68aa2d988435ba745fa2e0a2d42f8": {
          "model_module": "@jupyter-widgets/base",
          "model_name": "LayoutModel",
          "state": {
            "_view_name": "LayoutView",
            "grid_template_rows": null,
            "right": null,
            "justify_content": null,
            "_view_module": "@jupyter-widgets/base",
            "overflow": null,
            "_model_module_version": "1.2.0",
            "_view_count": null,
            "flex_flow": null,
            "width": null,
            "min_width": null,
            "border": null,
            "align_items": null,
            "bottom": null,
            "_model_module": "@jupyter-widgets/base",
            "top": null,
            "grid_column": null,
            "overflow_y": null,
            "overflow_x": null,
            "grid_auto_flow": null,
            "grid_area": null,
            "grid_template_columns": null,
            "flex": null,
            "_model_name": "LayoutModel",
            "justify_items": null,
            "grid_row": null,
            "max_height": null,
            "align_content": null,
            "visibility": null,
            "align_self": null,
            "height": null,
            "min_height": null,
            "padding": null,
            "grid_auto_rows": null,
            "grid_gap": null,
            "max_width": null,
            "order": null,
            "_view_module_version": "1.2.0",
            "grid_template_areas": null,
            "object_position": null,
            "object_fit": null,
            "grid_auto_columns": null,
            "margin": null,
            "display": null,
            "left": null
          }
        }
      }
    }
  },
  "cells": [
    {
      "cell_type": "markdown",
      "metadata": {
        "id": "view-in-github",
        "colab_type": "text"
      },
      "source": [
        "<a href=\"https://colab.research.google.com/github/nicholasrichers/regressao-neuron/blob/master/pt2_Regressao_na_Pratica_Bootcamp.ipynb\" target=\"_parent\"><img src=\"https://colab.research.google.com/assets/colab-badge.svg\" alt=\"Open In Colab\"/></a>"
      ]
    },
    {
      "cell_type": "code",
      "metadata": {
        "id": "ov0JHUkw38zK",
        "colab_type": "code",
        "colab": {}
      },
      "source": [
        "%%capture\n",
        "!pip install mlxtend==0.17.3\n",
        "!pip install pycaret==2.0\n",
        "!pip install h2o"
      ],
      "execution_count": null,
      "outputs": []
    },
    {
      "cell_type": "markdown",
      "metadata": {
        "colab_type": "text",
        "id": "aAyyhBB09LEi"
      },
      "source": [
        "# Regressão na prática"
      ]
    },
    {
      "cell_type": "markdown",
      "metadata": {
        "colab_type": "text",
        "id": "rIz07lDV9LE7"
      },
      "source": [
        "O que iremos abordar:\n",
        "\n",
        "- Quando aplicar? \n",
        "- Diferencas entre técnicas de regressão e classificação\n",
        "- Introdução a técnicas de regressão\n",
        "- Como Avaliar modelos de regressão\n",
        "- Como selecionamos e comparamos os modelos na prática com auto-ml\n",
        "\n",
        "\n"
      ]
    },
    {
      "cell_type": "markdown",
      "metadata": {
        "colab_type": "text",
        "id": "AIAT7O0-9LE9"
      },
      "source": [
        "\n",
        "\n",
        "---\n",
        "\n",
        "\n",
        "\n",
        "---\n",
        "\n"
      ]
    },
    {
      "cell_type": "markdown",
      "metadata": {
        "colab_type": "text",
        "id": "qaM_FVwi9LE-"
      },
      "source": [
        "## Conjunto de dados"
      ]
    },
    {
      "cell_type": "markdown",
      "metadata": {
        "colab_type": "text",
        "id": "6cwEnFYT9LE_"
      },
      "source": [
        "Nesse treinamento vamos usar um dataset muito conhecido na literatura, chamado [boston housing](https://www.cs.toronto.edu/~delve/data/boston/bostonDetail.html), que usa **dados demograficos/socioeconômicos** da região para **prever a mediana dos preços das casas** em cada região da cidade.\n",
        "\n",
        "\n",
        "\n",
        "-CRIM — Taxa de **crime** per capita por cidade\n",
        "\n",
        "-ZN — **Proporção de lotes** residenciais num raio de 25,000 pés quadrados\n",
        "\n",
        "-INDUS — **Proporção de acres** para negócios que não são varejo por cidade\n",
        "\n",
        "-CHAS — **Proximidade com o rio** (1 se o lote está na margem  do rio, 0 se não)\n",
        "\n",
        "-NOX — **Concentração** de **óxidos** nítricos (partes por 10 milhões)\n",
        "\n",
        "-RM — Numero médio de **quartos** por residência\n",
        "\n",
        "-AGE — Proporção de **unidades construídas** antes de **1940**\n",
        "\n",
        "-DIS — **Distância** ponderada dos cinco grandes **centros** de trabalho\n",
        "\n",
        "-RAD — Índice de **acessibilidade** à estradas radiais\n",
        "\n",
        "-TAX — Razão de **imposto** sobre valor total da propriedade\n",
        "\n",
        "-PTRATIO — Razão de **alunos por professor** na cidade\n",
        "\n",
        "-LSTAT — % porcentagem de **status inferior** da população\n",
        "\n",
        "-MEDV — **Valor mediano das casas** ocupadas em milhares\n"
      ]
    },
    {
      "cell_type": "code",
      "metadata": {
        "colab_type": "code",
        "id": "OJOmajdL9LFA",
        "colab": {}
      },
      "source": [
        "#impotando a biblioteca pandas\n",
        "import pandas as pd"
      ],
      "execution_count": null,
      "outputs": []
    },
    {
      "cell_type": "code",
      "metadata": {
        "colab_type": "code",
        "id": "le_WZtGI9LFG",
        "colab": {
          "base_uri": "https://localhost:8080/",
          "height": 34
        },
        "outputId": "aa326e54-b79c-4116-be29-6dbfffe9a4a8"
      },
      "source": [
        "#url onde o dataset está armazenado\n",
        "url = \"https://raw.githubusercontent.com/selva86/datasets/master/BostonHousing.csv\"\n",
        "\n",
        "#importando o dataset para o pandas\n",
        "df = pd.read_csv(url)\n",
        "\n",
        "#dimensão do dataset\n",
        "print(\"O dataset possui {} linhas (registros) e {} colunas (features)\".format(df.shape[0], df.shape[1]))"
      ],
      "execution_count": null,
      "outputs": [
        {
          "output_type": "stream",
          "text": [
            "O dataset possui 506 linhas (registros) e 14 colunas (features)\n"
          ],
          "name": "stdout"
        }
      ]
    },
    {
      "cell_type": "markdown",
      "metadata": {
        "colab_type": "text",
        "id": "KdYkUcOm9LFP"
      },
      "source": [
        "> **Uma amostra do dataset**"
      ]
    },
    {
      "cell_type": "code",
      "metadata": {
        "colab_type": "code",
        "id": "yD7hq2mx9LFQ",
        "colab": {
          "base_uri": "https://localhost:8080/",
          "height": 359
        },
        "outputId": "a4a705f2-d318-42b4-bf87-237216469103"
      },
      "source": [
        "df.head(10) "
      ],
      "execution_count": null,
      "outputs": [
        {
          "output_type": "execute_result",
          "data": {
            "text/html": [
              "<div>\n",
              "<style scoped>\n",
              "    .dataframe tbody tr th:only-of-type {\n",
              "        vertical-align: middle;\n",
              "    }\n",
              "\n",
              "    .dataframe tbody tr th {\n",
              "        vertical-align: top;\n",
              "    }\n",
              "\n",
              "    .dataframe thead th {\n",
              "        text-align: right;\n",
              "    }\n",
              "</style>\n",
              "<table border=\"1\" class=\"dataframe\">\n",
              "  <thead>\n",
              "    <tr style=\"text-align: right;\">\n",
              "      <th></th>\n",
              "      <th>crim</th>\n",
              "      <th>zn</th>\n",
              "      <th>indus</th>\n",
              "      <th>chas</th>\n",
              "      <th>nox</th>\n",
              "      <th>rm</th>\n",
              "      <th>age</th>\n",
              "      <th>dis</th>\n",
              "      <th>rad</th>\n",
              "      <th>tax</th>\n",
              "      <th>ptratio</th>\n",
              "      <th>b</th>\n",
              "      <th>lstat</th>\n",
              "      <th>medv</th>\n",
              "    </tr>\n",
              "  </thead>\n",
              "  <tbody>\n",
              "    <tr>\n",
              "      <th>0</th>\n",
              "      <td>0.00632</td>\n",
              "      <td>18.0</td>\n",
              "      <td>2.31</td>\n",
              "      <td>0</td>\n",
              "      <td>0.538</td>\n",
              "      <td>6.575</td>\n",
              "      <td>65.2</td>\n",
              "      <td>4.0900</td>\n",
              "      <td>1</td>\n",
              "      <td>296</td>\n",
              "      <td>15.3</td>\n",
              "      <td>396.90</td>\n",
              "      <td>4.98</td>\n",
              "      <td>24.0</td>\n",
              "    </tr>\n",
              "    <tr>\n",
              "      <th>1</th>\n",
              "      <td>0.02731</td>\n",
              "      <td>0.0</td>\n",
              "      <td>7.07</td>\n",
              "      <td>0</td>\n",
              "      <td>0.469</td>\n",
              "      <td>6.421</td>\n",
              "      <td>78.9</td>\n",
              "      <td>4.9671</td>\n",
              "      <td>2</td>\n",
              "      <td>242</td>\n",
              "      <td>17.8</td>\n",
              "      <td>396.90</td>\n",
              "      <td>9.14</td>\n",
              "      <td>21.6</td>\n",
              "    </tr>\n",
              "    <tr>\n",
              "      <th>2</th>\n",
              "      <td>0.02729</td>\n",
              "      <td>0.0</td>\n",
              "      <td>7.07</td>\n",
              "      <td>0</td>\n",
              "      <td>0.469</td>\n",
              "      <td>7.185</td>\n",
              "      <td>61.1</td>\n",
              "      <td>4.9671</td>\n",
              "      <td>2</td>\n",
              "      <td>242</td>\n",
              "      <td>17.8</td>\n",
              "      <td>392.83</td>\n",
              "      <td>4.03</td>\n",
              "      <td>34.7</td>\n",
              "    </tr>\n",
              "    <tr>\n",
              "      <th>3</th>\n",
              "      <td>0.03237</td>\n",
              "      <td>0.0</td>\n",
              "      <td>2.18</td>\n",
              "      <td>0</td>\n",
              "      <td>0.458</td>\n",
              "      <td>6.998</td>\n",
              "      <td>45.8</td>\n",
              "      <td>6.0622</td>\n",
              "      <td>3</td>\n",
              "      <td>222</td>\n",
              "      <td>18.7</td>\n",
              "      <td>394.63</td>\n",
              "      <td>2.94</td>\n",
              "      <td>33.4</td>\n",
              "    </tr>\n",
              "    <tr>\n",
              "      <th>4</th>\n",
              "      <td>0.06905</td>\n",
              "      <td>0.0</td>\n",
              "      <td>2.18</td>\n",
              "      <td>0</td>\n",
              "      <td>0.458</td>\n",
              "      <td>7.147</td>\n",
              "      <td>54.2</td>\n",
              "      <td>6.0622</td>\n",
              "      <td>3</td>\n",
              "      <td>222</td>\n",
              "      <td>18.7</td>\n",
              "      <td>396.90</td>\n",
              "      <td>5.33</td>\n",
              "      <td>36.2</td>\n",
              "    </tr>\n",
              "    <tr>\n",
              "      <th>5</th>\n",
              "      <td>0.02985</td>\n",
              "      <td>0.0</td>\n",
              "      <td>2.18</td>\n",
              "      <td>0</td>\n",
              "      <td>0.458</td>\n",
              "      <td>6.430</td>\n",
              "      <td>58.7</td>\n",
              "      <td>6.0622</td>\n",
              "      <td>3</td>\n",
              "      <td>222</td>\n",
              "      <td>18.7</td>\n",
              "      <td>394.12</td>\n",
              "      <td>5.21</td>\n",
              "      <td>28.7</td>\n",
              "    </tr>\n",
              "    <tr>\n",
              "      <th>6</th>\n",
              "      <td>0.08829</td>\n",
              "      <td>12.5</td>\n",
              "      <td>7.87</td>\n",
              "      <td>0</td>\n",
              "      <td>0.524</td>\n",
              "      <td>6.012</td>\n",
              "      <td>66.6</td>\n",
              "      <td>5.5605</td>\n",
              "      <td>5</td>\n",
              "      <td>311</td>\n",
              "      <td>15.2</td>\n",
              "      <td>395.60</td>\n",
              "      <td>12.43</td>\n",
              "      <td>22.9</td>\n",
              "    </tr>\n",
              "    <tr>\n",
              "      <th>7</th>\n",
              "      <td>0.14455</td>\n",
              "      <td>12.5</td>\n",
              "      <td>7.87</td>\n",
              "      <td>0</td>\n",
              "      <td>0.524</td>\n",
              "      <td>6.172</td>\n",
              "      <td>96.1</td>\n",
              "      <td>5.9505</td>\n",
              "      <td>5</td>\n",
              "      <td>311</td>\n",
              "      <td>15.2</td>\n",
              "      <td>396.90</td>\n",
              "      <td>19.15</td>\n",
              "      <td>27.1</td>\n",
              "    </tr>\n",
              "    <tr>\n",
              "      <th>8</th>\n",
              "      <td>0.21124</td>\n",
              "      <td>12.5</td>\n",
              "      <td>7.87</td>\n",
              "      <td>0</td>\n",
              "      <td>0.524</td>\n",
              "      <td>5.631</td>\n",
              "      <td>100.0</td>\n",
              "      <td>6.0821</td>\n",
              "      <td>5</td>\n",
              "      <td>311</td>\n",
              "      <td>15.2</td>\n",
              "      <td>386.63</td>\n",
              "      <td>29.93</td>\n",
              "      <td>16.5</td>\n",
              "    </tr>\n",
              "    <tr>\n",
              "      <th>9</th>\n",
              "      <td>0.17004</td>\n",
              "      <td>12.5</td>\n",
              "      <td>7.87</td>\n",
              "      <td>0</td>\n",
              "      <td>0.524</td>\n",
              "      <td>6.004</td>\n",
              "      <td>85.9</td>\n",
              "      <td>6.5921</td>\n",
              "      <td>5</td>\n",
              "      <td>311</td>\n",
              "      <td>15.2</td>\n",
              "      <td>386.71</td>\n",
              "      <td>17.10</td>\n",
              "      <td>18.9</td>\n",
              "    </tr>\n",
              "  </tbody>\n",
              "</table>\n",
              "</div>"
            ],
            "text/plain": [
              "      crim    zn  indus  chas    nox  ...  tax  ptratio       b  lstat  medv\n",
              "0  0.00632  18.0   2.31     0  0.538  ...  296     15.3  396.90   4.98  24.0\n",
              "1  0.02731   0.0   7.07     0  0.469  ...  242     17.8  396.90   9.14  21.6\n",
              "2  0.02729   0.0   7.07     0  0.469  ...  242     17.8  392.83   4.03  34.7\n",
              "3  0.03237   0.0   2.18     0  0.458  ...  222     18.7  394.63   2.94  33.4\n",
              "4  0.06905   0.0   2.18     0  0.458  ...  222     18.7  396.90   5.33  36.2\n",
              "5  0.02985   0.0   2.18     0  0.458  ...  222     18.7  394.12   5.21  28.7\n",
              "6  0.08829  12.5   7.87     0  0.524  ...  311     15.2  395.60  12.43  22.9\n",
              "7  0.14455  12.5   7.87     0  0.524  ...  311     15.2  396.90  19.15  27.1\n",
              "8  0.21124  12.5   7.87     0  0.524  ...  311     15.2  386.63  29.93  16.5\n",
              "9  0.17004  12.5   7.87     0  0.524  ...  311     15.2  386.71  17.10  18.9\n",
              "\n",
              "[10 rows x 14 columns]"
            ]
          },
          "metadata": {
            "tags": []
          },
          "execution_count": 3
        }
      ]
    },
    {
      "cell_type": "markdown",
      "metadata": {
        "colab_type": "text",
        "id": "Z1yp0suB9LFT"
      },
      "source": [
        "> **Estatistica descritiva dos atributos**"
      ]
    },
    {
      "cell_type": "code",
      "metadata": {
        "colab_type": "code",
        "id": "Uag8HoBe9LFT",
        "colab": {
          "base_uri": "https://localhost:8080/",
          "height": 317
        },
        "outputId": "f67bedc6-91b5-4c17-87f0-fbdf3ab547c3"
      },
      "source": [
        " df.describe()"
      ],
      "execution_count": null,
      "outputs": [
        {
          "output_type": "execute_result",
          "data": {
            "text/html": [
              "<div>\n",
              "<style scoped>\n",
              "    .dataframe tbody tr th:only-of-type {\n",
              "        vertical-align: middle;\n",
              "    }\n",
              "\n",
              "    .dataframe tbody tr th {\n",
              "        vertical-align: top;\n",
              "    }\n",
              "\n",
              "    .dataframe thead th {\n",
              "        text-align: right;\n",
              "    }\n",
              "</style>\n",
              "<table border=\"1\" class=\"dataframe\">\n",
              "  <thead>\n",
              "    <tr style=\"text-align: right;\">\n",
              "      <th></th>\n",
              "      <th>crim</th>\n",
              "      <th>zn</th>\n",
              "      <th>indus</th>\n",
              "      <th>chas</th>\n",
              "      <th>nox</th>\n",
              "      <th>rm</th>\n",
              "      <th>age</th>\n",
              "      <th>dis</th>\n",
              "      <th>rad</th>\n",
              "      <th>tax</th>\n",
              "      <th>ptratio</th>\n",
              "      <th>b</th>\n",
              "      <th>lstat</th>\n",
              "      <th>medv</th>\n",
              "    </tr>\n",
              "  </thead>\n",
              "  <tbody>\n",
              "    <tr>\n",
              "      <th>count</th>\n",
              "      <td>506.000000</td>\n",
              "      <td>506.000000</td>\n",
              "      <td>506.000000</td>\n",
              "      <td>506.000000</td>\n",
              "      <td>506.000000</td>\n",
              "      <td>506.000000</td>\n",
              "      <td>506.000000</td>\n",
              "      <td>506.000000</td>\n",
              "      <td>506.000000</td>\n",
              "      <td>506.000000</td>\n",
              "      <td>506.000000</td>\n",
              "      <td>506.000000</td>\n",
              "      <td>506.000000</td>\n",
              "      <td>506.000000</td>\n",
              "    </tr>\n",
              "    <tr>\n",
              "      <th>mean</th>\n",
              "      <td>3.613524</td>\n",
              "      <td>11.363636</td>\n",
              "      <td>11.136779</td>\n",
              "      <td>0.069170</td>\n",
              "      <td>0.554695</td>\n",
              "      <td>6.284634</td>\n",
              "      <td>68.574901</td>\n",
              "      <td>3.795043</td>\n",
              "      <td>9.549407</td>\n",
              "      <td>408.237154</td>\n",
              "      <td>18.455534</td>\n",
              "      <td>356.674032</td>\n",
              "      <td>12.653063</td>\n",
              "      <td>22.532806</td>\n",
              "    </tr>\n",
              "    <tr>\n",
              "      <th>std</th>\n",
              "      <td>8.601545</td>\n",
              "      <td>23.322453</td>\n",
              "      <td>6.860353</td>\n",
              "      <td>0.253994</td>\n",
              "      <td>0.115878</td>\n",
              "      <td>0.702617</td>\n",
              "      <td>28.148861</td>\n",
              "      <td>2.105710</td>\n",
              "      <td>8.707259</td>\n",
              "      <td>168.537116</td>\n",
              "      <td>2.164946</td>\n",
              "      <td>91.294864</td>\n",
              "      <td>7.141062</td>\n",
              "      <td>9.197104</td>\n",
              "    </tr>\n",
              "    <tr>\n",
              "      <th>min</th>\n",
              "      <td>0.006320</td>\n",
              "      <td>0.000000</td>\n",
              "      <td>0.460000</td>\n",
              "      <td>0.000000</td>\n",
              "      <td>0.385000</td>\n",
              "      <td>3.561000</td>\n",
              "      <td>2.900000</td>\n",
              "      <td>1.129600</td>\n",
              "      <td>1.000000</td>\n",
              "      <td>187.000000</td>\n",
              "      <td>12.600000</td>\n",
              "      <td>0.320000</td>\n",
              "      <td>1.730000</td>\n",
              "      <td>5.000000</td>\n",
              "    </tr>\n",
              "    <tr>\n",
              "      <th>25%</th>\n",
              "      <td>0.082045</td>\n",
              "      <td>0.000000</td>\n",
              "      <td>5.190000</td>\n",
              "      <td>0.000000</td>\n",
              "      <td>0.449000</td>\n",
              "      <td>5.885500</td>\n",
              "      <td>45.025000</td>\n",
              "      <td>2.100175</td>\n",
              "      <td>4.000000</td>\n",
              "      <td>279.000000</td>\n",
              "      <td>17.400000</td>\n",
              "      <td>375.377500</td>\n",
              "      <td>6.950000</td>\n",
              "      <td>17.025000</td>\n",
              "    </tr>\n",
              "    <tr>\n",
              "      <th>50%</th>\n",
              "      <td>0.256510</td>\n",
              "      <td>0.000000</td>\n",
              "      <td>9.690000</td>\n",
              "      <td>0.000000</td>\n",
              "      <td>0.538000</td>\n",
              "      <td>6.208500</td>\n",
              "      <td>77.500000</td>\n",
              "      <td>3.207450</td>\n",
              "      <td>5.000000</td>\n",
              "      <td>330.000000</td>\n",
              "      <td>19.050000</td>\n",
              "      <td>391.440000</td>\n",
              "      <td>11.360000</td>\n",
              "      <td>21.200000</td>\n",
              "    </tr>\n",
              "    <tr>\n",
              "      <th>75%</th>\n",
              "      <td>3.677082</td>\n",
              "      <td>12.500000</td>\n",
              "      <td>18.100000</td>\n",
              "      <td>0.000000</td>\n",
              "      <td>0.624000</td>\n",
              "      <td>6.623500</td>\n",
              "      <td>94.075000</td>\n",
              "      <td>5.188425</td>\n",
              "      <td>24.000000</td>\n",
              "      <td>666.000000</td>\n",
              "      <td>20.200000</td>\n",
              "      <td>396.225000</td>\n",
              "      <td>16.955000</td>\n",
              "      <td>25.000000</td>\n",
              "    </tr>\n",
              "    <tr>\n",
              "      <th>max</th>\n",
              "      <td>88.976200</td>\n",
              "      <td>100.000000</td>\n",
              "      <td>27.740000</td>\n",
              "      <td>1.000000</td>\n",
              "      <td>0.871000</td>\n",
              "      <td>8.780000</td>\n",
              "      <td>100.000000</td>\n",
              "      <td>12.126500</td>\n",
              "      <td>24.000000</td>\n",
              "      <td>711.000000</td>\n",
              "      <td>22.000000</td>\n",
              "      <td>396.900000</td>\n",
              "      <td>37.970000</td>\n",
              "      <td>50.000000</td>\n",
              "    </tr>\n",
              "  </tbody>\n",
              "</table>\n",
              "</div>"
            ],
            "text/plain": [
              "             crim          zn       indus  ...           b       lstat        medv\n",
              "count  506.000000  506.000000  506.000000  ...  506.000000  506.000000  506.000000\n",
              "mean     3.613524   11.363636   11.136779  ...  356.674032   12.653063   22.532806\n",
              "std      8.601545   23.322453    6.860353  ...   91.294864    7.141062    9.197104\n",
              "min      0.006320    0.000000    0.460000  ...    0.320000    1.730000    5.000000\n",
              "25%      0.082045    0.000000    5.190000  ...  375.377500    6.950000   17.025000\n",
              "50%      0.256510    0.000000    9.690000  ...  391.440000   11.360000   21.200000\n",
              "75%      3.677082   12.500000   18.100000  ...  396.225000   16.955000   25.000000\n",
              "max     88.976200  100.000000   27.740000  ...  396.900000   37.970000   50.000000\n",
              "\n",
              "[8 rows x 14 columns]"
            ]
          },
          "metadata": {
            "tags": []
          },
          "execution_count": 4
        }
      ]
    },
    {
      "cell_type": "markdown",
      "metadata": {
        "colab_type": "text",
        "id": "Pqm_JmhK9LFe"
      },
      "source": [
        "\n",
        "\n",
        "---\n",
        "\n",
        "\n",
        "\n",
        "---\n",
        "\n"
      ]
    },
    {
      "cell_type": "markdown",
      "metadata": {
        "colab_type": "text",
        "id": "7lqQ8uLz9LFf"
      },
      "source": [
        "## Analisando o conjunto de dados"
      ]
    },
    {
      "cell_type": "code",
      "metadata": {
        "colab_type": "code",
        "id": "21Uc8_X49LFf",
        "colab": {
          "base_uri": "https://localhost:8080/",
          "height": 71
        },
        "outputId": "4aa599a8-3f8d-4334-cfe6-2e49a836ad4d"
      },
      "source": [
        "#Importando Bibliotecas \n",
        "import seaborn as sns\n",
        "import matplotlib.pyplot as plt\n",
        "import numpy as np"
      ],
      "execution_count": null,
      "outputs": [
        {
          "output_type": "stream",
          "text": [
            "/usr/local/lib/python3.6/dist-packages/statsmodels/tools/_testing.py:19: FutureWarning: pandas.util.testing is deprecated. Use the functions in the public API at pandas.testing instead.\n",
            "  import pandas.util.testing as tm\n"
          ],
          "name": "stderr"
        }
      ]
    },
    {
      "cell_type": "code",
      "metadata": {
        "colab_type": "code",
        "id": "4xA4eQ5y9LFj",
        "colab": {
          "base_uri": "https://localhost:8080/",
          "height": 615
        },
        "outputId": "ea09252c-360e-4a9c-98d6-47b8baabe467"
      },
      "source": [
        "# Aqui estamos calculando a matriz de correlação\n",
        "corr=df.corr(method='pearson') # É possivel definir o método \n",
        "\n",
        "# Desenvolvendo o gráfico de correlação \n",
        "np.triu ( np.ones ( corr.shape , dtype  =  bool ))\n",
        "mask  =  np.triu ( np.ones ( corr.shape , dtype  =  bool ))\n",
        "fig = plt.gcf() \n",
        "figsize = fig.get_size_inches()\n",
        "fig.set_size_inches(figsize * 2.5)\n",
        "sns.set(font_scale=1)\n",
        "sns.heatmap(corr, annot=True, mask  =  mask , annot_kws={\"size\": 10} ,cmap=\"viridis\",linewidths=5, vmin=-1, vmax=1)"
      ],
      "execution_count": null,
      "outputs": [
        {
          "output_type": "execute_result",
          "data": {
            "text/plain": [
              "<matplotlib.axes._subplots.AxesSubplot at 0x7f4247d59f28>"
            ]
          },
          "metadata": {
            "tags": []
          },
          "execution_count": 6
        },
        {
          "output_type": "display_data",
          "data": {
            "image/png": "[encoded data removed]",
            "text/plain": [
              "<Figure size 1080x720 with 2 Axes>"
            ]
          },
          "metadata": {
            "tags": [],
            "needs_background": "light"
          }
        }
      ]
    },
    {
      "cell_type": "markdown",
      "metadata": {
        "colab_type": "text",
        "id": "Vsgk7p8K9LFl"
      },
      "source": [
        "\n",
        "\n",
        "---\n",
        "\n",
        "\n",
        "\n",
        "---\n",
        "\n"
      ]
    },
    {
      "cell_type": "markdown",
      "metadata": {
        "colab_type": "text",
        "id": "o3tN-V1G9LFm"
      },
      "source": [
        "# Dividindo o conjunto de dados "
      ]
    },
    {
      "cell_type": "markdown",
      "metadata": {
        "colab_type": "text",
        "id": "MrJvK6MV9LFn"
      },
      "source": [
        "\n",
        "> **Train/Test Split** \n",
        "\n",
        "Após a peparação e compreensão do conjunto de dados, entramos na primeira parte da análise propiamente dita, onde é realizada a divisão do conjunto de dados em treino e teste.\n",
        "\n",
        "A etapa de **treino** consiste na **apresentação dos padrões** dos dados ao algoritmo, é nesta etapa que este vai tentar aprender. A proxima etapa é a de **teste**, esta objetiva **avaliar** se realmente o algoritmo **aprendeu** os padrões e com isso é possivel identificar a presença de overfitting ou underfitting."
      ]
    },
    {
      "cell_type": "code",
      "metadata": {
        "colab_type": "code",
        "id": "MnuNaCzD9LFn",
        "colab": {}
      },
      "source": [
        "# Vetor de resposta\n",
        "Y = df['medv']\n",
        "\n",
        "# Vetor característica\n",
        "X = df['rm']"
      ],
      "execution_count": null,
      "outputs": []
    },
    {
      "cell_type": "markdown",
      "metadata": {
        "colab_type": "text",
        "id": "v1Nscyvp9LFq"
      },
      "source": [
        "Aqui ocorreu a divisão do conjunto de dados, onde **70%** dos dados foram destinados ao **treino** e **30% ao teste**."
      ]
    },
    {
      "cell_type": "code",
      "metadata": {
        "colab_type": "code",
        "id": "459Rd8xi9LFr",
        "colab": {}
      },
      "source": [
        "from sklearn.model_selection import train_test_split\n",
        "\n",
        "# Dividindo o banco de dados em treino e teste\n",
        "treino_Y, teste_Y, treino_X, teste_X = train_test_split(Y, X, test_size = 0.30)"
      ],
      "execution_count": null,
      "outputs": []
    },
    {
      "cell_type": "code",
      "metadata": {
        "colab_type": "code",
        "id": "4WA7nk3j9LFu",
        "colab": {
          "base_uri": "https://localhost:8080/",
          "height": 85
        },
        "outputId": "e2c025fe-ea45-455c-af01-1a099de01761"
      },
      "source": [
        "#Aqui verificamos os tamanhos dos bancos de dados de treino e teste\n",
        "print('Tamanho do banco de dados de treino de Y:', treino_Y.shape)\n",
        "print('Tamanho do banco de dados de teste de Y:', teste_Y.shape)\n",
        "print('Tamanho do banco de dados de treino de X:', treino_X.shape)\n",
        "print('Tamanho do banco de dados de teste de X:', teste_X.shape)"
      ],
      "execution_count": null,
      "outputs": [
        {
          "output_type": "stream",
          "text": [
            "Tamanho do banco de dados de treino de Y: (354,)\n",
            "Tamanho do banco de dados de teste de Y: (152,)\n",
            "Tamanho do banco de dados de treino de X: (354,)\n",
            "Tamanho do banco de dados de teste de X: (152,)\n"
          ],
          "name": "stdout"
        }
      ]
    },
    {
      "cell_type": "markdown",
      "metadata": {
        "colab_type": "text",
        "id": "NBGXR2dd9LF8"
      },
      "source": [
        "\n",
        "\n",
        "---\n",
        "\n",
        "\n",
        "\n",
        "---\n",
        "\n"
      ]
    },
    {
      "cell_type": "markdown",
      "metadata": {
        "colab_type": "text",
        "id": "qoIo92-Y9LF9"
      },
      "source": [
        "# Tipos de regressão"
      ]
    },
    {
      "cell_type": "markdown",
      "metadata": {
        "colab_type": "text",
        "id": "rUDMDsDY9LF9"
      },
      "source": [
        "### Linear simples\n",
        "A **regressão linear simples** é uma abordagem para prever uma resposta usando uma única feature. Entende-se que as duas variáveis ​​estão **linearmente relacionadas**. Com base nisso, tentamos encontrar uma **função linear** para prever o valor do alvo (Y) com a maior precisão possível a partir de uma função com a variável independente (X)."
      ]
    },
    {
      "cell_type": "markdown",
      "metadata": {
        "colab_type": "text",
        "id": "JZtvixK-9LF-"
      },
      "source": [
        "> **Regressão linear na mão** (*from scratch*)\n"
      ]
    },
    {
      "cell_type": "code",
      "metadata": {
        "colab_type": "code",
        "id": "-_IOt8TW9LF_",
        "colab": {
          "base_uri": "https://localhost:8080/",
          "height": 336
        },
        "outputId": "d85ce18a-8581-4d84-870d-bdaa407333b1"
      },
      "source": [
        "#Adaptado de https://www.geeksforgeeks.org/linear-regression-python-implementation/\n",
        "\n",
        "def estimate_coef(x, y): \n",
        "  # número de observações\n",
        "   n = np.size(x) \n",
        "  # calculando a média dos vetores x e y\n",
        "   m_x, m_y = np.mean(x), np.mean(y)\n",
        "  # calculando a soma dos produtos cruzados dos desvios e o devio sobre X\n",
        "   SS_xy = np.sum(y*x) - n*m_y*m_x \n",
        "   SS_xx = np.sum(x*x) - n*m_x*m_x\n",
        "  \n",
        "  # obtendo os coeficientes da regressão \n",
        "   b_1 = SS_xy / SS_xx \n",
        "   b_0 = m_y - b_1*m_x \n",
        "   \n",
        "   return(b_0, b_1)\n",
        "\n",
        "def plot_regression_line(x, y, b): \n",
        "    # Plotando o gráfico  \n",
        "    plt.scatter(x, y, color = \"m\", marker = \"o\", s = 30)\n",
        "    y_pred = b[0] + b[1]*x\n",
        "\n",
        "    plt.plot(x, y_pred, color = \"g\")\n",
        "    plt.xlabel('x') \n",
        "    plt.ylabel('y') \n",
        "    plt.show()\n",
        "\n",
        "def main(): \n",
        "    # Chamando dados  \n",
        "    x = np.array(treino_X) \n",
        "    y = np.array(treino_Y) \n",
        "  \n",
        "    # Imprimindo coeficientes \n",
        "    b = estimate_coef(x, y) \n",
        "    print(\"Estimando Coeficientes :\\nb_0 = {}  \\ \\nb_1 = {}\".format(b[0], b[1]))\n",
        "\n",
        "   #Plotando predições geradas \n",
        "    plot_regression_line(x, y, b) \n",
        "\n",
        "if __name__ == \"__main__\": \n",
        "    main() "
      ],
      "execution_count": null,
      "outputs": [
        {
          "output_type": "stream",
          "text": [
            "Estimando Coeficientes :\n",
            "b_0 = -37.89294156515344  \\ \n",
            "b_1 = 9.615220430184214\n"
          ],
          "name": "stdout"
        },
        {
          "output_type": "display_data",
          "data": {
            "image/png": "[encoded data removed]",
            "text/plain": [
              "<Figure size 432x288 with 1 Axes>"
            ]
          },
          "metadata": {
            "tags": []
          }
        }
      ]
    },
    {
      "cell_type": "markdown",
      "metadata": {
        "colab_type": "text",
        "id": "FO5tmfbi9LGB"
      },
      "source": [
        "\n",
        "\n",
        "---\n",
        "\n",
        "\n",
        "\n",
        "---\n",
        "\n"
      ]
    },
    {
      "cell_type": "markdown",
      "metadata": {
        "colab_type": "text",
        "id": "-joG1ZOY9LGC"
      },
      "source": [
        "> **Usando** [sklearn](https://scikit-learn.org/stable/modules/generated/sklearn.linear_model.LinearRegression.html)"
      ]
    },
    {
      "cell_type": "code",
      "metadata": {
        "colab_type": "code",
        "id": "JtF_FXGn9LGC",
        "colab": {
          "base_uri": "https://localhost:8080/",
          "height": 119
        },
        "outputId": "1b9a3986-5f59-4ef3-fe3e-ce9b2ecd67f6"
      },
      "source": [
        "#Adaptado de https://scikit-learn.org/stable/\n",
        "\n",
        "#Chamando pacotes \n",
        "from sklearn.linear_model import LinearRegression\n",
        "from sklearn.metrics import mean_squared_error, r2_score\n",
        "\n",
        "#Transformando Dataframes em array\n",
        "treino_X = np.array(treino_X)\n",
        "treino_Y = np.array(treino_Y)\n",
        "teste_X = np.array(teste_X)\n",
        "teste_Y = np.array(teste_Y)\n",
        "\n",
        "regr_simples = LinearRegression()\n",
        "\n",
        "#ajustando o modelo\n",
        "regr_simples.fit(treino_X.reshape(-1, 1), treino_Y.reshape(-1, 1)) #O reshape só é necessário em array 1-D\n",
        "\n",
        "#criando as predicoes\n",
        "preds_regr_simples = regr_simples.predict(teste_X.reshape(-1, 1))\n",
        "\n",
        "#imprimindo os coeficientes\n",
        "print(\"Intercept: \\n\", regr_simples.intercept_)\n",
        "print('Coefficients: \\n', regr_simples.coef_)\n",
        "\n",
        "#imprimindo as métricas\n",
        "print('RMSE: %.2f'% mean_squared_error(teste_Y, preds_regr_simples))\n",
        "print('R2: %.2f'% r2_score(teste_Y, preds_regr_simples))"
      ],
      "execution_count": null,
      "outputs": [
        {
          "output_type": "stream",
          "text": [
            "Intercept: \n",
            " [-37.89294157]\n",
            "Coefficients: \n",
            " [[9.61522043]]\n",
            "RMSE: 43.91\n",
            "R2: 0.37\n"
          ],
          "name": "stdout"
        }
      ]
    },
    {
      "cell_type": "markdown",
      "metadata": {
        "colab_type": "text",
        "id": "wO4HGirN9LGH"
      },
      "source": [
        "> **Plotando o nosso modelo**\n",
        "\n",
        "\n",
        "Caso queira aprender mais sobre matplotlib, temos um [treinamento](https://github.com/nicholasrichers/dataviz-neuron/blob/master/Treinamento_Dataviz.ipynb) específico para essa biblioteca"
      ]
    },
    {
      "cell_type": "code",
      "metadata": {
        "colab_type": "code",
        "id": "xuyTPUw09LGI",
        "colab": {
          "base_uri": "https://localhost:8080/",
          "height": 268
        },
        "outputId": "d36c1690-c6a3-4507-f63c-dc0ae115ebec"
      },
      "source": [
        "import matplotlib.pyplot as plt\n",
        "plt.style.use('ggplot')\n",
        "\n",
        "# Plotando Predições do modelo regr_simples \n",
        "plt.plot(teste_X, preds_regr_simples, color=\"blue\")\n",
        "\n",
        "#Amotras de teste (vermelho)\n",
        "plt.plot(teste_X, teste_Y, 'ro')\n",
        "\n",
        "\n",
        "plt.show()"
      ],
      "execution_count": null,
      "outputs": [
        {
          "output_type": "display_data",
          "data": {
            "image/png": "[encoded data removed]",
            "text/plain": [
              "<Figure size 432x288 with 1 Axes>"
            ]
          },
          "metadata": {
            "tags": []
          }
        }
      ]
    },
    {
      "cell_type": "markdown",
      "metadata": {
        "colab_type": "text",
        "id": "pXuoUuG89LGM"
      },
      "source": [
        "\n",
        "\n",
        "---\n",
        "\n",
        "\n",
        "\n",
        "---\n",
        "\n"
      ]
    },
    {
      "cell_type": "markdown",
      "metadata": {
        "colab_type": "text",
        "id": "W8jZdC9S9LGM"
      },
      "source": [
        "### Regressão Múltipla"
      ]
    },
    {
      "cell_type": "markdown",
      "metadata": {
        "colab_type": "text",
        "id": "I6emkprR9LGN"
      },
      "source": [
        "A regressão múltipla  envolve **duas ou mais variáveis** independentes, tal caracteristica representa a principal diferença entre este modelo e a regressão simples. A adição destas variáveis independentes tende a  **melhorar** a capacidade de **predição** em relação a regressão linear simples. Existem algumas maneiras diferentes para **estimarmos os coeficientes** e falaremos de duas delas.\n"
      ]
    },
    {
      "cell_type": "code",
      "metadata": {
        "colab_type": "code",
        "id": "PNpSmhzY9LGN",
        "colab": {}
      },
      "source": [
        "#Usaremos o mesmo target\n",
        "Y = df['medv']\n",
        "\n",
        "#Nossa matriz de features usará todas as colunas do dataframe exceto o target\n",
        "X = df.iloc[:, :-1]\n",
        "\n",
        "#refazendo o split\n",
        "y_train, y_test, X_train, X_test = train_test_split(Y, X, test_size = 0.30)"
      ],
      "execution_count": null,
      "outputs": []
    },
    {
      "cell_type": "markdown",
      "metadata": {
        "id": "6jCV8kw-s_xO",
        "colab_type": "text"
      },
      "source": [
        "\n",
        "\n",
        "---\n",
        "\n",
        "\n",
        "\n",
        "---\n",
        "\n"
      ]
    },
    {
      "cell_type": "markdown",
      "metadata": {
        "colab_type": "text",
        "id": "LvOz1Wk69LGT"
      },
      "source": [
        "> **Método dos Mínimos Quadrados (Ordinary Least Squares - OLS)**\n",
        "\n",
        "\n",
        "Descrição:\n",
        "\n",
        "Esse procedimento busca minimizar a soma do quadrados dos resíduios e dessa forma estimar uma solução única para o vetor de parâmetros ($b$). Partindo do nosso problema original temos que:\n",
        "\n",
        ">$y=X.b$ (1)\n",
        "\n",
        "Onde $X$ é a nossa matriz de features, $y$ é o preço estimado das casas e $b$, o vetor de coefientes que precisamos estimar. Extendendo a eq. (1), temos que:\n",
        "\n",
        "> $X^{T} . y = X^{T}. X.b $ (2)\n",
        "\n",
        "Onde bastou multiplicartmos ambos os lados por $X^{T}$. Em seguida desenvolvendo a eq. (2) algebricamente e isolando $b$, temos:\n",
        "\n",
        "\n",
        "> $b = (X^{T} . X)^{-1} . X^{T} . y$ (3)\n",
        "\n",
        "\n",
        "Note que $(X^{T} . X)^{-1} . X^{T}$, é conhecida como a [pseudo-inversa](https://en.wikipedia.org/wiki/Moore%E2%80%93Penrose_inverse) de $X$."
      ]
    },
    {
      "cell_type": "markdown",
      "metadata": {
        "colab_type": "text",
        "id": "YoEnyioF9LGT"
      },
      "source": [
        "Finalmente, usaremos a eq. (3) para estimar nosso vetor $b$, onde:\n",
        "\n",
        "\n",
        "```\n",
        "np.linalg.inv(X_train.T.dot(X_train))\n",
        "```\n",
        "Representa $(X^{T} . X)^{-1} $\n"
      ]
    },
    {
      "cell_type": "code",
      "metadata": {
        "colab_type": "code",
        "id": "0dRLQLC-9LGU",
        "colab": {
          "base_uri": "https://localhost:8080/",
          "height": 68
        },
        "outputId": "7e78214f-f5eb-48e2-af84-c184946568fa"
      },
      "source": [
        "#Determinando b pelo método OLS, manualmente\n",
        "b = np.linalg.inv(X_train.T.dot(X_train)).dot(X_train.T).dot(y_train) #(eq.3)\n",
        "\n",
        "#Coeficientes\n",
        "print(\"Coeficientes: {}\".format(b))\n",
        "\n",
        "#Gerando as predições\n",
        "preds_ols = X_test.dot(b)"
      ],
      "execution_count": null,
      "outputs": [
        {
          "output_type": "stream",
          "text": [
            "Coeficientes: [-0.08821407  0.05430498 -0.04401428  3.21394923 -2.36014911  5.90315602\n",
            " -0.02464067 -1.08745226  0.19798675 -0.00978362 -0.40771348  0.01758672\n",
            " -0.33475139]\n"
          ],
          "name": "stdout"
        }
      ]
    },
    {
      "cell_type": "markdown",
      "metadata": {
        "colab_type": "text",
        "id": "SDa_u6V-9LGX"
      },
      "source": [
        "\n",
        "\n",
        "---\n",
        "\n",
        "\n",
        "\n",
        "---\n",
        "\n"
      ]
    },
    {
      "cell_type": "markdown",
      "metadata": {
        "colab_type": "text",
        "id": "AY8HaJJb9LGY"
      },
      "source": [
        "> **Usando skelarn**\n",
        "\n",
        "A função [LinearRegression](https://scikit-learn.org/stable/modules/generated/sklearn.linear_model.LinearRegression.html), também usa o método OLS."
      ]
    },
    {
      "cell_type": "code",
      "metadata": {
        "colab_type": "code",
        "id": "WR2Gn1Go9LGY",
        "colab": {
          "base_uri": "https://localhost:8080/",
          "height": 119
        },
        "outputId": "d77d003c-699f-4aeb-ae0d-88bcd15fd5d9"
      },
      "source": [
        "#Adaptado de https://scikit-learn.org/stable/\n",
        "\n",
        "# Mesmo exemplo de uma variável usando sklearn\n",
        "#criando o nosso modelo como todos os parametros \"Default\"\n",
        "reg_ols = LinearRegression()\n",
        "\n",
        "#treinando o model\n",
        "reg_ols.fit(X_train, y_train)\n",
        "\n",
        "#Coeficientes\n",
        "print(\"Coeficientes: {}\".format(reg_ols.coef_))\n",
        "print(\"Intercept: {}\".format(reg_ols.intercept_))\n",
        "\n",
        "\n",
        "#salvando nossas predicoes\n",
        "preds_ols_sklearn = reg_ols.predict(X_test)\n",
        "\n",
        "#Avaliando o modelo (R^2)\n",
        "print(\"R2: {}\".format(reg_ols.score(X_test, y_test)))\n"
      ],
      "execution_count": null,
      "outputs": [
        {
          "output_type": "stream",
          "text": [
            "Coeficientes: [-1.11863949e-01  5.53935691e-02 -1.47601201e-02  2.71511577e+00\n",
            " -1.82161824e+01  3.52897160e+00 -1.28965513e-02 -1.64414537e+00\n",
            "  3.58777704e-01 -1.33197014e-02 -1.02555044e+00  1.07907958e-02\n",
            " -4.68661206e-01]\n",
            "Intercept: 40.26067681625002\n",
            "R2: 0.7378467305875673\n"
          ],
          "name": "stdout"
        }
      ]
    },
    {
      "cell_type": "markdown",
      "metadata": {
        "colab_type": "text",
        "id": "rr2Zd6nv9LGb"
      },
      "source": [
        "Regressão Simples (RM): **R2: 0.59**"
      ]
    },
    {
      "cell_type": "markdown",
      "metadata": {
        "colab_type": "text",
        "id": "2h79COAd9LGb"
      },
      "source": [
        "\n",
        "\n",
        "---\n",
        "\n",
        "\n",
        "\n",
        "---\n",
        "\n"
      ]
    },
    {
      "cell_type": "markdown",
      "metadata": {
        "colab_type": "text",
        "id": "FUDZk8YT9LGb"
      },
      "source": [
        "> **Método de Descida Gradiente (Gradient Descent)**\n",
        "\n",
        "O gradiente descendente é um algoritmo de otimização usado para encontrar os valores dos parâmetros (coeficientes) de uma função (f) que minimiza uma função de custo (custo).\n",
        "\n",
        "O gradiente descendente é melhor usado quando os parâmetros não podem ser calculados analiticamente (por exemplo, usando álgebra linear) e devem ser pesquisados ​​por um algoritmo de otimização.\n",
        "\n",
        "Quando houver uma ou mais entradas, você pode usar um processo de otimização dos valores dos coeficientes, minimizando iterativamente o erro do modelo em seus dados de treinamento.\n",
        "\n",
        "Essa operação é chamada de Gradiente de Descida e funciona começando com valores aleatórios para cada coeficiente. A soma dos erros quadráticos é calculada para cada par de valores de entrada e saída. Uma taxa de aprendizagem é usada como um fator de escala e os coeficientes são atualizados no sentido de minimizar o erro. O processo é repetido até que um erro quadrático de soma mínima seja alcançado ou nenhuma melhoria adicional seja possível.\n",
        "\n",
        "Ao usar este método, você deve selecionar um parâmetro de taxa de aprendizagem (alfa) que determina o tamanho da etapa de melhoria a ser realizada em cada iteração do procedimento.\n",
        "\n",
        "A descida gradiente é freqüentemente ensinada usando um modelo de regressão linear porque é relativamente simples de entender. Na prática, é útil quando você tem um conjunto de dados muito grande no número de linhas ou no número de colunas que podem não caber na memória.\n",
        "\n"
      ]
    },
    {
      "cell_type": "markdown",
      "metadata": {
        "id": "4712KIOzpMXJ",
        "colab_type": "text"
      },
      "source": [
        "![picture](https://miro.medium.com/max/379/0*-j3BGxc-EJDOddim)"
      ]
    },
    {
      "cell_type": "markdown",
      "metadata": {
        "colab_type": "text",
        "id": "xGAFEnFa9LGd"
      },
      "source": [
        "> **Stochastic Gradient Descent**\n",
        "\n",
        "Como a regressão linear é feita usando o método OLS, aqui vamos usar o [SGDRegressor](https://scikit-learn.org/stable/modules/generated/sklearn.linear_model.SGDRegressor.html#sklearn.linear_model.SGDRegressor), que também implementa o algoritmo de descida gradiente, porém de uma forma um pouco diferente.\n",
        "\n",
        "Na formulação original, o algoritmo a **função de custo** é estimada usando **todo o conjunto de dados** e então o modelo é atualizado de acordo com a taxa de aprendizado (learning rate). No **gradiente estocástico**, essa **atualização é feita a cada amostra** e então ajustado pela taxa de aprendizado."
      ]
    },
    {
      "cell_type": "code",
      "metadata": {
        "colab_type": "code",
        "id": "sdtzr20_9LGd",
        "colab": {
          "base_uri": "https://localhost:8080/",
          "height": 119
        },
        "outputId": "d4e48f06-cf05-4bf6-9989-909398200295"
      },
      "source": [
        "#Adaptado de https://scikit-learn.org/stable/\n",
        "from sklearn.linear_model import SGDRegressor\n",
        "\n",
        "reg_sgd = SGDRegressor()\n",
        "\n",
        "#treinando o model\n",
        "reg_sgd.fit(X_train, y_train)\n",
        "\n",
        "#Coeficientes\n",
        "print(\"Coeficientes: {}\".format(reg_sgd.coef_))\n",
        "print(\"Intercept: {}\".format(reg_sgd.intercept_))\n",
        "\n",
        "\n",
        "#salvando nossas predicoes\n",
        "preds_sgd_sklearn = reg_sgd.predict(X_test)\n",
        "\n",
        "#Avaliando o modelo (R^2)\n",
        "print(\"R2: {}\".format(reg_sgd.score(X_test, y_test)))"
      ],
      "execution_count": null,
      "outputs": [
        {
          "output_type": "stream",
          "text": [
            "Coeficientes: [-2.34080741e+09 -2.41533665e+11  1.29385192e+11  4.14939313e+09\n",
            " -2.14067566e+10 -5.39067604e+11  5.31711835e+11 -3.01711428e+11\n",
            "  3.14140351e+11 -2.16428558e+11 -4.96978692e+11  1.16233265e+09\n",
            " -1.88600672e+11]\n",
            "Intercept: [-4.40668629e+10]\n",
            "R2: -5.623394191647477e+25\n"
          ],
          "name": "stdout"
        }
      ]
    },
    {
      "cell_type": "markdown",
      "metadata": {
        "colab_type": "text",
        "id": "VC4yPcZm9LGg"
      },
      "source": [
        "Perceba que o coeficiente de determinação (R2), foi **terrível**, e foi necessária alguma investigação para entender o motivo..."
      ]
    },
    {
      "cell_type": "markdown",
      "metadata": {
        "colab_type": "text",
        "id": "oTKPFnup9LGg"
      },
      "source": [
        "\n",
        "\n",
        "---\n",
        "\n",
        "\n",
        "\n",
        "---\n",
        "\n"
      ]
    },
    {
      "cell_type": "markdown",
      "metadata": {
        "id": "9MnogIyP5rfr",
        "colab_type": "text"
      },
      "source": [
        "Perceba na **distribuição** para cada variável (coluna, na tabela abaixo), que as **variáveis** estão em diferentes **escalas**, algumas entre (0..100), outras entre (180..700). Mesmo essas diferenças não sendo assim tão significativas, moldou a **topologia** do subspaço de maneira **irregular** (imagem abaixo), e fez o nosso **algoritmo divergir**.\n",
        "\n",
        "![picture](https://encrypted-tbn0.gstatic.com/images?q=tbn%3AANd9GcSzEsJBbkLjWeI4Ll579HHG757cL0jCtvomjg&usqp=CAU)"
      ]
    },
    {
      "cell_type": "code",
      "metadata": {
        "id": "Ra4i5rtWt1Tu",
        "colab_type": "code",
        "colab": {
          "base_uri": "https://localhost:8080/",
          "height": 317
        },
        "outputId": "fb8abb9e-627a-4ad8-d3e1-85bf9706c8ba"
      },
      "source": [
        " df.describe()"
      ],
      "execution_count": null,
      "outputs": [
        {
          "output_type": "execute_result",
          "data": {
            "text/html": [
              "<div>\n",
              "<style scoped>\n",
              "    .dataframe tbody tr th:only-of-type {\n",
              "        vertical-align: middle;\n",
              "    }\n",
              "\n",
              "    .dataframe tbody tr th {\n",
              "        vertical-align: top;\n",
              "    }\n",
              "\n",
              "    .dataframe thead th {\n",
              "        text-align: right;\n",
              "    }\n",
              "</style>\n",
              "<table border=\"1\" class=\"dataframe\">\n",
              "  <thead>\n",
              "    <tr style=\"text-align: right;\">\n",
              "      <th></th>\n",
              "      <th>crim</th>\n",
              "      <th>zn</th>\n",
              "      <th>indus</th>\n",
              "      <th>chas</th>\n",
              "      <th>nox</th>\n",
              "      <th>rm</th>\n",
              "      <th>age</th>\n",
              "      <th>dis</th>\n",
              "      <th>rad</th>\n",
              "      <th>tax</th>\n",
              "      <th>ptratio</th>\n",
              "      <th>b</th>\n",
              "      <th>lstat</th>\n",
              "      <th>medv</th>\n",
              "    </tr>\n",
              "  </thead>\n",
              "  <tbody>\n",
              "    <tr>\n",
              "      <th>count</th>\n",
              "      <td>506.000000</td>\n",
              "      <td>506.000000</td>\n",
              "      <td>506.000000</td>\n",
              "      <td>506.000000</td>\n",
              "      <td>506.000000</td>\n",
              "      <td>506.000000</td>\n",
              "      <td>506.000000</td>\n",
              "      <td>506.000000</td>\n",
              "      <td>506.000000</td>\n",
              "      <td>506.000000</td>\n",
              "      <td>506.000000</td>\n",
              "      <td>506.000000</td>\n",
              "      <td>506.000000</td>\n",
              "      <td>506.000000</td>\n",
              "    </tr>\n",
              "    <tr>\n",
              "      <th>mean</th>\n",
              "      <td>3.613524</td>\n",
              "      <td>11.363636</td>\n",
              "      <td>11.136779</td>\n",
              "      <td>0.069170</td>\n",
              "      <td>0.554695</td>\n",
              "      <td>6.284634</td>\n",
              "      <td>68.574901</td>\n",
              "      <td>3.795043</td>\n",
              "      <td>9.549407</td>\n",
              "      <td>408.237154</td>\n",
              "      <td>18.455534</td>\n",
              "      <td>356.674032</td>\n",
              "      <td>12.653063</td>\n",
              "      <td>22.532806</td>\n",
              "    </tr>\n",
              "    <tr>\n",
              "      <th>std</th>\n",
              "      <td>8.601545</td>\n",
              "      <td>23.322453</td>\n",
              "      <td>6.860353</td>\n",
              "      <td>0.253994</td>\n",
              "      <td>0.115878</td>\n",
              "      <td>0.702617</td>\n",
              "      <td>28.148861</td>\n",
              "      <td>2.105710</td>\n",
              "      <td>8.707259</td>\n",
              "      <td>168.537116</td>\n",
              "      <td>2.164946</td>\n",
              "      <td>91.294864</td>\n",
              "      <td>7.141062</td>\n",
              "      <td>9.197104</td>\n",
              "    </tr>\n",
              "    <tr>\n",
              "      <th>min</th>\n",
              "      <td>0.006320</td>\n",
              "      <td>0.000000</td>\n",
              "      <td>0.460000</td>\n",
              "      <td>0.000000</td>\n",
              "      <td>0.385000</td>\n",
              "      <td>3.561000</td>\n",
              "      <td>2.900000</td>\n",
              "      <td>1.129600</td>\n",
              "      <td>1.000000</td>\n",
              "      <td>187.000000</td>\n",
              "      <td>12.600000</td>\n",
              "      <td>0.320000</td>\n",
              "      <td>1.730000</td>\n",
              "      <td>5.000000</td>\n",
              "    </tr>\n",
              "    <tr>\n",
              "      <th>25%</th>\n",
              "      <td>0.082045</td>\n",
              "      <td>0.000000</td>\n",
              "      <td>5.190000</td>\n",
              "      <td>0.000000</td>\n",
              "      <td>0.449000</td>\n",
              "      <td>5.885500</td>\n",
              "      <td>45.025000</td>\n",
              "      <td>2.100175</td>\n",
              "      <td>4.000000</td>\n",
              "      <td>279.000000</td>\n",
              "      <td>17.400000</td>\n",
              "      <td>375.377500</td>\n",
              "      <td>6.950000</td>\n",
              "      <td>17.025000</td>\n",
              "    </tr>\n",
              "    <tr>\n",
              "      <th>50%</th>\n",
              "      <td>0.256510</td>\n",
              "      <td>0.000000</td>\n",
              "      <td>9.690000</td>\n",
              "      <td>0.000000</td>\n",
              "      <td>0.538000</td>\n",
              "      <td>6.208500</td>\n",
              "      <td>77.500000</td>\n",
              "      <td>3.207450</td>\n",
              "      <td>5.000000</td>\n",
              "      <td>330.000000</td>\n",
              "      <td>19.050000</td>\n",
              "      <td>391.440000</td>\n",
              "      <td>11.360000</td>\n",
              "      <td>21.200000</td>\n",
              "    </tr>\n",
              "    <tr>\n",
              "      <th>75%</th>\n",
              "      <td>3.677082</td>\n",
              "      <td>12.500000</td>\n",
              "      <td>18.100000</td>\n",
              "      <td>0.000000</td>\n",
              "      <td>0.624000</td>\n",
              "      <td>6.623500</td>\n",
              "      <td>94.075000</td>\n",
              "      <td>5.188425</td>\n",
              "      <td>24.000000</td>\n",
              "      <td>666.000000</td>\n",
              "      <td>20.200000</td>\n",
              "      <td>396.225000</td>\n",
              "      <td>16.955000</td>\n",
              "      <td>25.000000</td>\n",
              "    </tr>\n",
              "    <tr>\n",
              "      <th>max</th>\n",
              "      <td>88.976200</td>\n",
              "      <td>100.000000</td>\n",
              "      <td>27.740000</td>\n",
              "      <td>1.000000</td>\n",
              "      <td>0.871000</td>\n",
              "      <td>8.780000</td>\n",
              "      <td>100.000000</td>\n",
              "      <td>12.126500</td>\n",
              "      <td>24.000000</td>\n",
              "      <td>711.000000</td>\n",
              "      <td>22.000000</td>\n",
              "      <td>396.900000</td>\n",
              "      <td>37.970000</td>\n",
              "      <td>50.000000</td>\n",
              "    </tr>\n",
              "  </tbody>\n",
              "</table>\n",
              "</div>"
            ],
            "text/plain": [
              "             crim          zn       indus  ...           b       lstat        medv\n",
              "count  506.000000  506.000000  506.000000  ...  506.000000  506.000000  506.000000\n",
              "mean     3.613524   11.363636   11.136779  ...  356.674032   12.653063   22.532806\n",
              "std      8.601545   23.322453    6.860353  ...   91.294864    7.141062    9.197104\n",
              "min      0.006320    0.000000    0.460000  ...    0.320000    1.730000    5.000000\n",
              "25%      0.082045    0.000000    5.190000  ...  375.377500    6.950000   17.025000\n",
              "50%      0.256510    0.000000    9.690000  ...  391.440000   11.360000   21.200000\n",
              "75%      3.677082   12.500000   18.100000  ...  396.225000   16.955000   25.000000\n",
              "max     88.976200  100.000000   27.740000  ...  396.900000   37.970000   50.000000\n",
              "\n",
              "[8 rows x 14 columns]"
            ]
          },
          "metadata": {
            "tags": []
          },
          "execution_count": 17
        }
      ]
    },
    {
      "cell_type": "markdown",
      "metadata": {
        "id": "nl0G9TA1vOCc",
        "colab_type": "text"
      },
      "source": [
        "Para fazer esse ajuste, usamos o [StandardScaler](https://scikit-learn.org/stable/modules/generated/sklearn.preprocessing.StandardScaler.html?highlight=standardscaler#sklearn.preprocessing.StandardScaler) do sklearn. Nesse caso todas as colunas passam a ter média $\\mu=0$ e desvio padrao $\\sigma=1$, como no gráfico a direita na imagem abaixo.\n",
        "\n",
        "\n",
        "![picture](https://miro.medium.com/max/1400/1*GAcEj37smCOCZMrqp-rjjA.png)"
      ]
    },
    {
      "cell_type": "markdown",
      "metadata": {
        "id": "uuDTRg16wm_u",
        "colab_type": "text"
      },
      "source": [
        "> Agora vamos treinar novamente o SGDRegressor, com os dados escalonados. Lembre-se que devido a natureza estocástica os resultados variam um pouco a cada tentativa."
      ]
    },
    {
      "cell_type": "code",
      "metadata": {
        "colab_type": "code",
        "id": "nT7W131d9LG1",
        "colab": {
          "base_uri": "https://localhost:8080/",
          "height": 102
        },
        "outputId": "066588a2-59e9-4ab9-c591-745565398fb1"
      },
      "source": [
        "#Adaptado de https://scikit-learn.org/stable/\n",
        "from sklearn.preprocessing import StandardScaler\n",
        "std = StandardScaler() # Padronizando dados\n",
        "\n",
        "\n",
        "X_train_scaled = std.fit_transform(X_train)\n",
        "X_test_scaled = std.fit_transform(X_test)\n",
        "\n",
        "#treinando o model\n",
        "reg_sgd.fit(std.fit_transform(X_train_scaled), y_train)\n",
        "\n",
        "#Coeficientes\n",
        "print(\"Coeficiente: {}\".format(reg_sgd.coef_))\n",
        "print(\"Intercept: {}\".format(reg_sgd.intercept_))\n",
        "\n",
        "#salvando nossas predicoes\n",
        "preds_sdg_scaled = reg_sgd.predict(X_test_scaled)\n",
        "\n",
        "#Avaliando o modelo (R^2)\n",
        "print(\"R2: {}\".format(reg_sgd.score(X_test_scaled, y_test)))"
      ],
      "execution_count": null,
      "outputs": [
        {
          "output_type": "stream",
          "text": [
            "Coeficiente: [-0.82411548  1.19106575 -0.35111945  0.753702   -1.9784674   2.52362632\n",
            " -0.39968691 -3.27376551  2.29342333 -1.38116693 -2.12588428  1.05822365\n",
            " -3.25930167]\n",
            "Intercept: [22.67097368]\n",
            "R2: 0.7294039174696101\n"
          ],
          "name": "stdout"
        }
      ]
    },
    {
      "cell_type": "markdown",
      "metadata": {
        "colab_type": "text",
        "id": "EPqURH5n9LHH"
      },
      "source": [
        "Regressão OLS: **R2: 0.76**"
      ]
    },
    {
      "cell_type": "markdown",
      "metadata": {
        "id": "dX7ENQIO6gww",
        "colab_type": "text"
      },
      "source": [
        "\n",
        "\n",
        "---\n",
        "\n",
        "\n",
        "\n",
        "---\n",
        "\n"
      ]
    },
    {
      "cell_type": "markdown",
      "metadata": {
        "id": "-f0w41vN5w5Z",
        "colab_type": "text"
      },
      "source": [
        "Uma segunda razão relacionada a **divergência** do algoritmo pode estar ligada ao tamanho da **taxa de aprendizado**. Caso seja muito grande, pode levar ao problema da imagem abaixo. No caso acima usamos o valor padrão `learning_rate=0.0001`.\n",
        "\n",
        "![picture](https://i.stack.imgur.com/0tirm.png)"
      ]
    },
    {
      "cell_type": "markdown",
      "metadata": {
        "colab_type": "text",
        "id": "BYkwhHaf9LHL"
      },
      "source": [
        "> Obs: Além das duas formulações acima, poderíamos estimar os coeficientes estimando a **máxima verossimilhança**, não cobriremos esse método nesse treinamento, mas há uma excelente fonte inicial [aqui](https://machinelearningmastery.com/linear-regression-with-maximum-likelihood-estimation/). "
      ]
    },
    {
      "cell_type": "markdown",
      "metadata": {
        "colab_type": "text",
        "id": "OSjR3zwY9LHM"
      },
      "source": [
        "\n",
        "\n",
        "---\n",
        "\n",
        "\n",
        "\n",
        "---\n",
        "\n"
      ]
    },
    {
      "cell_type": "markdown",
      "metadata": {
        "colab_type": "text",
        "id": "nZ6OiIVb9LHM"
      },
      "source": [
        "### Métricas de avaliação de modelos de Regressão \n",
        "\n"
      ]
    },
    {
      "cell_type": "markdown",
      "metadata": {
        "id": "KnvzXR_QpXRg",
        "colab_type": "text"
      },
      "source": [
        "A documentação sklearn possui uma seção dedicada a [métricas](https://scikit-learn.org/stable/modules/model_evaluation.html#regression-metrics) de regressão."
      ]
    },
    {
      "cell_type": "markdown",
      "metadata": {
        "id": "ha-SRV8epjTw",
        "colab_type": "text"
      },
      "source": [
        "$R^2(y, \\hat{y}) = 1 - \\frac{\\sum_{i=1}^{n} (y_i - \\hat{y}_i)^2}{\\sum_{i=1}^{n} (y_i - \\bar{y})^2}$"
      ]
    },
    {
      "cell_type": "code",
      "metadata": {
        "colab_type": "code",
        "id": "tsEeDWSc9LHO",
        "colab": {
          "base_uri": "https://localhost:8080/",
          "height": 34
        },
        "outputId": "f383a090-f8f5-43d1-f44b-c09002f146cd"
      },
      "source": [
        "# R2\n",
        "from sklearn.metrics import r2_score\n",
        "y_true = [1, 2, 3]\n",
        "y_pred = [1, 2, 3]\n",
        "r2_score(y_true, y_pred)"
      ],
      "execution_count": null,
      "outputs": [
        {
          "output_type": "execute_result",
          "data": {
            "text/plain": [
              "1.0"
            ]
          },
          "metadata": {
            "tags": []
          },
          "execution_count": 19
        }
      ]
    },
    {
      "cell_type": "markdown",
      "metadata": {
        "id": "g1l9YYolqLBE",
        "colab_type": "text"
      },
      "source": [
        "\n",
        "\n",
        "---\n",
        "\n",
        "\n",
        "\n",
        "---\n",
        "\n"
      ]
    },
    {
      "cell_type": "markdown",
      "metadata": {
        "id": "cdWNBq_Ppq0q",
        "colab_type": "text"
      },
      "source": [
        "$\\text{MSE}(y, \\hat{y}) = \\frac{1}{n_\\text{samples}} \\sum_{i=0}^{n_\\text{samples} - 1} (y_i - \\hat{y}_i)^2.$"
      ]
    },
    {
      "cell_type": "code",
      "metadata": {
        "colab_type": "code",
        "id": "GKZ44pCo9LHS",
        "colab": {
          "base_uri": "https://localhost:8080/",
          "height": 34
        },
        "outputId": "8e589e2d-e53b-45c0-b5c6-59b44ab9e679"
      },
      "source": [
        "# MSE\n",
        "from sklearn.metrics import mean_squared_error\n",
        "y_true = [[0.5, 1],[-1, 1],[7, -6]]\n",
        "y_pred = [[0, 2],[-1, 2],[8, -5]]\n",
        "mean_squared_error(y_true, y_pred)"
      ],
      "execution_count": null,
      "outputs": [
        {
          "output_type": "execute_result",
          "data": {
            "text/plain": [
              "0.7083333333333334"
            ]
          },
          "metadata": {
            "tags": []
          },
          "execution_count": 20
        }
      ]
    },
    {
      "cell_type": "markdown",
      "metadata": {
        "id": "1Fjtfe67qMwh",
        "colab_type": "text"
      },
      "source": [
        "\n",
        "\n",
        "---\n",
        "\n",
        "\n",
        "\n",
        "---\n",
        "\n"
      ]
    },
    {
      "cell_type": "markdown",
      "metadata": {
        "id": "PEzS33_jp85O",
        "colab_type": "text"
      },
      "source": [
        "$\\text{MAE}(y, \\hat{y}) = \\frac{1}{n_{\\text{samples}}} \\sum_{i=0}^{n_{\\text{samples}}-1} \\left| y_i - \\hat{y}_i \\right|.$"
      ]
    },
    {
      "cell_type": "code",
      "metadata": {
        "colab_type": "code",
        "id": "AZ7hD99y9LHV",
        "colab": {
          "base_uri": "https://localhost:8080/",
          "height": 34
        },
        "outputId": "4abdc907-4f63-43f9-e05a-a992b6257e03"
      },
      "source": [
        "# MAE\n",
        "from sklearn.metrics import mean_absolute_error\n",
        "y_true = [3, -0.5, 2, 7]\n",
        "y_pred = [2.5, 0.0, 2, 8]\n",
        "mean_absolute_error(y_true, y_pred)"
      ],
      "execution_count": null,
      "outputs": [
        {
          "output_type": "execute_result",
          "data": {
            "text/plain": [
              "0.5"
            ]
          },
          "metadata": {
            "tags": []
          },
          "execution_count": 21
        }
      ]
    },
    {
      "cell_type": "markdown",
      "metadata": {
        "colab_type": "text",
        "id": "1Xp2FF0c9LHY"
      },
      "source": [
        "\n",
        "\n",
        "---\n",
        "\n",
        "\n",
        "\n",
        "---\n",
        "\n"
      ]
    },
    {
      "cell_type": "markdown",
      "metadata": {
        "colab_type": "text",
        "id": "bZwsznhc9LHZ"
      },
      "source": [
        "> **Intepretação dos modelos (análise dos resíduos)**"
      ]
    },
    {
      "cell_type": "markdown",
      "metadata": {
        "colab_type": "text",
        "id": "3QOoxrGk9LHZ"
      },
      "source": [
        "O métodos dos **mínimos quadrados** pressupõe que o resíduo $e(t) = y(t) − y_{pred}(t)$ tem **distribuição normal, média nula e variância constante**. Esta hipótese implica implicitamente que **processo é estacionário**, ou seja, que as características estatísticas do processo se mantêm estáveis."
      ]
    },
    {
      "cell_type": "markdown",
      "metadata": {
        "colab_type": "text",
        "id": "Lu195g_B9LHd"
      },
      "source": [
        "![picture](https://github.com/nicholasrichers/regressao-neuron/blob/master/img/analise_residuos.png?raw=true)\n",
        "\n",
        "[Fonte](https://ensinandomaquinasblog.wordpress.com/)"
      ]
    },
    {
      "cell_type": "markdown",
      "metadata": {
        "colab_type": "text",
        "id": "5XHlBnG79LHd"
      },
      "source": [
        "Agora vamos observar a distribuição da **densidade** dos erros dos 3 modelos que desenvolvemos até aqui."
      ]
    },
    {
      "cell_type": "code",
      "metadata": {
        "colab_type": "code",
        "id": "9Jqrkf1Y9LHe",
        "colab": {}
      },
      "source": [
        "#resíduo Regressão simples\n",
        "resid_simples = preds_regr_simples.ravel() - y_test\n",
        "\n",
        "#resíduo OLS\n",
        "resid_ols = preds_ols_sklearn - y_test\n",
        "\n",
        "#resíduo SGD\n",
        "resid_sgd = preds_sdg_scaled - y_test\n",
        "\n",
        "\n",
        "#salvando esses resultdos numa lista iterável\n",
        "resids = [resid_simples, resid_ols, resid_sgd]"
      ],
      "execution_count": null,
      "outputs": []
    },
    {
      "cell_type": "markdown",
      "metadata": {
        "colab_type": "text",
        "id": "d3OMtgFX9LHg"
      },
      "source": [
        "Perceba que a premissa que onde **média dos resíduos é zero**, tende a ser **menos provável** a medida que a **dimensionalidade** do dataset **aumenta**, dessa forma, perceba que o modelo linear simples possui um aspecto mais próximo a normal, mesmo sendo um modelo inferior em relação ao $R^{2}$."
      ]
    },
    {
      "cell_type": "code",
      "metadata": {
        "colab_type": "code",
        "id": "xD8znCOT9LHg",
        "colab": {
          "base_uri": "https://localhost:8080/",
          "height": 394
        },
        "outputId": "53af267d-b583-4c56-f043-3b728abc0474"
      },
      "source": [
        "import scipy.stats as stats\n",
        "\n",
        "legend = [\"Linear Simples\", \"OLS\", \"SGD\"]\n",
        "\n",
        "#criando a imagem\n",
        "fig, axes = plt.subplots(1, 3, sharey=True, figsize=(18,6))\n",
        "for i, res in enumerate(resids):\n",
        "\n",
        "  #Histograma de densidade\n",
        "  sns.distplot(res, bins=21, norm_hist=True, kde=False, ax=axes[i])\n",
        "\n",
        "  #Distribuião normal com média nula e std constante\n",
        "  mu, sigma = 0, res.std()\n",
        "\n",
        "  #plotando a normal\n",
        "  x = np.linspace(mu - 3*sigma, mu + 3*sigma, 100)\n",
        "  axes[i].legend([legend[i]], loc = 'upper left', fontsize=16)\n",
        "  axes[i].plot(x, stats.norm.pdf(x, mu, sigma), color = \"green\")\n",
        "\n",
        "\n",
        "plt.show()"
      ],
      "execution_count": null,
      "outputs": [
        {
          "output_type": "display_data",
          "data": {
            "image/png": "[encoded data removed]",
            "text/plain": [
              "<Figure size 1296x432 with 3 Axes>"
            ]
          },
          "metadata": {
            "tags": []
          }
        }
      ]
    },
    {
      "cell_type": "markdown",
      "metadata": {
        "colab_type": "text",
        "id": "-kS0Baa19LHj"
      },
      "source": [
        "> Como melhorar?\n",
        "\n",
        "- **Transformaçoes** nos dados (MinMax & StandardScaler)\n",
        "- Busca de **hiperparâmetros**\n",
        "- Remoção de **Outliers**\n",
        "- Remoção de variáveis muito **correlacionadas**"
      ]
    },
    {
      "cell_type": "markdown",
      "metadata": {
        "colab_type": "text",
        "id": "zGwEirJE9LHk"
      },
      "source": [
        "\n",
        "\n",
        "---\n",
        "\n",
        "\n",
        "\n",
        "---\n",
        "\n"
      ]
    },
    {
      "cell_type": "markdown",
      "metadata": {
        "id": "cPr8xe1Au9wG",
        "colab_type": "text"
      },
      "source": [
        "## Regressão Polinomial"
      ]
    },
    {
      "cell_type": "markdown",
      "metadata": {
        "id": "QOkjzkS4xd8-",
        "colab_type": "text"
      },
      "source": [
        "Outra presunção forte da regressão linear é considerar uma **relação linear** das variáveis de entrada e saída."
      ]
    },
    {
      "cell_type": "code",
      "metadata": {
        "id": "fuosfGdfA4xZ",
        "colab_type": "code",
        "colab": {}
      },
      "source": [
        "#selecionei 5 colunas para facilitar a visualização\n",
        "cols = [\"rm\", \"age\", \"tax\" , \"lstat\", \"medv\"]"
      ],
      "execution_count": null,
      "outputs": []
    },
    {
      "cell_type": "code",
      "metadata": {
        "id": "AVTT5N64u--N",
        "colab_type": "code",
        "colab": {
          "base_uri": "https://localhost:8080/",
          "height": 944
        },
        "outputId": "5ca7d9d0-1244-4c53-c8b0-9839929d9a46"
      },
      "source": [
        "sns.pairplot(df[cols], corner=True, kind=\"reg\") "
      ],
      "execution_count": null,
      "outputs": [
        {
          "output_type": "execute_result",
          "data": {
            "text/plain": [
              "<seaborn.axisgrid.PairGrid at 0x7fb861d35668>"
            ]
          },
          "metadata": {
            "tags": []
          },
          "execution_count": 24
        },
        {
          "output_type": "display_data",
          "data": {
            "image/png": "[encoded data removed]",
            "text/plain": [
              "<Figure size 900x900 with 20 Axes>"
            ]
          },
          "metadata": {
            "tags": []
          }
        }
      ]
    },
    {
      "cell_type": "markdown",
      "metadata": {
        "id": "CsR4lOlyEWUA",
        "colab_type": "text"
      },
      "source": [
        "Podemos ver na última linha do `pairplot`, que essa hipótese **não é verdadeira para todas as features**, em especial a variável `lstat`. Além disso, é fácil supor que a adição de **mais features** ao modelo torna essa hipótese ainda **mais difícil** de se manter."
      ]
    },
    {
      "cell_type": "markdown",
      "metadata": {
        "id": "sGpbXvjgEYeT",
        "colab_type": "text"
      },
      "source": [
        "\n",
        "\n",
        "---\n",
        "\n",
        "\n",
        "\n",
        "---\n",
        "\n"
      ]
    },
    {
      "cell_type": "markdown",
      "metadata": {
        "id": "PJUA7ik2EZxn",
        "colab_type": "text"
      },
      "source": [
        "> Observe o relacionamento entre um **par de variáveis**, para **diferentes** **graus**, $y= X^1$; $y= X^3$: $y= X^{20}$.\n",
        "\n"
      ]
    },
    {
      "cell_type": "markdown",
      "metadata": {
        "id": "AlZXa2MgAU5g",
        "colab_type": "text"
      },
      "source": [
        "![picture](https://miro.medium.com/max/700/1*zOl_ztYqnzyWRkBffeOsRQ.png)\n",
        "\n",
        "\n",
        "\n",
        "\n",
        "Obs: Os **modelos** acima ainda são considerados **lineares**, porque os **coeficientes**  associados as features ainda são **lineares**, mesmo que a curva que estamos ajustando for quadrática por natureza."
      ]
    },
    {
      "cell_type": "markdown",
      "metadata": {
        "id": "BzQDA81BHvvZ",
        "colab_type": "text"
      },
      "source": [
        "\n",
        "\n",
        "---\n",
        "\n",
        "\n",
        "\n",
        "---\n",
        "\n"
      ]
    },
    {
      "cell_type": "markdown",
      "metadata": {
        "id": "uysHldpNDbCt",
        "colab_type": "text"
      },
      "source": [
        "> Agora, vamos criar um modelo **polinomial** com a ajuda do [sklearn](https://scikit-learn.org/stable/modules/linear_model.html#polynomial-regression-extending-linear-models-with-basis-functions). Imagine uma matriz ($P$) de features com **duas colunas** ($x_{1}$ e $x_{2}$) de entrada e apenas **3 registros**."
      ]
    },
    {
      "cell_type": "code",
      "metadata": {
        "id": "dvVIsiRMHot9",
        "colab_type": "code",
        "colab": {
          "base_uri": "https://localhost:8080/",
          "height": 68
        },
        "outputId": "b0ef0e92-e7e9-4171-f0bb-81feb4c3a6d9"
      },
      "source": [
        "P = np.arange(6).reshape(3, 2)\n",
        "P"
      ],
      "execution_count": null,
      "outputs": [
        {
          "output_type": "execute_result",
          "data": {
            "text/plain": [
              "array([[0, 1],\n",
              "       [2, 3],\n",
              "       [4, 5]])"
            ]
          },
          "metadata": {
            "tags": []
          },
          "execution_count": 25
        }
      ]
    },
    {
      "cell_type": "markdown",
      "metadata": {
        "id": "dJ0XCycyJfTD",
        "colab_type": "text"
      },
      "source": [
        "As features ($x_{1}$ e $x_{2}$) de $P$, foram **transformadas** para a forma:\n",
        "\n",
        "($x_{1}$ e $x_{2}$) $->$ ($1, x_{1}, x_{2}, x_{1}^{2}, x_{1}x_{2}, x_{2}^{2}$)"
      ]
    },
    {
      "cell_type": "code",
      "metadata": {
        "id": "W9gwJ8BoG72q",
        "colab_type": "code",
        "colab": {
          "base_uri": "https://localhost:8080/",
          "height": 68
        },
        "outputId": "1f6f8777-241b-4a49-eeb6-804d1b4934ad"
      },
      "source": [
        "from sklearn.preprocessing import PolynomialFeatures\n",
        "\n",
        "poly = PolynomialFeatures(degree=2)\n",
        "poly.fit_transform(P)"
      ],
      "execution_count": null,
      "outputs": [
        {
          "output_type": "execute_result",
          "data": {
            "text/plain": [
              "array([[ 1.,  0.,  1.,  0.,  0.,  1.],\n",
              "       [ 1.,  2.,  3.,  4.,  6.,  9.],\n",
              "       [ 1.,  4.,  5., 16., 20., 25.]])"
            ]
          },
          "metadata": {
            "tags": []
          },
          "execution_count": 26
        }
      ]
    },
    {
      "cell_type": "markdown",
      "metadata": {
        "id": "aTO9s65BNxwc",
        "colab_type": "text"
      },
      "source": [
        "Vamos **repetir** esse mesmo **procedimento** para os dados de **treino e teste**, do nosso conjunto de dados de imóveis. Note que criamos uma função para facilitar a repetição do procedimento para diferentes `degrees`."
      ]
    },
    {
      "cell_type": "code",
      "metadata": {
        "id": "ZNLlzO5mylpa",
        "colab_type": "code",
        "colab": {}
      },
      "source": [
        "from sklearn.preprocessing import PolynomialFeatures\n",
        "\n",
        "def create_polynomial_regression_model(degree, get_data=False):\n",
        "  \"Creates a polynomial regression model for the given degree\"\n",
        "  \n",
        "  poly_features = PolynomialFeatures(degree=degree)\n",
        "  \n",
        "  # transforms the existing features to higher degree features.\n",
        "  X_train_poly = poly_features.fit_transform(X_train)\n",
        "  X_test_poly = poly_features.fit_transform(X_test)\n",
        "\n",
        "  #return my poly_data\n",
        "  if get_data==True: return X_train_poly, X_test_poly\n",
        "  \n",
        "  # fit the transformed features to Linear Regression\n",
        "  poly_model = LinearRegression()\n",
        "  poly_model.fit(X_train_poly, y_train)\n",
        "  \n",
        "  # predicting on training data-set\n",
        "  y_train_predicted = poly_model.predict(X_train_poly)\n",
        "  \n",
        "  # predicting on test data-set\n",
        "  y_test_predict = poly_model.predict(X_test_poly)\n",
        "\n",
        "  #salvando nossas predicoes\n",
        "  preds_sdg_sklearn = reg_sgd.predict(X_test)\n",
        "    \n",
        "  # evaluating the model on training dataset\n",
        "  mse_train = mean_squared_error(y_train, y_train_predicted)\n",
        "  r2_train = r2_score(y_train, y_train_predicted)\n",
        "  \n",
        "  # evaluating the model on test dataset\n",
        "  mse_test = mean_squared_error(y_test, y_test_predict)\n",
        "  r2_test = r2_score(y_test, y_test_predict)\n",
        "  \n",
        "  print(\"The model performance for the training set\")\n",
        "  print(\"-------------------------------------------\")\n",
        "  print(\"MSE of training set is {:.3f}\".format(mse_train))\n",
        "  print(\"R2 score of training set is {:.3f}\".format(r2_train))\n",
        "  \n",
        "  print(\"\\n\")\n",
        "  \n",
        "  print(\"The model performance for the test set\")\n",
        "  print(\"-------------------------------------------\")\n",
        "  print(\"MSE of test set is {:.3f}\".format(mse_test))\n",
        "  print(\"R2 score of test set is {:.3f}\".format(r2_test))"
      ],
      "execution_count": null,
      "outputs": []
    },
    {
      "cell_type": "markdown",
      "metadata": {
        "id": "VY3UJ2S-PCNh",
        "colab_type": "text"
      },
      "source": [
        "> `degree=1`: Chegamos a um resultado **similar** ao que criamos anteriormente, percerba que há uma pequena perda de performance, do treino, para o teste, como o esperado."
      ]
    },
    {
      "cell_type": "code",
      "metadata": {
        "id": "AqZQGcxVFR2C",
        "colab_type": "code",
        "colab": {
          "base_uri": "https://localhost:8080/",
          "height": 187
        },
        "outputId": "0bad14dd-7d65-4f47-f3a8-d8e99c08193c"
      },
      "source": [
        "create_polynomial_regression_model(1)"
      ],
      "execution_count": null,
      "outputs": [
        {
          "output_type": "stream",
          "text": [
            "The model performance for the training set\n",
            "-------------------------------------------\n",
            "MSE of training set is 24.546\n",
            "R2 score of training set is 0.725\n",
            "\n",
            "\n",
            "The model performance for the test set\n",
            "-------------------------------------------\n",
            "MSE of test set is 16.282\n",
            "R2 score of test set is 0.777\n"
          ],
          "name": "stdout"
        }
      ]
    },
    {
      "cell_type": "markdown",
      "metadata": {
        "id": "EqosFZO6PebF",
        "colab_type": "text"
      },
      "source": [
        "> `degree=2`: Houve um signigicativo **ganho de performance** em relação ao anterior, tanto para o treino, como para o teste. Contudo, perceba que a diferença entre treino e teste aumentou um pouco em relação a `degree=1`."
      ]
    },
    {
      "cell_type": "code",
      "metadata": {
        "id": "qUibYT0lFSJj",
        "colab_type": "code",
        "colab": {
          "base_uri": "https://localhost:8080/",
          "height": 187
        },
        "outputId": "5d5c510e-9f9a-4602-9fcf-a5daaa2d7776"
      },
      "source": [
        "create_polynomial_regression_model(2)"
      ],
      "execution_count": null,
      "outputs": [
        {
          "output_type": "stream",
          "text": [
            "The model performance for the training set\n",
            "-------------------------------------------\n",
            "MSE of training set is 7.231\n",
            "R2 score of training set is 0.919\n",
            "\n",
            "\n",
            "The model performance for the test set\n",
            "-------------------------------------------\n",
            "MSE of test set is 13.860\n",
            "R2 score of test set is 0.810\n"
          ],
          "name": "stdout"
        }
      ]
    },
    {
      "cell_type": "markdown",
      "metadata": {
        "id": "VCoNmmvuP4Du",
        "colab_type": "text"
      },
      "source": [
        "> `degree=3`: As métricas `RMSE=0` e `R2=1`, indicam que o modelo **acertou** o valor de todo o conjunto de **treino**, contudo, teve uma performance **terrível** para o conjunto de **teste**, o que indica que o nosso modelo não conseguiu generalizar o problema e de alguma forma \"**decorou**\" o conjunto de treino e não consegue acertar no conjunto de teste. Isso significa o mesmo que **overfiting**."
      ]
    },
    {
      "cell_type": "code",
      "metadata": {
        "id": "zI-wczzBFRnL",
        "colab_type": "code",
        "colab": {
          "base_uri": "https://localhost:8080/",
          "height": 187
        },
        "outputId": "90a8ffb8-aeac-4453-8df5-3c05d24a4ae8"
      },
      "source": [
        "create_polynomial_regression_model(3)"
      ],
      "execution_count": null,
      "outputs": [
        {
          "output_type": "stream",
          "text": [
            "The model performance for the training set\n",
            "-------------------------------------------\n",
            "MSE of training set is 0.000\n",
            "R2 score of training set is 1.000\n",
            "\n",
            "\n",
            "The model performance for the test set\n",
            "-------------------------------------------\n",
            "MSE of test set is 26576.606\n",
            "R2 score of test set is -363.272\n"
          ],
          "name": "stdout"
        }
      ]
    },
    {
      "cell_type": "markdown",
      "metadata": {
        "id": "eeW5A0HXQ798",
        "colab_type": "text"
      },
      "source": [
        "\n",
        "\n",
        "---\n",
        "\n",
        "\n",
        "\n",
        "---\n",
        "\n"
      ]
    },
    {
      "cell_type": "markdown",
      "metadata": {
        "id": "c9_dMYqkQ-TI",
        "colab_type": "text"
      },
      "source": [
        "## Bias & Variancia"
      ]
    },
    {
      "cell_type": "markdown",
      "metadata": {
        "id": "o6KV8iDThKu6",
        "colab_type": "text"
      },
      "source": [
        "Relacionane a **legenda** da primeira imagem com a segunda."
      ]
    },
    {
      "cell_type": "markdown",
      "metadata": {
        "id": "0-6cvPExQ-B-",
        "colab_type": "text"
      },
      "source": [
        "![picture](https://miro.medium.com/max/700/1*zOl_ztYqnzyWRkBffeOsRQ.png)\n",
        "\n",
        "![picture](https://qph.fs.quoracdn.net/main-qimg-ed02a43e7c32e81171ba5f7eecb06334)"
      ]
    },
    {
      "cell_type": "markdown",
      "metadata": {
        "id": "EoRZWqQIbUek",
        "colab_type": "text"
      },
      "source": [
        "> Como calcular o **Bias e a Variância**\n",
        "\n",
        "A formula da estimativa do erro em função do viés e da variância pode ser obtida dessa forma.\n",
        "\n",
        "$(1) Erro(x) = (Y - fhat(x))$\n",
        "\n",
        "$(2) Erro(x) = E[(Y - fhat(x))^{2}]$\n",
        "\n",
        "$(3) Erro(x) = E[fhat(x) - f(x)]^{2} + E[fhat(x) - E(fhat(x))^{2}] + \\sigma^{2}$\n",
        "\n",
        "$(4) Erro(x) = Bias^{2} + Variancia + Ruido $"
      ]
    },
    {
      "cell_type": "markdown",
      "metadata": {
        "id": "Y90eYGG3j12f",
        "colab_type": "text"
      },
      "source": [
        "Felizmente, não precisamos realizar esse cálculo manualmente, podemos usar a função [bias_variance_decomp](http://rasbt.github.io/mlxtend/user_guide/evaluate/bias_variance_decomp/) da biblioteca MLxtend."
      ]
    },
    {
      "cell_type": "code",
      "metadata": {
        "id": "gSnK7qcOyllu",
        "colab_type": "code",
        "colab": {}
      },
      "source": [
        "# estimate the bias and variance for a regression model\n",
        "from mlxtend.evaluate import bias_variance_decomp\n",
        "import re\n",
        "\n",
        "def bias_variance(model, X_train, X_test, y_train, y_test):\n",
        "\n",
        "  # Nome do modelo\n",
        "  name = re.findall(\"^.{0,10}\", str(model))[0]\n",
        "\n",
        "  # estima bias and variance (MLxtend nao aceita pandas dataframe) \n",
        "  mse, bias, var = bias_variance_decomp(model, \n",
        "                                        X_train, \n",
        "                                        y_train, \n",
        "                                        X_test, \n",
        "                                        y_test, \n",
        "                                        loss='mse', \n",
        "                                        num_rounds=200, \n",
        "                                        random_seed=42)\n",
        "\n",
        "  \n",
        "  # summarize results\n",
        "  print('Model Name: ', name)\n",
        "  print('MSE: %.3f' % mse)\n",
        "  print('Bias: %.3f' % bias)\n",
        "  print('Variance: %.3f' % var)"
      ],
      "execution_count": null,
      "outputs": []
    },
    {
      "cell_type": "markdown",
      "metadata": {
        "id": "3l2k_XR5kGKp",
        "colab_type": "text"
      },
      "source": [
        "> `degree=1`: Alto bias e baixa variância."
      ]
    },
    {
      "cell_type": "code",
      "metadata": {
        "id": "TDk8efM0RIiC",
        "colab_type": "code",
        "colab": {
          "base_uri": "https://localhost:8080/",
          "height": 85
        },
        "outputId": "f5533b1f-16fc-4e5f-de63-80588465d881"
      },
      "source": [
        "#transformando a matriz de features em uma funcao polinomial\n",
        "X_train_poly, X_test_poly = create_polynomial_regression_model(1, get_data=True)\n",
        "\n",
        "#modelo que iremos usar\n",
        "model= LinearRegression()\n",
        "\n",
        "#calculando o bias e a variância\n",
        "bias_variance(model, X_train_poly, X_test_poly,  y_train.values, y_test.values)"
      ],
      "execution_count": null,
      "outputs": [
        {
          "output_type": "stream",
          "text": [
            "Model Name:  LinearRegr\n",
            "MSE: 17.736\n",
            "Bias: 16.189\n",
            "Variance: 1.547\n"
          ],
          "name": "stdout"
        }
      ]
    },
    {
      "cell_type": "markdown",
      "metadata": {
        "id": "GYtyA_wkkQyY",
        "colab_type": "text"
      },
      "source": [
        "> `degree=2`: Diminuiu o bias e aumentou variância."
      ]
    },
    {
      "cell_type": "code",
      "metadata": {
        "id": "BYXt2rn2_et1",
        "colab_type": "code",
        "colab": {
          "base_uri": "https://localhost:8080/",
          "height": 85
        },
        "outputId": "e7904e46-673b-4812-cbe5-cd721d78150f"
      },
      "source": [
        "#transformando a matriz de features em uma funcao polinomial\n",
        "X_train_poly, X_test_poly = create_polynomial_regression_model(2, get_data=True)\n",
        "\n",
        "#calculando o bias e a variância\n",
        "bias_variance(model, X_train_poly, X_test_poly,  y_train.values, y_test.values)"
      ],
      "execution_count": null,
      "outputs": [
        {
          "output_type": "stream",
          "text": [
            "Model Name:  LinearRegr\n",
            "MSE: 489.962\n",
            "Bias: 11.517\n",
            "Variance: 478.445\n"
          ],
          "name": "stdout"
        }
      ]
    },
    {
      "cell_type": "markdown",
      "metadata": {
        "id": "V5bP9UuxkWRl",
        "colab_type": "text"
      },
      "source": [
        "> `degree=3`: Bias e variância muito altos."
      ]
    },
    {
      "cell_type": "code",
      "metadata": {
        "id": "gv0mjdNwS9bv",
        "colab_type": "code",
        "colab": {
          "base_uri": "https://localhost:8080/",
          "height": 85
        },
        "outputId": "8d669023-4746-489e-ad6e-92579dd93647"
      },
      "source": [
        "#transformando a matriz de features em uma funcao polinomial\n",
        "X_train_poly, X_test_poly = create_polynomial_regression_model(3, get_data=True)\n",
        "\n",
        "\n",
        "#calculando o bias e a variância\n",
        "bias_variance(model, X_train_poly, X_test_poly,  y_train.values, y_test.values)"
      ],
      "execution_count": null,
      "outputs": [
        {
          "output_type": "stream",
          "text": [
            "Model Name:  LinearRegr\n",
            "MSE: 4144.385\n",
            "Bias: 195.537\n",
            "Variance: 3948.849\n"
          ],
          "name": "stdout"
        }
      ]
    },
    {
      "cell_type": "markdown",
      "metadata": {
        "id": "Hdn2Fx9Ykf3O",
        "colab_type": "text"
      },
      "source": [
        "Obs: Lembre que os **valores** obtidos acima foram para o conjunto de **dados de teste**."
      ]
    },
    {
      "cell_type": "markdown",
      "metadata": {
        "id": "_kmkK4qQkn09",
        "colab_type": "text"
      },
      "source": [
        "\n",
        "\n",
        "---\n",
        "\n",
        "\n",
        "\n",
        "---\n",
        "\n"
      ]
    },
    {
      "cell_type": "markdown",
      "metadata": {
        "id": "olwe6yJokwbB",
        "colab_type": "text"
      },
      "source": [
        "## Regularização"
      ]
    },
    {
      "cell_type": "markdown",
      "metadata": {
        "id": "vpQB4Hsdk1aO",
        "colab_type": "text"
      },
      "source": [
        "A partir do experimento acima podemos perceber que há um **tradeoff** entre o **erro** e a **complexidade** **do modelo**."
      ]
    },
    {
      "cell_type": "markdown",
      "metadata": {
        "id": "iazE891Ba0FM",
        "colab_type": "text"
      },
      "source": [
        "> **Bias & Variance Tradeoff**"
      ]
    },
    {
      "cell_type": "markdown",
      "metadata": {
        "id": "tY37tVa1YNep",
        "colab_type": "text"
      },
      "source": [
        "![picture](https://miro.medium.com/max/492/1*kADA5Q4al9DRLoXck6_6Xw.png)"
      ]
    },
    {
      "cell_type": "markdown",
      "metadata": {
        "id": "_lmZGKatweIe",
        "colab_type": "text"
      },
      "source": [
        "> Uma maneira eficiente de **controlarmos** a **complexidade** do modelo, e ainda **reduzirmos o Bias**, é através da **regularização**.\n",
        "\n",
        "Voltando ao exemplo onde:\n",
        "($x_{1}$ e $x_{2}$) $->$ ($1, x_{1}, x_{2}, x_{1}^{2}, x_{1}x_{2}, x_{2}^{2}$)\n",
        "\n",
        "Para  o caso onde em $x_{1}$ observássemos um relacionamento **quadrático** com o alvo e em $x_{2}$ um relacionamento **linear**, a melhor função que mapearia os nossos dados seria do tipo ($1, x_{2}, x_{1}^{2}$). Contudo esse tipo de inferência, além de **pouco prática** e propensa a overfiting, incorre em problemas como [data snooping](https://work.caltech.edu/library/173.html). Uma vez que é necessário \"bisbilhotar\" os dados e passar essa informação direto pro modelo.\n"
      ]
    },
    {
      "cell_type": "markdown",
      "metadata": {
        "id": "RtwOYp26zBhQ",
        "colab_type": "text"
      },
      "source": [
        "\n",
        "\n",
        "---\n",
        "\n",
        "\n",
        "\n",
        "---\n",
        "\n"
      ]
    },
    {
      "cell_type": "markdown",
      "metadata": {
        "id": "0RGQelPZ4ZeF",
        "colab_type": "text"
      },
      "source": [
        "> **Modelos lineares com regularização**\n",
        "\n",
        "\n",
        "A maneira correta de controlarmos a complexidade do modelo é através da **regularização**, que a grosso modo **penaliza** os **maiores** **coeficientes**. A seção de [modelos lineares](https://scikit-learn.org/stable/modules/linear_model.html#) da documentação do sklearn, é uma excelente fonte para entender o funcionamento dos modelos e obter alguns exemplos."
      ]
    },
    {
      "cell_type": "markdown",
      "metadata": {
        "id": "fiNQaQb79Q2q",
        "colab_type": "text"
      },
      "source": [
        "> Formalizando **regressao linear (OLS)**, temos:\n",
        "\n",
        "$\\min_{w} || X w - y||_2^2$\n",
        "\n",
        "Onde $w = (w_1, ..., w_p)$, são os nossos **coeficientes**, que minimizam a soma do quadrado dos residuos. \n",
        "\n",
        "\n",
        "$|| X w - y||_2$ é a [l2-norm](https://medium.com/@montjoile/l0-norm-l1-norm-l2-norm-l-infinity-norm-7a7d18a4f40c) do vetor resultante.\n",
        "\n",
        "ou\n",
        "\n",
        "$sqrt(|a|^{2} + |b|^{2} + |c|^{2} + ...)$\n",
        "\n",
        "\n"
      ]
    },
    {
      "cell_type": "markdown",
      "metadata": {
        "id": "ftVmkbxgO5wg",
        "colab_type": "text"
      },
      "source": [
        "> Vamos criar uma função para repetirmos esse procedimento para os diversos modelos. Note que a única coisa que precisamos mudar na chamada da função é o próprio modelo."
      ]
    },
    {
      "cell_type": "code",
      "metadata": {
        "id": "R460B6Jh_Nn5",
        "colab_type": "code",
        "colab": {}
      },
      "source": [
        "def train_linear_model(model, X_train, X_test,  y_train, y_test, print_coef=True):\n",
        "\n",
        "  \n",
        "  #calculando o bias e a variância\n",
        "  bias_variance(model, X_train, X_test,  y_train, y_test) \n",
        "\n",
        "  #não printar com notação científica\n",
        "  np.set_printoptions(suppress=True)\n",
        "\n",
        "\n",
        "  #treinando e avaliando o modelo (R^2)\n",
        "  model.fit(X_train, y_train)\n",
        "  print(\"R2: {:.3f}\".format(model.score(X_test, y_test)))\n",
        "  #print(\"MSE: {}\".format(mean_squared_error(y_test, model.predict(X_test))))\n",
        "\n",
        "  #Coeficientes\n",
        "  if print_coef==True:  \n",
        "    print(\"---------------------\")\n",
        "    print(\"Intercept: {:.3f}\".format(model.intercept_))\n",
        "    print(\"Coeficientes: {}\".format(np.round(model.coef_,3)))\n",
        "    "
      ],
      "execution_count": null,
      "outputs": []
    },
    {
      "cell_type": "code",
      "metadata": {
        "id": "Yirn4msnlG3l",
        "colab_type": "code",
        "colab": {
          "base_uri": "https://localhost:8080/",
          "height": 170
        },
        "outputId": "94795e14-b35f-49c0-f217-76d0d12ded07"
      },
      "source": [
        "from sklearn.linear_model import LinearRegression\n",
        "\n",
        "train_linear_model(LinearRegression(), X_train.values, X_test.values,  y_train.values, y_test.values)"
      ],
      "execution_count": null,
      "outputs": [
        {
          "output_type": "stream",
          "text": [
            "Model Name:  LinearRegr\n",
            "MSE: 17.736\n",
            "Bias: 16.189\n",
            "Variance: 1.547\n",
            "R2: 0.777\n",
            "---------------------\n",
            "Intercept: 38.317\n",
            "Coeficientes: [ -0.106   0.053   0.055   3.668 -17.796   3.605   0.01   -1.396   0.315\n",
            "  -0.013  -0.982   0.008  -0.575]\n"
          ],
          "name": "stdout"
        }
      ]
    },
    {
      "cell_type": "markdown",
      "metadata": {
        "id": "9RsqTrGB3dii",
        "colab_type": "text"
      },
      "source": [
        "\n",
        "\n",
        "---\n",
        "\n",
        "\n",
        "\n",
        "---\n",
        "\n"
      ]
    },
    {
      "cell_type": "markdown",
      "metadata": {
        "colab_type": "text",
        "id": "3qDNo5ZG3fxm"
      },
      "source": [
        "> **Ridge Regressor**\n",
        "\n",
        "\n",
        "A componente de **regularização** é uma **extensão** do método OLS. O parâmetro de regularização $\\alpha \\geq 0$ **controla a penalização**. Quanto maior o valor de $\\alpha$, maior a penalização para a complexidade, portanto os coeficientes se tornam mais **robustos à colinearidade**.\n",
        "\n",
        "\n",
        ">> $\\min_{w} || X w - y||_2^2 + \\alpha ||w||_2^2$\n",
        "\n",
        "Agora precisamos minimizar $||w||_2^2$, a soma dos valores valores absolutos dos coeficientes ao quadrado."
      ]
    },
    {
      "cell_type": "code",
      "metadata": {
        "id": "Eoouc6Rxrh__",
        "colab_type": "code",
        "colab": {
          "base_uri": "https://localhost:8080/",
          "height": 170
        },
        "outputId": "b88e8caf-441b-457f-cc52-87a021ce3a52"
      },
      "source": [
        "from sklearn.linear_model import Ridge\n",
        "\n",
        "train_linear_model(Ridge(), X_train.values, X_test.values,  y_train.values, y_test.values)"
      ],
      "execution_count": null,
      "outputs": [
        {
          "output_type": "stream",
          "text": [
            "Model Name:  Ridge()\n",
            "MSE: 17.840\n",
            "Bias: 16.322\n",
            "Variance: 1.517\n",
            "R2: 0.774\n",
            "---------------------\n",
            "Intercept: 32.738\n",
            "Coeficientes: [-0.103  0.054  0.015  3.567 -9.574  3.63   0.004 -1.28   0.296 -0.014\n",
            " -0.889  0.008 -0.59 ]\n"
          ],
          "name": "stdout"
        }
      ]
    },
    {
      "cell_type": "markdown",
      "metadata": {
        "colab_type": "text",
        "id": "C2p5ei6G3fxo"
      },
      "source": [
        "Obs: Perceba que usando o sklearn, a única variável que precisamos alterar é o próprio modelo."
      ]
    },
    {
      "cell_type": "markdown",
      "metadata": {
        "id": "J6GuVw9v5DPM",
        "colab_type": "text"
      },
      "source": [
        "\n",
        "\n",
        "---\n",
        "\n",
        "\n",
        "\n",
        "---\n",
        "\n"
      ]
    },
    {
      "cell_type": "markdown",
      "metadata": {
        "colab_type": "text",
        "id": "ZySEeMMz5Pj2"
      },
      "source": [
        "> **Lasso Regression**\n",
        "\n",
        "Modifica o modelos OLS, porém utiliza a [l1-Norm](https://medium.com/@montjoile/l0-norm-l1-norm-l2-norm-l-infinity-norm-7a7d18a4f40c) ou $(|a| + |b| + |c| + ...)$.\n",
        "\n",
        "\n",
        "\n",
        ">>$\\min_{w} { \\frac{1}{2n_{\\text{samples}}} ||X w - y||_2 ^ 2 + \\alpha ||w||_1}$\n",
        "\n",
        "\n",
        "O modelo Lasso tende a estimar **coeficientes esparsos**, ou sejam com poucos coeficientes diferentes de zero, o que pode ser útil na **presença de variáveis não informativas**."
      ]
    },
    {
      "cell_type": "code",
      "metadata": {
        "id": "NVqRyhJyriUF",
        "colab_type": "code",
        "colab": {
          "base_uri": "https://localhost:8080/",
          "height": 170
        },
        "outputId": "9cd637e0-d704-41f6-e747-483e6657965e"
      },
      "source": [
        "from sklearn.linear_model import Lasso\n",
        "\n",
        "train_linear_model(Lasso(),  X_train.values, X_test.values,  y_train.values, y_test.values)"
      ],
      "execution_count": null,
      "outputs": [
        {
          "output_type": "stream",
          "text": [
            "Model Name:  Lasso()\n",
            "MSE: 22.235\n",
            "Bias: 20.992\n",
            "Variance: 1.243\n",
            "R2: 0.710\n",
            "---------------------\n",
            "Intercept: 43.995\n",
            "Coeficientes: [-0.077  0.056 -0.     0.    -0.     0.61   0.034 -0.635  0.283 -0.015\n",
            " -0.758  0.007 -0.827]\n"
          ],
          "name": "stdout"
        }
      ]
    },
    {
      "cell_type": "markdown",
      "metadata": {
        "id": "-dJVQ5cx5JcW",
        "colab_type": "text"
      },
      "source": [
        "\n",
        "\n",
        "---\n",
        "\n",
        "\n",
        "\n",
        "---\n",
        "\n"
      ]
    },
    {
      "cell_type": "markdown",
      "metadata": {
        "colab_type": "text",
        "id": "QETOc0-15U3C"
      },
      "source": [
        "> **ElasticNet**\n",
        "\n",
        "\n",
        "Esse modelo é treinado usando a regularização **l1 e l2**, onde temos poucos pesos diferentes de zero, porém mantendo as propriedade de regularização do Ridge.\n",
        "\n",
        "\n",
        "\n",
        ">>$\\min_{w} { \\frac{1}{2n_{\\text{samples}}} ||X w - y||_2 ^ 2 + \\alpha \\rho ||w||_1 +\n",
        "\\frac{\\alpha(1-\\rho)}{2} ||w||_2 ^ 2}$\n",
        "\n",
        "\n",
        "O Elasticnet é útil quando há várias features correlacionadas. O modelo Lasso provavelmente escolherá um desses aleatoriamente, enquanto Elasticnet provavelmente escolherá ambos."
      ]
    },
    {
      "cell_type": "code",
      "metadata": {
        "id": "etK27FWf3EAE",
        "colab_type": "code",
        "colab": {
          "base_uri": "https://localhost:8080/",
          "height": 170
        },
        "outputId": "bc4e121d-d0cc-4def-d097-ae97f49c24f9"
      },
      "source": [
        "from sklearn.linear_model import ElasticNet\n",
        "\n",
        "train_linear_model(ElasticNet(),  X_train.values, X_test.values,  y_train.values, y_test.values)"
      ],
      "execution_count": null,
      "outputs": [
        {
          "output_type": "stream",
          "text": [
            "Model Name:  ElasticNet\n",
            "MSE: 21.519\n",
            "Bias: 20.492\n",
            "Variance: 1.028\n",
            "R2: 0.719\n",
            "---------------------\n",
            "Intercept: 43.271\n",
            "Coeficientes: [-0.09   0.06  -0.     0.    -0.     0.826  0.032 -0.723  0.313 -0.016\n",
            " -0.77   0.007 -0.811]\n"
          ],
          "name": "stdout"
        }
      ]
    },
    {
      "cell_type": "markdown",
      "metadata": {
        "id": "C1kMzMg25LAs",
        "colab_type": "text"
      },
      "source": [
        "\n",
        "\n",
        "---\n",
        "\n",
        "\n",
        "\n",
        "---\n",
        "\n"
      ]
    },
    {
      "cell_type": "markdown",
      "metadata": {
        "id": "6WTXMFLfGZZn",
        "colab_type": "text"
      },
      "source": [
        "> **Otimização de hiperparâmetros**\n",
        "\n",
        "\n",
        "Agora vamos observar o comportamento do hiperparâmetro $\\alpha$, na performance dos modelos com regularização."
      ]
    },
    {
      "cell_type": "code",
      "metadata": {
        "id": "dGeoBRlK76XJ",
        "colab_type": "code",
        "colab": {
          "base_uri": "https://localhost:8080/",
          "height": 268
        },
        "outputId": "ec5b1751-8fd6-4d5a-dd18-8eacdde864b6"
      },
      "source": [
        "#declarando um dicionário de modelos\n",
        "models=dict()\n",
        "models[\"Ridge\"] = Ridge()\n",
        "models[\"Lasso\"] = Lasso()\n",
        "models[\"ElasticNet\"] = ElasticNet()\n",
        "#models[\"LassoLars\"] = LassoLars()\n",
        "\n",
        "#uma lista com 10 valores alpha entre (0.01 e 1)\n",
        "alphas =  np.linspace(0.01,1,11)\n",
        "\n",
        "#iterando dentro dos modelos e valores de alpha\n",
        "for name, model in models.items():\n",
        "  mse=list()\n",
        "  for alpha in alphas:\n",
        "\n",
        "    #configurado o parâmetro alpha\n",
        "    model.set_params(**{'alpha': alpha})\n",
        "\n",
        "    #treinando o model\n",
        "    model.fit(X_train, y_train)\n",
        "\n",
        "    #salvando o resultado do mse\n",
        "    mse.append(mean_squared_error(y_test, model.predict(X_test)))\n",
        "\n",
        "  plt.plot(alphas, mse, label='%s' % name)\n",
        "\n",
        "plt.legend()\n",
        "plt.show()"
      ],
      "execution_count": null,
      "outputs": [
        {
          "output_type": "display_data",
          "data": {
            "image/png": "[encoded data removed]",
            "text/plain": [
              "<Figure size 432x288 with 1 Axes>"
            ]
          },
          "metadata": {
            "tags": []
          }
        }
      ]
    },
    {
      "cell_type": "markdown",
      "metadata": {
        "id": "Lkv7Yx8nxENl",
        "colab_type": "text"
      },
      "source": [
        "\n",
        "\n",
        "---\n",
        "\n",
        "\n",
        "\n",
        "---\n",
        "\n"
      ]
    },
    {
      "cell_type": "markdown",
      "metadata": {
        "id": "hsD5OsTMgVoa",
        "colab_type": "text"
      },
      "source": [
        "### Regressao stepwise (seleção de variáveis)\n",
        "\n",
        "\n",
        "\n"
      ]
    },
    {
      "cell_type": "markdown",
      "metadata": {
        "id": "kktD6_wN5pb_",
        "colab_type": "text"
      },
      "source": [
        "Perceba que ao zerar o coeficiente de uma feature, temos o mesmo efeito de eliminar a coluna referente da matriz de features (X). Na regressão stepwise, adicionamos ou retiramos features iterativamente de maneira [gulosa](https://en.wikipedia.org/wiki/Greedy_algorithm), a fim de encontrar uma combinação de colunas sub-ótima."
      ]
    },
    {
      "cell_type": "markdown",
      "metadata": {
        "colab_type": "text",
        "id": "PB_pkt7_EJcj"
      },
      "source": [
        "> **Least Angle Regression**\n",
        "\n",
        "\n",
        "Em cada etapa, ele encontra a feature mais correlacionada ao target, ou ao resíduo do target. Em caso de haver mais de uma ele segue uma direção equiangular entre essas features.\n",
        "\n",
        "\n",
        ">> **Vantagens**:\n",
        "\n",
        "- Computacionamente eficiente\n",
        "- Robusto a multicolineariedade e alta dimensionalidade\n",
        "- Pode ser combinado a outros algoritmos (ex. LARSLasso)\n",
        "\n",
        "\n",
        "\n",
        ">> **Desvantagens:**\n",
        "\n",
        "- Por usar uma solução gulosa, na maioria dos casos teremos **resultados sub-ótimos**.\n",
        "- Como o modelo refaz o **ajuste** usando os **resíduos**, o **erro** pode **extrapolar** na presença de **ruído**.\n"
      ]
    },
    {
      "cell_type": "code",
      "metadata": {
        "id": "WXPhoZaXHM9v",
        "colab_type": "code",
        "colab": {
          "base_uri": "https://localhost:8080/",
          "height": 170
        },
        "outputId": "327ed2bc-cfd1-4f1d-b386-71c743099f2a"
      },
      "source": [
        "from sklearn.linear_model import Lars\n",
        "\n",
        "train_linear_model(Lars(),  X_train.values, X_test.values,  y_train.values, y_test.values)"
      ],
      "execution_count": null,
      "outputs": [
        {
          "output_type": "stream",
          "text": [
            "Model Name:  Lars()\n",
            "MSE: 18.076\n",
            "Bias: 16.217\n",
            "Variance: 1.860\n",
            "R2: 0.777\n",
            "---------------------\n",
            "Intercept: 38.317\n",
            "Coeficientes: [ -0.106   0.053   0.055   3.668 -17.796   3.605   0.01   -1.396   0.315\n",
            "  -0.013  -0.982   0.008  -0.575]\n"
          ],
          "name": "stdout"
        }
      ]
    },
    {
      "cell_type": "markdown",
      "metadata": {
        "id": "CkvOgJXp1lwk",
        "colab_type": "text"
      },
      "source": [
        "> Outras Maneiras\n",
        "\n",
        "- Orthogonal Matching Pursuit ([OMP](https://scikit-learn.org/stable/modules/linear_model.html#orthogonal-matching-pursuit-omp))\n",
        "- Recursive Feature Elimination ([RFE](https://scikit-learn.org/stable/modules/generated/sklearn.feature_selection.RFE.html))\n"
      ]
    },
    {
      "cell_type": "markdown",
      "metadata": {
        "id": "yxUGjLr11ofq",
        "colab_type": "text"
      },
      "source": [
        "\n",
        "\n",
        "\n",
        "---\n",
        "\n",
        "\n",
        "\n",
        "---\n",
        "\n",
        "\n",
        "\n"
      ]
    },
    {
      "cell_type": "markdown",
      "metadata": {
        "id": "NrDuk-Yd-n3I",
        "colab_type": "text"
      },
      "source": [
        "### Regressão Robusta"
      ]
    },
    {
      "cell_type": "markdown",
      "metadata": {
        "id": "DZuU1ZDoLCVp",
        "colab_type": "text"
      },
      "source": [
        "> **RANSAC (RANdom SAmple Consensus)**\n",
        "\n",
        "O algoritmo divide os dados completos da amostra de entrada em um conjunto de \"inliners\", e ajusta um modelo para um subconjunto dessas amostras repetidas vezes. Esse modelo pode ser usado em problemas não lineares.\n",
        "\n",
        "\n",
        "![picture](https://scikit-learn.org/stable/_images/sphx_glr_plot_ransac_0011.png)"
      ]
    },
    {
      "cell_type": "code",
      "metadata": {
        "id": "JRoPqipFD-t8",
        "colab_type": "code",
        "colab": {
          "base_uri": "https://localhost:8080/",
          "height": 102
        },
        "outputId": "c903d841-eb43-4773-8cbd-a2eec05006b5"
      },
      "source": [
        "from sklearn.linear_model import RANSACRegressor\n",
        "\n",
        "ransac = RANSACRegressor()\n",
        "\n",
        "#calculando o bias e a variância\n",
        "bias_variance(model, X_train.values, X_test.values,  y_train.values, y_test.values) \n",
        "\n",
        "#treinando e avaliando o modelo (R^2)\n",
        "ransac.fit(X_train, y_train)\n",
        "print(\"R2: {:.3f}\".format(ransac.score(X_test, y_test)))"
      ],
      "execution_count": null,
      "outputs": [
        {
          "output_type": "stream",
          "text": [
            "Model Name:  Ridge(alph\n",
            "MSE: 17.819\n",
            "Bias: 16.301\n",
            "Variance: 1.518\n",
            "R2: 0.535\n"
          ],
          "name": "stdout"
        }
      ]
    },
    {
      "cell_type": "markdown",
      "metadata": {
        "id": "BITIjdL6IfFl",
        "colab_type": "text"
      },
      "source": [
        "\n",
        "\n",
        "---\n",
        "\n"
      ]
    },
    {
      "cell_type": "markdown",
      "metadata": {
        "id": "310U4vnbQCYv",
        "colab_type": "text"
      },
      "source": [
        "> **Variáveis polinomiais**\n",
        "\n",
        "Agora vamos treinar os nossos modelos novamente, transformando a matriz de features (X), em uma função polinomial de grau 2. "
      ]
    },
    {
      "cell_type": "code",
      "metadata": {
        "id": "TPHMe14V8zDS",
        "colab_type": "code",
        "colab": {
          "base_uri": "https://localhost:8080/",
          "height": 255
        },
        "outputId": "73e6ab85-c02c-4e39-c288-222f98d15ec1"
      },
      "source": [
        "#transformando a matriz de features em uma funcao polinomial\n",
        "X_train_poly, X_test_poly = create_polynomial_regression_model(2, get_data=True)\n",
        "\n",
        "models=dict()\n",
        "\n",
        "models[\"LinearRegression\"] = LinearRegression()\n",
        "models[\"Ridge\"] = Ridge(alpha=0.8)\n",
        "\n",
        "#Os modelos abaixo não convegem\n",
        "#models[\"Lasso\"] = Lasso()\n",
        "#models[\"ElasticNet\"] = ElasticNet()\n",
        "#models[\"Lars\"] = Lars()\n",
        "\n",
        "\n",
        "\n",
        "for model in models.values():\n",
        "  print(\"\\n####################################\")\n",
        "  train_linear_model(model, X_train_poly, X_test_poly,  y_train.values, y_test.values, print_coef=False)"
      ],
      "execution_count": null,
      "outputs": [
        {
          "output_type": "stream",
          "text": [
            "\n",
            "####################################\n",
            "Model Name:  LinearRegr\n",
            "MSE: 489.962\n",
            "Bias: 11.517\n",
            "Variance: 478.445\n",
            "R2: 0.810\n",
            "\n",
            "####################################\n",
            "Model Name:  Ridge(alph\n",
            "MSE: 20.580\n",
            "Bias: 9.946\n",
            "Variance: 10.634\n",
            "R2: 0.853\n"
          ],
          "name": "stdout"
        }
      ]
    },
    {
      "cell_type": "markdown",
      "metadata": {
        "id": "OLopqwY6HCY7",
        "colab_type": "text"
      },
      "source": [
        "\n",
        "\n",
        "---\n",
        "\n",
        "\n",
        "\n",
        "---\n",
        "\n"
      ]
    },
    {
      "cell_type": "markdown",
      "metadata": {
        "id": "6cxOcw2eNpYd",
        "colab_type": "text"
      },
      "source": [
        "> Outros Modelos Lineares\n",
        "\n",
        "- [SVM](https://scikit-learn.org/stable/modules/svm.html#regression)\n",
        "- [Bayesian Regressor](https://scikit-learn.org/stable/modules/linear_model.html#bayesian-regression)\n",
        "- [Generalized Linear Regression](https://scikit-learn.org/stable/modules/linear_model.html#generalized-linear-regression)\n"
      ]
    },
    {
      "cell_type": "markdown",
      "metadata": {
        "id": "Qa5v_F14g58t",
        "colab_type": "text"
      },
      "source": [
        "> Critérios para escolher modelos lineares pela [documentação](https://scikit-learn.org/stable/modules/linear_model.html) do sklearn (são 17 modelos).\n",
        "\n",
        "- Dimensionalidade\n",
        "- Multicolineariedade\n",
        "- Esparsidade\n",
        "- Número de registros\n",
        "- Nivel de ruido\n",
        "- Presença de Outliers\n",
        "- Outros..."
      ]
    },
    {
      "cell_type": "markdown",
      "metadata": {
        "id": "GPG_3cA2HAlU",
        "colab_type": "text"
      },
      "source": [
        "\n",
        "\n",
        "---\n",
        "\n",
        "\n",
        "\n",
        "---\n",
        "\n"
      ]
    },
    {
      "cell_type": "markdown",
      "metadata": {
        "id": "ANEzJ-sXPHbe",
        "colab_type": "text"
      },
      "source": [
        "## Modelos de regressao não linear"
      ]
    },
    {
      "cell_type": "markdown",
      "metadata": {
        "id": "srw1BDy9bad6",
        "colab_type": "text"
      },
      "source": [
        "(Resumo modelos nao lineares)"
      ]
    },
    {
      "cell_type": "markdown",
      "metadata": {
        "id": "88WpnEXrYslZ",
        "colab_type": "text"
      },
      "source": [
        "![picture](https://miro.medium.com/max/1336/0*Mr6cB6yeOTZWFnFs.png)"
      ]
    },
    {
      "cell_type": "markdown",
      "metadata": {
        "id": "jM6D2NBbbMg0",
        "colab_type": "text"
      },
      "source": [
        "Observe como um modelo linear cria um ajuste muito mais adequado para o relacionamento dessas 2 variáveis."
      ]
    },
    {
      "cell_type": "markdown",
      "metadata": {
        "id": "cot06e1JZKHa",
        "colab_type": "text"
      },
      "source": [
        "![picture](https://miro.medium.com/max/691/1*Edq1ZIOo26Iqp3CuUTWotA.png)"
      ]
    },
    {
      "cell_type": "markdown",
      "metadata": {
        "id": "rW2ZvaDwbkYk",
        "colab_type": "text"
      },
      "source": [
        "> Apesar da natureza do **modelo** ser totalmente **diferente**, a forma de fazer o **ajuste** com o sklearn é **idêntica** aos modelos lineares."
      ]
    },
    {
      "cell_type": "code",
      "metadata": {
        "id": "MQk3XE0JkO5U",
        "colab_type": "code",
        "colab": {
          "base_uri": "https://localhost:8080/",
          "height": 102
        },
        "outputId": "e31032d4-641f-45f9-b982-ea6a44cfa715"
      },
      "source": [
        "from sklearn.ensemble import RandomForestRegressor\n",
        "\n",
        "reg_rf = RandomForestRegressor(n_estimators=20) #O padrao é 100\n",
        "\n",
        "#calculando o bias e a variância\n",
        "bias_variance(reg_rf, X_train.values, X_test.values,  y_train.values, y_test.values) \n",
        "\n",
        "#treinando e avaliando o modelo (R^2)\n",
        "reg_rf.fit(X_train, y_train)\n",
        "print(\"R2: {:.3f}\".format(reg_rf.score(X_test, y_test)))"
      ],
      "execution_count": null,
      "outputs": [
        {
          "output_type": "stream",
          "text": [
            "Model Name:  RandomFore\n",
            "MSE: 9.354\n",
            "Bias: 6.516\n",
            "Variance: 2.838\n",
            "R2: 0.894\n"
          ],
          "name": "stdout"
        }
      ]
    },
    {
      "cell_type": "markdown",
      "metadata": {
        "id": "2v-ffuZFb52w",
        "colab_type": "text"
      },
      "source": [
        "**Obs: Perceba que para ambas as métricas MSE e R2, tivemos um resultado muito superior aos modelos lineares.**"
      ]
    },
    {
      "cell_type": "markdown",
      "metadata": {
        "id": "jNHcdAqk7k81",
        "colab_type": "text"
      },
      "source": [
        "\n",
        "\n",
        "---\n",
        "\n",
        "\n",
        "\n",
        "---\n",
        "\n"
      ]
    },
    {
      "cell_type": "markdown",
      "metadata": {
        "id": "0rZx2I4QgLIZ",
        "colab_type": "text"
      },
      "source": [
        "# Comparacao de modelos com Auto ML"
      ]
    },
    {
      "cell_type": "markdown",
      "metadata": {
        "colab_type": "text",
        "id": "BaoT9As1HjLF"
      },
      "source": [
        "> **Student Dataset**\n",
        "\n",
        "Agora iremos usar um dataset diferente, precisamos prever a nota final de um estudante em matemática, baseado em dados socioeconômicos.\n",
        "\n",
        "[Link UCI](https://archive.ics.uci.edu/ml/datasets/student+performance)\n",
        "\n",
        "[Descrição](https://github.com/nicholasrichers/regressao-neuron/blob/master/student_dataset/student.txt)"
      ]
    },
    {
      "cell_type": "code",
      "metadata": {
        "colab_type": "code",
        "id": "naaZmmg_HjLI",
        "colab": {
          "base_uri": "https://localhost:8080/",
          "height": 224
        },
        "outputId": "499d9c09-9228-49ea-e81c-24df58cb278c"
      },
      "source": [
        "#student\n",
        "import pandas as pd\n",
        "dados_url = 'https://raw.githubusercontent.com/nicholasrichers/regressao-neuron/master/student_dataset/student-mat.csv'\n",
        "\n",
        "data = pd.read_csv(dados_url, sep=\";\")\n",
        "\n",
        "data.head()"
      ],
      "execution_count": null,
      "outputs": [
        {
          "output_type": "execute_result",
          "data": {
            "text/html": [
              "<div>\n",
              "<style scoped>\n",
              "    .dataframe tbody tr th:only-of-type {\n",
              "        vertical-align: middle;\n",
              "    }\n",
              "\n",
              "    .dataframe tbody tr th {\n",
              "        vertical-align: top;\n",
              "    }\n",
              "\n",
              "    .dataframe thead th {\n",
              "        text-align: right;\n",
              "    }\n",
              "</style>\n",
              "<table border=\"1\" class=\"dataframe\">\n",
              "  <thead>\n",
              "    <tr style=\"text-align: right;\">\n",
              "      <th></th>\n",
              "      <th>school</th>\n",
              "      <th>sex</th>\n",
              "      <th>age</th>\n",
              "      <th>address</th>\n",
              "      <th>famsize</th>\n",
              "      <th>Pstatus</th>\n",
              "      <th>Medu</th>\n",
              "      <th>Fedu</th>\n",
              "      <th>Mjob</th>\n",
              "      <th>Fjob</th>\n",
              "      <th>reason</th>\n",
              "      <th>guardian</th>\n",
              "      <th>traveltime</th>\n",
              "      <th>studytime</th>\n",
              "      <th>failures</th>\n",
              "      <th>schoolsup</th>\n",
              "      <th>famsup</th>\n",
              "      <th>paid</th>\n",
              "      <th>activities</th>\n",
              "      <th>nursery</th>\n",
              "      <th>higher</th>\n",
              "      <th>internet</th>\n",
              "      <th>romantic</th>\n",
              "      <th>famrel</th>\n",
              "      <th>freetime</th>\n",
              "      <th>goout</th>\n",
              "      <th>Dalc</th>\n",
              "      <th>Walc</th>\n",
              "      <th>health</th>\n",
              "      <th>absences</th>\n",
              "      <th>G1</th>\n",
              "      <th>G2</th>\n",
              "      <th>G3</th>\n",
              "    </tr>\n",
              "  </thead>\n",
              "  <tbody>\n",
              "    <tr>\n",
              "      <th>0</th>\n",
              "      <td>GP</td>\n",
              "      <td>F</td>\n",
              "      <td>18</td>\n",
              "      <td>U</td>\n",
              "      <td>GT3</td>\n",
              "      <td>A</td>\n",
              "      <td>4</td>\n",
              "      <td>4</td>\n",
              "      <td>at_home</td>\n",
              "      <td>teacher</td>\n",
              "      <td>course</td>\n",
              "      <td>mother</td>\n",
              "      <td>2</td>\n",
              "      <td>2</td>\n",
              "      <td>0</td>\n",
              "      <td>yes</td>\n",
              "      <td>no</td>\n",
              "      <td>no</td>\n",
              "      <td>no</td>\n",
              "      <td>yes</td>\n",
              "      <td>yes</td>\n",
              "      <td>no</td>\n",
              "      <td>no</td>\n",
              "      <td>4</td>\n",
              "      <td>3</td>\n",
              "      <td>4</td>\n",
              "      <td>1</td>\n",
              "      <td>1</td>\n",
              "      <td>3</td>\n",
              "      <td>6</td>\n",
              "      <td>5</td>\n",
              "      <td>6</td>\n",
              "      <td>6</td>\n",
              "    </tr>\n",
              "    <tr>\n",
              "      <th>1</th>\n",
              "      <td>GP</td>\n",
              "      <td>F</td>\n",
              "      <td>17</td>\n",
              "      <td>U</td>\n",
              "      <td>GT3</td>\n",
              "      <td>T</td>\n",
              "      <td>1</td>\n",
              "      <td>1</td>\n",
              "      <td>at_home</td>\n",
              "      <td>other</td>\n",
              "      <td>course</td>\n",
              "      <td>father</td>\n",
              "      <td>1</td>\n",
              "      <td>2</td>\n",
              "      <td>0</td>\n",
              "      <td>no</td>\n",
              "      <td>yes</td>\n",
              "      <td>no</td>\n",
              "      <td>no</td>\n",
              "      <td>no</td>\n",
              "      <td>yes</td>\n",
              "      <td>yes</td>\n",
              "      <td>no</td>\n",
              "      <td>5</td>\n",
              "      <td>3</td>\n",
              "      <td>3</td>\n",
              "      <td>1</td>\n",
              "      <td>1</td>\n",
              "      <td>3</td>\n",
              "      <td>4</td>\n",
              "      <td>5</td>\n",
              "      <td>5</td>\n",
              "      <td>6</td>\n",
              "    </tr>\n",
              "    <tr>\n",
              "      <th>2</th>\n",
              "      <td>GP</td>\n",
              "      <td>F</td>\n",
              "      <td>15</td>\n",
              "      <td>U</td>\n",
              "      <td>LE3</td>\n",
              "      <td>T</td>\n",
              "      <td>1</td>\n",
              "      <td>1</td>\n",
              "      <td>at_home</td>\n",
              "      <td>other</td>\n",
              "      <td>other</td>\n",
              "      <td>mother</td>\n",
              "      <td>1</td>\n",
              "      <td>2</td>\n",
              "      <td>3</td>\n",
              "      <td>yes</td>\n",
              "      <td>no</td>\n",
              "      <td>yes</td>\n",
              "      <td>no</td>\n",
              "      <td>yes</td>\n",
              "      <td>yes</td>\n",
              "      <td>yes</td>\n",
              "      <td>no</td>\n",
              "      <td>4</td>\n",
              "      <td>3</td>\n",
              "      <td>2</td>\n",
              "      <td>2</td>\n",
              "      <td>3</td>\n",
              "      <td>3</td>\n",
              "      <td>10</td>\n",
              "      <td>7</td>\n",
              "      <td>8</td>\n",
              "      <td>10</td>\n",
              "    </tr>\n",
              "    <tr>\n",
              "      <th>3</th>\n",
              "      <td>GP</td>\n",
              "      <td>F</td>\n",
              "      <td>15</td>\n",
              "      <td>U</td>\n",
              "      <td>GT3</td>\n",
              "      <td>T</td>\n",
              "      <td>4</td>\n",
              "      <td>2</td>\n",
              "      <td>health</td>\n",
              "      <td>services</td>\n",
              "      <td>home</td>\n",
              "      <td>mother</td>\n",
              "      <td>1</td>\n",
              "      <td>3</td>\n",
              "      <td>0</td>\n",
              "      <td>no</td>\n",
              "      <td>yes</td>\n",
              "      <td>yes</td>\n",
              "      <td>yes</td>\n",
              "      <td>yes</td>\n",
              "      <td>yes</td>\n",
              "      <td>yes</td>\n",
              "      <td>yes</td>\n",
              "      <td>3</td>\n",
              "      <td>2</td>\n",
              "      <td>2</td>\n",
              "      <td>1</td>\n",
              "      <td>1</td>\n",
              "      <td>5</td>\n",
              "      <td>2</td>\n",
              "      <td>15</td>\n",
              "      <td>14</td>\n",
              "      <td>15</td>\n",
              "    </tr>\n",
              "    <tr>\n",
              "      <th>4</th>\n",
              "      <td>GP</td>\n",
              "      <td>F</td>\n",
              "      <td>16</td>\n",
              "      <td>U</td>\n",
              "      <td>GT3</td>\n",
              "      <td>T</td>\n",
              "      <td>3</td>\n",
              "      <td>3</td>\n",
              "      <td>other</td>\n",
              "      <td>other</td>\n",
              "      <td>home</td>\n",
              "      <td>father</td>\n",
              "      <td>1</td>\n",
              "      <td>2</td>\n",
              "      <td>0</td>\n",
              "      <td>no</td>\n",
              "      <td>yes</td>\n",
              "      <td>yes</td>\n",
              "      <td>no</td>\n",
              "      <td>yes</td>\n",
              "      <td>yes</td>\n",
              "      <td>no</td>\n",
              "      <td>no</td>\n",
              "      <td>4</td>\n",
              "      <td>3</td>\n",
              "      <td>2</td>\n",
              "      <td>1</td>\n",
              "      <td>2</td>\n",
              "      <td>5</td>\n",
              "      <td>4</td>\n",
              "      <td>6</td>\n",
              "      <td>10</td>\n",
              "      <td>10</td>\n",
              "    </tr>\n",
              "  </tbody>\n",
              "</table>\n",
              "</div>"
            ],
            "text/plain": [
              "  school sex  age address famsize Pstatus  ...  Walc  health absences  G1  G2  G3\n",
              "0     GP   F   18       U     GT3       A  ...     1       3        6   5   6   6\n",
              "1     GP   F   17       U     GT3       T  ...     1       3        4   5   5   6\n",
              "2     GP   F   15       U     LE3       T  ...     3       3       10   7   8  10\n",
              "3     GP   F   15       U     GT3       T  ...     1       5        2  15  14  15\n",
              "4     GP   F   16       U     GT3       T  ...     2       5        4   6  10  10\n",
              "\n",
              "[5 rows x 33 columns]"
            ]
          },
          "metadata": {
            "tags": []
          },
          "execution_count": 2
        }
      ]
    },
    {
      "cell_type": "code",
      "metadata": {
        "id": "PS3Ju8tWQj8v",
        "colab_type": "code",
        "colab": {
          "base_uri": "https://localhost:8080/",
          "height": 34
        },
        "outputId": "61cf8105-05a1-49ec-bf83-089f7e074a90"
      },
      "source": [
        "#criei a coluna média das notas\n",
        "data[\"media\"] = (data[\"G1\"] + data[\"G2\"] + data[\"G3\"])/3\n",
        "\n",
        "#deletando as outras notas\n",
        "data.drop(columns=[\"G1\",\"G2\",\"G3\"], inplace=True)\n",
        "\n",
        "data.shape"
      ],
      "execution_count": null,
      "outputs": [
        {
          "output_type": "execute_result",
          "data": {
            "text/plain": [
              "(395, 31)"
            ]
          },
          "metadata": {
            "tags": []
          },
          "execution_count": 3
        }
      ]
    },
    {
      "cell_type": "markdown",
      "metadata": {
        "id": "9uE6FOxR7iu9",
        "colab_type": "text"
      },
      "source": [
        "\n",
        "\n",
        "---\n",
        "\n",
        "\n",
        "\n",
        "---\n",
        "\n"
      ]
    },
    {
      "cell_type": "markdown",
      "metadata": {
        "id": "iXF_d2jRhBXI",
        "colab_type": "text"
      },
      "source": [
        "> **Pycaret**\n",
        "\n",
        "Pycaret é uma excelente **ferramenta** para usar em **conjunto** com o **sklearn**, esse [post](https://towardsdatascience.com/announcing-pycaret-2-0-39c11014540e) é uma otima introdução a essa biblioteca."
      ]
    },
    {
      "cell_type": "code",
      "metadata": {
        "id": "QbH5vDM2gp6n",
        "colab_type": "code",
        "colab": {}
      },
      "source": [
        "from pycaret.regression import *\n",
        "\n",
        "#lista dos modelos disponiveis\n",
        "#models()"
      ],
      "execution_count": null,
      "outputs": []
    },
    {
      "cell_type": "code",
      "metadata": {
        "id": "Okg0CCQ0dqxE",
        "colab_type": "code",
        "colab": {
          "base_uri": "https://localhost:8080/",
          "height": 515,
          "referenced_widgets": [
            "201339ec51b1476fbe7bdd36136371df",
            "7bbcaa42840b4afba179b78502cfa59d",
            "212088e95d854aa6a9ab3d10eb6e99a9",
            "5f63ee5eadf048938395514a3169b517",
            "183b84197ef04f219ec7880c3fcaa132",
            "2d1d3e7f4c654a69ad747c48ad08f653",
            "3cba5e05ab50489f9d4e1795607e868f",
            "9a864028664e4831a7f1d4252896eb8c",
            "2f4a5f942d4d4c258e9ffbd564c830ea"
          ]
        },
        "outputId": "5b7b5caf-e694-42cc-dba7-c1d187655cd7"
      },
      "source": [
        "%%time\n",
        "# init setup\n",
        "reg2 = setup(df, target = 'medv') \n",
        "\n",
        "# validação cruzada 5-fold\n",
        "best_specific = compare_models(fold=3, n_select = 5, blacklist = ['tr']) "
      ],
      "execution_count": null,
      "outputs": [
        {
          "output_type": "display_data",
          "data": {
            "text/html": [
              "<style  type=\"text/css\" >\n",
              "    #T_e018fa76_f301_11ea_83d0_0242ac1c0002 th {\n",
              "          text-align: left;\n",
              "    }    #T_e018fa76_f301_11ea_83d0_0242ac1c0002row0_col0 {\n",
              "            text-align:  left;\n",
              "        }    #T_e018fa76_f301_11ea_83d0_0242ac1c0002row0_col1 {\n",
              "            background-color:  yellow;\n",
              "            text-align:  left;\n",
              "        }    #T_e018fa76_f301_11ea_83d0_0242ac1c0002row0_col2 {\n",
              "            background-color:  yellow;\n",
              "            text-align:  left;\n",
              "        }    #T_e018fa76_f301_11ea_83d0_0242ac1c0002row0_col3 {\n",
              "            background-color:  yellow;\n",
              "            text-align:  left;\n",
              "        }    #T_e018fa76_f301_11ea_83d0_0242ac1c0002row0_col4 {\n",
              "            background-color:  yellow;\n",
              "            text-align:  left;\n",
              "        }    #T_e018fa76_f301_11ea_83d0_0242ac1c0002row0_col5 {\n",
              "            background-color:  yellow;\n",
              "            text-align:  left;\n",
              "        }    #T_e018fa76_f301_11ea_83d0_0242ac1c0002row0_col6 {\n",
              "            background-color:  yellow;\n",
              "            text-align:  left;\n",
              "        }    #T_e018fa76_f301_11ea_83d0_0242ac1c0002row0_col7 {\n",
              "            background-color:  lightgrey;\n",
              "            text-align:  left;\n",
              "        }    #T_e018fa76_f301_11ea_83d0_0242ac1c0002row1_col0 {\n",
              "            text-align:  left;\n",
              "        }    #T_e018fa76_f301_11ea_83d0_0242ac1c0002row1_col1 {\n",
              "            : ;\n",
              "            text-align:  left;\n",
              "        }    #T_e018fa76_f301_11ea_83d0_0242ac1c0002row1_col2 {\n",
              "            : ;\n",
              "            text-align:  left;\n",
              "        }    #T_e018fa76_f301_11ea_83d0_0242ac1c0002row1_col3 {\n",
              "            : ;\n",
              "            text-align:  left;\n",
              "        }    #T_e018fa76_f301_11ea_83d0_0242ac1c0002row1_col4 {\n",
              "            : ;\n",
              "            text-align:  left;\n",
              "        }    #T_e018fa76_f301_11ea_83d0_0242ac1c0002row1_col5 {\n",
              "            : ;\n",
              "            text-align:  left;\n",
              "        }    #T_e018fa76_f301_11ea_83d0_0242ac1c0002row1_col6 {\n",
              "            : ;\n",
              "            text-align:  left;\n",
              "        }    #T_e018fa76_f301_11ea_83d0_0242ac1c0002row1_col7 {\n",
              "            background-color:  lightgrey;\n",
              "            text-align:  left;\n",
              "        }    #T_e018fa76_f301_11ea_83d0_0242ac1c0002row2_col0 {\n",
              "            text-align:  left;\n",
              "        }    #T_e018fa76_f301_11ea_83d0_0242ac1c0002row2_col1 {\n",
              "            : ;\n",
              "            text-align:  left;\n",
              "        }    #T_e018fa76_f301_11ea_83d0_0242ac1c0002row2_col2 {\n",
              "            : ;\n",
              "            text-align:  left;\n",
              "        }    #T_e018fa76_f301_11ea_83d0_0242ac1c0002row2_col3 {\n",
              "            : ;\n",
              "            text-align:  left;\n",
              "        }    #T_e018fa76_f301_11ea_83d0_0242ac1c0002row2_col4 {\n",
              "            : ;\n",
              "            text-align:  left;\n",
              "        }    #T_e018fa76_f301_11ea_83d0_0242ac1c0002row2_col5 {\n",
              "            : ;\n",
              "            text-align:  left;\n",
              "        }    #T_e018fa76_f301_11ea_83d0_0242ac1c0002row2_col6 {\n",
              "            : ;\n",
              "            text-align:  left;\n",
              "        }    #T_e018fa76_f301_11ea_83d0_0242ac1c0002row2_col7 {\n",
              "            background-color:  lightgrey;\n",
              "            text-align:  left;\n",
              "        }    #T_e018fa76_f301_11ea_83d0_0242ac1c0002row3_col0 {\n",
              "            text-align:  left;\n",
              "        }    #T_e018fa76_f301_11ea_83d0_0242ac1c0002row3_col1 {\n",
              "            : ;\n",
              "            text-align:  left;\n",
              "        }    #T_e018fa76_f301_11ea_83d0_0242ac1c0002row3_col2 {\n",
              "            : ;\n",
              "            text-align:  left;\n",
              "        }    #T_e018fa76_f301_11ea_83d0_0242ac1c0002row3_col3 {\n",
              "            : ;\n",
              "            text-align:  left;\n",
              "        }    #T_e018fa76_f301_11ea_83d0_0242ac1c0002row3_col4 {\n",
              "            : ;\n",
              "            text-align:  left;\n",
              "        }    #T_e018fa76_f301_11ea_83d0_0242ac1c0002row3_col5 {\n",
              "            : ;\n",
              "            text-align:  left;\n",
              "        }    #T_e018fa76_f301_11ea_83d0_0242ac1c0002row3_col6 {\n",
              "            : ;\n",
              "            text-align:  left;\n",
              "        }    #T_e018fa76_f301_11ea_83d0_0242ac1c0002row3_col7 {\n",
              "            background-color:  lightgrey;\n",
              "            text-align:  left;\n",
              "        }    #T_e018fa76_f301_11ea_83d0_0242ac1c0002row4_col0 {\n",
              "            text-align:  left;\n",
              "        }    #T_e018fa76_f301_11ea_83d0_0242ac1c0002row4_col1 {\n",
              "            : ;\n",
              "            text-align:  left;\n",
              "        }    #T_e018fa76_f301_11ea_83d0_0242ac1c0002row4_col2 {\n",
              "            : ;\n",
              "            text-align:  left;\n",
              "        }    #T_e018fa76_f301_11ea_83d0_0242ac1c0002row4_col3 {\n",
              "            : ;\n",
              "            text-align:  left;\n",
              "        }    #T_e018fa76_f301_11ea_83d0_0242ac1c0002row4_col4 {\n",
              "            : ;\n",
              "            text-align:  left;\n",
              "        }    #T_e018fa76_f301_11ea_83d0_0242ac1c0002row4_col5 {\n",
              "            : ;\n",
              "            text-align:  left;\n",
              "        }    #T_e018fa76_f301_11ea_83d0_0242ac1c0002row4_col6 {\n",
              "            : ;\n",
              "            text-align:  left;\n",
              "        }    #T_e018fa76_f301_11ea_83d0_0242ac1c0002row4_col7 {\n",
              "            background-color:  lightgrey;\n",
              "            text-align:  left;\n",
              "        }    #T_e018fa76_f301_11ea_83d0_0242ac1c0002row5_col0 {\n",
              "            text-align:  left;\n",
              "        }    #T_e018fa76_f301_11ea_83d0_0242ac1c0002row5_col1 {\n",
              "            : ;\n",
              "            text-align:  left;\n",
              "        }    #T_e018fa76_f301_11ea_83d0_0242ac1c0002row5_col2 {\n",
              "            : ;\n",
              "            text-align:  left;\n",
              "        }    #T_e018fa76_f301_11ea_83d0_0242ac1c0002row5_col3 {\n",
              "            : ;\n",
              "            text-align:  left;\n",
              "        }    #T_e018fa76_f301_11ea_83d0_0242ac1c0002row5_col4 {\n",
              "            : ;\n",
              "            text-align:  left;\n",
              "        }    #T_e018fa76_f301_11ea_83d0_0242ac1c0002row5_col5 {\n",
              "            : ;\n",
              "            text-align:  left;\n",
              "        }    #T_e018fa76_f301_11ea_83d0_0242ac1c0002row5_col6 {\n",
              "            : ;\n",
              "            text-align:  left;\n",
              "        }    #T_e018fa76_f301_11ea_83d0_0242ac1c0002row5_col7 {\n",
              "            background-color:  lightgrey;\n",
              "            text-align:  left;\n",
              "        }    #T_e018fa76_f301_11ea_83d0_0242ac1c0002row6_col0 {\n",
              "            text-align:  left;\n",
              "        }    #T_e018fa76_f301_11ea_83d0_0242ac1c0002row6_col1 {\n",
              "            : ;\n",
              "            text-align:  left;\n",
              "        }    #T_e018fa76_f301_11ea_83d0_0242ac1c0002row6_col2 {\n",
              "            : ;\n",
              "            text-align:  left;\n",
              "        }    #T_e018fa76_f301_11ea_83d0_0242ac1c0002row6_col3 {\n",
              "            : ;\n",
              "            text-align:  left;\n",
              "        }    #T_e018fa76_f301_11ea_83d0_0242ac1c0002row6_col4 {\n",
              "            : ;\n",
              "            text-align:  left;\n",
              "        }    #T_e018fa76_f301_11ea_83d0_0242ac1c0002row6_col5 {\n",
              "            : ;\n",
              "            text-align:  left;\n",
              "        }    #T_e018fa76_f301_11ea_83d0_0242ac1c0002row6_col6 {\n",
              "            : ;\n",
              "            text-align:  left;\n",
              "        }    #T_e018fa76_f301_11ea_83d0_0242ac1c0002row6_col7 {\n",
              "            background-color:  lightgrey;\n",
              "            text-align:  left;\n",
              "        }    #T_e018fa76_f301_11ea_83d0_0242ac1c0002row7_col0 {\n",
              "            text-align:  left;\n",
              "        }    #T_e018fa76_f301_11ea_83d0_0242ac1c0002row7_col1 {\n",
              "            : ;\n",
              "            text-align:  left;\n",
              "        }    #T_e018fa76_f301_11ea_83d0_0242ac1c0002row7_col2 {\n",
              "            : ;\n",
              "            text-align:  left;\n",
              "        }    #T_e018fa76_f301_11ea_83d0_0242ac1c0002row7_col3 {\n",
              "            : ;\n",
              "            text-align:  left;\n",
              "        }    #T_e018fa76_f301_11ea_83d0_0242ac1c0002row7_col4 {\n",
              "            : ;\n",
              "            text-align:  left;\n",
              "        }    #T_e018fa76_f301_11ea_83d0_0242ac1c0002row7_col5 {\n",
              "            : ;\n",
              "            text-align:  left;\n",
              "        }    #T_e018fa76_f301_11ea_83d0_0242ac1c0002row7_col6 {\n",
              "            : ;\n",
              "            text-align:  left;\n",
              "        }    #T_e018fa76_f301_11ea_83d0_0242ac1c0002row7_col7 {\n",
              "            background-color:  lightgrey;\n",
              "            text-align:  left;\n",
              "        }    #T_e018fa76_f301_11ea_83d0_0242ac1c0002row8_col0 {\n",
              "            text-align:  left;\n",
              "        }    #T_e018fa76_f301_11ea_83d0_0242ac1c0002row8_col1 {\n",
              "            : ;\n",
              "            text-align:  left;\n",
              "        }    #T_e018fa76_f301_11ea_83d0_0242ac1c0002row8_col2 {\n",
              "            : ;\n",
              "            text-align:  left;\n",
              "        }    #T_e018fa76_f301_11ea_83d0_0242ac1c0002row8_col3 {\n",
              "            : ;\n",
              "            text-align:  left;\n",
              "        }    #T_e018fa76_f301_11ea_83d0_0242ac1c0002row8_col4 {\n",
              "            : ;\n",
              "            text-align:  left;\n",
              "        }    #T_e018fa76_f301_11ea_83d0_0242ac1c0002row8_col5 {\n",
              "            : ;\n",
              "            text-align:  left;\n",
              "        }    #T_e018fa76_f301_11ea_83d0_0242ac1c0002row8_col6 {\n",
              "            : ;\n",
              "            text-align:  left;\n",
              "        }    #T_e018fa76_f301_11ea_83d0_0242ac1c0002row8_col7 {\n",
              "            background-color:  lightgrey;\n",
              "            text-align:  left;\n",
              "        }    #T_e018fa76_f301_11ea_83d0_0242ac1c0002row9_col0 {\n",
              "            text-align:  left;\n",
              "        }    #T_e018fa76_f301_11ea_83d0_0242ac1c0002row9_col1 {\n",
              "            : ;\n",
              "            text-align:  left;\n",
              "        }    #T_e018fa76_f301_11ea_83d0_0242ac1c0002row9_col2 {\n",
              "            : ;\n",
              "            text-align:  left;\n",
              "        }    #T_e018fa76_f301_11ea_83d0_0242ac1c0002row9_col3 {\n",
              "            : ;\n",
              "            text-align:  left;\n",
              "        }    #T_e018fa76_f301_11ea_83d0_0242ac1c0002row9_col4 {\n",
              "            : ;\n",
              "            text-align:  left;\n",
              "        }    #T_e018fa76_f301_11ea_83d0_0242ac1c0002row9_col5 {\n",
              "            : ;\n",
              "            text-align:  left;\n",
              "        }    #T_e018fa76_f301_11ea_83d0_0242ac1c0002row9_col6 {\n",
              "            : ;\n",
              "            text-align:  left;\n",
              "        }    #T_e018fa76_f301_11ea_83d0_0242ac1c0002row9_col7 {\n",
              "            background-color:  lightgrey;\n",
              "            text-align:  left;\n",
              "        }    #T_e018fa76_f301_11ea_83d0_0242ac1c0002row10_col0 {\n",
              "            text-align:  left;\n",
              "        }    #T_e018fa76_f301_11ea_83d0_0242ac1c0002row10_col1 {\n",
              "            : ;\n",
              "            text-align:  left;\n",
              "        }    #T_e018fa76_f301_11ea_83d0_0242ac1c0002row10_col2 {\n",
              "            : ;\n",
              "            text-align:  left;\n",
              "        }    #T_e018fa76_f301_11ea_83d0_0242ac1c0002row10_col3 {\n",
              "            : ;\n",
              "            text-align:  left;\n",
              "        }    #T_e018fa76_f301_11ea_83d0_0242ac1c0002row10_col4 {\n",
              "            : ;\n",
              "            text-align:  left;\n",
              "        }    #T_e018fa76_f301_11ea_83d0_0242ac1c0002row10_col5 {\n",
              "            : ;\n",
              "            text-align:  left;\n",
              "        }    #T_e018fa76_f301_11ea_83d0_0242ac1c0002row10_col6 {\n",
              "            : ;\n",
              "            text-align:  left;\n",
              "        }    #T_e018fa76_f301_11ea_83d0_0242ac1c0002row10_col7 {\n",
              "            background-color:  lightgrey;\n",
              "            text-align:  left;\n",
              "        }    #T_e018fa76_f301_11ea_83d0_0242ac1c0002row11_col0 {\n",
              "            text-align:  left;\n",
              "        }    #T_e018fa76_f301_11ea_83d0_0242ac1c0002row11_col1 {\n",
              "            : ;\n",
              "            text-align:  left;\n",
              "        }    #T_e018fa76_f301_11ea_83d0_0242ac1c0002row11_col2 {\n",
              "            : ;\n",
              "            text-align:  left;\n",
              "        }    #T_e018fa76_f301_11ea_83d0_0242ac1c0002row11_col3 {\n",
              "            : ;\n",
              "            text-align:  left;\n",
              "        }    #T_e018fa76_f301_11ea_83d0_0242ac1c0002row11_col4 {\n",
              "            : ;\n",
              "            text-align:  left;\n",
              "        }    #T_e018fa76_f301_11ea_83d0_0242ac1c0002row11_col5 {\n",
              "            : ;\n",
              "            text-align:  left;\n",
              "        }    #T_e018fa76_f301_11ea_83d0_0242ac1c0002row11_col6 {\n",
              "            : ;\n",
              "            text-align:  left;\n",
              "        }    #T_e018fa76_f301_11ea_83d0_0242ac1c0002row11_col7 {\n",
              "            background-color:  lightgrey;\n",
              "            text-align:  left;\n",
              "        }    #T_e018fa76_f301_11ea_83d0_0242ac1c0002row12_col0 {\n",
              "            text-align:  left;\n",
              "        }    #T_e018fa76_f301_11ea_83d0_0242ac1c0002row12_col1 {\n",
              "            : ;\n",
              "            text-align:  left;\n",
              "        }    #T_e018fa76_f301_11ea_83d0_0242ac1c0002row12_col2 {\n",
              "            : ;\n",
              "            text-align:  left;\n",
              "        }    #T_e018fa76_f301_11ea_83d0_0242ac1c0002row12_col3 {\n",
              "            : ;\n",
              "            text-align:  left;\n",
              "        }    #T_e018fa76_f301_11ea_83d0_0242ac1c0002row12_col4 {\n",
              "            : ;\n",
              "            text-align:  left;\n",
              "        }    #T_e018fa76_f301_11ea_83d0_0242ac1c0002row12_col5 {\n",
              "            : ;\n",
              "            text-align:  left;\n",
              "        }    #T_e018fa76_f301_11ea_83d0_0242ac1c0002row12_col6 {\n",
              "            : ;\n",
              "            text-align:  left;\n",
              "        }    #T_e018fa76_f301_11ea_83d0_0242ac1c0002row12_col7 {\n",
              "            background-color:  lightgrey;\n",
              "            text-align:  left;\n",
              "        }    #T_e018fa76_f301_11ea_83d0_0242ac1c0002row13_col0 {\n",
              "            text-align:  left;\n",
              "        }    #T_e018fa76_f301_11ea_83d0_0242ac1c0002row13_col1 {\n",
              "            : ;\n",
              "            text-align:  left;\n",
              "        }    #T_e018fa76_f301_11ea_83d0_0242ac1c0002row13_col2 {\n",
              "            : ;\n",
              "            text-align:  left;\n",
              "        }    #T_e018fa76_f301_11ea_83d0_0242ac1c0002row13_col3 {\n",
              "            : ;\n",
              "            text-align:  left;\n",
              "        }    #T_e018fa76_f301_11ea_83d0_0242ac1c0002row13_col4 {\n",
              "            : ;\n",
              "            text-align:  left;\n",
              "        }    #T_e018fa76_f301_11ea_83d0_0242ac1c0002row13_col5 {\n",
              "            : ;\n",
              "            text-align:  left;\n",
              "        }    #T_e018fa76_f301_11ea_83d0_0242ac1c0002row13_col6 {\n",
              "            : ;\n",
              "            text-align:  left;\n",
              "        }    #T_e018fa76_f301_11ea_83d0_0242ac1c0002row13_col7 {\n",
              "            background-color:  lightgrey;\n",
              "            text-align:  left;\n",
              "        }    #T_e018fa76_f301_11ea_83d0_0242ac1c0002row14_col0 {\n",
              "            text-align:  left;\n",
              "        }    #T_e018fa76_f301_11ea_83d0_0242ac1c0002row14_col1 {\n",
              "            : ;\n",
              "            text-align:  left;\n",
              "        }    #T_e018fa76_f301_11ea_83d0_0242ac1c0002row14_col2 {\n",
              "            : ;\n",
              "            text-align:  left;\n",
              "        }    #T_e018fa76_f301_11ea_83d0_0242ac1c0002row14_col3 {\n",
              "            : ;\n",
              "            text-align:  left;\n",
              "        }    #T_e018fa76_f301_11ea_83d0_0242ac1c0002row14_col4 {\n",
              "            : ;\n",
              "            text-align:  left;\n",
              "        }    #T_e018fa76_f301_11ea_83d0_0242ac1c0002row14_col5 {\n",
              "            : ;\n",
              "            text-align:  left;\n",
              "        }    #T_e018fa76_f301_11ea_83d0_0242ac1c0002row14_col6 {\n",
              "            : ;\n",
              "            text-align:  left;\n",
              "        }    #T_e018fa76_f301_11ea_83d0_0242ac1c0002row14_col7 {\n",
              "            background-color:  lightgrey;\n",
              "            text-align:  left;\n",
              "        }    #T_e018fa76_f301_11ea_83d0_0242ac1c0002row15_col0 {\n",
              "            text-align:  left;\n",
              "        }    #T_e018fa76_f301_11ea_83d0_0242ac1c0002row15_col1 {\n",
              "            : ;\n",
              "            text-align:  left;\n",
              "        }    #T_e018fa76_f301_11ea_83d0_0242ac1c0002row15_col2 {\n",
              "            : ;\n",
              "            text-align:  left;\n",
              "        }    #T_e018fa76_f301_11ea_83d0_0242ac1c0002row15_col3 {\n",
              "            : ;\n",
              "            text-align:  left;\n",
              "        }    #T_e018fa76_f301_11ea_83d0_0242ac1c0002row15_col4 {\n",
              "            : ;\n",
              "            text-align:  left;\n",
              "        }    #T_e018fa76_f301_11ea_83d0_0242ac1c0002row15_col5 {\n",
              "            : ;\n",
              "            text-align:  left;\n",
              "        }    #T_e018fa76_f301_11ea_83d0_0242ac1c0002row15_col6 {\n",
              "            : ;\n",
              "            text-align:  left;\n",
              "        }    #T_e018fa76_f301_11ea_83d0_0242ac1c0002row15_col7 {\n",
              "            background-color:  lightgrey;\n",
              "            text-align:  left;\n",
              "        }    #T_e018fa76_f301_11ea_83d0_0242ac1c0002row16_col0 {\n",
              "            text-align:  left;\n",
              "        }    #T_e018fa76_f301_11ea_83d0_0242ac1c0002row16_col1 {\n",
              "            : ;\n",
              "            text-align:  left;\n",
              "        }    #T_e018fa76_f301_11ea_83d0_0242ac1c0002row16_col2 {\n",
              "            : ;\n",
              "            text-align:  left;\n",
              "        }    #T_e018fa76_f301_11ea_83d0_0242ac1c0002row16_col3 {\n",
              "            : ;\n",
              "            text-align:  left;\n",
              "        }    #T_e018fa76_f301_11ea_83d0_0242ac1c0002row16_col4 {\n",
              "            : ;\n",
              "            text-align:  left;\n",
              "        }    #T_e018fa76_f301_11ea_83d0_0242ac1c0002row16_col5 {\n",
              "            : ;\n",
              "            text-align:  left;\n",
              "        }    #T_e018fa76_f301_11ea_83d0_0242ac1c0002row16_col6 {\n",
              "            : ;\n",
              "            text-align:  left;\n",
              "        }    #T_e018fa76_f301_11ea_83d0_0242ac1c0002row16_col7 {\n",
              "            background-color:  lightgrey;\n",
              "            text-align:  left;\n",
              "        }    #T_e018fa76_f301_11ea_83d0_0242ac1c0002row17_col0 {\n",
              "            text-align:  left;\n",
              "        }    #T_e018fa76_f301_11ea_83d0_0242ac1c0002row17_col1 {\n",
              "            : ;\n",
              "            text-align:  left;\n",
              "        }    #T_e018fa76_f301_11ea_83d0_0242ac1c0002row17_col2 {\n",
              "            : ;\n",
              "            text-align:  left;\n",
              "        }    #T_e018fa76_f301_11ea_83d0_0242ac1c0002row17_col3 {\n",
              "            : ;\n",
              "            text-align:  left;\n",
              "        }    #T_e018fa76_f301_11ea_83d0_0242ac1c0002row17_col4 {\n",
              "            : ;\n",
              "            text-align:  left;\n",
              "        }    #T_e018fa76_f301_11ea_83d0_0242ac1c0002row17_col5 {\n",
              "            : ;\n",
              "            text-align:  left;\n",
              "        }    #T_e018fa76_f301_11ea_83d0_0242ac1c0002row17_col6 {\n",
              "            : ;\n",
              "            text-align:  left;\n",
              "        }    #T_e018fa76_f301_11ea_83d0_0242ac1c0002row17_col7 {\n",
              "            background-color:  lightgrey;\n",
              "            text-align:  left;\n",
              "        }    #T_e018fa76_f301_11ea_83d0_0242ac1c0002row18_col0 {\n",
              "            text-align:  left;\n",
              "        }    #T_e018fa76_f301_11ea_83d0_0242ac1c0002row18_col1 {\n",
              "            : ;\n",
              "            text-align:  left;\n",
              "        }    #T_e018fa76_f301_11ea_83d0_0242ac1c0002row18_col2 {\n",
              "            : ;\n",
              "            text-align:  left;\n",
              "        }    #T_e018fa76_f301_11ea_83d0_0242ac1c0002row18_col3 {\n",
              "            : ;\n",
              "            text-align:  left;\n",
              "        }    #T_e018fa76_f301_11ea_83d0_0242ac1c0002row18_col4 {\n",
              "            : ;\n",
              "            text-align:  left;\n",
              "        }    #T_e018fa76_f301_11ea_83d0_0242ac1c0002row18_col5 {\n",
              "            : ;\n",
              "            text-align:  left;\n",
              "        }    #T_e018fa76_f301_11ea_83d0_0242ac1c0002row18_col6 {\n",
              "            : ;\n",
              "            text-align:  left;\n",
              "        }    #T_e018fa76_f301_11ea_83d0_0242ac1c0002row18_col7 {\n",
              "            background-color:  lightgrey;\n",
              "            text-align:  left;\n",
              "        }    #T_e018fa76_f301_11ea_83d0_0242ac1c0002row19_col0 {\n",
              "            text-align:  left;\n",
              "        }    #T_e018fa76_f301_11ea_83d0_0242ac1c0002row19_col1 {\n",
              "            : ;\n",
              "            text-align:  left;\n",
              "        }    #T_e018fa76_f301_11ea_83d0_0242ac1c0002row19_col2 {\n",
              "            : ;\n",
              "            text-align:  left;\n",
              "        }    #T_e018fa76_f301_11ea_83d0_0242ac1c0002row19_col3 {\n",
              "            : ;\n",
              "            text-align:  left;\n",
              "        }    #T_e018fa76_f301_11ea_83d0_0242ac1c0002row19_col4 {\n",
              "            : ;\n",
              "            text-align:  left;\n",
              "        }    #T_e018fa76_f301_11ea_83d0_0242ac1c0002row19_col5 {\n",
              "            : ;\n",
              "            text-align:  left;\n",
              "        }    #T_e018fa76_f301_11ea_83d0_0242ac1c0002row19_col6 {\n",
              "            : ;\n",
              "            text-align:  left;\n",
              "        }    #T_e018fa76_f301_11ea_83d0_0242ac1c0002row19_col7 {\n",
              "            background-color:  lightgrey;\n",
              "            text-align:  left;\n",
              "        }    #T_e018fa76_f301_11ea_83d0_0242ac1c0002row20_col0 {\n",
              "            text-align:  left;\n",
              "        }    #T_e018fa76_f301_11ea_83d0_0242ac1c0002row20_col1 {\n",
              "            : ;\n",
              "            text-align:  left;\n",
              "        }    #T_e018fa76_f301_11ea_83d0_0242ac1c0002row20_col2 {\n",
              "            : ;\n",
              "            text-align:  left;\n",
              "        }    #T_e018fa76_f301_11ea_83d0_0242ac1c0002row20_col3 {\n",
              "            : ;\n",
              "            text-align:  left;\n",
              "        }    #T_e018fa76_f301_11ea_83d0_0242ac1c0002row20_col4 {\n",
              "            : ;\n",
              "            text-align:  left;\n",
              "        }    #T_e018fa76_f301_11ea_83d0_0242ac1c0002row20_col5 {\n",
              "            : ;\n",
              "            text-align:  left;\n",
              "        }    #T_e018fa76_f301_11ea_83d0_0242ac1c0002row20_col6 {\n",
              "            : ;\n",
              "            text-align:  left;\n",
              "        }    #T_e018fa76_f301_11ea_83d0_0242ac1c0002row20_col7 {\n",
              "            background-color:  lightgrey;\n",
              "            text-align:  left;\n",
              "        }</style><table id=\"T_e018fa76_f301_11ea_83d0_0242ac1c0002\" ><thead>    <tr>        <th class=\"blank level0\" ></th>        <th class=\"col_heading level0 col0\" >Model</th>        <th class=\"col_heading level0 col1\" >MAE</th>        <th class=\"col_heading level0 col2\" >MSE</th>        <th class=\"col_heading level0 col3\" >RMSE</th>        <th class=\"col_heading level0 col4\" >R2</th>        <th class=\"col_heading level0 col5\" >RMSLE</th>        <th class=\"col_heading level0 col6\" >MAPE</th>        <th class=\"col_heading level0 col7\" >TT (Sec)</th>    </tr></thead><tbody>\n",
              "                <tr>\n",
              "                        <th id=\"T_e018fa76_f301_11ea_83d0_0242ac1c0002level0_row0\" class=\"row_heading level0 row0\" >0</th>\n",
              "                        <td id=\"T_e018fa76_f301_11ea_83d0_0242ac1c0002row0_col0\" class=\"data row0 col0\" >CatBoost Regressor</td>\n",
              "                        <td id=\"T_e018fa76_f301_11ea_83d0_0242ac1c0002row0_col1\" class=\"data row0 col1\" >2.1404</td>\n",
              "                        <td id=\"T_e018fa76_f301_11ea_83d0_0242ac1c0002row0_col2\" class=\"data row0 col2\" >9.7855</td>\n",
              "                        <td id=\"T_e018fa76_f301_11ea_83d0_0242ac1c0002row0_col3\" class=\"data row0 col3\" >3.1055</td>\n",
              "                        <td id=\"T_e018fa76_f301_11ea_83d0_0242ac1c0002row0_col4\" class=\"data row0 col4\" >0.8815</td>\n",
              "                        <td id=\"T_e018fa76_f301_11ea_83d0_0242ac1c0002row0_col5\" class=\"data row0 col5\" >0.1393</td>\n",
              "                        <td id=\"T_e018fa76_f301_11ea_83d0_0242ac1c0002row0_col6\" class=\"data row0 col6\" >0.1069</td>\n",
              "                        <td id=\"T_e018fa76_f301_11ea_83d0_0242ac1c0002row0_col7\" class=\"data row0 col7\" >1.9733</td>\n",
              "            </tr>\n",
              "            <tr>\n",
              "                        <th id=\"T_e018fa76_f301_11ea_83d0_0242ac1c0002level0_row1\" class=\"row_heading level0 row1\" >1</th>\n",
              "                        <td id=\"T_e018fa76_f301_11ea_83d0_0242ac1c0002row1_col0\" class=\"data row1 col0\" >Extra Trees Regressor</td>\n",
              "                        <td id=\"T_e018fa76_f301_11ea_83d0_0242ac1c0002row1_col1\" class=\"data row1 col1\" >2.2493</td>\n",
              "                        <td id=\"T_e018fa76_f301_11ea_83d0_0242ac1c0002row1_col2\" class=\"data row1 col2\" >10.7666</td>\n",
              "                        <td id=\"T_e018fa76_f301_11ea_83d0_0242ac1c0002row1_col3\" class=\"data row1 col3\" >3.2388</td>\n",
              "                        <td id=\"T_e018fa76_f301_11ea_83d0_0242ac1c0002row1_col4\" class=\"data row1 col4\" >0.8683</td>\n",
              "                        <td id=\"T_e018fa76_f301_11ea_83d0_0242ac1c0002row1_col5\" class=\"data row1 col5\" >0.1430</td>\n",
              "                        <td id=\"T_e018fa76_f301_11ea_83d0_0242ac1c0002row1_col6\" class=\"data row1 col6\" >0.1118</td>\n",
              "                        <td id=\"T_e018fa76_f301_11ea_83d0_0242ac1c0002row1_col7\" class=\"data row1 col7\" >0.4463</td>\n",
              "            </tr>\n",
              "            <tr>\n",
              "                        <th id=\"T_e018fa76_f301_11ea_83d0_0242ac1c0002level0_row2\" class=\"row_heading level0 row2\" >2</th>\n",
              "                        <td id=\"T_e018fa76_f301_11ea_83d0_0242ac1c0002row2_col0\" class=\"data row2 col0\" >Gradient Boosting Regressor</td>\n",
              "                        <td id=\"T_e018fa76_f301_11ea_83d0_0242ac1c0002row2_col1\" class=\"data row2 col1\" >2.3537</td>\n",
              "                        <td id=\"T_e018fa76_f301_11ea_83d0_0242ac1c0002row2_col2\" class=\"data row2 col2\" >11.3122</td>\n",
              "                        <td id=\"T_e018fa76_f301_11ea_83d0_0242ac1c0002row2_col3\" class=\"data row2 col3\" >3.3292</td>\n",
              "                        <td id=\"T_e018fa76_f301_11ea_83d0_0242ac1c0002row2_col4\" class=\"data row2 col4\" >0.8590</td>\n",
              "                        <td id=\"T_e018fa76_f301_11ea_83d0_0242ac1c0002row2_col5\" class=\"data row2 col5\" >0.1514</td>\n",
              "                        <td id=\"T_e018fa76_f301_11ea_83d0_0242ac1c0002row2_col6\" class=\"data row2 col6\" >0.1189</td>\n",
              "                        <td id=\"T_e018fa76_f301_11ea_83d0_0242ac1c0002row2_col7\" class=\"data row2 col7\" >0.0909</td>\n",
              "            </tr>\n",
              "            <tr>\n",
              "                        <th id=\"T_e018fa76_f301_11ea_83d0_0242ac1c0002level0_row3\" class=\"row_heading level0 row3\" >3</th>\n",
              "                        <td id=\"T_e018fa76_f301_11ea_83d0_0242ac1c0002row3_col0\" class=\"data row3 col0\" >Extreme Gradient Boosting</td>\n",
              "                        <td id=\"T_e018fa76_f301_11ea_83d0_0242ac1c0002row3_col1\" class=\"data row3 col1\" >2.3769</td>\n",
              "                        <td id=\"T_e018fa76_f301_11ea_83d0_0242ac1c0002row3_col2\" class=\"data row3 col2\" >12.1856</td>\n",
              "                        <td id=\"T_e018fa76_f301_11ea_83d0_0242ac1c0002row3_col3\" class=\"data row3 col3\" >3.4787</td>\n",
              "                        <td id=\"T_e018fa76_f301_11ea_83d0_0242ac1c0002row3_col4\" class=\"data row3 col4\" >0.8490</td>\n",
              "                        <td id=\"T_e018fa76_f301_11ea_83d0_0242ac1c0002row3_col5\" class=\"data row3 col5\" >0.1571</td>\n",
              "                        <td id=\"T_e018fa76_f301_11ea_83d0_0242ac1c0002row3_col6\" class=\"data row3 col6\" >0.1213</td>\n",
              "                        <td id=\"T_e018fa76_f301_11ea_83d0_0242ac1c0002row3_col7\" class=\"data row3 col7\" >0.0390</td>\n",
              "            </tr>\n",
              "            <tr>\n",
              "                        <th id=\"T_e018fa76_f301_11ea_83d0_0242ac1c0002level0_row4\" class=\"row_heading level0 row4\" >4</th>\n",
              "                        <td id=\"T_e018fa76_f301_11ea_83d0_0242ac1c0002row4_col0\" class=\"data row4 col0\" >Random Forest</td>\n",
              "                        <td id=\"T_e018fa76_f301_11ea_83d0_0242ac1c0002row4_col1\" class=\"data row4 col1\" >2.4409</td>\n",
              "                        <td id=\"T_e018fa76_f301_11ea_83d0_0242ac1c0002row4_col2\" class=\"data row4 col2\" >13.0490</td>\n",
              "                        <td id=\"T_e018fa76_f301_11ea_83d0_0242ac1c0002row4_col3\" class=\"data row4 col3\" >3.5597</td>\n",
              "                        <td id=\"T_e018fa76_f301_11ea_83d0_0242ac1c0002row4_col4\" class=\"data row4 col4\" >0.8401</td>\n",
              "                        <td id=\"T_e018fa76_f301_11ea_83d0_0242ac1c0002row4_col5\" class=\"data row4 col5\" >0.1607</td>\n",
              "                        <td id=\"T_e018fa76_f301_11ea_83d0_0242ac1c0002row4_col6\" class=\"data row4 col6\" >0.1234</td>\n",
              "                        <td id=\"T_e018fa76_f301_11ea_83d0_0242ac1c0002row4_col7\" class=\"data row4 col7\" >0.2454</td>\n",
              "            </tr>\n",
              "            <tr>\n",
              "                        <th id=\"T_e018fa76_f301_11ea_83d0_0242ac1c0002level0_row5\" class=\"row_heading level0 row5\" >5</th>\n",
              "                        <td id=\"T_e018fa76_f301_11ea_83d0_0242ac1c0002row5_col0\" class=\"data row5 col0\" >Light Gradient Boosting Machine</td>\n",
              "                        <td id=\"T_e018fa76_f301_11ea_83d0_0242ac1c0002row5_col1\" class=\"data row5 col1\" >2.6515</td>\n",
              "                        <td id=\"T_e018fa76_f301_11ea_83d0_0242ac1c0002row5_col2\" class=\"data row5 col2\" >14.7144</td>\n",
              "                        <td id=\"T_e018fa76_f301_11ea_83d0_0242ac1c0002row5_col3\" class=\"data row5 col3\" >3.7999</td>\n",
              "                        <td id=\"T_e018fa76_f301_11ea_83d0_0242ac1c0002row5_col4\" class=\"data row5 col4\" >0.8238</td>\n",
              "                        <td id=\"T_e018fa76_f301_11ea_83d0_0242ac1c0002row5_col5\" class=\"data row5 col5\" >0.1646</td>\n",
              "                        <td id=\"T_e018fa76_f301_11ea_83d0_0242ac1c0002row5_col6\" class=\"data row5 col6\" >0.1299</td>\n",
              "                        <td id=\"T_e018fa76_f301_11ea_83d0_0242ac1c0002row5_col7\" class=\"data row5 col7\" >0.0269</td>\n",
              "            </tr>\n",
              "            <tr>\n",
              "                        <th id=\"T_e018fa76_f301_11ea_83d0_0242ac1c0002level0_row6\" class=\"row_heading level0 row6\" >6</th>\n",
              "                        <td id=\"T_e018fa76_f301_11ea_83d0_0242ac1c0002row6_col0\" class=\"data row6 col0\" >AdaBoost Regressor</td>\n",
              "                        <td id=\"T_e018fa76_f301_11ea_83d0_0242ac1c0002row6_col1\" class=\"data row6 col1\" >2.8239</td>\n",
              "                        <td id=\"T_e018fa76_f301_11ea_83d0_0242ac1c0002row6_col2\" class=\"data row6 col2\" >15.3853</td>\n",
              "                        <td id=\"T_e018fa76_f301_11ea_83d0_0242ac1c0002row6_col3\" class=\"data row6 col3\" >3.8588</td>\n",
              "                        <td id=\"T_e018fa76_f301_11ea_83d0_0242ac1c0002row6_col4\" class=\"data row6 col4\" >0.8129</td>\n",
              "                        <td id=\"T_e018fa76_f301_11ea_83d0_0242ac1c0002row6_col5\" class=\"data row6 col5\" >0.1775</td>\n",
              "                        <td id=\"T_e018fa76_f301_11ea_83d0_0242ac1c0002row6_col6\" class=\"data row6 col6\" >0.1457</td>\n",
              "                        <td id=\"T_e018fa76_f301_11ea_83d0_0242ac1c0002row6_col7\" class=\"data row6 col7\" >0.1179</td>\n",
              "            </tr>\n",
              "            <tr>\n",
              "                        <th id=\"T_e018fa76_f301_11ea_83d0_0242ac1c0002level0_row7\" class=\"row_heading level0 row7\" >7</th>\n",
              "                        <td id=\"T_e018fa76_f301_11ea_83d0_0242ac1c0002row7_col0\" class=\"data row7 col0\" >Linear Regression</td>\n",
              "                        <td id=\"T_e018fa76_f301_11ea_83d0_0242ac1c0002row7_col1\" class=\"data row7 col1\" >3.4336</td>\n",
              "                        <td id=\"T_e018fa76_f301_11ea_83d0_0242ac1c0002row7_col2\" class=\"data row7 col2\" >22.7222</td>\n",
              "                        <td id=\"T_e018fa76_f301_11ea_83d0_0242ac1c0002row7_col3\" class=\"data row7 col3\" >4.7318</td>\n",
              "                        <td id=\"T_e018fa76_f301_11ea_83d0_0242ac1c0002row7_col4\" class=\"data row7 col4\" >0.7283</td>\n",
              "                        <td id=\"T_e018fa76_f301_11ea_83d0_0242ac1c0002row7_col5\" class=\"data row7 col5\" >0.2166</td>\n",
              "                        <td id=\"T_e018fa76_f301_11ea_83d0_0242ac1c0002row7_col6\" class=\"data row7 col6\" >0.1693</td>\n",
              "                        <td id=\"T_e018fa76_f301_11ea_83d0_0242ac1c0002row7_col7\" class=\"data row7 col7\" >0.0056</td>\n",
              "            </tr>\n",
              "            <tr>\n",
              "                        <th id=\"T_e018fa76_f301_11ea_83d0_0242ac1c0002level0_row8\" class=\"row_heading level0 row8\" >8</th>\n",
              "                        <td id=\"T_e018fa76_f301_11ea_83d0_0242ac1c0002row8_col0\" class=\"data row8 col0\" >Ridge Regression</td>\n",
              "                        <td id=\"T_e018fa76_f301_11ea_83d0_0242ac1c0002row8_col1\" class=\"data row8 col1\" >3.4267</td>\n",
              "                        <td id=\"T_e018fa76_f301_11ea_83d0_0242ac1c0002row8_col2\" class=\"data row8 col2\" >22.9084</td>\n",
              "                        <td id=\"T_e018fa76_f301_11ea_83d0_0242ac1c0002row8_col3\" class=\"data row8 col3\" >4.7520</td>\n",
              "                        <td id=\"T_e018fa76_f301_11ea_83d0_0242ac1c0002row8_col4\" class=\"data row8 col4\" >0.7263</td>\n",
              "                        <td id=\"T_e018fa76_f301_11ea_83d0_0242ac1c0002row8_col5\" class=\"data row8 col5\" >0.2200</td>\n",
              "                        <td id=\"T_e018fa76_f301_11ea_83d0_0242ac1c0002row8_col6\" class=\"data row8 col6\" >0.1699</td>\n",
              "                        <td id=\"T_e018fa76_f301_11ea_83d0_0242ac1c0002row8_col7\" class=\"data row8 col7\" >0.0040</td>\n",
              "            </tr>\n",
              "            <tr>\n",
              "                        <th id=\"T_e018fa76_f301_11ea_83d0_0242ac1c0002level0_row9\" class=\"row_heading level0 row9\" >9</th>\n",
              "                        <td id=\"T_e018fa76_f301_11ea_83d0_0242ac1c0002row9_col0\" class=\"data row9 col0\" >Least Angle Regression</td>\n",
              "                        <td id=\"T_e018fa76_f301_11ea_83d0_0242ac1c0002row9_col1\" class=\"data row9 col1\" >3.4454</td>\n",
              "                        <td id=\"T_e018fa76_f301_11ea_83d0_0242ac1c0002row9_col2\" class=\"data row9 col2\" >22.8818</td>\n",
              "                        <td id=\"T_e018fa76_f301_11ea_83d0_0242ac1c0002row9_col3\" class=\"data row9 col3\" >4.7519</td>\n",
              "                        <td id=\"T_e018fa76_f301_11ea_83d0_0242ac1c0002row9_col4\" class=\"data row9 col4\" >0.7257</td>\n",
              "                        <td id=\"T_e018fa76_f301_11ea_83d0_0242ac1c0002row9_col5\" class=\"data row9 col5\" >0.2243</td>\n",
              "                        <td id=\"T_e018fa76_f301_11ea_83d0_0242ac1c0002row9_col6\" class=\"data row9 col6\" >0.1717</td>\n",
              "                        <td id=\"T_e018fa76_f301_11ea_83d0_0242ac1c0002row9_col7\" class=\"data row9 col7\" >0.0096</td>\n",
              "            </tr>\n",
              "            <tr>\n",
              "                        <th id=\"T_e018fa76_f301_11ea_83d0_0242ac1c0002level0_row10\" class=\"row_heading level0 row10\" >10</th>\n",
              "                        <td id=\"T_e018fa76_f301_11ea_83d0_0242ac1c0002row10_col0\" class=\"data row10 col0\" >Bayesian Ridge</td>\n",
              "                        <td id=\"T_e018fa76_f301_11ea_83d0_0242ac1c0002row10_col1\" class=\"data row10 col1\" >3.4513</td>\n",
              "                        <td id=\"T_e018fa76_f301_11ea_83d0_0242ac1c0002row10_col2\" class=\"data row10 col2\" >23.4941</td>\n",
              "                        <td id=\"T_e018fa76_f301_11ea_83d0_0242ac1c0002row10_col3\" class=\"data row10 col3\" >4.8049</td>\n",
              "                        <td id=\"T_e018fa76_f301_11ea_83d0_0242ac1c0002row10_col4\" class=\"data row10 col4\" >0.7216</td>\n",
              "                        <td id=\"T_e018fa76_f301_11ea_83d0_0242ac1c0002row10_col5\" class=\"data row10 col5\" >0.2228</td>\n",
              "                        <td id=\"T_e018fa76_f301_11ea_83d0_0242ac1c0002row10_col6\" class=\"data row10 col6\" >0.1700</td>\n",
              "                        <td id=\"T_e018fa76_f301_11ea_83d0_0242ac1c0002row10_col7\" class=\"data row10 col7\" >0.0060</td>\n",
              "            </tr>\n",
              "            <tr>\n",
              "                        <th id=\"T_e018fa76_f301_11ea_83d0_0242ac1c0002level0_row11\" class=\"row_heading level0 row11\" >11</th>\n",
              "                        <td id=\"T_e018fa76_f301_11ea_83d0_0242ac1c0002row11_col0\" class=\"data row11 col0\" >Decision Tree</td>\n",
              "                        <td id=\"T_e018fa76_f301_11ea_83d0_0242ac1c0002row11_col1\" class=\"data row11 col1\" >3.1870</td>\n",
              "                        <td id=\"T_e018fa76_f301_11ea_83d0_0242ac1c0002row11_col2\" class=\"data row11 col2\" >24.8349</td>\n",
              "                        <td id=\"T_e018fa76_f301_11ea_83d0_0242ac1c0002row11_col3\" class=\"data row11 col3\" >4.9056</td>\n",
              "                        <td id=\"T_e018fa76_f301_11ea_83d0_0242ac1c0002row11_col4\" class=\"data row11 col4\" >0.6856</td>\n",
              "                        <td id=\"T_e018fa76_f301_11ea_83d0_0242ac1c0002row11_col5\" class=\"data row11 col5\" >0.2083</td>\n",
              "                        <td id=\"T_e018fa76_f301_11ea_83d0_0242ac1c0002row11_col6\" class=\"data row11 col6\" >0.1620</td>\n",
              "                        <td id=\"T_e018fa76_f301_11ea_83d0_0242ac1c0002row11_col7\" class=\"data row11 col7\" >0.0052</td>\n",
              "            </tr>\n",
              "            <tr>\n",
              "                        <th id=\"T_e018fa76_f301_11ea_83d0_0242ac1c0002level0_row12\" class=\"row_heading level0 row12\" >12</th>\n",
              "                        <td id=\"T_e018fa76_f301_11ea_83d0_0242ac1c0002row12_col0\" class=\"data row12 col0\" >Random Sample Consensus</td>\n",
              "                        <td id=\"T_e018fa76_f301_11ea_83d0_0242ac1c0002row12_col1\" class=\"data row12 col1\" >3.2191</td>\n",
              "                        <td id=\"T_e018fa76_f301_11ea_83d0_0242ac1c0002row12_col2\" class=\"data row12 col2\" >26.4876</td>\n",
              "                        <td id=\"T_e018fa76_f301_11ea_83d0_0242ac1c0002row12_col3\" class=\"data row12 col3\" >5.1349</td>\n",
              "                        <td id=\"T_e018fa76_f301_11ea_83d0_0242ac1c0002row12_col4\" class=\"data row12 col4\" >0.6740</td>\n",
              "                        <td id=\"T_e018fa76_f301_11ea_83d0_0242ac1c0002row12_col5\" class=\"data row12 col5\" >0.2927</td>\n",
              "                        <td id=\"T_e018fa76_f301_11ea_83d0_0242ac1c0002row12_col6\" class=\"data row12 col6\" >0.1591</td>\n",
              "                        <td id=\"T_e018fa76_f301_11ea_83d0_0242ac1c0002row12_col7\" class=\"data row12 col7\" >0.0920</td>\n",
              "            </tr>\n",
              "            <tr>\n",
              "                        <th id=\"T_e018fa76_f301_11ea_83d0_0242ac1c0002level0_row13\" class=\"row_heading level0 row13\" >13</th>\n",
              "                        <td id=\"T_e018fa76_f301_11ea_83d0_0242ac1c0002row13_col0\" class=\"data row13 col0\" >Elastic Net</td>\n",
              "                        <td id=\"T_e018fa76_f301_11ea_83d0_0242ac1c0002row13_col1\" class=\"data row13 col1\" >3.8067</td>\n",
              "                        <td id=\"T_e018fa76_f301_11ea_83d0_0242ac1c0002row13_col2\" class=\"data row13 col2\" >28.6712</td>\n",
              "                        <td id=\"T_e018fa76_f301_11ea_83d0_0242ac1c0002row13_col3\" class=\"data row13 col3\" >5.2920</td>\n",
              "                        <td id=\"T_e018fa76_f301_11ea_83d0_0242ac1c0002row13_col4\" class=\"data row13 col4\" >0.6643</td>\n",
              "                        <td id=\"T_e018fa76_f301_11ea_83d0_0242ac1c0002row13_col5\" class=\"data row13 col5\" >0.2565</td>\n",
              "                        <td id=\"T_e018fa76_f301_11ea_83d0_0242ac1c0002row13_col6\" class=\"data row13 col6\" >0.1807</td>\n",
              "                        <td id=\"T_e018fa76_f301_11ea_83d0_0242ac1c0002row13_col7\" class=\"data row13 col7\" >0.0045</td>\n",
              "            </tr>\n",
              "            <tr>\n",
              "                        <th id=\"T_e018fa76_f301_11ea_83d0_0242ac1c0002level0_row14\" class=\"row_heading level0 row14\" >14</th>\n",
              "                        <td id=\"T_e018fa76_f301_11ea_83d0_0242ac1c0002row14_col0\" class=\"data row14 col0\" >Lasso Regression</td>\n",
              "                        <td id=\"T_e018fa76_f301_11ea_83d0_0242ac1c0002row14_col1\" class=\"data row14 col1\" >3.8393</td>\n",
              "                        <td id=\"T_e018fa76_f301_11ea_83d0_0242ac1c0002row14_col2\" class=\"data row14 col2\" >29.4475</td>\n",
              "                        <td id=\"T_e018fa76_f301_11ea_83d0_0242ac1c0002row14_col3\" class=\"data row14 col3\" >5.3505</td>\n",
              "                        <td id=\"T_e018fa76_f301_11ea_83d0_0242ac1c0002row14_col4\" class=\"data row14 col4\" >0.6578</td>\n",
              "                        <td id=\"T_e018fa76_f301_11ea_83d0_0242ac1c0002row14_col5\" class=\"data row14 col5\" >0.2580</td>\n",
              "                        <td id=\"T_e018fa76_f301_11ea_83d0_0242ac1c0002row14_col6\" class=\"data row14 col6\" >0.1819</td>\n",
              "                        <td id=\"T_e018fa76_f301_11ea_83d0_0242ac1c0002row14_col7\" class=\"data row14 col7\" >0.0054</td>\n",
              "            </tr>\n",
              "            <tr>\n",
              "                        <th id=\"T_e018fa76_f301_11ea_83d0_0242ac1c0002level0_row15\" class=\"row_heading level0 row15\" >15</th>\n",
              "                        <td id=\"T_e018fa76_f301_11ea_83d0_0242ac1c0002row15_col0\" class=\"data row15 col0\" >Huber Regressor</td>\n",
              "                        <td id=\"T_e018fa76_f301_11ea_83d0_0242ac1c0002row15_col1\" class=\"data row15 col1\" >3.7943</td>\n",
              "                        <td id=\"T_e018fa76_f301_11ea_83d0_0242ac1c0002row15_col2\" class=\"data row15 col2\" >31.9750</td>\n",
              "                        <td id=\"T_e018fa76_f301_11ea_83d0_0242ac1c0002row15_col3\" class=\"data row15 col3\" >5.5407</td>\n",
              "                        <td id=\"T_e018fa76_f301_11ea_83d0_0242ac1c0002row15_col4\" class=\"data row15 col4\" >0.6169</td>\n",
              "                        <td id=\"T_e018fa76_f301_11ea_83d0_0242ac1c0002row15_col5\" class=\"data row15 col5\" >0.2874</td>\n",
              "                        <td id=\"T_e018fa76_f301_11ea_83d0_0242ac1c0002row15_col6\" class=\"data row15 col6\" >0.2005</td>\n",
              "                        <td id=\"T_e018fa76_f301_11ea_83d0_0242ac1c0002row15_col7\" class=\"data row15 col7\" >0.0321</td>\n",
              "            </tr>\n",
              "            <tr>\n",
              "                        <th id=\"T_e018fa76_f301_11ea_83d0_0242ac1c0002level0_row16\" class=\"row_heading level0 row16\" >16</th>\n",
              "                        <td id=\"T_e018fa76_f301_11ea_83d0_0242ac1c0002row16_col0\" class=\"data row16 col0\" >Orthogonal Matching Pursuit</td>\n",
              "                        <td id=\"T_e018fa76_f301_11ea_83d0_0242ac1c0002row16_col1\" class=\"data row16 col1\" >4.0196</td>\n",
              "                        <td id=\"T_e018fa76_f301_11ea_83d0_0242ac1c0002row16_col2\" class=\"data row16 col2\" >33.0482</td>\n",
              "                        <td id=\"T_e018fa76_f301_11ea_83d0_0242ac1c0002row16_col3\" class=\"data row16 col3\" >5.6976</td>\n",
              "                        <td id=\"T_e018fa76_f301_11ea_83d0_0242ac1c0002row16_col4\" class=\"data row16 col4\" >0.6100</td>\n",
              "                        <td id=\"T_e018fa76_f301_11ea_83d0_0242ac1c0002row16_col5\" class=\"data row16 col5\" >0.2851</td>\n",
              "                        <td id=\"T_e018fa76_f301_11ea_83d0_0242ac1c0002row16_col6\" class=\"data row16 col6\" >0.2009</td>\n",
              "                        <td id=\"T_e018fa76_f301_11ea_83d0_0242ac1c0002row16_col7\" class=\"data row16 col7\" >0.0058</td>\n",
              "            </tr>\n",
              "            <tr>\n",
              "                        <th id=\"T_e018fa76_f301_11ea_83d0_0242ac1c0002level0_row17\" class=\"row_heading level0 row17\" >17</th>\n",
              "                        <td id=\"T_e018fa76_f301_11ea_83d0_0242ac1c0002row17_col0\" class=\"data row17 col0\" >K Neighbors Regressor</td>\n",
              "                        <td id=\"T_e018fa76_f301_11ea_83d0_0242ac1c0002row17_col1\" class=\"data row17 col1\" >4.7853</td>\n",
              "                        <td id=\"T_e018fa76_f301_11ea_83d0_0242ac1c0002row17_col2\" class=\"data row17 col2\" >47.7118</td>\n",
              "                        <td id=\"T_e018fa76_f301_11ea_83d0_0242ac1c0002row17_col3\" class=\"data row17 col3\" >6.8817</td>\n",
              "                        <td id=\"T_e018fa76_f301_11ea_83d0_0242ac1c0002row17_col4\" class=\"data row17 col4\" >0.4221</td>\n",
              "                        <td id=\"T_e018fa76_f301_11ea_83d0_0242ac1c0002row17_col5\" class=\"data row17 col5\" >0.2619</td>\n",
              "                        <td id=\"T_e018fa76_f301_11ea_83d0_0242ac1c0002row17_col6\" class=\"data row17 col6\" >0.2220</td>\n",
              "                        <td id=\"T_e018fa76_f301_11ea_83d0_0242ac1c0002row17_col7\" class=\"data row17 col7\" >0.0043</td>\n",
              "            </tr>\n",
              "            <tr>\n",
              "                        <th id=\"T_e018fa76_f301_11ea_83d0_0242ac1c0002level0_row18\" class=\"row_heading level0 row18\" >18</th>\n",
              "                        <td id=\"T_e018fa76_f301_11ea_83d0_0242ac1c0002row18_col0\" class=\"data row18 col0\" >Support Vector Machine</td>\n",
              "                        <td id=\"T_e018fa76_f301_11ea_83d0_0242ac1c0002row18_col1\" class=\"data row18 col1\" >5.4581</td>\n",
              "                        <td id=\"T_e018fa76_f301_11ea_83d0_0242ac1c0002row18_col2\" class=\"data row18 col2\" >68.3891</td>\n",
              "                        <td id=\"T_e018fa76_f301_11ea_83d0_0242ac1c0002row18_col3\" class=\"data row18 col3\" >8.1754</td>\n",
              "                        <td id=\"T_e018fa76_f301_11ea_83d0_0242ac1c0002row18_col4\" class=\"data row18 col4\" >0.1997</td>\n",
              "                        <td id=\"T_e018fa76_f301_11ea_83d0_0242ac1c0002row18_col5\" class=\"data row18 col5\" >0.3193</td>\n",
              "                        <td id=\"T_e018fa76_f301_11ea_83d0_0242ac1c0002row18_col6\" class=\"data row18 col6\" >0.2500</td>\n",
              "                        <td id=\"T_e018fa76_f301_11ea_83d0_0242ac1c0002row18_col7\" class=\"data row18 col7\" >0.0101</td>\n",
              "            </tr>\n",
              "            <tr>\n",
              "                        <th id=\"T_e018fa76_f301_11ea_83d0_0242ac1c0002level0_row19\" class=\"row_heading level0 row19\" >19</th>\n",
              "                        <td id=\"T_e018fa76_f301_11ea_83d0_0242ac1c0002row19_col0\" class=\"data row19 col0\" >Lasso Least Angle Regression</td>\n",
              "                        <td id=\"T_e018fa76_f301_11ea_83d0_0242ac1c0002row19_col1\" class=\"data row19 col1\" >6.6705</td>\n",
              "                        <td id=\"T_e018fa76_f301_11ea_83d0_0242ac1c0002row19_col2\" class=\"data row19 col2\" >85.4741</td>\n",
              "                        <td id=\"T_e018fa76_f301_11ea_83d0_0242ac1c0002row19_col3\" class=\"data row19 col3\" >9.1898</td>\n",
              "                        <td id=\"T_e018fa76_f301_11ea_83d0_0242ac1c0002row19_col4\" class=\"data row19 col4\" >-0.0188</td>\n",
              "                        <td id=\"T_e018fa76_f301_11ea_83d0_0242ac1c0002row19_col5\" class=\"data row19 col5\" >0.3967</td>\n",
              "                        <td id=\"T_e018fa76_f301_11ea_83d0_0242ac1c0002row19_col6\" class=\"data row19 col6\" >0.3665</td>\n",
              "                        <td id=\"T_e018fa76_f301_11ea_83d0_0242ac1c0002row19_col7\" class=\"data row19 col7\" >0.0050</td>\n",
              "            </tr>\n",
              "            <tr>\n",
              "                        <th id=\"T_e018fa76_f301_11ea_83d0_0242ac1c0002level0_row20\" class=\"row_heading level0 row20\" >20</th>\n",
              "                        <td id=\"T_e018fa76_f301_11ea_83d0_0242ac1c0002row20_col0\" class=\"data row20 col0\" >Passive Aggressive Regressor</td>\n",
              "                        <td id=\"T_e018fa76_f301_11ea_83d0_0242ac1c0002row20_col1\" class=\"data row20 col1\" >7.3873</td>\n",
              "                        <td id=\"T_e018fa76_f301_11ea_83d0_0242ac1c0002row20_col2\" class=\"data row20 col2\" >90.2945</td>\n",
              "                        <td id=\"T_e018fa76_f301_11ea_83d0_0242ac1c0002row20_col3\" class=\"data row20 col3\" >9.4454</td>\n",
              "                        <td id=\"T_e018fa76_f301_11ea_83d0_0242ac1c0002row20_col4\" class=\"data row20 col4\" >-0.1811</td>\n",
              "                        <td id=\"T_e018fa76_f301_11ea_83d0_0242ac1c0002row20_col5\" class=\"data row20 col5\" >0.4853</td>\n",
              "                        <td id=\"T_e018fa76_f301_11ea_83d0_0242ac1c0002row20_col6\" class=\"data row20 col6\" >0.3692</td>\n",
              "                        <td id=\"T_e018fa76_f301_11ea_83d0_0242ac1c0002row20_col7\" class=\"data row20 col7\" >0.0056</td>\n",
              "            </tr>\n",
              "    </tbody></table>"
            ],
            "text/plain": [
              "<pandas.io.formats.style.Styler at 0x7f018c2c5ef0>"
            ]
          },
          "metadata": {
            "tags": []
          }
        },
        {
          "output_type": "stream",
          "text": [
            "CPU times: user 1min 8s, sys: 4.47 s, total: 1min 12s\n",
            "Wall time: 56.4 s\n"
          ],
          "name": "stdout"
        }
      ]
    },
    {
      "cell_type": "code",
      "metadata": {
        "id": "zACh5gxXgOlG",
        "colab_type": "code",
        "colab": {
          "base_uri": "https://localhost:8080/",
          "height": 515,
          "referenced_widgets": [
            "c176d45b64cd462bbdd4b0b15eefe223",
            "ac0f7cf39087416b92003972290f61cd",
            "fb33f8d7e28d47548661d73b91d3d694",
            "cd6cac114e85417a91cd6fb36e2e3bcb",
            "1318a8bb05a64810a2db5f41166edbfa",
            "89eb4cded3604deeb36caf80e6ac090a",
            "00826d1dc2e742debc5ec916aaeb27c7",
            "fe9ed07752e7400a974ebad677be0cf8",
            "9fb68aa2d988435ba745fa2e0a2d42f8"
          ]
        },
        "outputId": "0f775d16-40d0-4de1-a026-3fc625d72fbb"
      },
      "source": [
        "%%time\n",
        "# init setup\n",
        "reg1 = setup(data, target = 'media') \n",
        "\n",
        "# validação cruzada 3-fold\n",
        "best_specific = compare_models(fold=3, n_select = 5, blacklist = ['tr']) "
      ],
      "execution_count": null,
      "outputs": [
        {
          "output_type": "display_data",
          "data": {
            "text/html": [
              "<style  type=\"text/css\" >\n",
              "    #T_9c62aa2a_f301_11ea_83d0_0242ac1c0002 th {\n",
              "          text-align: left;\n",
              "    }    #T_9c62aa2a_f301_11ea_83d0_0242ac1c0002row0_col0 {\n",
              "            text-align:  left;\n",
              "        }    #T_9c62aa2a_f301_11ea_83d0_0242ac1c0002row0_col1 {\n",
              "            background-color:  yellow;\n",
              "            text-align:  left;\n",
              "        }    #T_9c62aa2a_f301_11ea_83d0_0242ac1c0002row0_col2 {\n",
              "            background-color:  yellow;\n",
              "            text-align:  left;\n",
              "        }    #T_9c62aa2a_f301_11ea_83d0_0242ac1c0002row0_col3 {\n",
              "            background-color:  yellow;\n",
              "            text-align:  left;\n",
              "        }    #T_9c62aa2a_f301_11ea_83d0_0242ac1c0002row0_col4 {\n",
              "            background-color:  yellow;\n",
              "            text-align:  left;\n",
              "        }    #T_9c62aa2a_f301_11ea_83d0_0242ac1c0002row0_col5 {\n",
              "            background-color:  yellow;\n",
              "            text-align:  left;\n",
              "        }    #T_9c62aa2a_f301_11ea_83d0_0242ac1c0002row0_col6 {\n",
              "            background-color:  yellow;\n",
              "            text-align:  left;\n",
              "        }    #T_9c62aa2a_f301_11ea_83d0_0242ac1c0002row0_col7 {\n",
              "            background-color:  lightgrey;\n",
              "            text-align:  left;\n",
              "        }    #T_9c62aa2a_f301_11ea_83d0_0242ac1c0002row1_col0 {\n",
              "            text-align:  left;\n",
              "        }    #T_9c62aa2a_f301_11ea_83d0_0242ac1c0002row1_col1 {\n",
              "            : ;\n",
              "            text-align:  left;\n",
              "        }    #T_9c62aa2a_f301_11ea_83d0_0242ac1c0002row1_col2 {\n",
              "            : ;\n",
              "            text-align:  left;\n",
              "        }    #T_9c62aa2a_f301_11ea_83d0_0242ac1c0002row1_col3 {\n",
              "            : ;\n",
              "            text-align:  left;\n",
              "        }    #T_9c62aa2a_f301_11ea_83d0_0242ac1c0002row1_col4 {\n",
              "            : ;\n",
              "            text-align:  left;\n",
              "        }    #T_9c62aa2a_f301_11ea_83d0_0242ac1c0002row1_col5 {\n",
              "            : ;\n",
              "            text-align:  left;\n",
              "        }    #T_9c62aa2a_f301_11ea_83d0_0242ac1c0002row1_col6 {\n",
              "            : ;\n",
              "            text-align:  left;\n",
              "        }    #T_9c62aa2a_f301_11ea_83d0_0242ac1c0002row1_col7 {\n",
              "            background-color:  lightgrey;\n",
              "            text-align:  left;\n",
              "        }    #T_9c62aa2a_f301_11ea_83d0_0242ac1c0002row2_col0 {\n",
              "            text-align:  left;\n",
              "        }    #T_9c62aa2a_f301_11ea_83d0_0242ac1c0002row2_col1 {\n",
              "            : ;\n",
              "            text-align:  left;\n",
              "        }    #T_9c62aa2a_f301_11ea_83d0_0242ac1c0002row2_col2 {\n",
              "            : ;\n",
              "            text-align:  left;\n",
              "        }    #T_9c62aa2a_f301_11ea_83d0_0242ac1c0002row2_col3 {\n",
              "            : ;\n",
              "            text-align:  left;\n",
              "        }    #T_9c62aa2a_f301_11ea_83d0_0242ac1c0002row2_col4 {\n",
              "            : ;\n",
              "            text-align:  left;\n",
              "        }    #T_9c62aa2a_f301_11ea_83d0_0242ac1c0002row2_col5 {\n",
              "            : ;\n",
              "            text-align:  left;\n",
              "        }    #T_9c62aa2a_f301_11ea_83d0_0242ac1c0002row2_col6 {\n",
              "            : ;\n",
              "            text-align:  left;\n",
              "        }    #T_9c62aa2a_f301_11ea_83d0_0242ac1c0002row2_col7 {\n",
              "            background-color:  lightgrey;\n",
              "            text-align:  left;\n",
              "        }    #T_9c62aa2a_f301_11ea_83d0_0242ac1c0002row3_col0 {\n",
              "            text-align:  left;\n",
              "        }    #T_9c62aa2a_f301_11ea_83d0_0242ac1c0002row3_col1 {\n",
              "            : ;\n",
              "            text-align:  left;\n",
              "        }    #T_9c62aa2a_f301_11ea_83d0_0242ac1c0002row3_col2 {\n",
              "            : ;\n",
              "            text-align:  left;\n",
              "        }    #T_9c62aa2a_f301_11ea_83d0_0242ac1c0002row3_col3 {\n",
              "            : ;\n",
              "            text-align:  left;\n",
              "        }    #T_9c62aa2a_f301_11ea_83d0_0242ac1c0002row3_col4 {\n",
              "            : ;\n",
              "            text-align:  left;\n",
              "        }    #T_9c62aa2a_f301_11ea_83d0_0242ac1c0002row3_col5 {\n",
              "            : ;\n",
              "            text-align:  left;\n",
              "        }    #T_9c62aa2a_f301_11ea_83d0_0242ac1c0002row3_col6 {\n",
              "            : ;\n",
              "            text-align:  left;\n",
              "        }    #T_9c62aa2a_f301_11ea_83d0_0242ac1c0002row3_col7 {\n",
              "            background-color:  lightgrey;\n",
              "            text-align:  left;\n",
              "        }    #T_9c62aa2a_f301_11ea_83d0_0242ac1c0002row4_col0 {\n",
              "            text-align:  left;\n",
              "        }    #T_9c62aa2a_f301_11ea_83d0_0242ac1c0002row4_col1 {\n",
              "            : ;\n",
              "            text-align:  left;\n",
              "        }    #T_9c62aa2a_f301_11ea_83d0_0242ac1c0002row4_col2 {\n",
              "            : ;\n",
              "            text-align:  left;\n",
              "        }    #T_9c62aa2a_f301_11ea_83d0_0242ac1c0002row4_col3 {\n",
              "            : ;\n",
              "            text-align:  left;\n",
              "        }    #T_9c62aa2a_f301_11ea_83d0_0242ac1c0002row4_col4 {\n",
              "            : ;\n",
              "            text-align:  left;\n",
              "        }    #T_9c62aa2a_f301_11ea_83d0_0242ac1c0002row4_col5 {\n",
              "            : ;\n",
              "            text-align:  left;\n",
              "        }    #T_9c62aa2a_f301_11ea_83d0_0242ac1c0002row4_col6 {\n",
              "            : ;\n",
              "            text-align:  left;\n",
              "        }    #T_9c62aa2a_f301_11ea_83d0_0242ac1c0002row4_col7 {\n",
              "            background-color:  lightgrey;\n",
              "            text-align:  left;\n",
              "        }    #T_9c62aa2a_f301_11ea_83d0_0242ac1c0002row5_col0 {\n",
              "            text-align:  left;\n",
              "        }    #T_9c62aa2a_f301_11ea_83d0_0242ac1c0002row5_col1 {\n",
              "            : ;\n",
              "            text-align:  left;\n",
              "        }    #T_9c62aa2a_f301_11ea_83d0_0242ac1c0002row5_col2 {\n",
              "            : ;\n",
              "            text-align:  left;\n",
              "        }    #T_9c62aa2a_f301_11ea_83d0_0242ac1c0002row5_col3 {\n",
              "            : ;\n",
              "            text-align:  left;\n",
              "        }    #T_9c62aa2a_f301_11ea_83d0_0242ac1c0002row5_col4 {\n",
              "            : ;\n",
              "            text-align:  left;\n",
              "        }    #T_9c62aa2a_f301_11ea_83d0_0242ac1c0002row5_col5 {\n",
              "            : ;\n",
              "            text-align:  left;\n",
              "        }    #T_9c62aa2a_f301_11ea_83d0_0242ac1c0002row5_col6 {\n",
              "            : ;\n",
              "            text-align:  left;\n",
              "        }    #T_9c62aa2a_f301_11ea_83d0_0242ac1c0002row5_col7 {\n",
              "            background-color:  lightgrey;\n",
              "            text-align:  left;\n",
              "        }    #T_9c62aa2a_f301_11ea_83d0_0242ac1c0002row6_col0 {\n",
              "            text-align:  left;\n",
              "        }    #T_9c62aa2a_f301_11ea_83d0_0242ac1c0002row6_col1 {\n",
              "            : ;\n",
              "            text-align:  left;\n",
              "        }    #T_9c62aa2a_f301_11ea_83d0_0242ac1c0002row6_col2 {\n",
              "            : ;\n",
              "            text-align:  left;\n",
              "        }    #T_9c62aa2a_f301_11ea_83d0_0242ac1c0002row6_col3 {\n",
              "            : ;\n",
              "            text-align:  left;\n",
              "        }    #T_9c62aa2a_f301_11ea_83d0_0242ac1c0002row6_col4 {\n",
              "            : ;\n",
              "            text-align:  left;\n",
              "        }    #T_9c62aa2a_f301_11ea_83d0_0242ac1c0002row6_col5 {\n",
              "            : ;\n",
              "            text-align:  left;\n",
              "        }    #T_9c62aa2a_f301_11ea_83d0_0242ac1c0002row6_col6 {\n",
              "            : ;\n",
              "            text-align:  left;\n",
              "        }    #T_9c62aa2a_f301_11ea_83d0_0242ac1c0002row6_col7 {\n",
              "            background-color:  lightgrey;\n",
              "            text-align:  left;\n",
              "        }    #T_9c62aa2a_f301_11ea_83d0_0242ac1c0002row7_col0 {\n",
              "            text-align:  left;\n",
              "        }    #T_9c62aa2a_f301_11ea_83d0_0242ac1c0002row7_col1 {\n",
              "            : ;\n",
              "            text-align:  left;\n",
              "        }    #T_9c62aa2a_f301_11ea_83d0_0242ac1c0002row7_col2 {\n",
              "            : ;\n",
              "            text-align:  left;\n",
              "        }    #T_9c62aa2a_f301_11ea_83d0_0242ac1c0002row7_col3 {\n",
              "            : ;\n",
              "            text-align:  left;\n",
              "        }    #T_9c62aa2a_f301_11ea_83d0_0242ac1c0002row7_col4 {\n",
              "            : ;\n",
              "            text-align:  left;\n",
              "        }    #T_9c62aa2a_f301_11ea_83d0_0242ac1c0002row7_col5 {\n",
              "            : ;\n",
              "            text-align:  left;\n",
              "        }    #T_9c62aa2a_f301_11ea_83d0_0242ac1c0002row7_col6 {\n",
              "            : ;\n",
              "            text-align:  left;\n",
              "        }    #T_9c62aa2a_f301_11ea_83d0_0242ac1c0002row7_col7 {\n",
              "            background-color:  lightgrey;\n",
              "            text-align:  left;\n",
              "        }    #T_9c62aa2a_f301_11ea_83d0_0242ac1c0002row8_col0 {\n",
              "            text-align:  left;\n",
              "        }    #T_9c62aa2a_f301_11ea_83d0_0242ac1c0002row8_col1 {\n",
              "            : ;\n",
              "            text-align:  left;\n",
              "        }    #T_9c62aa2a_f301_11ea_83d0_0242ac1c0002row8_col2 {\n",
              "            : ;\n",
              "            text-align:  left;\n",
              "        }    #T_9c62aa2a_f301_11ea_83d0_0242ac1c0002row8_col3 {\n",
              "            : ;\n",
              "            text-align:  left;\n",
              "        }    #T_9c62aa2a_f301_11ea_83d0_0242ac1c0002row8_col4 {\n",
              "            : ;\n",
              "            text-align:  left;\n",
              "        }    #T_9c62aa2a_f301_11ea_83d0_0242ac1c0002row8_col5 {\n",
              "            : ;\n",
              "            text-align:  left;\n",
              "        }    #T_9c62aa2a_f301_11ea_83d0_0242ac1c0002row8_col6 {\n",
              "            : ;\n",
              "            text-align:  left;\n",
              "        }    #T_9c62aa2a_f301_11ea_83d0_0242ac1c0002row8_col7 {\n",
              "            background-color:  lightgrey;\n",
              "            text-align:  left;\n",
              "        }    #T_9c62aa2a_f301_11ea_83d0_0242ac1c0002row9_col0 {\n",
              "            text-align:  left;\n",
              "        }    #T_9c62aa2a_f301_11ea_83d0_0242ac1c0002row9_col1 {\n",
              "            : ;\n",
              "            text-align:  left;\n",
              "        }    #T_9c62aa2a_f301_11ea_83d0_0242ac1c0002row9_col2 {\n",
              "            : ;\n",
              "            text-align:  left;\n",
              "        }    #T_9c62aa2a_f301_11ea_83d0_0242ac1c0002row9_col3 {\n",
              "            : ;\n",
              "            text-align:  left;\n",
              "        }    #T_9c62aa2a_f301_11ea_83d0_0242ac1c0002row9_col4 {\n",
              "            : ;\n",
              "            text-align:  left;\n",
              "        }    #T_9c62aa2a_f301_11ea_83d0_0242ac1c0002row9_col5 {\n",
              "            : ;\n",
              "            text-align:  left;\n",
              "        }    #T_9c62aa2a_f301_11ea_83d0_0242ac1c0002row9_col6 {\n",
              "            : ;\n",
              "            text-align:  left;\n",
              "        }    #T_9c62aa2a_f301_11ea_83d0_0242ac1c0002row9_col7 {\n",
              "            background-color:  lightgrey;\n",
              "            text-align:  left;\n",
              "        }    #T_9c62aa2a_f301_11ea_83d0_0242ac1c0002row10_col0 {\n",
              "            text-align:  left;\n",
              "        }    #T_9c62aa2a_f301_11ea_83d0_0242ac1c0002row10_col1 {\n",
              "            : ;\n",
              "            text-align:  left;\n",
              "        }    #T_9c62aa2a_f301_11ea_83d0_0242ac1c0002row10_col2 {\n",
              "            : ;\n",
              "            text-align:  left;\n",
              "        }    #T_9c62aa2a_f301_11ea_83d0_0242ac1c0002row10_col3 {\n",
              "            : ;\n",
              "            text-align:  left;\n",
              "        }    #T_9c62aa2a_f301_11ea_83d0_0242ac1c0002row10_col4 {\n",
              "            : ;\n",
              "            text-align:  left;\n",
              "        }    #T_9c62aa2a_f301_11ea_83d0_0242ac1c0002row10_col5 {\n",
              "            : ;\n",
              "            text-align:  left;\n",
              "        }    #T_9c62aa2a_f301_11ea_83d0_0242ac1c0002row10_col6 {\n",
              "            : ;\n",
              "            text-align:  left;\n",
              "        }    #T_9c62aa2a_f301_11ea_83d0_0242ac1c0002row10_col7 {\n",
              "            background-color:  lightgrey;\n",
              "            text-align:  left;\n",
              "        }    #T_9c62aa2a_f301_11ea_83d0_0242ac1c0002row11_col0 {\n",
              "            text-align:  left;\n",
              "        }    #T_9c62aa2a_f301_11ea_83d0_0242ac1c0002row11_col1 {\n",
              "            : ;\n",
              "            text-align:  left;\n",
              "        }    #T_9c62aa2a_f301_11ea_83d0_0242ac1c0002row11_col2 {\n",
              "            : ;\n",
              "            text-align:  left;\n",
              "        }    #T_9c62aa2a_f301_11ea_83d0_0242ac1c0002row11_col3 {\n",
              "            : ;\n",
              "            text-align:  left;\n",
              "        }    #T_9c62aa2a_f301_11ea_83d0_0242ac1c0002row11_col4 {\n",
              "            : ;\n",
              "            text-align:  left;\n",
              "        }    #T_9c62aa2a_f301_11ea_83d0_0242ac1c0002row11_col5 {\n",
              "            : ;\n",
              "            text-align:  left;\n",
              "        }    #T_9c62aa2a_f301_11ea_83d0_0242ac1c0002row11_col6 {\n",
              "            : ;\n",
              "            text-align:  left;\n",
              "        }    #T_9c62aa2a_f301_11ea_83d0_0242ac1c0002row11_col7 {\n",
              "            background-color:  lightgrey;\n",
              "            text-align:  left;\n",
              "        }    #T_9c62aa2a_f301_11ea_83d0_0242ac1c0002row12_col0 {\n",
              "            text-align:  left;\n",
              "        }    #T_9c62aa2a_f301_11ea_83d0_0242ac1c0002row12_col1 {\n",
              "            : ;\n",
              "            text-align:  left;\n",
              "        }    #T_9c62aa2a_f301_11ea_83d0_0242ac1c0002row12_col2 {\n",
              "            : ;\n",
              "            text-align:  left;\n",
              "        }    #T_9c62aa2a_f301_11ea_83d0_0242ac1c0002row12_col3 {\n",
              "            : ;\n",
              "            text-align:  left;\n",
              "        }    #T_9c62aa2a_f301_11ea_83d0_0242ac1c0002row12_col4 {\n",
              "            : ;\n",
              "            text-align:  left;\n",
              "        }    #T_9c62aa2a_f301_11ea_83d0_0242ac1c0002row12_col5 {\n",
              "            : ;\n",
              "            text-align:  left;\n",
              "        }    #T_9c62aa2a_f301_11ea_83d0_0242ac1c0002row12_col6 {\n",
              "            : ;\n",
              "            text-align:  left;\n",
              "        }    #T_9c62aa2a_f301_11ea_83d0_0242ac1c0002row12_col7 {\n",
              "            background-color:  lightgrey;\n",
              "            text-align:  left;\n",
              "        }    #T_9c62aa2a_f301_11ea_83d0_0242ac1c0002row13_col0 {\n",
              "            text-align:  left;\n",
              "        }    #T_9c62aa2a_f301_11ea_83d0_0242ac1c0002row13_col1 {\n",
              "            : ;\n",
              "            text-align:  left;\n",
              "        }    #T_9c62aa2a_f301_11ea_83d0_0242ac1c0002row13_col2 {\n",
              "            : ;\n",
              "            text-align:  left;\n",
              "        }    #T_9c62aa2a_f301_11ea_83d0_0242ac1c0002row13_col3 {\n",
              "            : ;\n",
              "            text-align:  left;\n",
              "        }    #T_9c62aa2a_f301_11ea_83d0_0242ac1c0002row13_col4 {\n",
              "            : ;\n",
              "            text-align:  left;\n",
              "        }    #T_9c62aa2a_f301_11ea_83d0_0242ac1c0002row13_col5 {\n",
              "            : ;\n",
              "            text-align:  left;\n",
              "        }    #T_9c62aa2a_f301_11ea_83d0_0242ac1c0002row13_col6 {\n",
              "            : ;\n",
              "            text-align:  left;\n",
              "        }    #T_9c62aa2a_f301_11ea_83d0_0242ac1c0002row13_col7 {\n",
              "            background-color:  lightgrey;\n",
              "            text-align:  left;\n",
              "        }    #T_9c62aa2a_f301_11ea_83d0_0242ac1c0002row14_col0 {\n",
              "            text-align:  left;\n",
              "        }    #T_9c62aa2a_f301_11ea_83d0_0242ac1c0002row14_col1 {\n",
              "            : ;\n",
              "            text-align:  left;\n",
              "        }    #T_9c62aa2a_f301_11ea_83d0_0242ac1c0002row14_col2 {\n",
              "            : ;\n",
              "            text-align:  left;\n",
              "        }    #T_9c62aa2a_f301_11ea_83d0_0242ac1c0002row14_col3 {\n",
              "            : ;\n",
              "            text-align:  left;\n",
              "        }    #T_9c62aa2a_f301_11ea_83d0_0242ac1c0002row14_col4 {\n",
              "            : ;\n",
              "            text-align:  left;\n",
              "        }    #T_9c62aa2a_f301_11ea_83d0_0242ac1c0002row14_col5 {\n",
              "            : ;\n",
              "            text-align:  left;\n",
              "        }    #T_9c62aa2a_f301_11ea_83d0_0242ac1c0002row14_col6 {\n",
              "            : ;\n",
              "            text-align:  left;\n",
              "        }    #T_9c62aa2a_f301_11ea_83d0_0242ac1c0002row14_col7 {\n",
              "            background-color:  lightgrey;\n",
              "            text-align:  left;\n",
              "        }    #T_9c62aa2a_f301_11ea_83d0_0242ac1c0002row15_col0 {\n",
              "            text-align:  left;\n",
              "        }    #T_9c62aa2a_f301_11ea_83d0_0242ac1c0002row15_col1 {\n",
              "            : ;\n",
              "            text-align:  left;\n",
              "        }    #T_9c62aa2a_f301_11ea_83d0_0242ac1c0002row15_col2 {\n",
              "            : ;\n",
              "            text-align:  left;\n",
              "        }    #T_9c62aa2a_f301_11ea_83d0_0242ac1c0002row15_col3 {\n",
              "            : ;\n",
              "            text-align:  left;\n",
              "        }    #T_9c62aa2a_f301_11ea_83d0_0242ac1c0002row15_col4 {\n",
              "            : ;\n",
              "            text-align:  left;\n",
              "        }    #T_9c62aa2a_f301_11ea_83d0_0242ac1c0002row15_col5 {\n",
              "            : ;\n",
              "            text-align:  left;\n",
              "        }    #T_9c62aa2a_f301_11ea_83d0_0242ac1c0002row15_col6 {\n",
              "            : ;\n",
              "            text-align:  left;\n",
              "        }    #T_9c62aa2a_f301_11ea_83d0_0242ac1c0002row15_col7 {\n",
              "            background-color:  lightgrey;\n",
              "            text-align:  left;\n",
              "        }    #T_9c62aa2a_f301_11ea_83d0_0242ac1c0002row16_col0 {\n",
              "            text-align:  left;\n",
              "        }    #T_9c62aa2a_f301_11ea_83d0_0242ac1c0002row16_col1 {\n",
              "            : ;\n",
              "            text-align:  left;\n",
              "        }    #T_9c62aa2a_f301_11ea_83d0_0242ac1c0002row16_col2 {\n",
              "            : ;\n",
              "            text-align:  left;\n",
              "        }    #T_9c62aa2a_f301_11ea_83d0_0242ac1c0002row16_col3 {\n",
              "            : ;\n",
              "            text-align:  left;\n",
              "        }    #T_9c62aa2a_f301_11ea_83d0_0242ac1c0002row16_col4 {\n",
              "            : ;\n",
              "            text-align:  left;\n",
              "        }    #T_9c62aa2a_f301_11ea_83d0_0242ac1c0002row16_col5 {\n",
              "            : ;\n",
              "            text-align:  left;\n",
              "        }    #T_9c62aa2a_f301_11ea_83d0_0242ac1c0002row16_col6 {\n",
              "            : ;\n",
              "            text-align:  left;\n",
              "        }    #T_9c62aa2a_f301_11ea_83d0_0242ac1c0002row16_col7 {\n",
              "            background-color:  lightgrey;\n",
              "            text-align:  left;\n",
              "        }    #T_9c62aa2a_f301_11ea_83d0_0242ac1c0002row17_col0 {\n",
              "            text-align:  left;\n",
              "        }    #T_9c62aa2a_f301_11ea_83d0_0242ac1c0002row17_col1 {\n",
              "            : ;\n",
              "            text-align:  left;\n",
              "        }    #T_9c62aa2a_f301_11ea_83d0_0242ac1c0002row17_col2 {\n",
              "            : ;\n",
              "            text-align:  left;\n",
              "        }    #T_9c62aa2a_f301_11ea_83d0_0242ac1c0002row17_col3 {\n",
              "            : ;\n",
              "            text-align:  left;\n",
              "        }    #T_9c62aa2a_f301_11ea_83d0_0242ac1c0002row17_col4 {\n",
              "            : ;\n",
              "            text-align:  left;\n",
              "        }    #T_9c62aa2a_f301_11ea_83d0_0242ac1c0002row17_col5 {\n",
              "            : ;\n",
              "            text-align:  left;\n",
              "        }    #T_9c62aa2a_f301_11ea_83d0_0242ac1c0002row17_col6 {\n",
              "            : ;\n",
              "            text-align:  left;\n",
              "        }    #T_9c62aa2a_f301_11ea_83d0_0242ac1c0002row17_col7 {\n",
              "            background-color:  lightgrey;\n",
              "            text-align:  left;\n",
              "        }    #T_9c62aa2a_f301_11ea_83d0_0242ac1c0002row18_col0 {\n",
              "            text-align:  left;\n",
              "        }    #T_9c62aa2a_f301_11ea_83d0_0242ac1c0002row18_col1 {\n",
              "            : ;\n",
              "            text-align:  left;\n",
              "        }    #T_9c62aa2a_f301_11ea_83d0_0242ac1c0002row18_col2 {\n",
              "            : ;\n",
              "            text-align:  left;\n",
              "        }    #T_9c62aa2a_f301_11ea_83d0_0242ac1c0002row18_col3 {\n",
              "            : ;\n",
              "            text-align:  left;\n",
              "        }    #T_9c62aa2a_f301_11ea_83d0_0242ac1c0002row18_col4 {\n",
              "            : ;\n",
              "            text-align:  left;\n",
              "        }    #T_9c62aa2a_f301_11ea_83d0_0242ac1c0002row18_col5 {\n",
              "            : ;\n",
              "            text-align:  left;\n",
              "        }    #T_9c62aa2a_f301_11ea_83d0_0242ac1c0002row18_col6 {\n",
              "            : ;\n",
              "            text-align:  left;\n",
              "        }    #T_9c62aa2a_f301_11ea_83d0_0242ac1c0002row18_col7 {\n",
              "            background-color:  lightgrey;\n",
              "            text-align:  left;\n",
              "        }    #T_9c62aa2a_f301_11ea_83d0_0242ac1c0002row19_col0 {\n",
              "            text-align:  left;\n",
              "        }    #T_9c62aa2a_f301_11ea_83d0_0242ac1c0002row19_col1 {\n",
              "            : ;\n",
              "            text-align:  left;\n",
              "        }    #T_9c62aa2a_f301_11ea_83d0_0242ac1c0002row19_col2 {\n",
              "            : ;\n",
              "            text-align:  left;\n",
              "        }    #T_9c62aa2a_f301_11ea_83d0_0242ac1c0002row19_col3 {\n",
              "            : ;\n",
              "            text-align:  left;\n",
              "        }    #T_9c62aa2a_f301_11ea_83d0_0242ac1c0002row19_col4 {\n",
              "            : ;\n",
              "            text-align:  left;\n",
              "        }    #T_9c62aa2a_f301_11ea_83d0_0242ac1c0002row19_col5 {\n",
              "            : ;\n",
              "            text-align:  left;\n",
              "        }    #T_9c62aa2a_f301_11ea_83d0_0242ac1c0002row19_col6 {\n",
              "            : ;\n",
              "            text-align:  left;\n",
              "        }    #T_9c62aa2a_f301_11ea_83d0_0242ac1c0002row19_col7 {\n",
              "            background-color:  lightgrey;\n",
              "            text-align:  left;\n",
              "        }    #T_9c62aa2a_f301_11ea_83d0_0242ac1c0002row20_col0 {\n",
              "            text-align:  left;\n",
              "        }    #T_9c62aa2a_f301_11ea_83d0_0242ac1c0002row20_col1 {\n",
              "            : ;\n",
              "            text-align:  left;\n",
              "        }    #T_9c62aa2a_f301_11ea_83d0_0242ac1c0002row20_col2 {\n",
              "            : ;\n",
              "            text-align:  left;\n",
              "        }    #T_9c62aa2a_f301_11ea_83d0_0242ac1c0002row20_col3 {\n",
              "            : ;\n",
              "            text-align:  left;\n",
              "        }    #T_9c62aa2a_f301_11ea_83d0_0242ac1c0002row20_col4 {\n",
              "            : ;\n",
              "            text-align:  left;\n",
              "        }    #T_9c62aa2a_f301_11ea_83d0_0242ac1c0002row20_col5 {\n",
              "            : ;\n",
              "            text-align:  left;\n",
              "        }    #T_9c62aa2a_f301_11ea_83d0_0242ac1c0002row20_col6 {\n",
              "            : ;\n",
              "            text-align:  left;\n",
              "        }    #T_9c62aa2a_f301_11ea_83d0_0242ac1c0002row20_col7 {\n",
              "            background-color:  lightgrey;\n",
              "            text-align:  left;\n",
              "        }</style><table id=\"T_9c62aa2a_f301_11ea_83d0_0242ac1c0002\" ><thead>    <tr>        <th class=\"blank level0\" ></th>        <th class=\"col_heading level0 col0\" >Model</th>        <th class=\"col_heading level0 col1\" >MAE</th>        <th class=\"col_heading level0 col2\" >MSE</th>        <th class=\"col_heading level0 col3\" >RMSE</th>        <th class=\"col_heading level0 col4\" >R2</th>        <th class=\"col_heading level0 col5\" >RMSLE</th>        <th class=\"col_heading level0 col6\" >MAPE</th>        <th class=\"col_heading level0 col7\" >TT (Sec)</th>    </tr></thead><tbody>\n",
              "                <tr>\n",
              "                        <th id=\"T_9c62aa2a_f301_11ea_83d0_0242ac1c0002level0_row0\" class=\"row_heading level0 row0\" >0</th>\n",
              "                        <td id=\"T_9c62aa2a_f301_11ea_83d0_0242ac1c0002row0_col0\" class=\"data row0 col0\" >Random Forest</td>\n",
              "                        <td id=\"T_9c62aa2a_f301_11ea_83d0_0242ac1c0002row0_col1\" class=\"data row0 col1\" >2.7361</td>\n",
              "                        <td id=\"T_9c62aa2a_f301_11ea_83d0_0242ac1c0002row0_col2\" class=\"data row0 col2\" >12.2387</td>\n",
              "                        <td id=\"T_9c62aa2a_f301_11ea_83d0_0242ac1c0002row0_col3\" class=\"data row0 col3\" >3.4946</td>\n",
              "                        <td id=\"T_9c62aa2a_f301_11ea_83d0_0242ac1c0002row0_col4\" class=\"data row0 col4\" >0.0966</td>\n",
              "                        <td id=\"T_9c62aa2a_f301_11ea_83d0_0242ac1c0002row0_col5\" class=\"data row0 col5\" >0.3630</td>\n",
              "                        <td id=\"T_9c62aa2a_f301_11ea_83d0_0242ac1c0002row0_col6\" class=\"data row0 col6\" >0.3873</td>\n",
              "                        <td id=\"T_9c62aa2a_f301_11ea_83d0_0242ac1c0002row0_col7\" class=\"data row0 col7\" >0.3505</td>\n",
              "            </tr>\n",
              "            <tr>\n",
              "                        <th id=\"T_9c62aa2a_f301_11ea_83d0_0242ac1c0002level0_row1\" class=\"row_heading level0 row1\" >1</th>\n",
              "                        <td id=\"T_9c62aa2a_f301_11ea_83d0_0242ac1c0002row1_col0\" class=\"data row1 col0\" >CatBoost Regressor</td>\n",
              "                        <td id=\"T_9c62aa2a_f301_11ea_83d0_0242ac1c0002row1_col1\" class=\"data row1 col1\" >2.8218</td>\n",
              "                        <td id=\"T_9c62aa2a_f301_11ea_83d0_0242ac1c0002row1_col2\" class=\"data row1 col2\" >12.9266</td>\n",
              "                        <td id=\"T_9c62aa2a_f301_11ea_83d0_0242ac1c0002row1_col3\" class=\"data row1 col3\" >3.5928</td>\n",
              "                        <td id=\"T_9c62aa2a_f301_11ea_83d0_0242ac1c0002row1_col4\" class=\"data row1 col4\" >0.0438</td>\n",
              "                        <td id=\"T_9c62aa2a_f301_11ea_83d0_0242ac1c0002row1_col5\" class=\"data row1 col5\" >0.3759</td>\n",
              "                        <td id=\"T_9c62aa2a_f301_11ea_83d0_0242ac1c0002row1_col6\" class=\"data row1 col6\" >0.4104</td>\n",
              "                        <td id=\"T_9c62aa2a_f301_11ea_83d0_0242ac1c0002row1_col7\" class=\"data row1 col7\" >1.9316</td>\n",
              "            </tr>\n",
              "            <tr>\n",
              "                        <th id=\"T_9c62aa2a_f301_11ea_83d0_0242ac1c0002level0_row2\" class=\"row_heading level0 row2\" >2</th>\n",
              "                        <td id=\"T_9c62aa2a_f301_11ea_83d0_0242ac1c0002row2_col0\" class=\"data row2 col0\" >Bayesian Ridge</td>\n",
              "                        <td id=\"T_9c62aa2a_f301_11ea_83d0_0242ac1c0002row2_col1\" class=\"data row2 col1\" >2.8679</td>\n",
              "                        <td id=\"T_9c62aa2a_f301_11ea_83d0_0242ac1c0002row2_col2\" class=\"data row2 col2\" >13.0126</td>\n",
              "                        <td id=\"T_9c62aa2a_f301_11ea_83d0_0242ac1c0002row2_col3\" class=\"data row2 col3\" >3.6056</td>\n",
              "                        <td id=\"T_9c62aa2a_f301_11ea_83d0_0242ac1c0002row2_col4\" class=\"data row2 col4\" >0.0372</td>\n",
              "                        <td id=\"T_9c62aa2a_f301_11ea_83d0_0242ac1c0002row2_col5\" class=\"data row2 col5\" >0.3816</td>\n",
              "                        <td id=\"T_9c62aa2a_f301_11ea_83d0_0242ac1c0002row2_col6\" class=\"data row2 col6\" >0.4233</td>\n",
              "                        <td id=\"T_9c62aa2a_f301_11ea_83d0_0242ac1c0002row2_col7\" class=\"data row2 col7\" >0.0132</td>\n",
              "            </tr>\n",
              "            <tr>\n",
              "                        <th id=\"T_9c62aa2a_f301_11ea_83d0_0242ac1c0002level0_row3\" class=\"row_heading level0 row3\" >3</th>\n",
              "                        <td id=\"T_9c62aa2a_f301_11ea_83d0_0242ac1c0002row3_col0\" class=\"data row3 col0\" >Light Gradient Boosting Machine</td>\n",
              "                        <td id=\"T_9c62aa2a_f301_11ea_83d0_0242ac1c0002row3_col1\" class=\"data row3 col1\" >2.8477</td>\n",
              "                        <td id=\"T_9c62aa2a_f301_11ea_83d0_0242ac1c0002row3_col2\" class=\"data row3 col2\" >13.2738</td>\n",
              "                        <td id=\"T_9c62aa2a_f301_11ea_83d0_0242ac1c0002row3_col3\" class=\"data row3 col3\" >3.6411</td>\n",
              "                        <td id=\"T_9c62aa2a_f301_11ea_83d0_0242ac1c0002row3_col4\" class=\"data row3 col4\" >0.0180</td>\n",
              "                        <td id=\"T_9c62aa2a_f301_11ea_83d0_0242ac1c0002row3_col5\" class=\"data row3 col5\" >0.3751</td>\n",
              "                        <td id=\"T_9c62aa2a_f301_11ea_83d0_0242ac1c0002row3_col6\" class=\"data row3 col6\" >0.4017</td>\n",
              "                        <td id=\"T_9c62aa2a_f301_11ea_83d0_0242ac1c0002row3_col7\" class=\"data row3 col7\" >0.0277</td>\n",
              "            </tr>\n",
              "            <tr>\n",
              "                        <th id=\"T_9c62aa2a_f301_11ea_83d0_0242ac1c0002level0_row4\" class=\"row_heading level0 row4\" >4</th>\n",
              "                        <td id=\"T_9c62aa2a_f301_11ea_83d0_0242ac1c0002row4_col0\" class=\"data row4 col0\" >Extreme Gradient Boosting</td>\n",
              "                        <td id=\"T_9c62aa2a_f301_11ea_83d0_0242ac1c0002row4_col1\" class=\"data row4 col1\" >2.8681</td>\n",
              "                        <td id=\"T_9c62aa2a_f301_11ea_83d0_0242ac1c0002row4_col2\" class=\"data row4 col2\" >13.3635</td>\n",
              "                        <td id=\"T_9c62aa2a_f301_11ea_83d0_0242ac1c0002row4_col3\" class=\"data row4 col3\" >3.6480</td>\n",
              "                        <td id=\"T_9c62aa2a_f301_11ea_83d0_0242ac1c0002row4_col4\" class=\"data row4 col4\" >0.0162</td>\n",
              "                        <td id=\"T_9c62aa2a_f301_11ea_83d0_0242ac1c0002row4_col5\" class=\"data row4 col5\" >0.3767</td>\n",
              "                        <td id=\"T_9c62aa2a_f301_11ea_83d0_0242ac1c0002row4_col6\" class=\"data row4 col6\" >0.4060</td>\n",
              "                        <td id=\"T_9c62aa2a_f301_11ea_83d0_0242ac1c0002row4_col7\" class=\"data row4 col7\" >0.0661</td>\n",
              "            </tr>\n",
              "            <tr>\n",
              "                        <th id=\"T_9c62aa2a_f301_11ea_83d0_0242ac1c0002level0_row5\" class=\"row_heading level0 row5\" >5</th>\n",
              "                        <td id=\"T_9c62aa2a_f301_11ea_83d0_0242ac1c0002row5_col0\" class=\"data row5 col0\" >AdaBoost Regressor</td>\n",
              "                        <td id=\"T_9c62aa2a_f301_11ea_83d0_0242ac1c0002row5_col1\" class=\"data row5 col1\" >2.8957</td>\n",
              "                        <td id=\"T_9c62aa2a_f301_11ea_83d0_0242ac1c0002row5_col2\" class=\"data row5 col2\" >13.7820</td>\n",
              "                        <td id=\"T_9c62aa2a_f301_11ea_83d0_0242ac1c0002row5_col3\" class=\"data row5 col3\" >3.7052</td>\n",
              "                        <td id=\"T_9c62aa2a_f301_11ea_83d0_0242ac1c0002row5_col4\" class=\"data row5 col4\" >-0.0150</td>\n",
              "                        <td id=\"T_9c62aa2a_f301_11ea_83d0_0242ac1c0002row5_col5\" class=\"data row5 col5\" >0.3873</td>\n",
              "                        <td id=\"T_9c62aa2a_f301_11ea_83d0_0242ac1c0002row5_col6\" class=\"data row5 col6\" >0.4300</td>\n",
              "                        <td id=\"T_9c62aa2a_f301_11ea_83d0_0242ac1c0002row5_col7\" class=\"data row5 col7\" >0.1026</td>\n",
              "            </tr>\n",
              "            <tr>\n",
              "                        <th id=\"T_9c62aa2a_f301_11ea_83d0_0242ac1c0002level0_row6\" class=\"row_heading level0 row6\" >6</th>\n",
              "                        <td id=\"T_9c62aa2a_f301_11ea_83d0_0242ac1c0002row6_col0\" class=\"data row6 col0\" >Gradient Boosting Regressor</td>\n",
              "                        <td id=\"T_9c62aa2a_f301_11ea_83d0_0242ac1c0002row6_col1\" class=\"data row6 col1\" >2.9488</td>\n",
              "                        <td id=\"T_9c62aa2a_f301_11ea_83d0_0242ac1c0002row6_col2\" class=\"data row6 col2\" >14.0478</td>\n",
              "                        <td id=\"T_9c62aa2a_f301_11ea_83d0_0242ac1c0002row6_col3\" class=\"data row6 col3\" >3.7407</td>\n",
              "                        <td id=\"T_9c62aa2a_f301_11ea_83d0_0242ac1c0002row6_col4\" class=\"data row6 col4\" >-0.0342</td>\n",
              "                        <td id=\"T_9c62aa2a_f301_11ea_83d0_0242ac1c0002row6_col5\" class=\"data row6 col5\" >0.3872</td>\n",
              "                        <td id=\"T_9c62aa2a_f301_11ea_83d0_0242ac1c0002row6_col6\" class=\"data row6 col6\" >0.4161</td>\n",
              "                        <td id=\"T_9c62aa2a_f301_11ea_83d0_0242ac1c0002row6_col7\" class=\"data row6 col7\" >0.0876</td>\n",
              "            </tr>\n",
              "            <tr>\n",
              "                        <th id=\"T_9c62aa2a_f301_11ea_83d0_0242ac1c0002level0_row7\" class=\"row_heading level0 row7\" >7</th>\n",
              "                        <td id=\"T_9c62aa2a_f301_11ea_83d0_0242ac1c0002row7_col0\" class=\"data row7 col0\" >Support Vector Machine</td>\n",
              "                        <td id=\"T_9c62aa2a_f301_11ea_83d0_0242ac1c0002row7_col1\" class=\"data row7 col1\" >3.0386</td>\n",
              "                        <td id=\"T_9c62aa2a_f301_11ea_83d0_0242ac1c0002row7_col2\" class=\"data row7 col2\" >14.0424</td>\n",
              "                        <td id=\"T_9c62aa2a_f301_11ea_83d0_0242ac1c0002row7_col3\" class=\"data row7 col3\" >3.7469</td>\n",
              "                        <td id=\"T_9c62aa2a_f301_11ea_83d0_0242ac1c0002row7_col4\" class=\"data row7 col4\" >-0.0437</td>\n",
              "                        <td id=\"T_9c62aa2a_f301_11ea_83d0_0242ac1c0002row7_col5\" class=\"data row7 col5\" >0.3920</td>\n",
              "                        <td id=\"T_9c62aa2a_f301_11ea_83d0_0242ac1c0002row7_col6\" class=\"data row7 col6\" >0.4453</td>\n",
              "                        <td id=\"T_9c62aa2a_f301_11ea_83d0_0242ac1c0002row7_col7\" class=\"data row7 col7\" >0.0128</td>\n",
              "            </tr>\n",
              "            <tr>\n",
              "                        <th id=\"T_9c62aa2a_f301_11ea_83d0_0242ac1c0002level0_row8\" class=\"row_heading level0 row8\" >8</th>\n",
              "                        <td id=\"T_9c62aa2a_f301_11ea_83d0_0242ac1c0002row8_col0\" class=\"data row8 col0\" >K Neighbors Regressor</td>\n",
              "                        <td id=\"T_9c62aa2a_f301_11ea_83d0_0242ac1c0002row8_col1\" class=\"data row8 col1\" >3.0319</td>\n",
              "                        <td id=\"T_9c62aa2a_f301_11ea_83d0_0242ac1c0002row8_col2\" class=\"data row8 col2\" >14.5754</td>\n",
              "                        <td id=\"T_9c62aa2a_f301_11ea_83d0_0242ac1c0002row8_col3\" class=\"data row8 col3\" >3.8128</td>\n",
              "                        <td id=\"T_9c62aa2a_f301_11ea_83d0_0242ac1c0002row8_col4\" class=\"data row8 col4\" >-0.0795</td>\n",
              "                        <td id=\"T_9c62aa2a_f301_11ea_83d0_0242ac1c0002row8_col5\" class=\"data row8 col5\" >0.3967</td>\n",
              "                        <td id=\"T_9c62aa2a_f301_11ea_83d0_0242ac1c0002row8_col6\" class=\"data row8 col6\" >0.4543</td>\n",
              "                        <td id=\"T_9c62aa2a_f301_11ea_83d0_0242ac1c0002row8_col7\" class=\"data row8 col7\" >0.0058</td>\n",
              "            </tr>\n",
              "            <tr>\n",
              "                        <th id=\"T_9c62aa2a_f301_11ea_83d0_0242ac1c0002level0_row9\" class=\"row_heading level0 row9\" >9</th>\n",
              "                        <td id=\"T_9c62aa2a_f301_11ea_83d0_0242ac1c0002row9_col0\" class=\"data row9 col0\" >Elastic Net</td>\n",
              "                        <td id=\"T_9c62aa2a_f301_11ea_83d0_0242ac1c0002row9_col1\" class=\"data row9 col1\" >3.1002</td>\n",
              "                        <td id=\"T_9c62aa2a_f301_11ea_83d0_0242ac1c0002row9_col2\" class=\"data row9 col2\" >14.9118</td>\n",
              "                        <td id=\"T_9c62aa2a_f301_11ea_83d0_0242ac1c0002row9_col3\" class=\"data row9 col3\" >3.8610</td>\n",
              "                        <td id=\"T_9c62aa2a_f301_11ea_83d0_0242ac1c0002row9_col4\" class=\"data row9 col4\" >-0.1069</td>\n",
              "                        <td id=\"T_9c62aa2a_f301_11ea_83d0_0242ac1c0002row9_col5\" class=\"data row9 col5\" >0.4025</td>\n",
              "                        <td id=\"T_9c62aa2a_f301_11ea_83d0_0242ac1c0002row9_col6\" class=\"data row9 col6\" >0.4588</td>\n",
              "                        <td id=\"T_9c62aa2a_f301_11ea_83d0_0242ac1c0002row9_col7\" class=\"data row9 col7\" >0.0081</td>\n",
              "            </tr>\n",
              "            <tr>\n",
              "                        <th id=\"T_9c62aa2a_f301_11ea_83d0_0242ac1c0002level0_row10\" class=\"row_heading level0 row10\" >10</th>\n",
              "                        <td id=\"T_9c62aa2a_f301_11ea_83d0_0242ac1c0002row10_col0\" class=\"data row10 col0\" >Lasso Least Angle Regression</td>\n",
              "                        <td id=\"T_9c62aa2a_f301_11ea_83d0_0242ac1c0002row10_col1\" class=\"data row10 col1\" >3.0995</td>\n",
              "                        <td id=\"T_9c62aa2a_f301_11ea_83d0_0242ac1c0002row10_col2\" class=\"data row10 col2\" >14.9409</td>\n",
              "                        <td id=\"T_9c62aa2a_f301_11ea_83d0_0242ac1c0002row10_col3\" class=\"data row10 col3\" >3.8647</td>\n",
              "                        <td id=\"T_9c62aa2a_f301_11ea_83d0_0242ac1c0002row10_col4\" class=\"data row10 col4\" >-0.1090</td>\n",
              "                        <td id=\"T_9c62aa2a_f301_11ea_83d0_0242ac1c0002row10_col5\" class=\"data row10 col5\" >0.4032</td>\n",
              "                        <td id=\"T_9c62aa2a_f301_11ea_83d0_0242ac1c0002row10_col6\" class=\"data row10 col6\" >0.4597</td>\n",
              "                        <td id=\"T_9c62aa2a_f301_11ea_83d0_0242ac1c0002row10_col7\" class=\"data row10 col7\" >0.0051</td>\n",
              "            </tr>\n",
              "            <tr>\n",
              "                        <th id=\"T_9c62aa2a_f301_11ea_83d0_0242ac1c0002level0_row11\" class=\"row_heading level0 row11\" >11</th>\n",
              "                        <td id=\"T_9c62aa2a_f301_11ea_83d0_0242ac1c0002row11_col0\" class=\"data row11 col0\" >Lasso Regression</td>\n",
              "                        <td id=\"T_9c62aa2a_f301_11ea_83d0_0242ac1c0002row11_col1\" class=\"data row11 col1\" >3.1027</td>\n",
              "                        <td id=\"T_9c62aa2a_f301_11ea_83d0_0242ac1c0002row11_col2\" class=\"data row11 col2\" >14.9595</td>\n",
              "                        <td id=\"T_9c62aa2a_f301_11ea_83d0_0242ac1c0002row11_col3\" class=\"data row11 col3\" >3.8671</td>\n",
              "                        <td id=\"T_9c62aa2a_f301_11ea_83d0_0242ac1c0002row11_col4\" class=\"data row11 col4\" >-0.1103</td>\n",
              "                        <td id=\"T_9c62aa2a_f301_11ea_83d0_0242ac1c0002row11_col5\" class=\"data row11 col5\" >0.4032</td>\n",
              "                        <td id=\"T_9c62aa2a_f301_11ea_83d0_0242ac1c0002row11_col6\" class=\"data row11 col6\" >0.4596</td>\n",
              "                        <td id=\"T_9c62aa2a_f301_11ea_83d0_0242ac1c0002row11_col7\" class=\"data row11 col7\" >0.0078</td>\n",
              "            </tr>\n",
              "            <tr>\n",
              "                        <th id=\"T_9c62aa2a_f301_11ea_83d0_0242ac1c0002level0_row12\" class=\"row_heading level0 row12\" >12</th>\n",
              "                        <td id=\"T_9c62aa2a_f301_11ea_83d0_0242ac1c0002row12_col0\" class=\"data row12 col0\" >Orthogonal Matching Pursuit</td>\n",
              "                        <td id=\"T_9c62aa2a_f301_11ea_83d0_0242ac1c0002row12_col1\" class=\"data row12 col1\" >3.0295</td>\n",
              "                        <td id=\"T_9c62aa2a_f301_11ea_83d0_0242ac1c0002row12_col2\" class=\"data row12 col2\" >15.1487</td>\n",
              "                        <td id=\"T_9c62aa2a_f301_11ea_83d0_0242ac1c0002row12_col3\" class=\"data row12 col3\" >3.8848</td>\n",
              "                        <td id=\"T_9c62aa2a_f301_11ea_83d0_0242ac1c0002row12_col4\" class=\"data row12 col4\" >-0.1154</td>\n",
              "                        <td id=\"T_9c62aa2a_f301_11ea_83d0_0242ac1c0002row12_col5\" class=\"data row12 col5\" >0.4012</td>\n",
              "                        <td id=\"T_9c62aa2a_f301_11ea_83d0_0242ac1c0002row12_col6\" class=\"data row12 col6\" >0.4411</td>\n",
              "                        <td id=\"T_9c62aa2a_f301_11ea_83d0_0242ac1c0002row12_col7\" class=\"data row12 col7\" >0.0058</td>\n",
              "            </tr>\n",
              "            <tr>\n",
              "                        <th id=\"T_9c62aa2a_f301_11ea_83d0_0242ac1c0002level0_row13\" class=\"row_heading level0 row13\" >13</th>\n",
              "                        <td id=\"T_9c62aa2a_f301_11ea_83d0_0242ac1c0002row13_col0\" class=\"data row13 col0\" >Ridge Regression</td>\n",
              "                        <td id=\"T_9c62aa2a_f301_11ea_83d0_0242ac1c0002row13_col1\" class=\"data row13 col1\" >3.3371</td>\n",
              "                        <td id=\"T_9c62aa2a_f301_11ea_83d0_0242ac1c0002row13_col2\" class=\"data row13 col2\" >17.5300</td>\n",
              "                        <td id=\"T_9c62aa2a_f301_11ea_83d0_0242ac1c0002row13_col3\" class=\"data row13 col3\" >4.1854</td>\n",
              "                        <td id=\"T_9c62aa2a_f301_11ea_83d0_0242ac1c0002row13_col4\" class=\"data row13 col4\" >-0.2976</td>\n",
              "                        <td id=\"T_9c62aa2a_f301_11ea_83d0_0242ac1c0002row13_col5\" class=\"data row13 col5\" >0.4488</td>\n",
              "                        <td id=\"T_9c62aa2a_f301_11ea_83d0_0242ac1c0002row13_col6\" class=\"data row13 col6\" >0.4734</td>\n",
              "                        <td id=\"T_9c62aa2a_f301_11ea_83d0_0242ac1c0002row13_col7\" class=\"data row13 col7\" >0.0087</td>\n",
              "            </tr>\n",
              "            <tr>\n",
              "                        <th id=\"T_9c62aa2a_f301_11ea_83d0_0242ac1c0002level0_row14\" class=\"row_heading level0 row14\" >14</th>\n",
              "                        <td id=\"T_9c62aa2a_f301_11ea_83d0_0242ac1c0002row14_col0\" class=\"data row14 col0\" >Huber Regressor</td>\n",
              "                        <td id=\"T_9c62aa2a_f301_11ea_83d0_0242ac1c0002row14_col1\" class=\"data row14 col1\" >3.6679</td>\n",
              "                        <td id=\"T_9c62aa2a_f301_11ea_83d0_0242ac1c0002row14_col2\" class=\"data row14 col2\" >21.0844</td>\n",
              "                        <td id=\"T_9c62aa2a_f301_11ea_83d0_0242ac1c0002row14_col3\" class=\"data row14 col3\" >4.5911</td>\n",
              "                        <td id=\"T_9c62aa2a_f301_11ea_83d0_0242ac1c0002row14_col4\" class=\"data row14 col4\" >-0.5642</td>\n",
              "                        <td id=\"T_9c62aa2a_f301_11ea_83d0_0242ac1c0002row14_col5\" class=\"data row14 col5\" >0.4865</td>\n",
              "                        <td id=\"T_9c62aa2a_f301_11ea_83d0_0242ac1c0002row14_col6\" class=\"data row14 col6\" >0.5090</td>\n",
              "                        <td id=\"T_9c62aa2a_f301_11ea_83d0_0242ac1c0002row14_col7\" class=\"data row14 col7\" >0.0562</td>\n",
              "            </tr>\n",
              "            <tr>\n",
              "                        <th id=\"T_9c62aa2a_f301_11ea_83d0_0242ac1c0002level0_row15\" class=\"row_heading level0 row15\" >15</th>\n",
              "                        <td id=\"T_9c62aa2a_f301_11ea_83d0_0242ac1c0002row15_col0\" class=\"data row15 col0\" >Extra Trees Regressor</td>\n",
              "                        <td id=\"T_9c62aa2a_f301_11ea_83d0_0242ac1c0002row15_col1\" class=\"data row15 col1\" >3.7926</td>\n",
              "                        <td id=\"T_9c62aa2a_f301_11ea_83d0_0242ac1c0002row15_col2\" class=\"data row15 col2\" >22.6776</td>\n",
              "                        <td id=\"T_9c62aa2a_f301_11ea_83d0_0242ac1c0002row15_col3\" class=\"data row15 col3\" >4.7481</td>\n",
              "                        <td id=\"T_9c62aa2a_f301_11ea_83d0_0242ac1c0002row15_col4\" class=\"data row15 col4\" >-0.6780</td>\n",
              "                        <td id=\"T_9c62aa2a_f301_11ea_83d0_0242ac1c0002row15_col5\" class=\"data row15 col5\" >0.4847</td>\n",
              "                        <td id=\"T_9c62aa2a_f301_11ea_83d0_0242ac1c0002row15_col6\" class=\"data row15 col6\" >0.4976</td>\n",
              "                        <td id=\"T_9c62aa2a_f301_11ea_83d0_0242ac1c0002row15_col7\" class=\"data row15 col7\" >0.3454</td>\n",
              "            </tr>\n",
              "            <tr>\n",
              "                        <th id=\"T_9c62aa2a_f301_11ea_83d0_0242ac1c0002level0_row16\" class=\"row_heading level0 row16\" >16</th>\n",
              "                        <td id=\"T_9c62aa2a_f301_11ea_83d0_0242ac1c0002row16_col0\" class=\"data row16 col0\" >Decision Tree</td>\n",
              "                        <td id=\"T_9c62aa2a_f301_11ea_83d0_0242ac1c0002row16_col1\" class=\"data row16 col1\" >3.7343</td>\n",
              "                        <td id=\"T_9c62aa2a_f301_11ea_83d0_0242ac1c0002row16_col2\" class=\"data row16 col2\" >23.4646</td>\n",
              "                        <td id=\"T_9c62aa2a_f301_11ea_83d0_0242ac1c0002row16_col3\" class=\"data row16 col3\" >4.8396</td>\n",
              "                        <td id=\"T_9c62aa2a_f301_11ea_83d0_0242ac1c0002row16_col4\" class=\"data row16 col4\" >-0.7460</td>\n",
              "                        <td id=\"T_9c62aa2a_f301_11ea_83d0_0242ac1c0002row16_col5\" class=\"data row16 col5\" >0.4799</td>\n",
              "                        <td id=\"T_9c62aa2a_f301_11ea_83d0_0242ac1c0002row16_col6\" class=\"data row16 col6\" >0.4801</td>\n",
              "                        <td id=\"T_9c62aa2a_f301_11ea_83d0_0242ac1c0002row16_col7\" class=\"data row16 col7\" >0.0079</td>\n",
              "            </tr>\n",
              "            <tr>\n",
              "                        <th id=\"T_9c62aa2a_f301_11ea_83d0_0242ac1c0002level0_row17\" class=\"row_heading level0 row17\" >17</th>\n",
              "                        <td id=\"T_9c62aa2a_f301_11ea_83d0_0242ac1c0002row17_col0\" class=\"data row17 col0\" >Least Angle Regression</td>\n",
              "                        <td id=\"T_9c62aa2a_f301_11ea_83d0_0242ac1c0002row17_col1\" class=\"data row17 col1\" >4.0717</td>\n",
              "                        <td id=\"T_9c62aa2a_f301_11ea_83d0_0242ac1c0002row17_col2\" class=\"data row17 col2\" >28.8483</td>\n",
              "                        <td id=\"T_9c62aa2a_f301_11ea_83d0_0242ac1c0002row17_col3\" class=\"data row17 col3\" >5.2263</td>\n",
              "                        <td id=\"T_9c62aa2a_f301_11ea_83d0_0242ac1c0002row17_col4\" class=\"data row17 col4\" >-1.0752</td>\n",
              "                        <td id=\"T_9c62aa2a_f301_11ea_83d0_0242ac1c0002row17_col5\" class=\"data row17 col5\" >0.5751</td>\n",
              "                        <td id=\"T_9c62aa2a_f301_11ea_83d0_0242ac1c0002row17_col6\" class=\"data row17 col6\" >0.5721</td>\n",
              "                        <td id=\"T_9c62aa2a_f301_11ea_83d0_0242ac1c0002row17_col7\" class=\"data row17 col7\" >0.0430</td>\n",
              "            </tr>\n",
              "            <tr>\n",
              "                        <th id=\"T_9c62aa2a_f301_11ea_83d0_0242ac1c0002level0_row18\" class=\"row_heading level0 row18\" >18</th>\n",
              "                        <td id=\"T_9c62aa2a_f301_11ea_83d0_0242ac1c0002row18_col0\" class=\"data row18 col0\" >Passive Aggressive Regressor</td>\n",
              "                        <td id=\"T_9c62aa2a_f301_11ea_83d0_0242ac1c0002row18_col1\" class=\"data row18 col1\" >5.7043</td>\n",
              "                        <td id=\"T_9c62aa2a_f301_11ea_83d0_0242ac1c0002row18_col2\" class=\"data row18 col2\" >59.8418</td>\n",
              "                        <td id=\"T_9c62aa2a_f301_11ea_83d0_0242ac1c0002row18_col3\" class=\"data row18 col3\" >7.4583</td>\n",
              "                        <td id=\"T_9c62aa2a_f301_11ea_83d0_0242ac1c0002row18_col4\" class=\"data row18 col4\" >-3.5389</td>\n",
              "                        <td id=\"T_9c62aa2a_f301_11ea_83d0_0242ac1c0002row18_col5\" class=\"data row18 col5\" >0.6002</td>\n",
              "                        <td id=\"T_9c62aa2a_f301_11ea_83d0_0242ac1c0002row18_col6\" class=\"data row18 col6\" >0.7521</td>\n",
              "                        <td id=\"T_9c62aa2a_f301_11ea_83d0_0242ac1c0002row18_col7\" class=\"data row18 col7\" >0.0063</td>\n",
              "            </tr>\n",
              "            <tr>\n",
              "                        <th id=\"T_9c62aa2a_f301_11ea_83d0_0242ac1c0002level0_row19\" class=\"row_heading level0 row19\" >19</th>\n",
              "                        <td id=\"T_9c62aa2a_f301_11ea_83d0_0242ac1c0002row19_col0\" class=\"data row19 col0\" >Random Sample Consensus</td>\n",
              "                        <td id=\"T_9c62aa2a_f301_11ea_83d0_0242ac1c0002row19_col1\" class=\"data row19 col1\" >9859020726.2990</td>\n",
              "                        <td id=\"T_9c62aa2a_f301_11ea_83d0_0242ac1c0002row19_col2\" class=\"data row19 col2\" >8885292677827915677696.0000</td>\n",
              "                        <td id=\"T_9c62aa2a_f301_11ea_83d0_0242ac1c0002row19_col3\" class=\"data row19 col3\" >54422093182.6492</td>\n",
              "                        <td id=\"T_9c62aa2a_f301_11ea_83d0_0242ac1c0002row19_col4\" class=\"data row19 col4\" >-720993957001324527616.0000</td>\n",
              "                        <td id=\"T_9c62aa2a_f301_11ea_83d0_0242ac1c0002row19_col5\" class=\"data row19 col5\" >2.1489</td>\n",
              "                        <td id=\"T_9c62aa2a_f301_11ea_83d0_0242ac1c0002row19_col6\" class=\"data row19 col6\" >1139998168.3443</td>\n",
              "                        <td id=\"T_9c62aa2a_f301_11ea_83d0_0242ac1c0002row19_col7\" class=\"data row19 col7\" >0.4029</td>\n",
              "            </tr>\n",
              "            <tr>\n",
              "                        <th id=\"T_9c62aa2a_f301_11ea_83d0_0242ac1c0002level0_row20\" class=\"row_heading level0 row20\" >20</th>\n",
              "                        <td id=\"T_9c62aa2a_f301_11ea_83d0_0242ac1c0002row20_col0\" class=\"data row20 col0\" >Linear Regression</td>\n",
              "                        <td id=\"T_9c62aa2a_f301_11ea_83d0_0242ac1c0002row20_col1\" class=\"data row20 col1\" >9863030555.5632</td>\n",
              "                        <td id=\"T_9c62aa2a_f301_11ea_83d0_0242ac1c0002row20_col2\" class=\"data row20 col2\" >9783620479724218744832.0000</td>\n",
              "                        <td id=\"T_9c62aa2a_f301_11ea_83d0_0242ac1c0002row20_col3\" class=\"data row20 col3\" >57106977042.5479</td>\n",
              "                        <td id=\"T_9c62aa2a_f301_11ea_83d0_0242ac1c0002row20_col4\" class=\"data row20 col4\" >-793888451314352521216.0000</td>\n",
              "                        <td id=\"T_9c62aa2a_f301_11ea_83d0_0242ac1c0002row20_col5\" class=\"data row20 col5\" >2.0618</td>\n",
              "                        <td id=\"T_9c62aa2a_f301_11ea_83d0_0242ac1c0002row20_col6\" class=\"data row20 col6\" >1190512005.8248</td>\n",
              "                        <td id=\"T_9c62aa2a_f301_11ea_83d0_0242ac1c0002row20_col7\" class=\"data row20 col7\" >0.0138</td>\n",
              "            </tr>\n",
              "    </tbody></table>"
            ],
            "text/plain": [
              "<pandas.io.formats.style.Styler at 0x7f018c5abc18>"
            ]
          },
          "metadata": {
            "tags": []
          }
        },
        {
          "output_type": "stream",
          "text": [
            "CPU times: user 1min, sys: 10.8 s, total: 1min 11s\n",
            "Wall time: 51.7 s\n"
          ],
          "name": "stdout"
        }
      ]
    },
    {
      "cell_type": "code",
      "metadata": {
        "id": "PaE00q7F4iCb",
        "colab_type": "code",
        "colab": {
          "base_uri": "https://localhost:8080/",
          "height": 136
        },
        "outputId": "16c8f284-9da2-4905-8aa2-375bcacd6c86"
      },
      "source": [
        "best_specific[1]"
      ],
      "execution_count": null,
      "outputs": [
        {
          "output_type": "execute_result",
          "data": {
            "text/plain": [
              "RandomForestRegressor(bootstrap=True, ccp_alpha=0.0, criterion='mse',\n",
              "                      max_depth=None, max_features='auto', max_leaf_nodes=None,\n",
              "                      max_samples=None, min_impurity_decrease=0.0,\n",
              "                      min_impurity_split=None, min_samples_leaf=1,\n",
              "                      min_samples_split=2, min_weight_fraction_leaf=0.0,\n",
              "                      n_estimators=100, n_jobs=-1, oob_score=False,\n",
              "                      random_state=6679, verbose=0, warm_start=False)"
            ]
          },
          "metadata": {
            "tags": []
          },
          "execution_count": 58
        }
      ]
    },
    {
      "cell_type": "code",
      "metadata": {
        "id": "bTpjhIc-5uRb",
        "colab_type": "code",
        "colab": {
          "base_uri": "https://localhost:8080/",
          "height": 34
        },
        "outputId": "9b07a52c-b8fb-430b-e265-a26221dc75d7"
      },
      "source": [
        "type(best_specific[1])"
      ],
      "execution_count": null,
      "outputs": [
        {
          "output_type": "execute_result",
          "data": {
            "text/plain": [
              "sklearn.ensemble._forest.RandomForestRegressor"
            ]
          },
          "metadata": {
            "tags": []
          },
          "execution_count": 60
        }
      ]
    },
    {
      "cell_type": "markdown",
      "metadata": {
        "id": "50utClmE7q0O",
        "colab_type": "text"
      },
      "source": [
        "\n",
        "\n",
        "---\n",
        "\n",
        "\n",
        "\n",
        "---\n",
        "\n"
      ]
    },
    {
      "cell_type": "markdown",
      "metadata": {
        "id": "MXax2qOu7ssS",
        "colab_type": "text"
      },
      "source": [
        "> **H2O**\n",
        "\n",
        "Agora se voce quer usar apenas uma ferramenta, o H2O é a ferramenta certa pra você. [Artigo Neuron](https://medium.com/@nicholasrichers/crie-modelos-de-machine-learning-em-menos-de-10-minutos-com-automl-d4ecf67fab02) sobre o H2O."
      ]
    },
    {
      "cell_type": "code",
      "metadata": {
        "id": "D4dVSbyq801Z",
        "colab_type": "code",
        "colab": {
          "base_uri": "https://localhost:8080/",
          "height": 545
        },
        "outputId": "904edae5-a4e4-439d-f90b-2caec42ec45b"
      },
      "source": [
        "import h2o\n",
        "\n",
        "h2o.init()"
      ],
      "execution_count": null,
      "outputs": [
        {
          "output_type": "stream",
          "text": [
            "Checking whether there is an H2O instance running at http://localhost:54321 ..... not found.\n",
            "Attempting to start a local H2O server...\n",
            "  Java Version: openjdk version \"11.0.8\" 2020-07-14; OpenJDK Runtime Environment (build 11.0.8+10-post-Ubuntu-0ubuntu118.04.1); OpenJDK 64-Bit Server VM (build 11.0.8+10-post-Ubuntu-0ubuntu118.04.1, mixed mode, sharing)\n",
            "  Starting server from /usr/local/lib/python3.6/dist-packages/h2o/backend/bin/h2o.jar\n",
            "  Ice root: /tmp/tmpvshfz9mc\n",
            "  JVM stdout: /tmp/tmpvshfz9mc/h2o_unknownUser_started_from_python.out\n",
            "  JVM stderr: /tmp/tmpvshfz9mc/h2o_unknownUser_started_from_python.err\n",
            "  Server is running at http://127.0.0.1:54321\n",
            "Connecting to H2O server at http://127.0.0.1:54321 ... successful.\n"
          ],
          "name": "stdout"
        },
        {
          "output_type": "display_data",
          "data": {
            "text/html": [
              "<div style=\"overflow:auto\"><table style=\"width:50%\"><tr><td>H2O_cluster_uptime:</td>\n",
              "<td>04 secs</td></tr>\n",
              "<tr><td>H2O_cluster_timezone:</td>\n",
              "<td>Etc/UTC</td></tr>\n",
              "<tr><td>H2O_data_parsing_timezone:</td>\n",
              "<td>UTC</td></tr>\n",
              "<tr><td>H2O_cluster_version:</td>\n",
              "<td>3.30.1.2</td></tr>\n",
              "<tr><td>H2O_cluster_version_age:</td>\n",
              "<td>6 days </td></tr>\n",
              "<tr><td>H2O_cluster_name:</td>\n",
              "<td>H2O_from_python_unknownUser_yr5lxc</td></tr>\n",
              "<tr><td>H2O_cluster_total_nodes:</td>\n",
              "<td>1</td></tr>\n",
              "<tr><td>H2O_cluster_free_memory:</td>\n",
              "<td>3.180 Gb</td></tr>\n",
              "<tr><td>H2O_cluster_total_cores:</td>\n",
              "<td>2</td></tr>\n",
              "<tr><td>H2O_cluster_allowed_cores:</td>\n",
              "<td>2</td></tr>\n",
              "<tr><td>H2O_cluster_status:</td>\n",
              "<td>accepting new members, healthy</td></tr>\n",
              "<tr><td>H2O_connection_url:</td>\n",
              "<td>http://127.0.0.1:54321</td></tr>\n",
              "<tr><td>H2O_connection_proxy:</td>\n",
              "<td>{\"http\": null, \"https\": null}</td></tr>\n",
              "<tr><td>H2O_internal_security:</td>\n",
              "<td>False</td></tr>\n",
              "<tr><td>H2O_API_Extensions:</td>\n",
              "<td>Amazon S3, XGBoost, Algos, AutoML, Core V3, TargetEncoder, Core V4</td></tr>\n",
              "<tr><td>Python_version:</td>\n",
              "<td>3.6.9 final</td></tr></table></div>"
            ],
            "text/plain": [
              "--------------------------  ------------------------------------------------------------------\n",
              "H2O_cluster_uptime:         04 secs\n",
              "H2O_cluster_timezone:       Etc/UTC\n",
              "H2O_data_parsing_timezone:  UTC\n",
              "H2O_cluster_version:        3.30.1.2\n",
              "H2O_cluster_version_age:    6 days\n",
              "H2O_cluster_name:           H2O_from_python_unknownUser_yr5lxc\n",
              "H2O_cluster_total_nodes:    1\n",
              "H2O_cluster_free_memory:    3.180 Gb\n",
              "H2O_cluster_total_cores:    2\n",
              "H2O_cluster_allowed_cores:  2\n",
              "H2O_cluster_status:         accepting new members, healthy\n",
              "H2O_connection_url:         http://127.0.0.1:54321\n",
              "H2O_connection_proxy:       {\"http\": null, \"https\": null}\n",
              "H2O_internal_security:      False\n",
              "H2O_API_Extensions:         Amazon S3, XGBoost, Algos, AutoML, Core V3, TargetEncoder, Core V4\n",
              "Python_version:             3.6.9 final\n",
              "--------------------------  ------------------------------------------------------------------"
            ]
          },
          "metadata": {
            "tags": []
          }
        }
      ]
    },
    {
      "cell_type": "code",
      "metadata": {
        "id": "mNMxGX3g2Kou",
        "colab_type": "code",
        "colab": {
          "base_uri": "https://localhost:8080/",
          "height": 51
        },
        "outputId": "27b3b309-e5c3-4ea9-d1e6-b5c7ddceaf7c"
      },
      "source": [
        "dados_url = 'https://raw.githubusercontent.com/nicholasrichers/regressao-neuron/master/student_dataset/student-mat.csv'\n",
        "\n",
        "data = h2o.import_file(dados_url)\n",
        "data[\"media\"] = (data[\"G1\"] + data[\"G2\"] + data[\"G3\"])/3\n",
        "\n",
        "type(data)"
      ],
      "execution_count": null,
      "outputs": [
        {
          "output_type": "stream",
          "text": [
            "Parse progress: |█████████████████████████████████████████████████████████| 100%\n"
          ],
          "name": "stdout"
        },
        {
          "output_type": "execute_result",
          "data": {
            "text/plain": [
              "h2o.frame.H2OFrame"
            ]
          },
          "metadata": {
            "tags": []
          },
          "execution_count": 62
        }
      ]
    },
    {
      "cell_type": "code",
      "metadata": {
        "id": "_d_Absi29g3T",
        "colab_type": "code",
        "colab": {
          "base_uri": "https://localhost:8080/",
          "height": 485
        },
        "outputId": "d63c0a90-1439-491b-cad9-04471b616a38"
      },
      "source": [
        "data.describe()"
      ],
      "execution_count": null,
      "outputs": [
        {
          "output_type": "stream",
          "text": [
            "Rows:395\n",
            "Cols:34\n",
            "\n",
            "\n"
          ],
          "name": "stdout"
        },
        {
          "output_type": "display_data",
          "data": {
            "text/html": [
              "<table>\n",
              "<thead>\n",
              "<tr><th>       </th><th>school  </th><th>sex  </th><th>age               </th><th>address  </th><th>famsize  </th><th>Pstatus  </th><th>Medu              </th><th>Fedu              </th><th>Mjob    </th><th>Fjob    </th><th>reason    </th><th>guardian  </th><th>traveltime        </th><th>studytime         </th><th>failures          </th><th>schoolsup  </th><th>famsup  </th><th>paid  </th><th>activities  </th><th>nursery  </th><th>higher  </th><th>internet  </th><th>romantic  </th><th>famrel            </th><th>freetime          </th><th>goout             </th><th>Dalc              </th><th>Walc              </th><th>health            </th><th>absences         </th><th>G1                </th><th>G2                </th><th>G3                </th><th>media             </th></tr>\n",
              "</thead>\n",
              "<tbody>\n",
              "<tr><td>type   </td><td>enum    </td><td>enum </td><td>int               </td><td>enum     </td><td>enum     </td><td>enum     </td><td>int               </td><td>int               </td><td>enum    </td><td>enum    </td><td>enum      </td><td>enum      </td><td>int               </td><td>int               </td><td>int               </td><td>enum       </td><td>enum    </td><td>enum  </td><td>enum        </td><td>enum     </td><td>enum    </td><td>enum      </td><td>enum      </td><td>int               </td><td>int               </td><td>int               </td><td>int               </td><td>int               </td><td>int               </td><td>int              </td><td>int               </td><td>int               </td><td>int               </td><td>real              </td></tr>\n",
              "<tr><td>mins   </td><td>        </td><td>     </td><td>15.0              </td><td>         </td><td>         </td><td>         </td><td>0.0               </td><td>0.0               </td><td>        </td><td>        </td><td>          </td><td>          </td><td>1.0               </td><td>1.0               </td><td>0.0               </td><td>           </td><td>        </td><td>      </td><td>            </td><td>         </td><td>        </td><td>          </td><td>          </td><td>1.0               </td><td>1.0               </td><td>1.0               </td><td>1.0               </td><td>1.0               </td><td>1.0               </td><td>0.0              </td><td>3.0               </td><td>0.0               </td><td>0.0               </td><td>1.3333333333333333</td></tr>\n",
              "<tr><td>mean   </td><td>        </td><td>     </td><td>16.69620253164557 </td><td>         </td><td>         </td><td>         </td><td>2.749367088607595 </td><td>2.5215189873417736</td><td>        </td><td>        </td><td>          </td><td>          </td><td>1.4481012658227845</td><td>2.0354430379746833</td><td>0.3341772151898734</td><td>           </td><td>        </td><td>      </td><td>            </td><td>         </td><td>        </td><td>          </td><td>          </td><td>3.9443037974683564</td><td>3.235443037974683 </td><td>3.1088607594936697</td><td>1.4810126582278482</td><td>2.291139240506329 </td><td>3.5544303797468384</td><td>5.708860759493671</td><td>10.908860759493665</td><td>10.71392405063291 </td><td>10.41518987341772 </td><td>10.679324894514771</td></tr>\n",
              "<tr><td>maxs   </td><td>        </td><td>     </td><td>22.0              </td><td>         </td><td>         </td><td>         </td><td>4.0               </td><td>4.0               </td><td>        </td><td>        </td><td>          </td><td>          </td><td>4.0               </td><td>4.0               </td><td>3.0               </td><td>           </td><td>        </td><td>      </td><td>            </td><td>         </td><td>        </td><td>          </td><td>          </td><td>5.0               </td><td>5.0               </td><td>5.0               </td><td>5.0               </td><td>5.0               </td><td>5.0               </td><td>75.0             </td><td>19.0              </td><td>19.0              </td><td>20.0              </td><td>19.333333333333332</td></tr>\n",
              "<tr><td>sigma  </td><td>        </td><td>     </td><td>1.2760427246056265</td><td>         </td><td>         </td><td>         </td><td>1.0947351414285371</td><td>1.0882005458269433</td><td>        </td><td>        </td><td>          </td><td>          </td><td>0.6975047549086822</td><td>0.8392403464185556</td><td>0.7436509736062509</td><td>           </td><td>        </td><td>      </td><td>            </td><td>         </td><td>        </td><td>          </td><td>          </td><td>0.8966586076885046</td><td>0.9988620396657203</td><td>1.1132781740183422</td><td>0.8907414280909669</td><td>1.2878965924510932</td><td>1.3903033913095773</td><td>8.003095687108184</td><td>3.3191946715076686</td><td>3.7615046595560306</td><td>4.5814426109978434</td><td>3.6967856336770732</td></tr>\n",
              "<tr><td>zeros  </td><td>        </td><td>     </td><td>0                 </td><td>         </td><td>         </td><td>         </td><td>3                 </td><td>2                 </td><td>        </td><td>        </td><td>          </td><td>          </td><td>0                 </td><td>0                 </td><td>312               </td><td>           </td><td>        </td><td>      </td><td>            </td><td>         </td><td>        </td><td>          </td><td>          </td><td>0                 </td><td>0                 </td><td>0                 </td><td>0                 </td><td>0                 </td><td>0                 </td><td>115              </td><td>0                 </td><td>13                </td><td>38                </td><td>0                 </td></tr>\n",
              "<tr><td>missing</td><td>0       </td><td>0    </td><td>0                 </td><td>0        </td><td>0        </td><td>0        </td><td>0                 </td><td>0                 </td><td>0       </td><td>0       </td><td>0         </td><td>0         </td><td>0                 </td><td>0                 </td><td>0                 </td><td>0          </td><td>0       </td><td>0     </td><td>0           </td><td>0        </td><td>0       </td><td>0         </td><td>0         </td><td>0                 </td><td>0                 </td><td>0                 </td><td>0                 </td><td>0                 </td><td>0                 </td><td>0                </td><td>0                 </td><td>0                 </td><td>0                 </td><td>0                 </td></tr>\n",
              "<tr><td>0      </td><td>GP      </td><td>F    </td><td>18.0              </td><td>U        </td><td>GT3      </td><td>A        </td><td>4.0               </td><td>4.0               </td><td>at_home </td><td>teacher </td><td>course    </td><td>mother    </td><td>2.0               </td><td>2.0               </td><td>0.0               </td><td>yes        </td><td>no      </td><td>no    </td><td>no          </td><td>yes      </td><td>yes     </td><td>no        </td><td>no        </td><td>4.0               </td><td>3.0               </td><td>4.0               </td><td>1.0               </td><td>1.0               </td><td>3.0               </td><td>6.0              </td><td>5.0               </td><td>6.0               </td><td>6.0               </td><td>5.666666666666667 </td></tr>\n",
              "<tr><td>1      </td><td>GP      </td><td>F    </td><td>17.0              </td><td>U        </td><td>GT3      </td><td>T        </td><td>1.0               </td><td>1.0               </td><td>at_home </td><td>other   </td><td>course    </td><td>father    </td><td>1.0               </td><td>2.0               </td><td>0.0               </td><td>no         </td><td>yes     </td><td>no    </td><td>no          </td><td>no       </td><td>yes     </td><td>yes       </td><td>no        </td><td>5.0               </td><td>3.0               </td><td>3.0               </td><td>1.0               </td><td>1.0               </td><td>3.0               </td><td>4.0              </td><td>5.0               </td><td>5.0               </td><td>6.0               </td><td>5.333333333333333 </td></tr>\n",
              "<tr><td>2      </td><td>GP      </td><td>F    </td><td>15.0              </td><td>U        </td><td>LE3      </td><td>T        </td><td>1.0               </td><td>1.0               </td><td>at_home </td><td>other   </td><td>other     </td><td>mother    </td><td>1.0               </td><td>2.0               </td><td>3.0               </td><td>yes        </td><td>no      </td><td>yes   </td><td>no          </td><td>yes      </td><td>yes     </td><td>yes       </td><td>no        </td><td>4.0               </td><td>3.0               </td><td>2.0               </td><td>2.0               </td><td>3.0               </td><td>3.0               </td><td>10.0             </td><td>7.0               </td><td>8.0               </td><td>10.0              </td><td>8.333333333333334 </td></tr>\n",
              "<tr><td>3      </td><td>GP      </td><td>F    </td><td>15.0              </td><td>U        </td><td>GT3      </td><td>T        </td><td>4.0               </td><td>2.0               </td><td>health  </td><td>services</td><td>home      </td><td>mother    </td><td>1.0               </td><td>3.0               </td><td>0.0               </td><td>no         </td><td>yes     </td><td>yes   </td><td>yes         </td><td>yes      </td><td>yes     </td><td>yes       </td><td>yes       </td><td>3.0               </td><td>2.0               </td><td>2.0               </td><td>1.0               </td><td>1.0               </td><td>5.0               </td><td>2.0              </td><td>15.0              </td><td>14.0              </td><td>15.0              </td><td>14.666666666666666</td></tr>\n",
              "<tr><td>4      </td><td>GP      </td><td>F    </td><td>16.0              </td><td>U        </td><td>GT3      </td><td>T        </td><td>3.0               </td><td>3.0               </td><td>other   </td><td>other   </td><td>home      </td><td>father    </td><td>1.0               </td><td>2.0               </td><td>0.0               </td><td>no         </td><td>yes     </td><td>yes   </td><td>no          </td><td>yes      </td><td>yes     </td><td>no        </td><td>no        </td><td>4.0               </td><td>3.0               </td><td>2.0               </td><td>1.0               </td><td>2.0               </td><td>5.0               </td><td>4.0              </td><td>6.0               </td><td>10.0              </td><td>10.0              </td><td>8.666666666666666 </td></tr>\n",
              "<tr><td>5      </td><td>GP      </td><td>M    </td><td>16.0              </td><td>U        </td><td>LE3      </td><td>T        </td><td>4.0               </td><td>3.0               </td><td>services</td><td>other   </td><td>reputation</td><td>mother    </td><td>1.0               </td><td>2.0               </td><td>0.0               </td><td>no         </td><td>yes     </td><td>yes   </td><td>yes         </td><td>yes      </td><td>yes     </td><td>yes       </td><td>no        </td><td>5.0               </td><td>4.0               </td><td>2.0               </td><td>1.0               </td><td>2.0               </td><td>5.0               </td><td>10.0             </td><td>15.0              </td><td>15.0              </td><td>15.0              </td><td>15.0              </td></tr>\n",
              "<tr><td>6      </td><td>GP      </td><td>M    </td><td>16.0              </td><td>U        </td><td>LE3      </td><td>T        </td><td>2.0               </td><td>2.0               </td><td>other   </td><td>other   </td><td>home      </td><td>mother    </td><td>1.0               </td><td>2.0               </td><td>0.0               </td><td>no         </td><td>no      </td><td>no    </td><td>no          </td><td>yes      </td><td>yes     </td><td>yes       </td><td>no        </td><td>4.0               </td><td>4.0               </td><td>4.0               </td><td>1.0               </td><td>1.0               </td><td>3.0               </td><td>0.0              </td><td>12.0              </td><td>12.0              </td><td>11.0              </td><td>11.666666666666666</td></tr>\n",
              "<tr><td>7      </td><td>GP      </td><td>F    </td><td>17.0              </td><td>U        </td><td>GT3      </td><td>A        </td><td>4.0               </td><td>4.0               </td><td>other   </td><td>teacher </td><td>home      </td><td>mother    </td><td>2.0               </td><td>2.0               </td><td>0.0               </td><td>yes        </td><td>yes     </td><td>no    </td><td>no          </td><td>yes      </td><td>yes     </td><td>no        </td><td>no        </td><td>4.0               </td><td>1.0               </td><td>4.0               </td><td>1.0               </td><td>1.0               </td><td>1.0               </td><td>6.0              </td><td>6.0               </td><td>5.0               </td><td>6.0               </td><td>5.666666666666667 </td></tr>\n",
              "<tr><td>8      </td><td>GP      </td><td>M    </td><td>15.0              </td><td>U        </td><td>LE3      </td><td>A        </td><td>3.0               </td><td>2.0               </td><td>services</td><td>other   </td><td>home      </td><td>mother    </td><td>1.0               </td><td>2.0               </td><td>0.0               </td><td>no         </td><td>yes     </td><td>yes   </td><td>no          </td><td>yes      </td><td>yes     </td><td>yes       </td><td>no        </td><td>4.0               </td><td>2.0               </td><td>2.0               </td><td>1.0               </td><td>1.0               </td><td>1.0               </td><td>0.0              </td><td>16.0              </td><td>18.0              </td><td>19.0              </td><td>17.666666666666668</td></tr>\n",
              "<tr><td>9      </td><td>GP      </td><td>M    </td><td>15.0              </td><td>U        </td><td>GT3      </td><td>T        </td><td>3.0               </td><td>4.0               </td><td>other   </td><td>other   </td><td>home      </td><td>mother    </td><td>1.0               </td><td>2.0               </td><td>0.0               </td><td>no         </td><td>yes     </td><td>yes   </td><td>yes         </td><td>yes      </td><td>yes     </td><td>yes       </td><td>no        </td><td>5.0               </td><td>5.0               </td><td>1.0               </td><td>1.0               </td><td>1.0               </td><td>5.0               </td><td>0.0              </td><td>14.0              </td><td>15.0              </td><td>15.0              </td><td>14.666666666666666</td></tr>\n",
              "</tbody>\n",
              "</table>"
            ]
          },
          "metadata": {
            "tags": []
          }
        }
      ]
    },
    {
      "cell_type": "markdown",
      "metadata": {
        "id": "foZV9tjIE7Ti",
        "colab_type": "text"
      },
      "source": [
        "\n",
        "\n",
        "---\n",
        "\n",
        "\n",
        "\n",
        "---\n",
        "\n"
      ]
    },
    {
      "cell_type": "markdown",
      "metadata": {
        "id": "dCk5u_PxDfXo",
        "colab_type": "text"
      },
      "source": [
        "> Auto-ML\n",
        "\n",
        "Na [documentação](http://docs.h2o.ai/h2o/latest-stable/h2o-docs/automl.html), você encontrará que o AutoML só trabalha com algoritmos \"top de linha\", e a verdade é que você **não precisa se preocupar por enquanto**, como esses modelos funcionam a fundo.\n",
        "\n",
        "1. Random Forest (**DRF**)\n",
        "2. Extremely-Randomized Forest (**DRF/XRT**)\n",
        "3. Generalized Linear Models (**GLM**)\n",
        "4. XGBoost (**XGBoost**)\n",
        "5. Gradient Boosting Machines (**GBM**)\n",
        "6. Deep Neural Nets (**DeepLearning**)\n",
        "7. **Stacked Ensembles**: One of all the models\n",
        "8. **Stacked Ensembles**: Only the best models of each kind"
      ]
    },
    {
      "cell_type": "code",
      "metadata": {
        "id": "Zcyfq8Do2Kty",
        "colab_type": "code",
        "colab": {}
      },
      "source": [
        "from h2o.automl import H2OAutoML\n",
        "\n",
        "aml = H2OAutoML(max_models = 10, #default = 10\n",
        "                max_runtime_secs=300, #default = inf\n",
        "                nfolds=3, #default = 5\n",
        "                sort_metric = \"MSE\", #default = logloss\n",
        "                seed = 1,  \n",
        "                )"
      ],
      "execution_count": null,
      "outputs": []
    },
    {
      "cell_type": "code",
      "metadata": {
        "id": "sRE2KGDy2RZ9",
        "colab_type": "code",
        "colab": {
          "base_uri": "https://localhost:8080/",
          "height": 68
        },
        "outputId": "ccbedf99-9633-4c56-ca08-58ca1f6480c9"
      },
      "source": [
        "%%time\n",
        "aml.train(x = data.columns[:-4],\n",
        "          y = \"media\", \n",
        "          training_frame = data\n",
        "          )"
      ],
      "execution_count": null,
      "outputs": [
        {
          "output_type": "stream",
          "text": [
            "AutoML progress: |████████████████████████████████████████████████████████| 100%\n",
            "CPU times: user 13.5 s, sys: 297 ms, total: 13.7 s\n",
            "Wall time: 2min 26s\n"
          ],
          "name": "stdout"
        }
      ]
    },
    {
      "cell_type": "code",
      "metadata": {
        "id": "eVVwm5OE2RWl",
        "colab_type": "code",
        "colab": {
          "base_uri": "https://localhost:8080/",
          "height": 460
        },
        "outputId": "cf0acf6b-a9e1-4bd0-ff9a-cfc82610caa5"
      },
      "source": [
        "h2o.automl.get_leaderboard(aml, extra_columns = 'training_time_ms').head(20)"
      ],
      "execution_count": null,
      "outputs": [
        {
          "output_type": "display_data",
          "data": {
            "text/html": [
              "<table>\n",
              "<thead>\n",
              "<tr><th>model_id                                           </th><th style=\"text-align: right;\">    mse</th><th style=\"text-align: right;\">  mean_residual_deviance</th><th style=\"text-align: right;\">   rmse</th><th style=\"text-align: right;\">    mae</th><th style=\"text-align: right;\">   rmsle</th><th style=\"text-align: right;\">  training_time_ms</th></tr>\n",
              "</thead>\n",
              "<tbody>\n",
              "<tr><td>StackedEnsemble_BestOfFamily_AutoML_20200909_234202</td><td style=\"text-align: right;\">10.3922</td><td style=\"text-align: right;\">                 10.3922</td><td style=\"text-align: right;\">3.22369</td><td style=\"text-align: right;\">2.57376</td><td style=\"text-align: right;\">0.328467</td><td style=\"text-align: right;\">               164</td></tr>\n",
              "<tr><td>StackedEnsemble_AllModels_AutoML_20200909_234202   </td><td style=\"text-align: right;\">10.5254</td><td style=\"text-align: right;\">                 10.5254</td><td style=\"text-align: right;\">3.24429</td><td style=\"text-align: right;\">2.58704</td><td style=\"text-align: right;\">0.328545</td><td style=\"text-align: right;\">               155</td></tr>\n",
              "<tr><td>XRT_1_AutoML_20200909_234202                       </td><td style=\"text-align: right;\">10.7377</td><td style=\"text-align: right;\">                 10.7377</td><td style=\"text-align: right;\">3.27685</td><td style=\"text-align: right;\">2.60651</td><td style=\"text-align: right;\">0.337085</td><td style=\"text-align: right;\">               765</td></tr>\n",
              "<tr><td>GBM_3_AutoML_20200909_234202                       </td><td style=\"text-align: right;\">10.7851</td><td style=\"text-align: right;\">                 10.7851</td><td style=\"text-align: right;\">3.28407</td><td style=\"text-align: right;\">2.60662</td><td style=\"text-align: right;\">0.335052</td><td style=\"text-align: right;\">               221</td></tr>\n",
              "<tr><td>GBM_grid__1_AutoML_20200909_234202_model_1         </td><td style=\"text-align: right;\">10.8136</td><td style=\"text-align: right;\">                 10.8136</td><td style=\"text-align: right;\">3.2884 </td><td style=\"text-align: right;\">2.61366</td><td style=\"text-align: right;\">0.338903</td><td style=\"text-align: right;\">               111</td></tr>\n",
              "<tr><td>GBM_1_AutoML_20200909_234202                       </td><td style=\"text-align: right;\">10.8332</td><td style=\"text-align: right;\">                 10.8332</td><td style=\"text-align: right;\">3.29138</td><td style=\"text-align: right;\">2.62379</td><td style=\"text-align: right;\">0.332777</td><td style=\"text-align: right;\">               322</td></tr>\n",
              "<tr><td>GBM_grid__1_AutoML_20200909_234202_model_2         </td><td style=\"text-align: right;\">10.9126</td><td style=\"text-align: right;\">                 10.9126</td><td style=\"text-align: right;\">3.30343</td><td style=\"text-align: right;\">2.64505</td><td style=\"text-align: right;\">0.345066</td><td style=\"text-align: right;\">               185</td></tr>\n",
              "<tr><td>GBM_2_AutoML_20200909_234202                       </td><td style=\"text-align: right;\">10.9949</td><td style=\"text-align: right;\">                 10.9949</td><td style=\"text-align: right;\">3.31586</td><td style=\"text-align: right;\">2.64367</td><td style=\"text-align: right;\">0.336992</td><td style=\"text-align: right;\">               276</td></tr>\n",
              "<tr><td>XGBoost_grid__1_AutoML_20200909_234202_model_3     </td><td style=\"text-align: right;\">11.1124</td><td style=\"text-align: right;\">                 11.1124</td><td style=\"text-align: right;\">3.33353</td><td style=\"text-align: right;\">2.64569</td><td style=\"text-align: right;\">0.333737</td><td style=\"text-align: right;\">               141</td></tr>\n",
              "<tr><td>GBM_4_AutoML_20200909_234202                       </td><td style=\"text-align: right;\">11.1992</td><td style=\"text-align: right;\">                 11.1992</td><td style=\"text-align: right;\">3.34653</td><td style=\"text-align: right;\">2.67373</td><td style=\"text-align: right;\">0.340372</td><td style=\"text-align: right;\">               234</td></tr>\n",
              "<tr><td>GLM_1_AutoML_20200909_234202                       </td><td style=\"text-align: right;\">11.345 </td><td style=\"text-align: right;\">                 11.345 </td><td style=\"text-align: right;\">3.36824</td><td style=\"text-align: right;\">2.70787</td><td style=\"text-align: right;\">0.350316</td><td style=\"text-align: right;\">               448</td></tr>\n",
              "<tr><td>XGBoost_grid__1_AutoML_20200909_234202_model_4     </td><td style=\"text-align: right;\">11.5721</td><td style=\"text-align: right;\">                 11.5721</td><td style=\"text-align: right;\">3.40179</td><td style=\"text-align: right;\">2.68326</td><td style=\"text-align: right;\">0.341137</td><td style=\"text-align: right;\">               173</td></tr>\n",
              "<tr><td>DRF_1_AutoML_20200909_234202                       </td><td style=\"text-align: right;\">11.67  </td><td style=\"text-align: right;\">                 11.67  </td><td style=\"text-align: right;\">3.41614</td><td style=\"text-align: right;\">2.69134</td><td style=\"text-align: right;\">0.349398</td><td style=\"text-align: right;\">               790</td></tr>\n",
              "<tr><td>XGBoost_3_AutoML_20200909_234202                   </td><td style=\"text-align: right;\">12.1397</td><td style=\"text-align: right;\">                 12.1397</td><td style=\"text-align: right;\">3.48421</td><td style=\"text-align: right;\">2.75095</td><td style=\"text-align: right;\">0.349294</td><td style=\"text-align: right;\">               134</td></tr>\n",
              "<tr><td>DeepLearning_1_AutoML_20200909_234202              </td><td style=\"text-align: right;\">12.5812</td><td style=\"text-align: right;\">                 12.5812</td><td style=\"text-align: right;\">3.547  </td><td style=\"text-align: right;\">2.87401</td><td style=\"text-align: right;\">0.362769</td><td style=\"text-align: right;\">               126</td></tr>\n",
              "<tr><td>XGBoost_2_AutoML_20200909_234202                   </td><td style=\"text-align: right;\">12.6447</td><td style=\"text-align: right;\">                 12.6447</td><td style=\"text-align: right;\">3.55594</td><td style=\"text-align: right;\">2.81817</td><td style=\"text-align: right;\">0.353158</td><td style=\"text-align: right;\">               282</td></tr>\n",
              "<tr><td>DeepLearning_grid__1_AutoML_20200909_234202_model_1</td><td style=\"text-align: right;\">12.6705</td><td style=\"text-align: right;\">                 12.6705</td><td style=\"text-align: right;\">3.55956</td><td style=\"text-align: right;\">2.79457</td><td style=\"text-align: right;\">0.365826</td><td style=\"text-align: right;\">             12719</td></tr>\n",
              "<tr><td>DeepLearning_grid__2_AutoML_20200909_234202_model_1</td><td style=\"text-align: right;\">12.8629</td><td style=\"text-align: right;\">                 12.8629</td><td style=\"text-align: right;\">3.58648</td><td style=\"text-align: right;\">2.78798</td><td style=\"text-align: right;\">0.36764 </td><td style=\"text-align: right;\">             17718</td></tr>\n",
              "<tr><td>GBM_5_AutoML_20200909_234202                       </td><td style=\"text-align: right;\">13.3744</td><td style=\"text-align: right;\">                 13.3744</td><td style=\"text-align: right;\">3.6571 </td><td style=\"text-align: right;\">2.96112</td><td style=\"text-align: right;\">0.379904</td><td style=\"text-align: right;\">                59</td></tr>\n",
              "<tr><td>XGBoost_grid__1_AutoML_20200909_234202_model_2     </td><td style=\"text-align: right;\">13.5882</td><td style=\"text-align: right;\">                 13.5882</td><td style=\"text-align: right;\">3.68622</td><td style=\"text-align: right;\">2.92917</td><td style=\"text-align: right;\">0.364899</td><td style=\"text-align: right;\">               344</td></tr>\n",
              "</tbody>\n",
              "</table>"
            ]
          },
          "metadata": {
            "tags": []
          }
        },
        {
          "output_type": "execute_result",
          "data": {
            "text/plain": [
              ""
            ]
          },
          "metadata": {
            "tags": []
          },
          "execution_count": 66
        }
      ]
    },
    {
      "cell_type": "markdown",
      "metadata": {
        "id": "ZUNVjcnDE_AB",
        "colab_type": "text"
      },
      "source": [
        "\n",
        "\n",
        "---\n",
        "\n",
        "\n",
        "\n",
        "---\n",
        "\n"
      ]
    },
    {
      "cell_type": "markdown",
      "metadata": {
        "id": "SQDdmuQ0q5O_",
        "colab_type": "text"
      },
      "source": [
        "> **Análise do Modelo**\n",
        "\n",
        "Uma vez que temos um modelo em mãos, podemos inclusive analisar mais a fundo suas previsões. Contudo o H2O gera **muitas informações** que **não são relevantes** para o problema em questão, então é importante saber os **conceitos** para interpretar a saída do modelo,"
      ]
    },
    {
      "cell_type": "code",
      "metadata": {
        "id": "iYjzsp5iqBF2",
        "colab_type": "code",
        "colab": {}
      },
      "source": [
        "# Get model ids for all models in the AutoML Leaderboard\n",
        "model_ids = list(aml.leaderboard['model_id'].as_data_frame().iloc[:,0])\n",
        "\n",
        "# Get the \"All Models\" Stacked Ensemble model\n",
        "best = h2o.get_model([mid for mid in model_ids if \"GBM_grid__1\" in mid][0])"
      ],
      "execution_count": null,
      "outputs": []
    },
    {
      "cell_type": "code",
      "metadata": {
        "id": "HWS9BTlUn5z8",
        "colab_type": "code",
        "colab": {
          "base_uri": "https://localhost:8080/",
          "height": 1000
        },
        "outputId": "50b26cef-33d6-47f2-91cc-129ded260989"
      },
      "source": [
        "best"
      ],
      "execution_count": null,
      "outputs": [
        {
          "output_type": "stream",
          "text": [
            "Model Details\n",
            "=============\n",
            "H2OGradientBoostingEstimator :  Gradient Boosting Machine\n",
            "Model Key:  GBM_grid__1_AutoML_20200909_234202_model_1\n",
            "\n",
            "\n",
            "Model Summary: \n"
          ],
          "name": "stdout"
        },
        {
          "output_type": "display_data",
          "data": {
            "text/html": [
              "<div>\n",
              "<style scoped>\n",
              "    .dataframe tbody tr th:only-of-type {\n",
              "        vertical-align: middle;\n",
              "    }\n",
              "\n",
              "    .dataframe tbody tr th {\n",
              "        vertical-align: top;\n",
              "    }\n",
              "\n",
              "    .dataframe thead th {\n",
              "        text-align: right;\n",
              "    }\n",
              "</style>\n",
              "<table border=\"1\" class=\"dataframe\">\n",
              "  <thead>\n",
              "    <tr style=\"text-align: right;\">\n",
              "      <th></th>\n",
              "      <th></th>\n",
              "      <th>number_of_trees</th>\n",
              "      <th>number_of_internal_trees</th>\n",
              "      <th>model_size_in_bytes</th>\n",
              "      <th>min_depth</th>\n",
              "      <th>max_depth</th>\n",
              "      <th>mean_depth</th>\n",
              "      <th>min_leaves</th>\n",
              "      <th>max_leaves</th>\n",
              "      <th>mean_leaves</th>\n",
              "    </tr>\n",
              "  </thead>\n",
              "  <tbody>\n",
              "    <tr>\n",
              "      <th>0</th>\n",
              "      <td></td>\n",
              "      <td>40.0</td>\n",
              "      <td>40.0</td>\n",
              "      <td>8799.0</td>\n",
              "      <td>5.0</td>\n",
              "      <td>6.0</td>\n",
              "      <td>5.975</td>\n",
              "      <td>8.0</td>\n",
              "      <td>17.0</td>\n",
              "      <td>12.875</td>\n",
              "    </tr>\n",
              "  </tbody>\n",
              "</table>\n",
              "</div>"
            ],
            "text/plain": [
              "     number_of_trees  ...  max_leaves  mean_leaves\n",
              "0               40.0  ...        17.0       12.875\n",
              "\n",
              "[1 rows x 10 columns]"
            ]
          },
          "metadata": {
            "tags": []
          }
        },
        {
          "output_type": "stream",
          "text": [
            "\n",
            "\n",
            "ModelMetricsRegression: gbm\n",
            "** Reported on train data. **\n",
            "\n",
            "MSE: 6.23449218365882\n",
            "RMSE: 2.496896510402227\n",
            "MAE: 1.9511422806148289\n",
            "RMSLE: 0.26630967585102927\n",
            "Mean Residual Deviance: 6.23449218365882\n",
            "\n",
            "ModelMetricsRegression: gbm\n",
            "** Reported on cross-validation data. **\n",
            "\n",
            "MSE: 10.813562705143754\n",
            "RMSE: 3.288398197473012\n",
            "MAE: 2.613656299033004\n",
            "RMSLE: 0.3389034274155832\n",
            "Mean Residual Deviance: 10.813562705143754\n",
            "\n",
            "Cross-Validation Metrics Summary: \n"
          ],
          "name": "stdout"
        },
        {
          "output_type": "display_data",
          "data": {
            "text/html": [
              "<div>\n",
              "<style scoped>\n",
              "    .dataframe tbody tr th:only-of-type {\n",
              "        vertical-align: middle;\n",
              "    }\n",
              "\n",
              "    .dataframe tbody tr th {\n",
              "        vertical-align: top;\n",
              "    }\n",
              "\n",
              "    .dataframe thead th {\n",
              "        text-align: right;\n",
              "    }\n",
              "</style>\n",
              "<table border=\"1\" class=\"dataframe\">\n",
              "  <thead>\n",
              "    <tr style=\"text-align: right;\">\n",
              "      <th></th>\n",
              "      <th></th>\n",
              "      <th>mean</th>\n",
              "      <th>sd</th>\n",
              "      <th>cv_1_valid</th>\n",
              "      <th>cv_2_valid</th>\n",
              "      <th>cv_3_valid</th>\n",
              "    </tr>\n",
              "  </thead>\n",
              "  <tbody>\n",
              "    <tr>\n",
              "      <th>0</th>\n",
              "      <td>mae</td>\n",
              "      <td>2.6142101</td>\n",
              "      <td>0.20917338</td>\n",
              "      <td>2.416154</td>\n",
              "      <td>2.5935142</td>\n",
              "      <td>2.832962</td>\n",
              "    </tr>\n",
              "    <tr>\n",
              "      <th>1</th>\n",
              "      <td>mean_residual_deviance</td>\n",
              "      <td>10.817122</td>\n",
              "      <td>1.2763696</td>\n",
              "      <td>9.7317295</td>\n",
              "      <td>10.49636</td>\n",
              "      <td>12.223278</td>\n",
              "    </tr>\n",
              "    <tr>\n",
              "      <th>2</th>\n",
              "      <td>mse</td>\n",
              "      <td>10.817122</td>\n",
              "      <td>1.2763696</td>\n",
              "      <td>9.7317295</td>\n",
              "      <td>10.49636</td>\n",
              "      <td>12.223278</td>\n",
              "    </tr>\n",
              "    <tr>\n",
              "      <th>3</th>\n",
              "      <td>r2</td>\n",
              "      <td>0.17591463</td>\n",
              "      <td>0.15134402</td>\n",
              "      <td>0.20266265</td>\n",
              "      <td>0.012979872</td>\n",
              "      <td>0.3121014</td>\n",
              "    </tr>\n",
              "    <tr>\n",
              "      <th>4</th>\n",
              "      <td>residual_deviance</td>\n",
              "      <td>10.817122</td>\n",
              "      <td>1.2763696</td>\n",
              "      <td>9.7317295</td>\n",
              "      <td>10.49636</td>\n",
              "      <td>12.223278</td>\n",
              "    </tr>\n",
              "    <tr>\n",
              "      <th>5</th>\n",
              "      <td>rmse</td>\n",
              "      <td>3.285187</td>\n",
              "      <td>0.19236131</td>\n",
              "      <td>3.1195722</td>\n",
              "      <td>3.2398086</td>\n",
              "      <td>3.4961805</td>\n",
              "    </tr>\n",
              "    <tr>\n",
              "      <th>6</th>\n",
              "      <td>rmsle</td>\n",
              "      <td>0.33815542</td>\n",
              "      <td>0.029123519</td>\n",
              "      <td>0.3218023</td>\n",
              "      <td>0.32088378</td>\n",
              "      <td>0.3717802</td>\n",
              "    </tr>\n",
              "  </tbody>\n",
              "</table>\n",
              "</div>"
            ],
            "text/plain": [
              "                                 mean  ...   cv_2_valid cv_3_valid\n",
              "0                     mae   2.6142101  ...    2.5935142   2.832962\n",
              "1  mean_residual_deviance   10.817122  ...     10.49636  12.223278\n",
              "2                     mse   10.817122  ...     10.49636  12.223278\n",
              "3                      r2  0.17591463  ...  0.012979872  0.3121014\n",
              "4       residual_deviance   10.817122  ...     10.49636  12.223278\n",
              "5                    rmse    3.285187  ...    3.2398086  3.4961805\n",
              "6                   rmsle  0.33815542  ...   0.32088378  0.3717802\n",
              "\n",
              "[7 rows x 6 columns]"
            ]
          },
          "metadata": {
            "tags": []
          }
        },
        {
          "output_type": "stream",
          "text": [
            "\n",
            "Scoring History: \n"
          ],
          "name": "stdout"
        },
        {
          "output_type": "display_data",
          "data": {
            "text/html": [
              "<div>\n",
              "<style scoped>\n",
              "    .dataframe tbody tr th:only-of-type {\n",
              "        vertical-align: middle;\n",
              "    }\n",
              "\n",
              "    .dataframe tbody tr th {\n",
              "        vertical-align: top;\n",
              "    }\n",
              "\n",
              "    .dataframe thead th {\n",
              "        text-align: right;\n",
              "    }\n",
              "</style>\n",
              "<table border=\"1\" class=\"dataframe\">\n",
              "  <thead>\n",
              "    <tr style=\"text-align: right;\">\n",
              "      <th></th>\n",
              "      <th></th>\n",
              "      <th>timestamp</th>\n",
              "      <th>duration</th>\n",
              "      <th>number_of_trees</th>\n",
              "      <th>training_rmse</th>\n",
              "      <th>training_mae</th>\n",
              "      <th>training_deviance</th>\n",
              "    </tr>\n",
              "  </thead>\n",
              "  <tbody>\n",
              "    <tr>\n",
              "      <th>0</th>\n",
              "      <td></td>\n",
              "      <td>2020-09-09 23:42:29</td>\n",
              "      <td>0.448 sec</td>\n",
              "      <td>0.0</td>\n",
              "      <td>3.692103</td>\n",
              "      <td>2.976724</td>\n",
              "      <td>13.631626</td>\n",
              "    </tr>\n",
              "    <tr>\n",
              "      <th>1</th>\n",
              "      <td></td>\n",
              "      <td>2020-09-09 23:42:29</td>\n",
              "      <td>0.461 sec</td>\n",
              "      <td>5.0</td>\n",
              "      <td>3.364178</td>\n",
              "      <td>2.724725</td>\n",
              "      <td>11.317692</td>\n",
              "    </tr>\n",
              "    <tr>\n",
              "      <th>2</th>\n",
              "      <td></td>\n",
              "      <td>2020-09-09 23:42:29</td>\n",
              "      <td>0.472 sec</td>\n",
              "      <td>10.0</td>\n",
              "      <td>3.123881</td>\n",
              "      <td>2.490377</td>\n",
              "      <td>9.758633</td>\n",
              "    </tr>\n",
              "    <tr>\n",
              "      <th>3</th>\n",
              "      <td></td>\n",
              "      <td>2020-09-09 23:42:29</td>\n",
              "      <td>0.488 sec</td>\n",
              "      <td>15.0</td>\n",
              "      <td>2.975296</td>\n",
              "      <td>2.340079</td>\n",
              "      <td>8.852388</td>\n",
              "    </tr>\n",
              "    <tr>\n",
              "      <th>4</th>\n",
              "      <td></td>\n",
              "      <td>2020-09-09 23:42:30</td>\n",
              "      <td>0.500 sec</td>\n",
              "      <td>20.0</td>\n",
              "      <td>2.826035</td>\n",
              "      <td>2.223905</td>\n",
              "      <td>7.986475</td>\n",
              "    </tr>\n",
              "    <tr>\n",
              "      <th>5</th>\n",
              "      <td></td>\n",
              "      <td>2020-09-09 23:42:30</td>\n",
              "      <td>0.512 sec</td>\n",
              "      <td>25.0</td>\n",
              "      <td>2.707532</td>\n",
              "      <td>2.127547</td>\n",
              "      <td>7.330732</td>\n",
              "    </tr>\n",
              "    <tr>\n",
              "      <th>6</th>\n",
              "      <td></td>\n",
              "      <td>2020-09-09 23:42:30</td>\n",
              "      <td>0.525 sec</td>\n",
              "      <td>30.0</td>\n",
              "      <td>2.614921</td>\n",
              "      <td>2.058625</td>\n",
              "      <td>6.837810</td>\n",
              "    </tr>\n",
              "    <tr>\n",
              "      <th>7</th>\n",
              "      <td></td>\n",
              "      <td>2020-09-09 23:42:30</td>\n",
              "      <td>0.538 sec</td>\n",
              "      <td>35.0</td>\n",
              "      <td>2.538622</td>\n",
              "      <td>1.994365</td>\n",
              "      <td>6.444604</td>\n",
              "    </tr>\n",
              "    <tr>\n",
              "      <th>8</th>\n",
              "      <td></td>\n",
              "      <td>2020-09-09 23:42:30</td>\n",
              "      <td>0.555 sec</td>\n",
              "      <td>40.0</td>\n",
              "      <td>2.496897</td>\n",
              "      <td>1.951142</td>\n",
              "      <td>6.234492</td>\n",
              "    </tr>\n",
              "  </tbody>\n",
              "</table>\n",
              "</div>"
            ],
            "text/plain": [
              "               timestamp  ... training_mae  training_deviance\n",
              "0    2020-09-09 23:42:29  ...     2.976724          13.631626\n",
              "1    2020-09-09 23:42:29  ...     2.724725          11.317692\n",
              "2    2020-09-09 23:42:29  ...     2.490377           9.758633\n",
              "3    2020-09-09 23:42:29  ...     2.340079           8.852388\n",
              "4    2020-09-09 23:42:30  ...     2.223905           7.986475\n",
              "5    2020-09-09 23:42:30  ...     2.127547           7.330732\n",
              "6    2020-09-09 23:42:30  ...     2.058625           6.837810\n",
              "7    2020-09-09 23:42:30  ...     1.994365           6.444604\n",
              "8    2020-09-09 23:42:30  ...     1.951142           6.234492\n",
              "\n",
              "[9 rows x 7 columns]"
            ]
          },
          "metadata": {
            "tags": []
          }
        },
        {
          "output_type": "stream",
          "text": [
            "\n",
            "Variable Importances: \n"
          ],
          "name": "stdout"
        },
        {
          "output_type": "display_data",
          "data": {
            "text/html": [
              "<div>\n",
              "<style scoped>\n",
              "    .dataframe tbody tr th:only-of-type {\n",
              "        vertical-align: middle;\n",
              "    }\n",
              "\n",
              "    .dataframe tbody tr th {\n",
              "        vertical-align: top;\n",
              "    }\n",
              "\n",
              "    .dataframe thead th {\n",
              "        text-align: right;\n",
              "    }\n",
              "</style>\n",
              "<table border=\"1\" class=\"dataframe\">\n",
              "  <thead>\n",
              "    <tr style=\"text-align: right;\">\n",
              "      <th></th>\n",
              "      <th>variable</th>\n",
              "      <th>relative_importance</th>\n",
              "      <th>scaled_importance</th>\n",
              "      <th>percentage</th>\n",
              "    </tr>\n",
              "  </thead>\n",
              "  <tbody>\n",
              "    <tr>\n",
              "      <th>0</th>\n",
              "      <td>failures</td>\n",
              "      <td>2960.658936</td>\n",
              "      <td>1.000000</td>\n",
              "      <td>0.193961</td>\n",
              "    </tr>\n",
              "    <tr>\n",
              "      <th>1</th>\n",
              "      <td>absences</td>\n",
              "      <td>1330.377808</td>\n",
              "      <td>0.449352</td>\n",
              "      <td>0.087157</td>\n",
              "    </tr>\n",
              "    <tr>\n",
              "      <th>2</th>\n",
              "      <td>Mjob</td>\n",
              "      <td>934.319397</td>\n",
              "      <td>0.315578</td>\n",
              "      <td>0.061210</td>\n",
              "    </tr>\n",
              "    <tr>\n",
              "      <th>3</th>\n",
              "      <td>health</td>\n",
              "      <td>815.279724</td>\n",
              "      <td>0.275371</td>\n",
              "      <td>0.053411</td>\n",
              "    </tr>\n",
              "    <tr>\n",
              "      <th>4</th>\n",
              "      <td>goout</td>\n",
              "      <td>814.134949</td>\n",
              "      <td>0.274984</td>\n",
              "      <td>0.053336</td>\n",
              "    </tr>\n",
              "    <tr>\n",
              "      <th>5</th>\n",
              "      <td>reason</td>\n",
              "      <td>741.087524</td>\n",
              "      <td>0.250312</td>\n",
              "      <td>0.048551</td>\n",
              "    </tr>\n",
              "    <tr>\n",
              "      <th>6</th>\n",
              "      <td>Medu</td>\n",
              "      <td>652.612305</td>\n",
              "      <td>0.220428</td>\n",
              "      <td>0.042754</td>\n",
              "    </tr>\n",
              "    <tr>\n",
              "      <th>7</th>\n",
              "      <td>freetime</td>\n",
              "      <td>609.187927</td>\n",
              "      <td>0.205761</td>\n",
              "      <td>0.039910</td>\n",
              "    </tr>\n",
              "    <tr>\n",
              "      <th>8</th>\n",
              "      <td>Walc</td>\n",
              "      <td>604.402283</td>\n",
              "      <td>0.204145</td>\n",
              "      <td>0.039596</td>\n",
              "    </tr>\n",
              "    <tr>\n",
              "      <th>9</th>\n",
              "      <td>Fjob</td>\n",
              "      <td>579.893433</td>\n",
              "      <td>0.195866</td>\n",
              "      <td>0.037990</td>\n",
              "    </tr>\n",
              "    <tr>\n",
              "      <th>10</th>\n",
              "      <td>studytime</td>\n",
              "      <td>445.881287</td>\n",
              "      <td>0.150602</td>\n",
              "      <td>0.029211</td>\n",
              "    </tr>\n",
              "    <tr>\n",
              "      <th>11</th>\n",
              "      <td>Fedu</td>\n",
              "      <td>437.424286</td>\n",
              "      <td>0.147746</td>\n",
              "      <td>0.028657</td>\n",
              "    </tr>\n",
              "    <tr>\n",
              "      <th>12</th>\n",
              "      <td>famrel</td>\n",
              "      <td>430.276184</td>\n",
              "      <td>0.145331</td>\n",
              "      <td>0.028189</td>\n",
              "    </tr>\n",
              "    <tr>\n",
              "      <th>13</th>\n",
              "      <td>sex</td>\n",
              "      <td>420.352844</td>\n",
              "      <td>0.141979</td>\n",
              "      <td>0.027538</td>\n",
              "    </tr>\n",
              "    <tr>\n",
              "      <th>14</th>\n",
              "      <td>age</td>\n",
              "      <td>384.753082</td>\n",
              "      <td>0.129955</td>\n",
              "      <td>0.025206</td>\n",
              "    </tr>\n",
              "    <tr>\n",
              "      <th>15</th>\n",
              "      <td>schoolsup</td>\n",
              "      <td>330.623810</td>\n",
              "      <td>0.111672</td>\n",
              "      <td>0.021660</td>\n",
              "    </tr>\n",
              "    <tr>\n",
              "      <th>16</th>\n",
              "      <td>famsup</td>\n",
              "      <td>309.785400</td>\n",
              "      <td>0.104634</td>\n",
              "      <td>0.020295</td>\n",
              "    </tr>\n",
              "    <tr>\n",
              "      <th>17</th>\n",
              "      <td>guardian</td>\n",
              "      <td>308.381592</td>\n",
              "      <td>0.104160</td>\n",
              "      <td>0.020203</td>\n",
              "    </tr>\n",
              "    <tr>\n",
              "      <th>18</th>\n",
              "      <td>romantic</td>\n",
              "      <td>295.184052</td>\n",
              "      <td>0.099702</td>\n",
              "      <td>0.019338</td>\n",
              "    </tr>\n",
              "    <tr>\n",
              "      <th>19</th>\n",
              "      <td>activities</td>\n",
              "      <td>259.994232</td>\n",
              "      <td>0.087816</td>\n",
              "      <td>0.017033</td>\n",
              "    </tr>\n",
              "  </tbody>\n",
              "</table>\n",
              "</div>"
            ],
            "text/plain": [
              "      variable  relative_importance  scaled_importance  percentage\n",
              "0     failures          2960.658936           1.000000    0.193961\n",
              "1     absences          1330.377808           0.449352    0.087157\n",
              "2         Mjob           934.319397           0.315578    0.061210\n",
              "3       health           815.279724           0.275371    0.053411\n",
              "4        goout           814.134949           0.274984    0.053336\n",
              "5       reason           741.087524           0.250312    0.048551\n",
              "6         Medu           652.612305           0.220428    0.042754\n",
              "7     freetime           609.187927           0.205761    0.039910\n",
              "8         Walc           604.402283           0.204145    0.039596\n",
              "9         Fjob           579.893433           0.195866    0.037990\n",
              "10   studytime           445.881287           0.150602    0.029211\n",
              "11        Fedu           437.424286           0.147746    0.028657\n",
              "12      famrel           430.276184           0.145331    0.028189\n",
              "13         sex           420.352844           0.141979    0.027538\n",
              "14         age           384.753082           0.129955    0.025206\n",
              "15   schoolsup           330.623810           0.111672    0.021660\n",
              "16      famsup           309.785400           0.104634    0.020295\n",
              "17    guardian           308.381592           0.104160    0.020203\n",
              "18    romantic           295.184052           0.099702    0.019338\n",
              "19  activities           259.994232           0.087816    0.017033"
            ]
          },
          "metadata": {
            "tags": []
          }
        },
        {
          "output_type": "stream",
          "text": [
            "\n",
            "See the whole table with table.as_data_frame()\n"
          ],
          "name": "stdout"
        },
        {
          "output_type": "execute_result",
          "data": {
            "text/plain": [
              ""
            ]
          },
          "metadata": {
            "tags": []
          },
          "execution_count": 68
        }
      ]
    },
    {
      "cell_type": "markdown",
      "metadata": {
        "id": "lnRFYixFqCHF",
        "colab_type": "text"
      },
      "source": [
        "\n",
        "\n",
        "---\n",
        "\n",
        "\n",
        "\n",
        "---\n",
        "\n"
      ]
    }
  ]
}