{
  "nbformat": 4,
  "nbformat_minor": 0,
  "metadata": {
    "kernelspec": {
      "display_name": "Python 3",
      "language": "python",
      "name": "python3"
    },
    "language_info": {
      "codemirror_mode": {
        "name": "ipython",
        "version": 3
      },
      "file_extension": ".py",
      "mimetype": "text/x-python",
      "name": "python",
      "nbconvert_exporter": "python",
      "pygments_lexer": "ipython3",
      "version": "3.7.7"
    },
    "colab": {
      "name": "RNN_DeepLearning_UNIP_Func_FULL .ipynb",
      "provenance": [],
      "collapsed_sections": []
    }
  },
  "cells": [
    {
      "cell_type": "markdown",
      "metadata": {
        "id": "5daMyIXhdskh",
        "colab_type": "text"
      },
      "source": [
        "### Implementação de uma RNN"
      ]
    },
    {
      "cell_type": "code",
      "metadata": {
        "id": "R7jUXos2dski",
        "colab_type": "code",
        "colab": {}
      },
      "source": [
        "import pandas as pd\n",
        "import numpy as np\n",
        "import matplotlib #library para gráficos\n",
        "import matplotlib.pyplot as plt\n",
        "import sklearn #library de machine learning\n",
        "from sklearn.datasets import load_breast_cancer #dataset\n",
        "from sklearn.model_selection import train_test_split\n",
        "from sklearn.metrics import classification_report\n",
        "from sklearn.metrics import confusion_matrix\n",
        "import time"
      ],
      "execution_count": 58,
      "outputs": []
    },
    {
      "cell_type": "markdown",
      "metadata": {
        "id": "_94-or5ldskm",
        "colab_type": "text"
      },
      "source": [
        "### Função Para Inicialização de Pesos"
      ]
    },
    {
      "cell_type": "code",
      "metadata": {
        "id": "gfmnTN2Gdskn",
        "colab_type": "code",
        "colab": {}
      },
      "source": [
        "# Função para inicialização randômica dos parâmetros do modelo\n",
        "def inicializa_parametros(dims_camada_entrada):\n",
        "    \n",
        "    # Dicionário para os parâmetros\n",
        "    parameters = {}\n",
        "    \n",
        "    # Comprimento das dimensões das camadas\n",
        "    comp = len(dims_camada_entrada)\n",
        "    \n",
        "    # Loop pelo comprimento\n",
        "    for i in range(1, comp):\n",
        "        \n",
        "        # Inicialização da matriz de pesos\n",
        "        parameters[\"W\" + str(i)] = np.random.randn(dims_camada_entrada[i], dims_camada_entrada[i - 1]) * 0.01\n",
        "        \n",
        "        # Inicialização do bias\n",
        "        parameters[\"b\" + str(i)] = np.zeros((dims_camada_entrada[i], 1))\n",
        "    \n",
        "    return parameters"
      ],
      "execution_count": 2,
      "outputs": []
    },
    {
      "cell_type": "code",
      "metadata": {
        "id": "7OypF5XQdskp",
        "colab_type": "code",
        "colab": {}
      },
      "source": [
        "# Função sigmóide\n",
        "'''\n",
        "Utilizamos a função sigmóide pois permite converter números para valores entre 0 e 1.\n",
        "Usada para modelos em que temos que prever a probabilidade como uma saída, sendo qualquer item existente no inmtervalo entre 0 e 1.\n",
        "'''\n",
        "def sigmoid(Z):\n",
        "    A = 1 / (1 + np.exp(-Z))\n",
        "    return A, Z"
      ],
      "execution_count": 3,
      "outputs": []
    },
    {
      "cell_type": "code",
      "metadata": {
        "id": "XzJheMCGdsks",
        "colab_type": "code",
        "colab": {}
      },
      "source": [
        "# Função de ativação ReLu (Rectified Linear Unit)\n",
        "'''\n",
        "Fynção de ativação para utilizarmos na descida do SGD com retropropagação de erros.\n",
        "'''\n",
        "def relu(Z):\n",
        "    A = abs(Z * (Z > 0))\n",
        "    return A, Z"
      ],
      "execution_count": 4,
      "outputs": []
    },
    {
      "cell_type": "code",
      "metadata": {
        "id": "-Lsmy-ytdsku",
        "colab_type": "code",
        "colab": {}
      },
      "source": [
        "# Operação de ativação\n",
        "def linear_activation(A, W, b):\n",
        "    Z = np.dot(W, A) + b\n",
        "    cache = (A, W, b)\n",
        "    return Z, cache\n",
        "\n",
        "#\"A\": matriz com os dados de entrad / \"W\": matriz de pesos / \"b\": bias"
      ],
      "execution_count": 5,
      "outputs": []
    },
    {
      "cell_type": "markdown",
      "metadata": {
        "id": "fyVDFNHedskx",
        "colab_type": "text"
      },
      "source": [
        "### Forward Propagation"
      ]
    },
    {
      "cell_type": "code",
      "metadata": {
        "id": "rM_Fjv0idsk0",
        "colab_type": "code",
        "colab": {}
      },
      "source": [
        "#Combinando Ativação e Propagação\n",
        "\n",
        "# Propagação forward\n",
        "def forward_propagation(X, parameters):\n",
        "    \n",
        "    # Lista de valores anteriores (cache)\n",
        "    caches = []\n",
        "    \n",
        "    # Dados de entrada\n",
        "    A = X\n",
        "    \n",
        "    # Comprimento dos parâmetros\n",
        "    L = len(parameters) // 2\n",
        "   \n",
        "    # Loop\n",
        "    for i in range(1, L):\n",
        "      \n",
        "        # Guarda o valor prévio de A\n",
        "        A_prev = A\n",
        "        \n",
        "        # Executa o forward\n",
        "        A, cache = forward(A_prev, parameters[\"W\" + str(i)], parameters[\"b\" + str(i)], activation = \"relu\")\n",
        "        \n",
        "        # Grava o cache\n",
        "        caches.append(cache)\n",
        "    \n",
        "    # Saída na última camada\n",
        "    A_last, cache = forward(A, parameters[\"W\" + str(L)], parameters[\"b\" + str(L)], activation = \"sigmoid\")\n",
        "    \n",
        "    # Grava o cache\n",
        "    caches.append(cache)\n",
        "    \n",
        "    return(A_last, caches)"
      ],
      "execution_count": 9,
      "outputs": []
    },
    {
      "cell_type": "code",
      "metadata": {
        "id": "yYlq2TSFdskx",
        "colab_type": "code",
        "colab": {}
      },
      "source": [
        "# Movimento forward\n",
        "def forward(A_prev, W, b, activation):\n",
        "    \n",
        "    # Se a função de ativação for Sigmoid\n",
        "    if activation == \"sigmoid\":\n",
        "        Z, linear_cache = linear_activation(A_prev, W, b)\n",
        "        A, activation_cache = sigmoid(Z)\n",
        "        \n",
        "    # Se for ReLu    \n",
        "    elif activation == \"relu\":\n",
        "        Z, linear_cache = linear_activation(A_prev, W, b)\n",
        "        A, activation_cache = relu(Z)\n",
        "        \n",
        "    cache = (linear_cache, activation_cache)\n",
        "    \n",
        "    return A, cache"
      ],
      "execution_count": 8,
      "outputs": []
    },
    {
      "cell_type": "markdown",
      "metadata": {
        "id": "b0VUS18Fdsk3",
        "colab_type": "text"
      },
      "source": [
        "### Função de Custo (Cost Function)"
      ]
    },
    {
      "cell_type": "code",
      "metadata": {
        "id": "h0EFrRMvdsk3",
        "colab_type": "code",
        "colab": {}
      },
      "source": [
        "def calc_custo(A_last, Y):\n",
        "    \n",
        "    # Ajusta o shape de Y para obter seu comprimento (total de elementos)\n",
        "    m = Y.shape[1]\n",
        "    \n",
        "    # Calcula o custo comparando valor real e previso\n",
        "    custo = (-1 / m) * np.sum((Y * np.log(A_last)) + ((1 - Y) * np.log(1 - A_last)))\n",
        "    \n",
        "    # Ajusta o shape do custo\n",
        "    custo = np.squeeze(custo)\n",
        "    \n",
        "    return(custo)"
      ],
      "execution_count": 10,
      "outputs": []
    },
    {
      "cell_type": "markdown",
      "metadata": {
        "id": "fDWzaODadsk6",
        "colab_type": "text"
      },
      "source": [
        "### Backward Propagation - Função Sigmóide Backward"
      ]
    },
    {
      "cell_type": "code",
      "metadata": {
        "id": "l1kObOB4dsk6",
        "colab_type": "code",
        "colab": {}
      },
      "source": [
        "# Função sigmoid para o backpropagation \n",
        "# Cálculo da derivada pois temos interessa na informação relacionada a sua variação\n",
        "def sigmoid_backward(da, Z):\n",
        "    \n",
        "    # Calculo da derivada de Z\n",
        "    dg = (1 / (1 + np.exp(-Z))) * (1 - (1 / (1 + np.exp(-Z))))\n",
        "    \n",
        "    # Identificação da alteração na derivada de z\n",
        "    dz = da * dg\n",
        "    return dz"
      ],
      "execution_count": 11,
      "outputs": []
    },
    {
      "cell_type": "markdown",
      "metadata": {
        "id": "QcEuCiLSdsk8",
        "colab_type": "text"
      },
      "source": [
        "#### Backward Propagation - Função ReLu Backward"
      ]
    },
    {
      "cell_type": "code",
      "metadata": {
        "id": "cIBfezWOdsk9",
        "colab_type": "code",
        "colab": {}
      },
      "source": [
        "def relu_backward(da, Z):\n",
        "    \n",
        "    dg = 1 * ( Z >= 0)\n",
        "    dz = da * dg\n",
        "    return dz\n",
        "\n",
        "#Os interesses são os mesmos da função sigmóide no que se refere a informação d avriação."
      ],
      "execution_count": 12,
      "outputs": []
    },
    {
      "cell_type": "markdown",
      "metadata": {
        "id": "AKGOROH0dsk_",
        "colab_type": "text"
      },
      "source": [
        "### Backward Propagation - Ativação Linear Backward"
      ]
    },
    {
      "cell_type": "code",
      "metadata": {
        "id": "Rn4SCwGKdslA",
        "colab_type": "code",
        "colab": {}
      },
      "source": [
        "def linear_backward_function(dz, cache):\n",
        "    \n",
        "    # Recebe valor da memória (cache)\n",
        "    A_prev, W, b = cache\n",
        "    \n",
        "    # Shape de m\n",
        "    m = A_prev.shape[1]\n",
        "    \n",
        "    # Calculo da derivada de W (Result. operação com dz)\n",
        "    dW = (1 / m) * np.dot(dz, A_prev.T)\n",
        "    \n",
        "    # Calculo da derivada de b (Result. operação com dz)\n",
        "    db = (1 / m) * np.sum(dz, axis = 1, keepdims = True)\n",
        "    \n",
        "    # Calculo da derivada da operação\n",
        "    dA_prev = np.dot(W.T, dz)\n",
        "    \n",
        "    return dA_prev, dW, db"
      ],
      "execution_count": 13,
      "outputs": []
    },
    {
      "cell_type": "markdown",
      "metadata": {
        "id": "mZ76qCdKdslD",
        "colab_type": "text"
      },
      "source": [
        "### Backward Propagation - Ativação Linear Backward"
      ]
    },
    {
      "cell_type": "code",
      "metadata": {
        "id": "86-xUblVdslD",
        "colab_type": "code",
        "colab": {}
      },
      "source": [
        "# Tipo de ativação (relu ou sigmoid)\n",
        "def linear_activation_backward(dA, cache, activation):\n",
        "    \n",
        "    # Extrai o cache\n",
        "    linear_cache, activation_cache = cache\n",
        "    \n",
        "    # Verifica se é ReLu\n",
        "    if activation == \"relu\":\n",
        "        dZ = relu_backward(dA, activation_cache)\n",
        "        dA_prev, dW, db = linear_backward_function(dZ, linear_cache)\n",
        "        \n",
        "    # Verifica se é Sigmoid\n",
        "    if activation == \"sigmoid\":\n",
        "        dZ = sigmoid_backward(dA, activation_cache)\n",
        "        dA_prev, dW, db = linear_backward_function(dZ, linear_cache)\n",
        "        \n",
        "    return dA_prev, dW, db"
      ],
      "execution_count": 14,
      "outputs": []
    },
    {
      "cell_type": "markdown",
      "metadata": {
        "id": "VUek-cVadslF",
        "colab_type": "text"
      },
      "source": [
        "### Algoritmo Backpropagation"
      ]
    },
    {
      "cell_type": "code",
      "metadata": {
        "id": "UHidHPv5dslF",
        "colab_type": "code",
        "colab": {}
      },
      "source": [
        "def backward_propagation(AL, Y, caches):\n",
        "    \n",
        "    grads = {}\n",
        "    L = len(caches)\n",
        "    m = AL.shape[1]\n",
        "    \n",
        "    # Ajusta o shape de Y\n",
        "    Y = Y.reshape(AL.shape)\n",
        "    \n",
        "    # Calcula a derivada da previsão final da rede(ForwardPropagation) e em seguida recupera o valor atual do cache\n",
        "    dAL = -((Y / AL) - ((1 - Y) / (1 - AL)))\n",
        "    current_cache = caches[L - 1]\n",
        "    \n",
        "    # Geração da a lista de gradiente para: dados, pesos e bias\n",
        "    grads[\"dA\" + str(L - 1)], grads[\"dW\" + str(L)], grads[\"db\" + str(L)] = linear_activation_backward(dAL, current_cache, activation = \"sigmoid\")\n",
        "    \n",
        "    # Loop para calculao durante as ativações utilizando a ReLu\n",
        "    for l in reversed(range(L - 1)):\n",
        "        \n",
        "        # Memória atual + Calc de derivadas.\n",
        "        current_cache = caches[l]\n",
        "        dA_prev, dW, db = linear_activation_backward(grads[\"dA\" + str(l + 1)], current_cache, activation = \"relu\")\n",
        "        \n",
        "        # Dá infos para os gradientes, usando o índice relacionado\n",
        "        grads[\"dA\" + str(l)] = dA_prev\n",
        "        grads[\"dW\" + str(l + 1)] = dW\n",
        "        grads[\"db\" + str(l + 1)] = db\n",
        "        \n",
        "    return grads"
      ],
      "execution_count": 15,
      "outputs": []
    },
    {
      "cell_type": "markdown",
      "metadata": {
        "id": "Q_UEzLGJdslH",
        "colab_type": "text"
      },
      "source": [
        "### Gradientes e Pesos"
      ]
    },
    {
      "cell_type": "code",
      "metadata": {
        "id": "BI57d6P4dslI",
        "colab_type": "code",
        "colab": {}
      },
      "source": [
        "# Atualização de pesos\n",
        "def atualiza_pesos(parameters, grads, learning_rate):\n",
        "    \n",
        "    # Comprimento da estrutura de dados com os parâmetros (pesos e bias)\n",
        "    L = len(parameters)//2\n",
        "    \n",
        "    # Loop para atualização dos pesos\n",
        "    for l in range(L):\n",
        "        \n",
        "        # Atualização dos pesos\n",
        "        parameters[\"W\" + str(l + 1)] = parameters[\"W\" + str(l + 1)] - (learning_rate * grads[\"dW\" + str(l + 1)])\n",
        "        \n",
        "        # Atualização do bias\n",
        "        parameters[\"b\" + str(l + 1)] = parameters[\"b\" + str(l + 1)] - (learning_rate * grads[\"db\" + str(l + 1)])\n",
        "    \n",
        "    return parameters"
      ],
      "execution_count": 16,
      "outputs": []
    },
    {
      "cell_type": "markdown",
      "metadata": {
        "id": "IXpDtm4TdslK",
        "colab_type": "text"
      },
      "source": [
        "#### Implementação da Rede"
      ]
    },
    {
      "cell_type": "code",
      "metadata": {
        "id": "NQUOX9fUdslK",
        "colab_type": "code",
        "colab": {}
      },
      "source": [
        "# Modelo completo da rede neural\n",
        "def modeloNN(X, Y, dims_camada_entrada, learning_rate = 0.01, num_iterations = 100):\n",
        "    #Vejam o tamanho do learning_rate. Comentei durante em aula que as taxas são realmente baixas.\n",
        "    \n",
        "    # Lista para receber o custo a cada epoch em train\n",
        "    custos = []\n",
        "    \n",
        "    # Inicializa parâmetros\n",
        "    parametros = inicializa_parametros(dims_camada_entrada)\n",
        "    \n",
        "    # Loop pelo número de iterações (epochs)\n",
        "    for i in range(num_iterations):\n",
        "        \n",
        "        # Forward Propagation\n",
        "        AL, caches = forward_propagation(X, parametros)\n",
        "        \n",
        "        # Calculo do custo\n",
        "        custo = calc_custo(AL, Y)\n",
        "        \n",
        "        # Backward Propagation\n",
        "        gradientes = backward_propagation(AL, Y, caches)\n",
        "        \n",
        "        # Atualização depesos\n",
        "        parametros = atualiza_pesos(parametros, gradientes, learning_rate)\n",
        "        \n",
        "        # Print do valor intermediário do custo, sendo que a redução do custo indica o aprendizado do modelo\n",
        "        if i % 10 == 0:\n",
        "            print(\"Custo Após \" + str(i) + \" iterações é \" + str(custo))\n",
        "            custos.append(custo)\n",
        "            \n",
        "    return parametros, custos "
      ],
      "execution_count": 17,
      "outputs": []
    },
    {
      "cell_type": "code",
      "metadata": {
        "id": "M9U5hgGmdslM",
        "colab_type": "code",
        "colab": {}
      },
      "source": [
        "# Função para fazer as previsões\n",
        "\n",
        "def predict(X, parametros):\n",
        "    AL, caches = forward_propagation(X, parametros)\n",
        "    return AL\n",
        "\n",
        "# Notme que não há backpropagation, pois conforme as previsões surgem, os valores dos pesos mais aderentes acabam ficando conhecidos."
      ],
      "execution_count": 18,
      "outputs": []
    },
    {
      "cell_type": "markdown",
      "metadata": {
        "id": "IJGjjMvRdslP",
        "colab_type": "text"
      },
      "source": [
        "# Mais uma vez prevermos a saída relacionada a ter câncer ou não."
      ]
    },
    {
      "cell_type": "code",
      "metadata": {
        "id": "_u-K30kIdslP",
        "colab_type": "code",
        "colab": {
          "base_uri": "https://localhost:8080/",
          "height": 34
        },
        "outputId": "90b3dd8b-bb9a-4f1d-9651-3bcaffae4b35"
      },
      "source": [
        "#Para informações do dataset\n",
        "#Link: https://scikit-learn.org/stable/datasets/index.html#breast-cancer-dataset\n",
        "\n",
        "# Carregamos o conjunto\n",
        "cancer = load_breast_cancer()\n",
        "\n",
        "print(type(cancer))"
      ],
      "execution_count": 19,
      "outputs": [
        {
          "output_type": "stream",
          "text": [
            "<class 'sklearn.utils.Bunch'>\n"
          ],
          "name": "stdout"
        }
      ]
    },
    {
      "cell_type": "code",
      "metadata": {
        "id": "BQChCzxydslR",
        "colab_type": "code",
        "colab": {}
      },
      "source": [
        "# Carregamos o dataset\n",
        "cancerDF = pd.DataFrame(columns = load_breast_cancer()[\"feature_names\"], data = load_breast_cancer()[\"data\"])"
      ],
      "execution_count": 20,
      "outputs": []
    },
    {
      "cell_type": "code",
      "metadata": {
        "id": "EhZxt_NvdslT",
        "colab_type": "code",
        "colab": {
          "base_uri": "https://localhost:8080/",
          "height": 34
        },
        "outputId": "f5d94456-8e08-4623-d083-c2369009a226"
      },
      "source": [
        "cancerDF.shape"
      ],
      "execution_count": 21,
      "outputs": [
        {
          "output_type": "execute_result",
          "data": {
            "text/plain": [
              "(569, 30)"
            ]
          },
          "metadata": {
            "tags": []
          },
          "execution_count": 21
        }
      ]
    },
    {
      "cell_type": "code",
      "metadata": {
        "id": "IJVRAwghdslV",
        "colab_type": "code",
        "colab": {
          "base_uri": "https://localhost:8080/",
          "height": 258
        },
        "outputId": "94a962b4-cb00-4945-d9d2-5445aae4e811"
      },
      "source": [
        "cancerDF.head()"
      ],
      "execution_count": 22,
      "outputs": [
        {
          "output_type": "execute_result",
          "data": {
            "text/html": [
              "<div>\n",
              "<style scoped>\n",
              "    .dataframe tbody tr th:only-of-type {\n",
              "        vertical-align: middle;\n",
              "    }\n",
              "\n",
              "    .dataframe tbody tr th {\n",
              "        vertical-align: top;\n",
              "    }\n",
              "\n",
              "    .dataframe thead th {\n",
              "        text-align: right;\n",
              "    }\n",
              "</style>\n",
              "<table border=\"1\" class=\"dataframe\">\n",
              "  <thead>\n",
              "    <tr style=\"text-align: right;\">\n",
              "      <th></th>\n",
              "      <th>mean radius</th>\n",
              "      <th>mean texture</th>\n",
              "      <th>mean perimeter</th>\n",
              "      <th>mean area</th>\n",
              "      <th>mean smoothness</th>\n",
              "      <th>mean compactness</th>\n",
              "      <th>mean concavity</th>\n",
              "      <th>mean concave points</th>\n",
              "      <th>mean symmetry</th>\n",
              "      <th>mean fractal dimension</th>\n",
              "      <th>radius error</th>\n",
              "      <th>texture error</th>\n",
              "      <th>perimeter error</th>\n",
              "      <th>area error</th>\n",
              "      <th>smoothness error</th>\n",
              "      <th>compactness error</th>\n",
              "      <th>concavity error</th>\n",
              "      <th>concave points error</th>\n",
              "      <th>symmetry error</th>\n",
              "      <th>fractal dimension error</th>\n",
              "      <th>worst radius</th>\n",
              "      <th>worst texture</th>\n",
              "      <th>worst perimeter</th>\n",
              "      <th>worst area</th>\n",
              "      <th>worst smoothness</th>\n",
              "      <th>worst compactness</th>\n",
              "      <th>worst concavity</th>\n",
              "      <th>worst concave points</th>\n",
              "      <th>worst symmetry</th>\n",
              "      <th>worst fractal dimension</th>\n",
              "    </tr>\n",
              "  </thead>\n",
              "  <tbody>\n",
              "    <tr>\n",
              "      <th>0</th>\n",
              "      <td>17.99</td>\n",
              "      <td>10.38</td>\n",
              "      <td>122.80</td>\n",
              "      <td>1001.0</td>\n",
              "      <td>0.11840</td>\n",
              "      <td>0.27760</td>\n",
              "      <td>0.3001</td>\n",
              "      <td>0.14710</td>\n",
              "      <td>0.2419</td>\n",
              "      <td>0.07871</td>\n",
              "      <td>1.0950</td>\n",
              "      <td>0.9053</td>\n",
              "      <td>8.589</td>\n",
              "      <td>153.40</td>\n",
              "      <td>0.006399</td>\n",
              "      <td>0.04904</td>\n",
              "      <td>0.05373</td>\n",
              "      <td>0.01587</td>\n",
              "      <td>0.03003</td>\n",
              "      <td>0.006193</td>\n",
              "      <td>25.38</td>\n",
              "      <td>17.33</td>\n",
              "      <td>184.60</td>\n",
              "      <td>2019.0</td>\n",
              "      <td>0.1622</td>\n",
              "      <td>0.6656</td>\n",
              "      <td>0.7119</td>\n",
              "      <td>0.2654</td>\n",
              "      <td>0.4601</td>\n",
              "      <td>0.11890</td>\n",
              "    </tr>\n",
              "    <tr>\n",
              "      <th>1</th>\n",
              "      <td>20.57</td>\n",
              "      <td>17.77</td>\n",
              "      <td>132.90</td>\n",
              "      <td>1326.0</td>\n",
              "      <td>0.08474</td>\n",
              "      <td>0.07864</td>\n",
              "      <td>0.0869</td>\n",
              "      <td>0.07017</td>\n",
              "      <td>0.1812</td>\n",
              "      <td>0.05667</td>\n",
              "      <td>0.5435</td>\n",
              "      <td>0.7339</td>\n",
              "      <td>3.398</td>\n",
              "      <td>74.08</td>\n",
              "      <td>0.005225</td>\n",
              "      <td>0.01308</td>\n",
              "      <td>0.01860</td>\n",
              "      <td>0.01340</td>\n",
              "      <td>0.01389</td>\n",
              "      <td>0.003532</td>\n",
              "      <td>24.99</td>\n",
              "      <td>23.41</td>\n",
              "      <td>158.80</td>\n",
              "      <td>1956.0</td>\n",
              "      <td>0.1238</td>\n",
              "      <td>0.1866</td>\n",
              "      <td>0.2416</td>\n",
              "      <td>0.1860</td>\n",
              "      <td>0.2750</td>\n",
              "      <td>0.08902</td>\n",
              "    </tr>\n",
              "    <tr>\n",
              "      <th>2</th>\n",
              "      <td>19.69</td>\n",
              "      <td>21.25</td>\n",
              "      <td>130.00</td>\n",
              "      <td>1203.0</td>\n",
              "      <td>0.10960</td>\n",
              "      <td>0.15990</td>\n",
              "      <td>0.1974</td>\n",
              "      <td>0.12790</td>\n",
              "      <td>0.2069</td>\n",
              "      <td>0.05999</td>\n",
              "      <td>0.7456</td>\n",
              "      <td>0.7869</td>\n",
              "      <td>4.585</td>\n",
              "      <td>94.03</td>\n",
              "      <td>0.006150</td>\n",
              "      <td>0.04006</td>\n",
              "      <td>0.03832</td>\n",
              "      <td>0.02058</td>\n",
              "      <td>0.02250</td>\n",
              "      <td>0.004571</td>\n",
              "      <td>23.57</td>\n",
              "      <td>25.53</td>\n",
              "      <td>152.50</td>\n",
              "      <td>1709.0</td>\n",
              "      <td>0.1444</td>\n",
              "      <td>0.4245</td>\n",
              "      <td>0.4504</td>\n",
              "      <td>0.2430</td>\n",
              "      <td>0.3613</td>\n",
              "      <td>0.08758</td>\n",
              "    </tr>\n",
              "    <tr>\n",
              "      <th>3</th>\n",
              "      <td>11.42</td>\n",
              "      <td>20.38</td>\n",
              "      <td>77.58</td>\n",
              "      <td>386.1</td>\n",
              "      <td>0.14250</td>\n",
              "      <td>0.28390</td>\n",
              "      <td>0.2414</td>\n",
              "      <td>0.10520</td>\n",
              "      <td>0.2597</td>\n",
              "      <td>0.09744</td>\n",
              "      <td>0.4956</td>\n",
              "      <td>1.1560</td>\n",
              "      <td>3.445</td>\n",
              "      <td>27.23</td>\n",
              "      <td>0.009110</td>\n",
              "      <td>0.07458</td>\n",
              "      <td>0.05661</td>\n",
              "      <td>0.01867</td>\n",
              "      <td>0.05963</td>\n",
              "      <td>0.009208</td>\n",
              "      <td>14.91</td>\n",
              "      <td>26.50</td>\n",
              "      <td>98.87</td>\n",
              "      <td>567.7</td>\n",
              "      <td>0.2098</td>\n",
              "      <td>0.8663</td>\n",
              "      <td>0.6869</td>\n",
              "      <td>0.2575</td>\n",
              "      <td>0.6638</td>\n",
              "      <td>0.17300</td>\n",
              "    </tr>\n",
              "    <tr>\n",
              "      <th>4</th>\n",
              "      <td>20.29</td>\n",
              "      <td>14.34</td>\n",
              "      <td>135.10</td>\n",
              "      <td>1297.0</td>\n",
              "      <td>0.10030</td>\n",
              "      <td>0.13280</td>\n",
              "      <td>0.1980</td>\n",
              "      <td>0.10430</td>\n",
              "      <td>0.1809</td>\n",
              "      <td>0.05883</td>\n",
              "      <td>0.7572</td>\n",
              "      <td>0.7813</td>\n",
              "      <td>5.438</td>\n",
              "      <td>94.44</td>\n",
              "      <td>0.011490</td>\n",
              "      <td>0.02461</td>\n",
              "      <td>0.05688</td>\n",
              "      <td>0.01885</td>\n",
              "      <td>0.01756</td>\n",
              "      <td>0.005115</td>\n",
              "      <td>22.54</td>\n",
              "      <td>16.67</td>\n",
              "      <td>152.20</td>\n",
              "      <td>1575.0</td>\n",
              "      <td>0.1374</td>\n",
              "      <td>0.2050</td>\n",
              "      <td>0.4000</td>\n",
              "      <td>0.1625</td>\n",
              "      <td>0.2364</td>\n",
              "      <td>0.07678</td>\n",
              "    </tr>\n",
              "  </tbody>\n",
              "</table>\n",
              "</div>"
            ],
            "text/plain": [
              "   mean radius  mean texture  ...  worst symmetry  worst fractal dimension\n",
              "0        17.99         10.38  ...          0.4601                  0.11890\n",
              "1        20.57         17.77  ...          0.2750                  0.08902\n",
              "2        19.69         21.25  ...          0.3613                  0.08758\n",
              "3        11.42         20.38  ...          0.6638                  0.17300\n",
              "4        20.29         14.34  ...          0.2364                  0.07678\n",
              "\n",
              "[5 rows x 30 columns]"
            ]
          },
          "metadata": {
            "tags": []
          },
          "execution_count": 22
        }
      ]
    },
    {
      "cell_type": "code",
      "metadata": {
        "id": "tqWTE_vhdslX",
        "colab_type": "code",
        "colab": {}
      },
      "source": [
        "# Identificamos e separamos nosso target\n",
        "target = load_breast_cancer()[\"target\"]"
      ],
      "execution_count": 23,
      "outputs": []
    },
    {
      "cell_type": "code",
      "metadata": {
        "id": "ZTWueaF4dslZ",
        "colab_type": "code",
        "colab": {
          "base_uri": "https://localhost:8080/",
          "height": 34
        },
        "outputId": "41ec6872-e361-4cfc-b54c-bd2baa0d1cb1"
      },
      "source": [
        "type(target)"
      ],
      "execution_count": 24,
      "outputs": [
        {
          "output_type": "execute_result",
          "data": {
            "text/plain": [
              "numpy.ndarray"
            ]
          },
          "metadata": {
            "tags": []
          },
          "execution_count": 24
        }
      ]
    },
    {
      "cell_type": "code",
      "metadata": {
        "id": "a9MTDcK1dslb",
        "colab_type": "code",
        "colab": {
          "base_uri": "https://localhost:8080/",
          "height": 459
        },
        "outputId": "2dd36678-8f47-4d76-b6e1-1dfe0c1a643d"
      },
      "source": [
        "# Então esperamos um array entre 0 e 1.\n",
        "target"
      ],
      "execution_count": 25,
      "outputs": [
        {
          "output_type": "execute_result",
          "data": {
            "text/plain": [
              "array([0, 0, 0, 0, 0, 0, 0, 0, 0, 0, 0, 0, 0, 0, 0, 0, 0, 0, 0, 1, 1, 1,\n",
              "       0, 0, 0, 0, 0, 0, 0, 0, 0, 0, 0, 0, 0, 0, 0, 1, 0, 0, 0, 0, 0, 0,\n",
              "       0, 0, 1, 0, 1, 1, 1, 1, 1, 0, 0, 1, 0, 0, 1, 1, 1, 1, 0, 1, 0, 0,\n",
              "       1, 1, 1, 1, 0, 1, 0, 0, 1, 0, 1, 0, 0, 1, 1, 1, 0, 0, 1, 0, 0, 0,\n",
              "       1, 1, 1, 0, 1, 1, 0, 0, 1, 1, 1, 0, 0, 1, 1, 1, 1, 0, 1, 1, 0, 1,\n",
              "       1, 1, 1, 1, 1, 1, 1, 0, 0, 0, 1, 0, 0, 1, 1, 1, 0, 0, 1, 0, 1, 0,\n",
              "       0, 1, 0, 0, 1, 1, 0, 1, 1, 0, 1, 1, 1, 1, 0, 1, 1, 1, 1, 1, 1, 1,\n",
              "       1, 1, 0, 1, 1, 1, 1, 0, 0, 1, 0, 1, 1, 0, 0, 1, 1, 0, 0, 1, 1, 1,\n",
              "       1, 0, 1, 1, 0, 0, 0, 1, 0, 1, 0, 1, 1, 1, 0, 1, 1, 0, 0, 1, 0, 0,\n",
              "       0, 0, 1, 0, 0, 0, 1, 0, 1, 0, 1, 1, 0, 1, 0, 0, 0, 0, 1, 1, 0, 0,\n",
              "       1, 1, 1, 0, 1, 1, 1, 1, 1, 0, 0, 1, 1, 0, 1, 1, 0, 0, 1, 0, 1, 1,\n",
              "       1, 1, 0, 1, 1, 1, 1, 1, 0, 1, 0, 0, 0, 0, 0, 0, 0, 0, 0, 0, 0, 0,\n",
              "       0, 0, 1, 1, 1, 1, 1, 1, 0, 1, 0, 1, 1, 0, 1, 1, 0, 1, 0, 0, 1, 1,\n",
              "       1, 1, 1, 1, 1, 1, 1, 1, 1, 1, 1, 0, 1, 1, 0, 1, 0, 1, 1, 1, 1, 1,\n",
              "       1, 1, 1, 1, 1, 1, 1, 1, 1, 0, 1, 1, 1, 0, 1, 0, 1, 1, 1, 1, 0, 0,\n",
              "       0, 1, 1, 1, 1, 0, 1, 0, 1, 0, 1, 1, 1, 0, 1, 1, 1, 1, 1, 1, 1, 0,\n",
              "       0, 0, 1, 1, 1, 1, 1, 1, 1, 1, 1, 1, 1, 0, 0, 1, 0, 0, 0, 1, 0, 0,\n",
              "       1, 1, 1, 1, 1, 0, 1, 1, 1, 1, 1, 0, 1, 1, 1, 0, 1, 1, 0, 0, 1, 1,\n",
              "       1, 1, 1, 1, 0, 1, 1, 1, 1, 1, 1, 1, 0, 1, 1, 1, 1, 1, 0, 1, 1, 0,\n",
              "       1, 1, 1, 1, 1, 1, 1, 1, 1, 1, 1, 1, 0, 1, 0, 0, 1, 0, 1, 1, 1, 1,\n",
              "       1, 0, 1, 1, 0, 1, 0, 1, 1, 0, 1, 0, 1, 1, 1, 1, 1, 1, 1, 1, 0, 0,\n",
              "       1, 1, 1, 1, 1, 1, 0, 1, 1, 1, 1, 1, 1, 1, 1, 1, 1, 0, 1, 1, 1, 1,\n",
              "       1, 1, 1, 0, 1, 0, 1, 1, 0, 1, 1, 1, 1, 1, 0, 0, 1, 0, 1, 0, 1, 1,\n",
              "       1, 1, 1, 0, 1, 1, 0, 1, 0, 1, 0, 0, 1, 1, 1, 0, 1, 1, 1, 1, 1, 1,\n",
              "       1, 1, 1, 1, 1, 0, 1, 0, 0, 1, 1, 1, 1, 1, 1, 1, 1, 1, 1, 1, 1, 1,\n",
              "       1, 1, 1, 1, 1, 1, 1, 1, 1, 1, 1, 1, 0, 0, 0, 0, 0, 0, 1])"
            ]
          },
          "metadata": {
            "tags": []
          },
          "execution_count": 25
        }
      ]
    },
    {
      "cell_type": "code",
      "metadata": {
        "id": "D6px1HbNdsle",
        "colab_type": "code",
        "colab": {
          "base_uri": "https://localhost:8080/",
          "height": 68
        },
        "outputId": "165579a1-99f6-47c7-bbe3-e62a436252f1"
      },
      "source": [
        "print(\"Total da Classe do tipo Benigno: \",np.count_nonzero(target == 1))\n",
        "print(\"=\"*15)\n",
        "print(\"Total da Classe do tipo Maligno: \",np.count_nonzero(target == 0))"
      ],
      "execution_count": 26,
      "outputs": [
        {
          "output_type": "stream",
          "text": [
            "Total da Classe do tipo Benigno:  357\n",
            "===============\n",
            "Total da Classe do tipo Maligno:  212\n"
          ],
          "name": "stdout"
        }
      ]
    },
    {
      "cell_type": "code",
      "metadata": {
        "id": "_AaPAgoLdslg",
        "colab_type": "code",
        "colab": {}
      },
      "source": [
        "# Dicionário para os labels\n",
        "labels = {}\n",
        "\n",
        "# Nomes das classes da variável target\n",
        "target_names = load_breast_cancer()[\"target_names\"]\n",
        "\n",
        "# Mapeamento\n",
        "for i in range(len(target_names)):\n",
        "    labels.update({i:target_names[i]})  "
      ],
      "execution_count": 27,
      "outputs": []
    },
    {
      "cell_type": "code",
      "metadata": {
        "id": "gXAHYnG1dsli",
        "colab_type": "code",
        "colab": {
          "base_uri": "https://localhost:8080/",
          "height": 34
        },
        "outputId": "aa497b55-ffe6-41a6-f048-426c2805ddc7"
      },
      "source": [
        "# Labels - Lembrete: Sempre trabalhamos com números.\n",
        "labels"
      ],
      "execution_count": 28,
      "outputs": [
        {
          "output_type": "execute_result",
          "data": {
            "text/plain": [
              "{0: 'malignant', 1: 'benign'}"
            ]
          },
          "metadata": {
            "tags": []
          },
          "execution_count": 28
        }
      ]
    },
    {
      "cell_type": "code",
      "metadata": {
        "id": "c6379LEddslk",
        "colab_type": "code",
        "colab": {}
      },
      "source": [
        "# Entregamos as variáveis preditoras para X\n",
        "X = np.array(cancerDF)"
      ],
      "execution_count": 29,
      "outputs": []
    },
    {
      "cell_type": "code",
      "metadata": {
        "id": "eQ5wwe1kdslm",
        "colab_type": "code",
        "colab": {}
      },
      "source": [
        "# Divisão de dados de entrada e saída em treino e teste\n",
        "X_treino, X_teste, y_treino, y_teste = train_test_split(X, target, test_size = 0.20, shuffle = True)"
      ],
      "execution_count": 30,
      "outputs": []
    },
    {
      "cell_type": "code",
      "metadata": {
        "id": "wnBrKttmdslp",
        "colab_type": "code",
        "colab": {
          "base_uri": "https://localhost:8080/",
          "height": 136
        },
        "outputId": "0b2b1492-059f-4bd4-f0f4-ad3cd43f5a76"
      },
      "source": [
        "# Verificação de estado dos nossos dados X,y (Treino)\n",
        "print(\"Dados de Treino\")\n",
        "print(X_treino.shape)\n",
        "print(y_treino.shape)\n",
        "print(\"=\"*20)\n",
        "print(\"Dados de Teste\")\n",
        "# Verificação de estado dos nossos dados X,y (Teste)\n",
        "print(X_teste.shape)\n",
        "print(y_teste.shape)"
      ],
      "execution_count": 31,
      "outputs": [
        {
          "output_type": "stream",
          "text": [
            "Dados de Treino\n",
            "(455, 30)\n",
            "(455,)\n",
            "====================\n",
            "Dados de Teste\n",
            "(114, 30)\n",
            "(114,)\n"
          ],
          "name": "stdout"
        }
      ]
    },
    {
      "cell_type": "code",
      "metadata": {
        "id": "18BDicbydslr",
        "colab_type": "code",
        "colab": {}
      },
      "source": [
        "# Ajuste nos dados de entrada\n",
        "X_treino = X_treino.T\n",
        "X_teste = X_teste.T\n",
        "\n",
        "# Ajuste nos dados de saída\n",
        "y_treino = y_treino.reshape(1, len(y_treino))\n",
        "y_teste = y_teste.reshape(1, len(y_teste))"
      ],
      "execution_count": 32,
      "outputs": []
    },
    {
      "cell_type": "code",
      "metadata": {
        "id": "4-Hv_75ldslu",
        "colab_type": "code",
        "colab": {}
      },
      "source": [
        "# Dimensões de entrada com número de neurônios \n",
        "dims_camada_entrada = [X_treino.shape[0], 50, 20, 5, 1]"
      ],
      "execution_count": 33,
      "outputs": []
    },
    {
      "cell_type": "code",
      "metadata": {
        "id": "s0HgRocCdslw",
        "colab_type": "code",
        "colab": {
          "base_uri": "https://localhost:8080/",
          "height": 1000
        },
        "outputId": "3301c9a5-9950-460b-e1f2-44b631be4725"
      },
      "source": [
        "# Treinando o modelo\n",
        "\n",
        "iniProc = time.time()\n",
        "parametros, custo = modeloNN(X = X_treino, \n",
        "                             Y = y_treino, \n",
        "                             dims_camada_entrada = dims_camada_entrada, num_iterations = 3000, learning_rate = 0.0075)\n",
        "\n",
        "print(\"Treinamento durou %2.f segundos \" % (time.time() - iniProc))"
      ],
      "execution_count": 34,
      "outputs": [
        {
          "output_type": "stream",
          "text": [
            "Custo Após 0 iterações é 0.6931210602259558\n",
            "Custo Após 10 iterações é 0.6917701760368078\n",
            "Custo Após 20 iterações é 0.690468677948141\n",
            "Custo Após 30 iterações é 0.6892147091015269\n",
            "Custo Após 40 iterações é 0.6880064758174674\n",
            "Custo Após 50 iterações é 0.6868422463348167\n",
            "Custo Após 60 iterações é 0.6857203462572843\n",
            "Custo Após 70 iterações é 0.6846391561353644\n",
            "Custo Após 80 iterações é 0.6835971118924867\n",
            "Custo Após 90 iterações é 0.6825926988618836\n",
            "Custo Após 100 iterações é 0.6816244484782122\n",
            "Custo Após 110 iterações é 0.6806909447429107\n",
            "Custo Após 120 iterações é 0.6797908024883521\n",
            "Custo Após 130 iterações é 0.678922677591026\n",
            "Custo Após 140 iterações é 0.6780852436232051\n",
            "Custo Após 150 iterações é 0.6772771965698982\n",
            "Custo Após 160 iterações é 0.6764973042612897\n",
            "Custo Após 170 iterações é 0.6757444361436571\n",
            "Custo Após 180 iterações é 0.6750174354325381\n",
            "Custo Após 190 iterações é 0.6743150654256271\n",
            "Custo Após 200 iterações é 0.6736361540400234\n",
            "Custo Após 210 iterações é 0.6729795396928706\n",
            "Custo Após 220 iterações é 0.6723440569665929\n",
            "Custo Após 230 iterações é 0.6717284876044112\n",
            "Custo Após 240 iterações é 0.671131613216163\n",
            "Custo Após 250 iterações é 0.670552159982325\n",
            "Custo Após 260 iterações é 0.6699887612464503\n",
            "Custo Após 270 iterações é 0.6694400275188794\n",
            "Custo Após 280 iterações é 0.6689043636503933\n",
            "Custo Após 290 iterações é 0.6683799466075313\n",
            "Custo Após 300 iterações é 0.6678643063530801\n",
            "Custo Após 310 iterações é 0.6673537514318177\n",
            "Custo Após 320 iterações é 0.6668458758381016\n",
            "Custo Após 330 iterações é 0.6663396782264871\n",
            "Custo Após 340 iterações é 0.6658323690095443\n",
            "Custo Após 350 iterações é 0.665318113376987\n",
            "Custo Após 360 iterações é 0.6647904306560315\n",
            "Custo Após 370 iterações é 0.6642404855560141\n",
            "Custo Após 380 iterações é 0.66365637650659\n",
            "Custo Após 390 iterações é 0.663021761699237\n",
            "Custo Após 400 iterações é 0.6623133892192706\n",
            "Custo Após 410 iterações é 0.6614966361649685\n",
            "Custo Após 420 iterações é 0.66051843304066\n",
            "Custo Após 430 iterações é 0.6592872667968755\n",
            "Custo Após 440 iterações é 0.6576834981931352\n",
            "Custo Após 450 iterações é 0.6555225102363458\n",
            "Custo Após 460 iterações é 0.6524719845166077\n",
            "Custo Após 470 iterações é 0.6480693533820981\n",
            "Custo Após 480 iterações é 0.6418517747451177\n",
            "Custo Após 490 iterações é 0.6340523572908882\n",
            "Custo Após 500 iterações é 0.6265977539395883\n",
            "Custo Após 510 iterações é 0.6215251959454993\n",
            "Custo Após 520 iterações é 0.6182708276297905\n",
            "Custo Após 530 iterações é 0.6155603541837413\n",
            "Custo Após 540 iterações é 0.6129221372518636\n",
            "Custo Após 550 iterações é 0.6102653125949853\n",
            "Custo Após 560 iterações é 0.6075716836005876\n",
            "Custo Após 570 iterações é 0.6048313411810365\n",
            "Custo Após 580 iterações é 0.6020344700371976\n",
            "Custo Após 590 iterações é 0.5991690805041131\n",
            "Custo Após 600 iterações é 0.596219725684225\n",
            "Custo Após 610 iterações é 0.5931674461071518\n",
            "Custo Após 620 iterações é 0.5899869892268115\n",
            "Custo Após 630 iterações é 0.5866448832959326\n",
            "Custo Após 640 iterações é 0.5830975129972346\n",
            "Custo Após 650 iterações é 0.579284761132619\n",
            "Custo Após 660 iterações é 0.5751244132657466\n",
            "Custo Após 670 iterações é 0.5705076748320912\n",
            "Custo Após 680 iterações é 0.5653083115114214\n",
            "Custo Após 690 iterações é 0.5593168069521558\n",
            "Custo Após 700 iterações é 0.5522090316873902\n",
            "Custo Após 710 iterações é 0.5436009267761921\n",
            "Custo Após 720 iterações é 0.532954131367948\n",
            "Custo Após 730 iterações é 0.5195658697532206\n",
            "Custo Após 740 iterações é 0.5027552068997014\n",
            "Custo Após 750 iterações é 0.48294311972893894\n",
            "Custo Após 760 iterações é 0.46305597599144394\n",
            "Custo Após 770 iterações é 0.4498387723957029\n",
            "Custo Após 780 iterações é 0.4972492292380692\n",
            "Custo Após 790 iterações é 0.4785989113502726\n",
            "Custo Após 800 iterações é 0.4744142872479045\n",
            "Custo Após 810 iterações é 0.4699933584410115\n",
            "Custo Após 820 iterações é 0.46419215380864964\n",
            "Custo Após 830 iterações é 0.4602318705404533\n",
            "Custo Após 840 iterações é 0.45697909672563447\n",
            "Custo Após 850 iterações é 0.4507684325746995\n",
            "Custo Após 860 iterações é 0.4467667519712898\n",
            "Custo Após 870 iterações é 0.4403940632028101\n",
            "Custo Após 880 iterações é 0.4339645675343974\n",
            "Custo Após 890 iterações é 0.4284842790325939\n",
            "Custo Após 900 iterações é 0.4229703814322834\n",
            "Custo Após 910 iterações é 0.4193220854706583\n",
            "Custo Após 920 iterações é 0.42300672036773185\n",
            "Custo Após 930 iterações é 0.40612248657591915\n",
            "Custo Após 940 iterações é 0.41151001116524993\n",
            "Custo Após 950 iterações é 0.40718828954113434\n",
            "Custo Após 960 iterações é 0.3982119304573104\n",
            "Custo Após 970 iterações é 0.3949006569494134\n",
            "Custo Após 980 iterações é 0.39157053302160977\n",
            "Custo Após 990 iterações é 0.3905647204658797\n",
            "Custo Após 1000 iterações é 0.3876603418076679\n",
            "Custo Após 1010 iterações é 0.38582684273336093\n",
            "Custo Após 1020 iterações é 0.38184244647532717\n",
            "Custo Após 1030 iterações é 0.3805393366697552\n",
            "Custo Após 1040 iterações é 0.37794962179457253\n",
            "Custo Após 1050 iterações é 0.3746442597637769\n",
            "Custo Após 1060 iterações é 0.37334363554566524\n",
            "Custo Após 1070 iterações é 0.3698817727684225\n",
            "Custo Após 1080 iterações é 0.3666084382417495\n",
            "Custo Após 1090 iterações é 0.3643622651558696\n",
            "Custo Após 1100 iterações é 0.3597996466119262\n",
            "Custo Após 1110 iterações é 0.3558455873098706\n",
            "Custo Após 1120 iterações é 0.35291277149603406\n",
            "Custo Após 1130 iterações é 0.3533114286951331\n",
            "Custo Após 1140 iterações é 0.352880761701459\n",
            "Custo Após 1150 iterações é 0.35243056131094597\n",
            "Custo Após 1160 iterações é 0.34877797867176424\n",
            "Custo Após 1170 iterações é 0.34904203777643006\n",
            "Custo Após 1180 iterações é 0.349149625483909\n",
            "Custo Após 1190 iterações é 0.34561709649794276\n",
            "Custo Após 1200 iterações é 0.34670343672734993\n",
            "Custo Após 1210 iterações é 0.3420993146388558\n",
            "Custo Após 1220 iterações é 0.3411602670428169\n",
            "Custo Após 1230 iterações é 0.3358433256837107\n",
            "Custo Após 1240 iterações é 0.33823715780439767\n",
            "Custo Após 1250 iterações é 0.3324558199741271\n",
            "Custo Após 1260 iterações é 0.3368755865641011\n",
            "Custo Após 1270 iterações é 0.33635320149129017\n",
            "Custo Após 1280 iterações é 0.3317432155037068\n",
            "Custo Após 1290 iterações é 0.3257697914263129\n",
            "Custo Após 1300 iterações é 0.32892064507435037\n",
            "Custo Após 1310 iterações é 0.3241737633063392\n",
            "Custo Após 1320 iterações é 0.32662618772472846\n",
            "Custo Após 1330 iterações é 0.32099855391570337\n",
            "Custo Após 1340 iterações é 0.32277690870687\n",
            "Custo Após 1350 iterações é 0.3180203977389484\n",
            "Custo Após 1360 iterações é 0.32275586425511005\n",
            "Custo Após 1370 iterações é 0.3165766256090221\n",
            "Custo Após 1380 iterações é 0.31651436372908015\n",
            "Custo Após 1390 iterações é 0.31765344825481323\n",
            "Custo Após 1400 iterações é 0.3137672725042741\n",
            "Custo Após 1410 iterações é 0.30790321422591227\n",
            "Custo Após 1420 iterações é 0.3010473612682647\n",
            "Custo Após 1430 iterações é 0.30126323912354785\n",
            "Custo Após 1440 iterações é 0.30112967599212054\n",
            "Custo Após 1450 iterações é 0.3011502586214232\n",
            "Custo Após 1460 iterações é 0.3001407089407404\n",
            "Custo Após 1470 iterações é 0.2999378809021314\n",
            "Custo Após 1480 iterações é 0.2989982852700982\n",
            "Custo Após 1490 iterações é 0.2984906892867447\n",
            "Custo Após 1500 iterações é 0.29724943996354086\n",
            "Custo Após 1510 iterações é 0.2967729611888745\n",
            "Custo Após 1520 iterações é 0.29638567163112556\n",
            "Custo Após 1530 iterações é 0.29647415657031145\n",
            "Custo Após 1540 iterações é 0.2948108787081456\n",
            "Custo Após 1550 iterações é 0.29436704645497236\n",
            "Custo Após 1560 iterações é 0.29219783973381913\n",
            "Custo Após 1570 iterações é 0.2916087716575911\n",
            "Custo Após 1580 iterações é 0.29111862954649076\n",
            "Custo Após 1590 iterações é 0.28963768849170235\n",
            "Custo Após 1600 iterações é 0.28778310369271837\n",
            "Custo Após 1610 iterações é 0.2883759469433783\n",
            "Custo Após 1620 iterações é 0.2873984792310506\n",
            "Custo Após 1630 iterações é 0.28771182993794164\n",
            "Custo Após 1640 iterações é 0.28887966131642023\n",
            "Custo Após 1650 iterações é 0.2878447491353309\n",
            "Custo Após 1660 iterações é 0.2863434540503348\n",
            "Custo Após 1670 iterações é 0.2868368656074006\n",
            "Custo Após 1680 iterações é 0.28471666566511755\n",
            "Custo Após 1690 iterações é 0.2812670178152875\n",
            "Custo Após 1700 iterações é 0.2814756865722158\n",
            "Custo Após 1710 iterações é 0.2822717026374599\n",
            "Custo Após 1720 iterações é 0.28175133287351045\n",
            "Custo Após 1730 iterações é 0.2767660925366857\n",
            "Custo Após 1740 iterações é 0.2755167400270982\n",
            "Custo Após 1750 iterações é 0.27098668117964814\n",
            "Custo Após 1760 iterações é 0.26891299185557854\n",
            "Custo Após 1770 iterações é 0.2707511937446044\n",
            "Custo Após 1780 iterações é 0.2761280490945715\n",
            "Custo Após 1790 iterações é 0.2835583778529369\n",
            "Custo Após 1800 iterações é 0.2820129237355228\n",
            "Custo Após 1810 iterações é 0.27994468978236675\n",
            "Custo Após 1820 iterações é 0.27932243786648553\n",
            "Custo Após 1830 iterações é 0.2741444409870799\n",
            "Custo Após 1840 iterações é 0.2746494008941102\n",
            "Custo Após 1850 iterações é 0.27322115306836997\n",
            "Custo Após 1860 iterações é 0.2735572863855147\n",
            "Custo Após 1870 iterações é 0.27379633793809377\n",
            "Custo Após 1880 iterações é 0.2733258850423839\n",
            "Custo Após 1890 iterações é 0.27234102289321716\n",
            "Custo Após 1900 iterações é 0.2683980400981003\n",
            "Custo Após 1910 iterações é 0.2630804989038194\n",
            "Custo Após 1920 iterações é 0.26547224410988635\n",
            "Custo Após 1930 iterações é 0.27309123366735477\n",
            "Custo Após 1940 iterações é 0.2734913118983291\n",
            "Custo Após 1950 iterações é 0.2736771312039337\n",
            "Custo Após 1960 iterações é 0.2717165638165029\n",
            "Custo Após 1970 iterações é 0.27006559558028415\n",
            "Custo Após 1980 iterações é 0.2623486018956531\n",
            "Custo Após 1990 iterações é 0.26237029623467534\n",
            "Custo Após 2000 iterações é 0.2639874371202748\n",
            "Custo Após 2010 iterações é 0.26513475884062243\n",
            "Custo Após 2020 iterações é 0.2610354895693131\n",
            "Custo Após 2030 iterações é 0.2593485623910452\n",
            "Custo Após 2040 iterações é 0.2598449239399946\n",
            "Custo Após 2050 iterações é 0.262180464974997\n",
            "Custo Após 2060 iterações é 0.2597452412623775\n",
            "Custo Após 2070 iterações é 0.25886152571032855\n",
            "Custo Após 2080 iterações é 0.26204828442172073\n",
            "Custo Após 2090 iterações é 0.263814470930702\n",
            "Custo Após 2100 iterações é 0.2626307914749471\n",
            "Custo Após 2110 iterações é 0.26051169413547337\n",
            "Custo Após 2120 iterações é 0.25912363142019657\n",
            "Custo Após 2130 iterações é 0.26005088417745825\n",
            "Custo Após 2140 iterações é 0.2591873952717097\n",
            "Custo Após 2150 iterações é 0.25803958829040574\n",
            "Custo Após 2160 iterações é 0.26179796316796106\n",
            "Custo Após 2170 iterações é 0.25637806986867784\n",
            "Custo Após 2180 iterações é 0.2545845129697922\n",
            "Custo Após 2190 iterações é 0.2548539642656796\n",
            "Custo Após 2200 iterações é 0.2542486437528012\n",
            "Custo Após 2210 iterações é 0.2524086925061722\n",
            "Custo Após 2220 iterações é 0.25608058226801705\n",
            "Custo Após 2230 iterações é 0.2646211568674723\n",
            "Custo Após 2240 iterações é 0.25601927347397463\n",
            "Custo Após 2250 iterações é 0.2491775522780118\n",
            "Custo Após 2260 iterações é 0.2501268946359635\n",
            "Custo Após 2270 iterações é 0.24802283237906553\n",
            "Custo Após 2280 iterações é 0.24682019389480161\n",
            "Custo Após 2290 iterações é 0.24723357227126375\n",
            "Custo Após 2300 iterações é 0.25461601742375833\n",
            "Custo Após 2310 iterações é 0.26003422931552284\n",
            "Custo Após 2320 iterações é 0.25527400649828674\n",
            "Custo Após 2330 iterações é 0.25102052302396594\n",
            "Custo Após 2340 iterações é 0.24388768473040903\n",
            "Custo Após 2350 iterações é 0.24215905343349933\n",
            "Custo Após 2360 iterações é 0.25209574552150776\n",
            "Custo Após 2370 iterações é 0.2583271005581466\n",
            "Custo Após 2380 iterações é 0.25262524656652247\n",
            "Custo Após 2390 iterações é 0.24739863763789177\n",
            "Custo Após 2400 iterações é 0.2416984092932475\n",
            "Custo Após 2410 iterações é 0.24118021970546027\n",
            "Custo Após 2420 iterações é 0.24074833116440927\n",
            "Custo Após 2430 iterações é 0.24485584296424706\n",
            "Custo Após 2440 iterações é 0.2572272870267057\n",
            "Custo Após 2450 iterações é 0.2533683571028227\n",
            "Custo Após 2460 iterações é 0.24796525082848428\n",
            "Custo Após 2470 iterações é 0.2409957592131989\n",
            "Custo Após 2480 iterações é 0.23988075718329369\n",
            "Custo Após 2490 iterações é 0.2500534255067319\n",
            "Custo Após 2500 iterações é 0.25207157154434306\n",
            "Custo Após 2510 iterações é 0.24397274363052618\n",
            "Custo Após 2520 iterações é 0.23686480630304013\n",
            "Custo Após 2530 iterações é 0.2433852919121599\n",
            "Custo Após 2540 iterações é 0.25534798758136673\n",
            "Custo Após 2550 iterações é 0.24648519768165586\n",
            "Custo Após 2560 iterações é 0.2359448011983096\n",
            "Custo Após 2570 iterações é 0.23706480946744293\n",
            "Custo Após 2580 iterações é 0.23632904263577217\n",
            "Custo Após 2590 iterações é 0.24114059829391432\n",
            "Custo Após 2600 iterações é 0.247719663255077\n",
            "Custo Após 2610 iterações é 0.24901292863802219\n",
            "Custo Após 2620 iterações é 0.23983293885727042\n",
            "Custo Após 2630 iterações é 0.23414919978187365\n",
            "Custo Após 2640 iterações é 0.23790438002253053\n",
            "Custo Após 2650 iterações é 0.2507612043721277\n",
            "Custo Após 2660 iterações é 0.24565827838987472\n",
            "Custo Após 2670 iterações é 0.23884463384302998\n",
            "Custo Após 2680 iterações é 0.23165041767882044\n",
            "Custo Após 2690 iterações é 0.23383083566124113\n",
            "Custo Após 2700 iterações é 0.2319555780319179\n",
            "Custo Após 2710 iterações é 0.23259897790837347\n",
            "Custo Após 2720 iterações é 0.23161833124957587\n",
            "Custo Após 2730 iterações é 0.23320424021369235\n",
            "Custo Após 2740 iterações é 0.24887958088444806\n",
            "Custo Após 2750 iterações é 0.2494043546216964\n",
            "Custo Após 2760 iterações é 0.24219732290486448\n",
            "Custo Após 2770 iterações é 0.24519114183020513\n",
            "Custo Após 2780 iterações é 0.24259819133396218\n",
            "Custo Após 2790 iterações é 0.23878404382475024\n",
            "Custo Após 2800 iterações é 0.2306769548765692\n",
            "Custo Após 2810 iterações é 0.23090992731129595\n",
            "Custo Após 2820 iterações é 0.22860675732676067\n",
            "Custo Após 2830 iterações é 0.2325460126596302\n",
            "Custo Após 2840 iterações é 0.2330175152443518\n",
            "Custo Após 2850 iterações é 0.23537119293811531\n",
            "Custo Após 2860 iterações é 0.23907249351339596\n",
            "Custo Após 2870 iterações é 0.24711364885833192\n",
            "Custo Após 2880 iterações é 0.23723077603377735\n",
            "Custo Após 2890 iterações é 0.22883206304506779\n",
            "Custo Após 2900 iterações é 0.22995997845405322\n",
            "Custo Após 2910 iterações é 0.2288745498220564\n",
            "Custo Após 2920 iterações é 0.22940818992552384\n",
            "Custo Após 2930 iterações é 0.22806635933411087\n",
            "Custo Após 2940 iterações é 0.22956133928148986\n",
            "Custo Após 2950 iterações é 0.2355401063745848\n",
            "Custo Após 2960 iterações é 0.24909604058834747\n",
            "Custo Após 2970 iterações é 0.23829998693091148\n",
            "Custo Após 2980 iterações é 0.23651020821713897\n",
            "Custo Após 2990 iterações é 0.23824923176253884\n",
            "Treinamento durou  5 segundos \n"
          ],
          "name": "stdout"
        }
      ]
    },
    {
      "cell_type": "code",
      "metadata": {
        "id": "0Bw370x_dsly",
        "colab_type": "code",
        "colab": {
          "base_uri": "https://localhost:8080/",
          "height": 837
        },
        "outputId": "365785ea-7e88-4d48-8421-2e4a792254f2"
      },
      "source": [
        "import seaborn as sns\n",
        "# Plot do erro no treinamento\n",
        "sns.set(rc={\"figure.figsize\":(25,15)});\n",
        "plt.plot(custo)\n",
        "plt.title(\"Erros em Treinamento\")"
      ],
      "execution_count": 35,
      "outputs": [
        {
          "output_type": "stream",
          "text": [
            "/usr/local/lib/python3.6/dist-packages/statsmodels/tools/_testing.py:19: FutureWarning: pandas.util.testing is deprecated. Use the functions in the public API at pandas.testing instead.\n",
            "  import pandas.util.testing as tm\n"
          ],
          "name": "stderr"
        },
        {
          "output_type": "execute_result",
          "data": {
            "text/plain": [
              "Text(0.5, 1.0, 'Erros em Treinamento')"
            ]
          },
          "metadata": {
            "tags": []
          },
          "execution_count": 35
        },
        {
          "output_type": "display_data",
          "data": {
            "image/png": "[encoded data removed]",
            "text/plain": [
              "<Figure size 1800x1080 with 1 Axes>"
            ]
          },
          "metadata": {
            "tags": []
          }
        }
      ]
    },
    {
      "cell_type": "code",
      "metadata": {
        "id": "uxD9NceXdsl0",
        "colab_type": "code",
        "colab": {}
      },
      "source": [
        "# Previsões em treino\n",
        "y_pred_treino = predict(X_treino, parametros)"
      ],
      "execution_count": 36,
      "outputs": []
    },
    {
      "cell_type": "code",
      "metadata": {
        "id": "B4QcTPA7dsl2",
        "colab_type": "code",
        "colab": {
          "base_uri": "https://localhost:8080/",
          "height": 1000
        },
        "outputId": "0347b8fa-4437-459f-ffe2-e3f9d2577512"
      },
      "source": [
        "# Visualização das previsões\n",
        "y_pred_treino"
      ],
      "execution_count": 37,
      "outputs": [
        {
          "output_type": "execute_result",
          "data": {
            "text/plain": [
              "array([[8.84925333e-01, 8.84924309e-01, 1.34337672e-04, 2.35659675e-04,\n",
              "        8.84925903e-01, 7.63169887e-01, 8.84930580e-01, 2.53496767e-06,\n",
              "        8.84927508e-01, 8.84926769e-01, 8.84925813e-01, 8.84925889e-01,\n",
              "        2.06737461e-01, 1.57637808e-02, 5.44726731e-01, 8.84924410e-01,\n",
              "        8.84923862e-01, 7.31355040e-01, 8.84924027e-01, 8.84924354e-01,\n",
              "        8.66549957e-01, 8.84923755e-01, 1.44655819e-02, 8.84925824e-01,\n",
              "        8.48807169e-01, 6.63623925e-04, 8.84926974e-01, 8.68628706e-01,\n",
              "        8.84924768e-01, 8.84924179e-01, 4.77029762e-03, 8.84926449e-01,\n",
              "        6.43974321e-02, 8.57248713e-01, 8.84924875e-01, 8.84924530e-01,\n",
              "        8.84924538e-01, 7.72233018e-05, 8.48470112e-01, 8.84925581e-01,\n",
              "        8.84923030e-01, 8.71954959e-02, 8.76447069e-01, 8.84924610e-01,\n",
              "        8.84923003e-01, 8.77203342e-01, 3.43379184e-03, 2.96180572e-05,\n",
              "        8.84924356e-01, 8.84923434e-01, 8.84924605e-01, 8.84925814e-01,\n",
              "        2.84719539e-01, 8.84925442e-01, 5.20082721e-02, 8.36904443e-08,\n",
              "        8.84924445e-01, 7.95595638e-01, 8.84926014e-01, 8.84924754e-01,\n",
              "        2.44645033e-01, 3.62692190e-01, 8.84924527e-01, 8.84924466e-01,\n",
              "        4.84238987e-01, 4.25791816e-06, 8.84922519e-01, 8.62014190e-01,\n",
              "        4.70080371e-02, 8.70446134e-01, 1.12461110e-02, 8.84922737e-01,\n",
              "        8.84925854e-01, 8.84532081e-01, 8.16503105e-08, 8.84925573e-01,\n",
              "        8.07811753e-01, 1.01930294e-01, 8.68589084e-01, 8.84924169e-01,\n",
              "        2.16941517e-03, 8.68556393e-01, 4.91542647e-01, 8.81152504e-01,\n",
              "        7.65968708e-01, 8.84924484e-01, 6.41597031e-09, 8.84926082e-01,\n",
              "        8.84929376e-01, 8.84924502e-01, 8.84924552e-01, 8.84925545e-01,\n",
              "        8.84924121e-01, 8.84924161e-01, 8.84923199e-01, 8.84926588e-01,\n",
              "        8.31877504e-01, 8.84925097e-01, 3.39071781e-05, 3.67152498e-03,\n",
              "        8.84925990e-01, 8.84924632e-01, 1.04630456e-04, 8.84924370e-01,\n",
              "        5.18258223e-02, 8.14371827e-01, 8.83975262e-01, 5.28439595e-01,\n",
              "        8.84924297e-01, 8.84923940e-01, 8.84923855e-01, 6.98339370e-01,\n",
              "        8.81979855e-01, 3.55468005e-05, 8.84923102e-01, 3.30461436e-04,\n",
              "        8.84924936e-01, 1.31961501e-01, 4.20458610e-01, 8.84924992e-01,\n",
              "        8.84923588e-01, 8.84926109e-01, 8.84924283e-01, 4.72891673e-04,\n",
              "        6.92055026e-07, 8.84925111e-01, 8.84924953e-01, 3.53854471e-02,\n",
              "        8.84924598e-01, 8.79766511e-01, 3.34242865e-10, 4.75846134e-05,\n",
              "        8.84924288e-01, 7.99551005e-01, 2.21235784e-01, 8.84924587e-01,\n",
              "        4.65147731e-01, 8.84924223e-01, 8.84923847e-01, 1.24581665e-01,\n",
              "        2.16563685e-04, 8.84924590e-01, 8.84923797e-01, 8.32137640e-01,\n",
              "        1.31352232e-05, 8.42925808e-01, 8.84925665e-01, 8.84924132e-01,\n",
              "        8.84927116e-01, 2.63703683e-13, 2.79086642e-05, 8.55372339e-01,\n",
              "        8.84927434e-01, 6.36862775e-01, 2.88374944e-02, 8.84924516e-01,\n",
              "        8.84924863e-01, 8.81473155e-01, 1.67273133e-06, 8.84924872e-01,\n",
              "        8.39285875e-01, 8.84924293e-01, 8.84924449e-01, 8.84925722e-01,\n",
              "        1.27559900e-04, 1.78094056e-13, 8.84926140e-01, 2.45042512e-04,\n",
              "        8.61068224e-01, 8.84928616e-01, 8.84926955e-01, 2.38571470e-04,\n",
              "        3.84652425e-01, 8.84924319e-01, 8.84924508e-01, 3.74815320e-04,\n",
              "        1.08170404e-02, 3.58468806e-02, 8.73028018e-01, 8.84924208e-01,\n",
              "        3.29491253e-07, 8.84927151e-01, 8.84924456e-01, 9.09426601e-16,\n",
              "        8.84926640e-01, 8.84924583e-01, 1.21983476e-02, 8.84924794e-01,\n",
              "        4.74225075e-01, 8.84271938e-01, 8.84922546e-01, 8.84924914e-01,\n",
              "        1.20669041e-08, 1.78114548e-08, 2.25189802e-02, 8.70467690e-01,\n",
              "        8.84924765e-01, 8.62147856e-01, 8.70546813e-01, 8.84929554e-01,\n",
              "        8.84924475e-01, 2.45339485e-01, 8.84924941e-01, 1.00153066e-06,\n",
              "        8.84924590e-01, 7.46459768e-08, 1.26916444e-04, 8.84924002e-01,\n",
              "        1.54449412e-04, 7.89015117e-01, 8.84924776e-01, 4.93704386e-02,\n",
              "        8.39752998e-01, 8.84924131e-01, 8.81902556e-01, 1.26920247e-03,\n",
              "        8.84923800e-01, 8.84924012e-01, 1.74610306e-09, 8.84924052e-01,\n",
              "        8.84925107e-01, 7.93681290e-02, 8.84926172e-01, 9.70590277e-05,\n",
              "        8.84926533e-01, 8.84924652e-01, 4.96783726e-02, 8.84924695e-01,\n",
              "        8.84926032e-01, 8.11279488e-02, 8.52141102e-01, 5.32658972e-02,\n",
              "        8.35910834e-01, 8.84925006e-01, 1.26008950e-03, 8.72884282e-01,\n",
              "        8.83883514e-01, 7.99841825e-01, 8.84926847e-01, 8.84924264e-01,\n",
              "        4.83166575e-01, 8.84924958e-01, 8.84923887e-01, 7.18142491e-01,\n",
              "        8.84924057e-01, 5.02438708e-01, 8.16644679e-01, 8.84924510e-01,\n",
              "        8.82386413e-01, 6.00025304e-01, 1.88506524e-01, 4.12285991e-01,\n",
              "        2.05935380e-01, 8.84925179e-01, 8.84924471e-01, 8.84924434e-01,\n",
              "        6.19602922e-01, 8.84927867e-01, 8.84923989e-01, 7.76055728e-01,\n",
              "        8.76506010e-01, 7.78551564e-04, 8.84924507e-01, 1.33188898e-02,\n",
              "        1.63840756e-01, 8.84923705e-01, 8.84924772e-01, 2.69433183e-11,\n",
              "        8.44918125e-01, 8.84924321e-01, 8.84267005e-01, 7.31193974e-21,\n",
              "        8.84925529e-01, 8.84924123e-01, 8.84924556e-01, 1.95340301e-09,\n",
              "        8.84923434e-01, 8.84925006e-01, 8.84925830e-01, 8.84925283e-01,\n",
              "        8.84923785e-01, 8.84924216e-01, 7.90404500e-04, 8.60674235e-04,\n",
              "        6.55282522e-01, 8.84923979e-01, 8.71630204e-01, 5.02993005e-06,\n",
              "        8.84926014e-01, 8.84925150e-01, 8.84924418e-01, 8.84923883e-01,\n",
              "        8.84925625e-01, 7.99922330e-05, 8.84923322e-01, 8.84924504e-01,\n",
              "        3.02168539e-05, 8.84923257e-01, 1.06884550e-01, 8.03259134e-01,\n",
              "        8.84927135e-01, 8.84925515e-01, 8.56518059e-01, 8.84924531e-01,\n",
              "        8.60716175e-05, 1.96303677e-01, 8.84923993e-01, 8.84926080e-01,\n",
              "        8.73349196e-01, 8.84925765e-01, 8.84924531e-01, 8.84923840e-01,\n",
              "        8.84924696e-01, 8.61465296e-01, 8.84923797e-01, 5.67919725e-01,\n",
              "        8.84924285e-01, 8.84924017e-01, 8.84925453e-01, 4.49321051e-03,\n",
              "        8.84927156e-01, 8.50211097e-01, 8.84926667e-01, 8.84925153e-01,\n",
              "        8.83097706e-01, 9.01657405e-04, 8.84924455e-01, 8.84924556e-01,\n",
              "        1.63940321e-06, 8.84924346e-01, 1.56391981e-05, 8.84923879e-01,\n",
              "        1.02549441e-03, 5.19091456e-02, 8.84924687e-01, 8.41338972e-01,\n",
              "        8.84927453e-01, 8.84924278e-01, 1.77329269e-02, 2.91942287e-14,\n",
              "        8.84926581e-01, 8.84924220e-01, 8.84924814e-01, 1.78459246e-02,\n",
              "        8.84923903e-01, 8.39942048e-01, 1.40936589e-02, 8.81659290e-01,\n",
              "        8.82135782e-01, 8.84924249e-01, 8.84924206e-01, 1.00528955e-03,\n",
              "        8.84925980e-01, 8.84924884e-01, 8.84923827e-01, 8.80985651e-01,\n",
              "        8.84926028e-01, 1.93614810e-03, 8.84924566e-01, 8.84929865e-01,\n",
              "        8.53359210e-01, 8.68511746e-01, 8.84925507e-01, 8.84923844e-01,\n",
              "        2.76527492e-01, 3.82922739e-01, 8.84929551e-01, 8.13984235e-01,\n",
              "        8.77902979e-01, 3.39873940e-01, 8.84925668e-01, 3.81955931e-25,\n",
              "        8.84924469e-01, 8.84929599e-01, 8.84924712e-01, 5.93604194e-01,\n",
              "        1.67469466e-04, 1.37524694e-03, 8.84923546e-01, 8.66280654e-01,\n",
              "        8.84927117e-01, 8.73685444e-01, 8.84925069e-01, 8.84926297e-01,\n",
              "        8.84924308e-01, 8.84925149e-01, 8.84926218e-01, 8.84926332e-01,\n",
              "        8.84924732e-01, 5.84629704e-01, 8.84925988e-01, 6.15764718e-04,\n",
              "        7.98195213e-01, 7.28015876e-01, 8.84924467e-01, 8.84924506e-01,\n",
              "        8.84924611e-01, 8.84924935e-01, 1.65313774e-14, 1.32980926e-02,\n",
              "        8.05632545e-01, 2.04043578e-07, 1.65497416e-01, 6.48396162e-03,\n",
              "        8.79123654e-01, 8.84926175e-01, 9.18198252e-04, 6.95945903e-01,\n",
              "        8.39597777e-01, 8.84924165e-01, 2.73134670e-01, 1.65368938e-11,\n",
              "        8.84926615e-01, 8.84924147e-01, 8.84923526e-01, 1.93914264e-01,\n",
              "        9.91053529e-12, 1.40321557e-02, 8.84924464e-01, 8.84924598e-01,\n",
              "        8.84924177e-01, 7.13780668e-01, 8.84929423e-01, 1.29421190e-01,\n",
              "        8.84924157e-01, 8.32538645e-01, 8.84926387e-01, 6.85901880e-06,\n",
              "        8.83582163e-02, 8.84926210e-01, 8.84923009e-01, 8.84922368e-01,\n",
              "        8.84924675e-01, 8.69685715e-01, 5.19199295e-01, 7.46379683e-01,\n",
              "        8.27013172e-01, 8.84925477e-01, 5.53737197e-07, 8.84924056e-01,\n",
              "        4.84898275e-04, 8.84924050e-01, 1.97179455e-01, 8.81219355e-01,\n",
              "        1.22470854e-01, 1.63634403e-02, 8.84924234e-01, 1.42278566e-02,\n",
              "        8.84924141e-01, 8.84926411e-01, 8.84923608e-01, 8.84928948e-01,\n",
              "        1.11378656e-15, 8.84927011e-01, 7.76381366e-01]])"
            ]
          },
          "metadata": {
            "tags": []
          },
          "execution_count": 37
        }
      ]
    },
    {
      "cell_type": "code",
      "metadata": {
        "id": "d5lHw-1Wdsl5",
        "colab_type": "code",
        "colab": {
          "base_uri": "https://localhost:8080/",
          "height": 884
        },
        "outputId": "edeea7d8-a5be-4706-81c1-a7910de52b3c"
      },
      "source": [
        "# Ajustamos o shape para treino\n",
        "y_pred_treino = y_pred_treino.reshape(-1)\n",
        "y_treino = y_treino.reshape(-1)\n",
        "y_pred_treino < 0.5"
      ],
      "execution_count": 50,
      "outputs": [
        {
          "output_type": "execute_result",
          "data": {
            "text/plain": [
              "array([False, False,  True,  True, False, False, False,  True, False,\n",
              "       False, False, False,  True,  True, False, False, False, False,\n",
              "       False, False, False, False,  True, False, False,  True, False,\n",
              "       False, False, False,  True, False,  True, False, False, False,\n",
              "       False,  True, False, False, False,  True, False, False, False,\n",
              "       False,  True,  True, False, False, False, False,  True, False,\n",
              "        True,  True, False, False, False, False,  True,  True, False,\n",
              "       False,  True,  True, False, False,  True, False,  True, False,\n",
              "       False, False,  True, False, False,  True, False, False,  True,\n",
              "       False,  True, False, False, False,  True, False, False, False,\n",
              "       False, False, False, False, False, False, False, False,  True,\n",
              "        True, False, False,  True, False,  True, False, False, False,\n",
              "       False, False, False, False, False,  True, False,  True, False,\n",
              "        True,  True, False, False, False, False,  True,  True, False,\n",
              "       False,  True, False, False,  True,  True, False, False,  True,\n",
              "       False,  True, False, False,  True,  True, False, False, False,\n",
              "        True, False, False, False, False,  True,  True, False, False,\n",
              "       False,  True, False, False, False,  True, False, False, False,\n",
              "       False, False,  True,  True, False,  True, False, False, False,\n",
              "        True,  True, False, False,  True,  True,  True, False, False,\n",
              "        True, False, False,  True, False, False,  True, False,  True,\n",
              "       False, False, False,  True,  True,  True, False, False, False,\n",
              "       False, False, False,  True, False,  True, False,  True,  True,\n",
              "       False,  True, False, False,  True, False, False, False,  True,\n",
              "       False, False,  True, False, False,  True, False,  True, False,\n",
              "       False,  True, False, False,  True, False,  True, False, False,\n",
              "        True, False, False, False, False, False,  True, False, False,\n",
              "       False, False, False, False, False, False, False,  True,  True,\n",
              "        True, False, False, False, False, False, False, False, False,\n",
              "        True, False,  True,  True, False, False,  True, False, False,\n",
              "       False,  True, False, False, False,  True, False, False, False,\n",
              "       False, False, False,  True,  True, False, False, False,  True,\n",
              "       False, False, False, False, False,  True, False, False,  True,\n",
              "       False,  True, False, False, False, False, False,  True,  True,\n",
              "       False, False, False, False, False, False, False, False, False,\n",
              "       False, False, False, False,  True, False, False, False, False,\n",
              "       False,  True, False, False,  True, False,  True, False,  True,\n",
              "        True, False, False, False, False,  True,  True, False, False,\n",
              "       False,  True, False, False,  True, False, False, False, False,\n",
              "        True, False, False, False, False, False,  True, False, False,\n",
              "       False, False, False, False,  True,  True, False, False, False,\n",
              "        True, False,  True, False, False, False, False,  True,  True,\n",
              "       False, False, False, False, False, False, False, False, False,\n",
              "       False, False, False, False,  True, False, False, False, False,\n",
              "       False, False,  True,  True, False,  True,  True,  True, False,\n",
              "       False,  True, False, False, False,  True,  True, False, False,\n",
              "       False,  True,  True,  True, False, False, False, False, False,\n",
              "        True, False, False, False,  True,  True, False, False, False,\n",
              "       False, False, False, False, False, False,  True, False,  True,\n",
              "       False,  True, False,  True,  True, False,  True, False, False,\n",
              "       False, False,  True, False, False])"
            ]
          },
          "metadata": {
            "tags": []
          },
          "execution_count": 50
        }
      ]
    },
    {
      "cell_type": "code",
      "metadata": {
        "id": "aMH-tk_Kdsl8",
        "colab_type": "code",
        "colab": {
          "base_uri": "https://localhost:8080/",
          "height": 374
        },
        "outputId": "42c0ff2e-a253-416f-8bc1-7fdedc144402"
      },
      "source": [
        "# Conversão das previsões binário de classe (0 ou 1), usando como threshold o valor de 0.5 da probabilidade\n",
        "y_pred_treino = 1 * (y_pred_treino > 0.5)\n",
        "y_pred_treino"
      ],
      "execution_count": 43,
      "outputs": [
        {
          "output_type": "execute_result",
          "data": {
            "text/plain": [
              "array([1, 1, 0, 0, 1, 1, 1, 0, 1, 1, 1, 1, 0, 0, 1, 1, 1, 1, 1, 1, 1, 1,\n",
              "       0, 1, 1, 0, 1, 1, 1, 1, 0, 1, 0, 1, 1, 1, 1, 0, 1, 1, 1, 0, 1, 1,\n",
              "       1, 1, 0, 0, 1, 1, 1, 1, 0, 1, 0, 0, 1, 1, 1, 1, 0, 0, 1, 1, 0, 0,\n",
              "       1, 1, 0, 1, 0, 1, 1, 1, 0, 1, 1, 0, 1, 1, 0, 1, 0, 1, 1, 1, 0, 1,\n",
              "       1, 1, 1, 1, 1, 1, 1, 1, 1, 1, 0, 0, 1, 1, 0, 1, 0, 1, 1, 1, 1, 1,\n",
              "       1, 1, 1, 0, 1, 0, 1, 0, 0, 1, 1, 1, 1, 0, 0, 1, 1, 0, 1, 1, 0, 0,\n",
              "       1, 1, 0, 1, 0, 1, 1, 0, 0, 1, 1, 1, 0, 1, 1, 1, 1, 0, 0, 1, 1, 1,\n",
              "       0, 1, 1, 1, 0, 1, 1, 1, 1, 1, 0, 0, 1, 0, 1, 1, 1, 0, 0, 1, 1, 0,\n",
              "       0, 0, 1, 1, 0, 1, 1, 0, 1, 1, 0, 1, 0, 1, 1, 1, 0, 0, 0, 1, 1, 1,\n",
              "       1, 1, 1, 0, 1, 0, 1, 0, 0, 1, 0, 1, 1, 0, 1, 1, 1, 0, 1, 1, 0, 1,\n",
              "       1, 0, 1, 0, 1, 1, 0, 1, 1, 0, 1, 0, 1, 1, 0, 1, 1, 1, 1, 1, 0, 1,\n",
              "       1, 1, 1, 1, 1, 1, 1, 1, 0, 0, 0, 1, 1, 1, 1, 1, 1, 1, 1, 0, 1, 0,\n",
              "       0, 1, 1, 0, 1, 1, 1, 0, 1, 1, 1, 0, 1, 1, 1, 1, 1, 1, 0, 0, 1, 1,\n",
              "       1, 0, 1, 1, 1, 1, 1, 0, 1, 1, 0, 1, 0, 1, 1, 1, 1, 1, 0, 0, 1, 1,\n",
              "       1, 1, 1, 1, 1, 1, 1, 1, 1, 1, 1, 0, 1, 1, 1, 1, 1, 0, 1, 1, 0, 1,\n",
              "       0, 1, 0, 0, 1, 1, 1, 1, 0, 0, 1, 1, 1, 0, 1, 1, 0, 1, 1, 1, 1, 0,\n",
              "       1, 1, 1, 1, 1, 0, 1, 1, 1, 1, 1, 1, 0, 0, 1, 1, 1, 0, 1, 0, 1, 1,\n",
              "       1, 1, 0, 0, 1, 1, 1, 1, 1, 1, 1, 1, 1, 1, 1, 1, 1, 0, 1, 1, 1, 1,\n",
              "       1, 1, 0, 0, 1, 0, 0, 0, 1, 1, 0, 1, 1, 1, 0, 0, 1, 1, 1, 0, 0, 0,\n",
              "       1, 1, 1, 1, 1, 0, 1, 1, 1, 0, 0, 1, 1, 1, 1, 1, 1, 1, 1, 1, 0, 1,\n",
              "       0, 1, 0, 1, 0, 0, 1, 0, 1, 1, 1, 1, 0, 1, 1])"
            ]
          },
          "metadata": {
            "tags": []
          },
          "execution_count": 43
        }
      ]
    },
    {
      "cell_type": "code",
      "metadata": {
        "id": "UiekgZiIdsl-",
        "colab_type": "code",
        "colab": {
          "base_uri": "https://localhost:8080/",
          "height": 34
        },
        "outputId": "a98f328c-61bc-495d-9db7-651bf8afaa54"
      },
      "source": [
        "# Calculo da acurácia comparando valor real com valor previsto\n",
        "aval_treino = sum(1 * (y_pred_treino == y_treino)) / len(y_pred_treino) * 100\n",
        "print(\"Acurácia em Treino: \" + str(aval_treino))"
      ],
      "execution_count": 44,
      "outputs": [
        {
          "output_type": "stream",
          "text": [
            "Acurácia em Treino: 91.64835164835165\n"
          ],
          "name": "stdout"
        }
      ]
    },
    {
      "cell_type": "code",
      "metadata": {
        "id": "S1YTuQEBdsmB",
        "colab_type": "code",
        "colab": {
          "base_uri": "https://localhost:8080/",
          "height": 170
        },
        "outputId": "f426429e-9770-498b-a1f2-d8ed8078a5ea"
      },
      "source": [
        "print(classification_report(y_treino, y_pred_treino, target_names = ['Maligno', 'Benigno']))"
      ],
      "execution_count": 45,
      "outputs": [
        {
          "output_type": "stream",
          "text": [
            "              precision    recall  f1-score   support\n",
            "\n",
            "     Maligno       0.97      0.80      0.87       166\n",
            "     Benigno       0.89      0.99      0.94       289\n",
            "\n",
            "    accuracy                           0.92       455\n",
            "   macro avg       0.93      0.89      0.91       455\n",
            "weighted avg       0.92      0.92      0.91       455\n",
            "\n"
          ],
          "name": "stdout"
        }
      ]
    },
    {
      "cell_type": "code",
      "metadata": {
        "id": "yVnZ4UPUdsmD",
        "colab_type": "code",
        "colab": {
          "base_uri": "https://localhost:8080/",
          "height": 510
        },
        "outputId": "590610e0-d80f-4706-f745-da728b3833f3"
      },
      "source": [
        "# Previsões usando dados de teste\n",
        "y_pred_teste = predict(X_teste, parametros)\n",
        "y_pred_teste"
      ],
      "execution_count": 46,
      "outputs": [
        {
          "output_type": "execute_result",
          "data": {
            "text/plain": [
              "array([[8.64234185e-01, 8.96318571e-08, 8.84924619e-01, 8.84924823e-01,\n",
              "        4.81713758e-03, 8.84926309e-01, 8.84924261e-01, 8.84924324e-01,\n",
              "        8.84926520e-01, 8.84923664e-01, 8.84924652e-01, 8.84923683e-01,\n",
              "        8.84924235e-01, 8.84924409e-01, 8.84923468e-01, 8.84924556e-01,\n",
              "        8.43707016e-01, 8.84930046e-01, 8.84923472e-01, 2.88793913e-05,\n",
              "        5.52652319e-07, 5.81328896e-05, 8.84926404e-01, 8.84924801e-01,\n",
              "        9.10525670e-12, 6.50865655e-08, 1.61087632e-06, 8.84923525e-01,\n",
              "        6.90202866e-01, 4.50240141e-03, 8.84924620e-01, 8.84924369e-01,\n",
              "        1.50089864e-04, 6.53007906e-03, 8.84924250e-01, 8.47989166e-15,\n",
              "        8.84923933e-01, 8.84923965e-01, 2.86274693e-26, 8.84924890e-01,\n",
              "        8.84924720e-01, 8.84922667e-01, 8.76559178e-01, 8.84924404e-01,\n",
              "        8.84926592e-01, 8.84923752e-01, 8.08625031e-01, 8.84927741e-01,\n",
              "        8.84924500e-01, 3.62610638e-02, 7.02237688e-05, 4.19558123e-04,\n",
              "        4.81816708e-01, 8.84925287e-01, 6.98983571e-01, 8.84923413e-01,\n",
              "        8.84924046e-01, 5.42056285e-01, 1.87312273e-01, 8.51325217e-01,\n",
              "        8.84924714e-01, 8.84925858e-01, 8.62875516e-01, 8.84922437e-01,\n",
              "        8.84924567e-01, 2.83241180e-03, 8.84924584e-01, 8.84925620e-01,\n",
              "        3.39906473e-02, 8.27271097e-01, 2.96272313e-03, 3.73238537e-08,\n",
              "        8.84926810e-01, 2.50633719e-04, 3.67545713e-01, 8.84923907e-01,\n",
              "        4.64121001e-01, 8.71424287e-01, 2.09240394e-11, 1.06149773e-03,\n",
              "        1.05603107e-05, 8.84925928e-01, 4.19166210e-04, 1.02549022e-08,\n",
              "        8.84924405e-01, 2.22755741e-01, 8.84922974e-01, 5.86749572e-08,\n",
              "        8.84925900e-01, 8.25502628e-01, 1.93564960e-01, 6.81469478e-01,\n",
              "        1.55601392e-03, 2.66008491e-01, 8.84923562e-01, 8.84923448e-01,\n",
              "        6.75104447e-01, 8.84924682e-01, 6.54742767e-01, 3.41842537e-15,\n",
              "        9.70150723e-05, 8.84924695e-01, 1.80039493e-04, 8.84925096e-01,\n",
              "        2.05174407e-01, 8.84923997e-01, 5.48087845e-02, 8.84923794e-01,\n",
              "        2.97125563e-02, 8.84924867e-01, 8.84924590e-01, 8.84925375e-01,\n",
              "        8.83202028e-01, 6.35085858e-01]])"
            ]
          },
          "metadata": {
            "tags": []
          },
          "execution_count": 46
        }
      ]
    },
    {
      "cell_type": "code",
      "metadata": {
        "id": "EoN1YmLedsmH",
        "colab_type": "code",
        "colab": {
          "base_uri": "https://localhost:8080/",
          "height": 119
        },
        "outputId": "465bf84e-3840-4ee7-f793-bfa6376218d8"
      },
      "source": [
        "# Ajuste dos shapes\n",
        "y_pred_teste = y_pred_teste.reshape(-1)\n",
        "y_teste = y_teste.reshape(-1)\n",
        "\n",
        "# Conversão das previsões binário)referente a classe)\n",
        "y_pred_teste = 1 * (y_pred_teste > 0.5)\n",
        "\n",
        "# Resultado das previsões em si\n",
        "y_pred_teste"
      ],
      "execution_count": 47,
      "outputs": [
        {
          "output_type": "execute_result",
          "data": {
            "text/plain": [
              "array([1, 0, 1, 1, 0, 1, 1, 1, 1, 1, 1, 1, 1, 1, 1, 1, 1, 1, 1, 0, 0, 0,\n",
              "       1, 1, 0, 0, 0, 1, 1, 0, 1, 1, 0, 0, 1, 0, 1, 1, 0, 1, 1, 1, 1, 1,\n",
              "       1, 1, 1, 1, 1, 0, 0, 0, 0, 1, 1, 1, 1, 1, 0, 1, 1, 1, 1, 1, 1, 0,\n",
              "       1, 1, 0, 1, 0, 0, 1, 0, 0, 1, 0, 1, 0, 0, 0, 1, 0, 0, 1, 0, 1, 0,\n",
              "       1, 1, 0, 1, 0, 0, 1, 1, 1, 1, 1, 0, 0, 1, 0, 1, 0, 1, 0, 1, 0, 1,\n",
              "       1, 1, 1, 1])"
            ]
          },
          "metadata": {
            "tags": []
          },
          "execution_count": 47
        }
      ]
    },
    {
      "cell_type": "code",
      "metadata": {
        "id": "pTAuUS5OdsmJ",
        "colab_type": "code",
        "colab": {
          "base_uri": "https://localhost:8080/",
          "height": 34
        },
        "outputId": "4306a13c-6594-46df-aaa6-a0620ea3e89d"
      },
      "source": [
        "# Acurácia\n",
        "acuraciaFim = sum(1 * (y_pred_teste == y_teste)) / len(y_pred_teste) * 100\n",
        "print(\"Acurácia em dados de Teste: \" + str(acuraciaFim))\n",
        "\n",
        "#Propositalmente um parâmetro foi ajustado para fornecer uma saída relativamente baixa. Faz parte da atividade identificar o(s) parâmetro(s) em questão."
      ],
      "execution_count": 48,
      "outputs": [
        {
          "output_type": "stream",
          "text": [
            "Acurácia em dados de Teste: 95.6140350877193\n"
          ],
          "name": "stdout"
        }
      ]
    },
    {
      "cell_type": "code",
      "metadata": {
        "id": "akdPI_rzdsmM",
        "colab_type": "code",
        "colab": {
          "base_uri": "https://localhost:8080/",
          "height": 170
        },
        "outputId": "8bcae876-f2cf-48c4-eb68-0905e8cfdd84"
      },
      "source": [
        "print(classification_report(y_teste, y_pred_teste, target_names = ['Maligno', 'Benigno']))"
      ],
      "execution_count": 62,
      "outputs": [
        {
          "output_type": "stream",
          "text": [
            "              precision    recall  f1-score   support\n",
            "\n",
            "     Maligno       1.00      0.89      0.94        46\n",
            "     Benigno       0.93      1.00      0.96        68\n",
            "\n",
            "    accuracy                           0.96       114\n",
            "   macro avg       0.97      0.95      0.95       114\n",
            "weighted avg       0.96      0.96      0.96       114\n",
            "\n"
          ],
          "name": "stdout"
        }
      ]
    },
    {
      "cell_type": "code",
      "metadata": {
        "id": "axRzpMdwmbxN",
        "colab_type": "code",
        "colab": {
          "base_uri": "https://localhost:8080/",
          "height": 68
        },
        "outputId": "3c93cfdb-6a0a-4fd0-82f1-97e5fd10f696"
      },
      "source": [
        "print('Matriz de Confusão')\n",
        "print(confusion_matrix(y_teste, y_pred_teste, labels=[0, 1]))"
      ],
      "execution_count": 68,
      "outputs": [
        {
          "output_type": "stream",
          "text": [
            "Matriz de Confusão\n",
            "[[41  5]\n",
            " [ 0 68]]\n"
          ],
          "name": "stdout"
        }
      ]
    },
    {
      "cell_type": "markdown",
      "metadata": {
        "id": "8eiEEWY3dsmO",
        "colab_type": "text"
      },
      "source": [
        "### Atividade extra: Pesquisar o que é Precision, Recall, F1-score, Support"
      ]
    },
    {
      "cell_type": "markdown",
      "metadata": {
        "id": "CfeheVTThaSH",
        "colab_type": "text"
      },
      "source": [
        "**PRECISION**\n",
        "\n",
        "Precision é a razão entre as observações positivas previstas corretamente ( TP ) e o total de observações positivas previstas ( TP + FP ). \n",
        "A alta precisão está relacionada à baixa taxa de falsos positivos.\n",
        "\n",
        "Precision = TP/TP+FP \n",
        "\n",
        "TP => True Positive\n",
        "\n",
        "FP => False Positive"
      ]
    },
    {
      "cell_type": "markdown",
      "metadata": {
        "id": "iRA67FykiJ29",
        "colab_type": "text"
      },
      "source": [
        "**RECALL**\n",
        "\n",
        "Recall é a proporção de observações positivas previstas corretamente e todas as observações na classe real.\n",
        "\n",
        "Recall = TP/TP+FN\n",
        "\n",
        "TP => True Positive\n",
        "\n",
        "FN => False Negative\n"
      ]
    },
    {
      "cell_type": "markdown",
      "metadata": {
        "id": "wUDPJD_QjhGE",
        "colab_type": "text"
      },
      "source": [
        "**F1-score**\n",
        "\n",
        "F1-score é a média ponderada de precisão e recuperação. Portanto, essa pontuação leva em consideração tanto os falsos positivos quanto os falsos negativos. Intuitivamente, não é tão fácil entender como precisão, mas F1 é geralmente mais útil que a precisão ( Accuracy ), especialmente se você tiver uma distribuição de classe desigual. Accuracy funciona melhor se os falsos positivos e falsos negativos tiverem um custo semelhante. Se o custo de falsos positivos e falsos negativos for muito diferente, é melhor olhar para Precision e Recall.\n",
        "\n",
        "F1 Score = 2*(Recall * Precision) / (Recall + Precision)"
      ]
    },
    {
      "cell_type": "markdown",
      "metadata": {
        "id": "cv4klB22lJF7",
        "colab_type": "text"
      },
      "source": [
        "**Support**\n",
        "\n",
        "Support é o número de amostras da resposta verdadeira que estão em cada classe.\n",
        "No exemplo acima temos:\n",
        "\n",
        "Maligno: 46\n",
        "\n",
        "Benigno: 68\n",
        "\n",
        "Total de 114 testes"
      ]
    },
    {
      "cell_type": "code",
      "metadata": {
        "id": "AnLC-AIZpR_B",
        "colab_type": "code",
        "colab": {}
      },
      "source": [
        ""
      ],
      "execution_count": null,
      "outputs": []
    }
  ]
}