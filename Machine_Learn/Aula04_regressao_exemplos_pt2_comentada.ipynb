{
 "cells": [
  {
   "cell_type": "markdown",
   "metadata": {
    "colab_type": "text",
    "id": "D6w2lXzWWMNa"
   },
   "source": [
    "# **Aula 04 - Regressão pt. 2**"
   ]
  },
  {
   "cell_type": "code",
   "execution_count": 215,
   "metadata": {
    "colab": {},
    "colab_type": "code",
    "id": "J-NYUKN7WYgC"
   },
   "outputs": [],
   "source": [
    "import numpy as np\n",
    "import os\n",
    "\n",
    "#Para plotar imagens mais bonitinhas\n",
    "%matplotlib inline\n",
    "import matplotlib as mpl\n",
    "import matplotlib.pyplot as plt\n",
    "mpl.rc('axes', labelsize=14)\n",
    "mpl.rc('xtick', labelsize=12)\n",
    "mpl.rc('ytick', labelsize=12)\n",
    "\n",
    "# Para conseguir reproduzir os mesmos resultados \n",
    "np.random.seed(42)\n",
    "\n",
    "#Caminho definido para salvar as imagens\n",
    "#Mude-o de acordo com o diretório que você deseja salvar suas imagens\n",
    "DIR = \"/Aula04_regressao_pt2/\"\n",
    "\n",
    "#Se a pasta ainda não foi criada, então vamos cria-la\n",
    "if not os.path.isdir(DIR):\n",
    "      os.makedirs(DIR)\n",
    "      print(\"Criando pasta\")\n",
    "\n",
    "#Função para salvar as imagens na pasta\n",
    "def salvar_figura(fig_id, tight_layout=True):\n",
    "    path = os.path.join(DIR, fig_id + \".png\")\n",
    "    print(\"Salvando figura\", fig_id)\n",
    "    if tight_layout:\n",
    "        plt.tight_layout()\n",
    "    plt.savefig(path, format='png', dpi=300)"
   ]
  },
  {
   "cell_type": "markdown",
   "metadata": {
    "colab_type": "text",
    "id": "YeblTPnsWoNs"
   },
   "source": [
    "## **Regressão Linear**\n",
    "\n"
   ]
  },
  {
   "cell_type": "markdown",
   "metadata": {
    "colab_type": "text",
    "id": "6r2EKRnhKoAF"
   },
   "source": [
    "> A Função `rand()` do `numpy` gera valores aleatorios entre 0 e 1. Na célula de códgio abaixo, estamos criando uma matriz 100x1 com valores alteatórios, que ao multiplicarmos por 2, teremos valores entre 0 e 2, mas ainda com uma distribuição uniforme."
   ]
  },
  {
   "cell_type": "code",
   "execution_count": 216,
   "metadata": {
    "colab": {},
    "colab_type": "code",
    "id": "RQbIIS31Iz9I"
   },
   "outputs": [],
   "source": [
    "#Gerar dados sintéticos para X\n",
    "import numpy as np\n",
    "\n",
    "X = 2 * np.random.rand(100,1) \n",
    "y = 4 + 3 * X + np.random.randn(100,1)"
   ]
  },
  {
   "cell_type": "code",
   "execution_count": 217,
   "metadata": {
    "colab": {
     "base_uri": "https://localhost:8080/",
     "height": 314
    },
    "colab_type": "code",
    "id": "4PMYCIACEbEJ",
    "outputId": "8e94df97-0cdd-41ac-b19f-e2b90441bad9"
   },
   "outputs": [
    {
     "name": "stdout",
     "output_type": "stream",
     "text": [
      "Salvando figura generated_data_plot\n"
     ]
    },
    {
     "data": {
      "image/png": "[encoded data removed]",
      "text/plain": [
       "<Figure size 432x288 with 1 Axes>"
      ]
     },
     "metadata": {
      "needs_background": "light"
     },
     "output_type": "display_data"
    }
   ],
   "source": [
    "plt.plot(X, y, \"b.\")\n",
    "plt.xlabel(\"$x_1$\", fontsize=18)\n",
    "plt.ylabel(\"$y$\", rotation=0, fontsize=18)\n",
    "plt.axis([0, 2, 0, 15])\n",
    "salvar_figura(\"generated_data_plot\")\n",
    "plt.show()"
   ]
  },
  {
   "cell_type": "code",
   "execution_count": 218,
   "metadata": {
    "colab": {},
    "colab_type": "code",
    "id": "I8SUa5Z-ErFj"
   },
   "outputs": [
    {
     "data": {
      "text/plain": [
       "array([[4.21509616],\n",
       "       [2.77011339]])"
      ]
     },
     "execution_count": 218,
     "metadata": {},
     "output_type": "execute_result"
    }
   ],
   "source": [
    "#Regressão Linear com Equação Normal\n",
    "X_b = np.c_[np.ones((100, 1)), X]  # add x0 = 1 para cada instância.\n",
    "#Lembrando que isso é necessário para fazer a Equação Normal na forma vetorial\n",
    "theta_best = np.linalg.inv(X_b.T.dot(X_b)).dot(X_b.T).dot(y)\n",
    "theta_best #array com os pesos encontrados pela equação normal"
   ]
  },
  {
   "cell_type": "code",
   "execution_count": 219,
   "metadata": {
    "colab": {
     "base_uri": "https://localhost:8080/",
     "height": 51
    },
    "colab_type": "code",
    "id": "BsEwQ7bVhBOL",
    "outputId": "bda1c6ba-2a0c-4691-816b-f1ac88e49763"
   },
   "outputs": [
    {
     "data": {
      "text/plain": [
       "array([[4.21509616],\n",
       "       [9.75532293]])"
      ]
     },
     "execution_count": 219,
     "metadata": {},
     "output_type": "execute_result"
    }
   ],
   "source": [
    "#Buscando as predições para esses dois valores de x\n",
    "X_new_b = np.array([[1,0], [1,2]])\n",
    "\n",
    "#Para obter a predição da regressão linear, basta multiplicar o array com os dados com o array dos pesos\n",
    "y_pred = X_new_b.dot(theta_best)\n",
    "y_pred "
   ]
  },
  {
   "cell_type": "code",
   "execution_count": 220,
   "metadata": {
    "colab": {
     "base_uri": "https://localhost:8080/",
     "height": 314
    },
    "colab_type": "code",
    "id": "U_rG351DFE8U",
    "outputId": "f524fef7-4144-4b8c-bf00-1075b0f48bb7"
   },
   "outputs": [
    {
     "name": "stdout",
     "output_type": "stream",
     "text": [
      "Salvando figura linear_model_predictions\n"
     ]
    },
    {
     "data": {
      "image/png": "[encoded data removed]",
      "text/plain": [
       "<Figure size 432x288 with 1 Axes>"
      ]
     },
     "metadata": {
      "needs_background": "light"
     },
     "output_type": "display_data"
    }
   ],
   "source": [
    "#Plotando os dados com a reta através da Regressão Linear.\n",
    "# X_new_b[:,1] --> pegando todas as linhas de X_new_b, mas apenas a 2 segunda coluna, ou seja, a coluna de indice 1\n",
    "plt.plot(X_new_b[:,1], y_pred, \"r-\", linewidth=2, label=\"Predições\")\n",
    "plt.plot(X, y, \"b.\")\n",
    "plt.xlabel(\"$x_1$\", fontsize=18)\n",
    "plt.ylabel(\"$y$\", rotation=0, fontsize=18)\n",
    "plt.legend(loc=\"upper left\", fontsize=14)\n",
    "plt.axis([0, 2, 0, 15])\n",
    "salvar_figura(\"linear_model_predictions\")\n",
    "plt.show()"
   ]
  },
  {
   "cell_type": "markdown",
   "metadata": {
    "colab_type": "text",
    "id": "49gHexj19WvS"
   },
   "source": [
    "### **Gradiente Descendente para Regressão Linear**\n",
    "> Cada iteração do Gradiente Descendente na vetorial: $$\n",
    "\\theta^{(proximo)} = \\theta - \\alpha \\frac{2}{n}\\bf{X}^T \\cdot (\\bf{X} \\cdot \\theta - \\bf{y})\n",
    "$$"
   ]
  },
  {
   "cell_type": "code",
   "execution_count": 221,
   "metadata": {},
   "outputs": [
    {
     "data": {
      "text/plain": [
       "(100, 1)"
      ]
     },
     "execution_count": 221,
     "metadata": {},
     "output_type": "execute_result"
    }
   ],
   "source": [
    "#Saber o formato de um array.\n",
    "#Este retorna uma tupla onde o primeiro elemento é o número de linhas e o segundo o numero de colunas\n",
    "X.shape "
   ]
  },
  {
   "cell_type": "code",
   "execution_count": 222,
   "metadata": {
    "colab": {
     "base_uri": "https://localhost:8080/",
     "height": 1000
    },
    "colab_type": "code",
    "id": "x5DQxpZJ2WNK",
    "outputId": "571e4122-7a61-4a29-cfc7-03b293597dc0"
   },
   "outputs": [
    {
     "name": "stdout",
     "output_type": "stream",
     "text": [
      " Iteração:  0\n",
      "theta0: 1.1010328403533507 - theta1: 2.568958101964256 --> MSE: 11.732040954499762\n",
      "=====================================\n",
      " Iteração:  100\n",
      "theta0: 4.162879942025337 - theta1: 2.8162174665401207 --> MSE: 0.8074080264625033\n",
      "=====================================\n",
      " Iteração:  200\n",
      "theta0: 4.213443783921037 - theta1: 2.771572342535492 --> MSE: 0.8065853885788592\n",
      "=====================================\n",
      " Iteração:  300\n",
      "theta0: 4.215043868452802 - theta1: 2.7701595548662734 --> MSE: 0.8065845647928161\n",
      "=====================================\n",
      " Iteração:  400\n",
      "theta0: 4.215094502866896 - theta1: 2.7701148474308535 --> MSE: 0.8065845639678804\n",
      "=====================================\n",
      " Iteração:  500\n",
      "theta0: 4.215096105184674 - theta1: 2.7701134326713492 --> MSE: 0.8065845639670541\n",
      "=====================================\n",
      " Iteração:  600\n",
      "theta0: 4.215096155889759 - theta1: 2.7701133879015156 --> MSE: 0.8065845639670535\n",
      "=====================================\n",
      " Iteração:  700\n",
      "theta0: 4.215096157494313 - theta1: 2.7701133864847813 --> MSE: 0.8065845639670534\n",
      "=====================================\n",
      " Iteração:  800\n",
      "theta0: 4.21509615754509 - theta1: 2.7701133864399483 --> MSE: 0.8065845639670531\n",
      "=====================================\n",
      " Iteração:  900\n",
      "theta0: 4.215096157546695 - theta1: 2.770113386438531 --> MSE: 0.8065845639670534\n",
      "=====================================\n",
      " Iteração:  1000\n",
      "theta0: 4.215096157546739 - theta1: 2.7701133864384917 --> MSE: 0.806584563967053\n",
      "=====================================\n",
      " Iteração:  1100\n",
      "theta0: 4.215096157546739 - theta1: 2.7701133864384917 --> MSE: 0.806584563967053\n",
      "=====================================\n",
      " Iteração:  1200\n",
      "theta0: 4.215096157546739 - theta1: 2.7701133864384917 --> MSE: 0.806584563967053\n",
      "=====================================\n",
      " Iteração:  1300\n",
      "theta0: 4.215096157546739 - theta1: 2.7701133864384917 --> MSE: 0.806584563967053\n",
      "=====================================\n",
      " Iteração:  1400\n",
      "theta0: 4.215096157546739 - theta1: 2.7701133864384917 --> MSE: 0.806584563967053\n",
      "=====================================\n",
      " Iteração:  1500\n",
      "theta0: 4.215096157546739 - theta1: 2.7701133864384917 --> MSE: 0.806584563967053\n",
      "=====================================\n",
      " Iteração:  1600\n",
      "theta0: 4.215096157546739 - theta1: 2.7701133864384917 --> MSE: 0.806584563967053\n",
      "=====================================\n",
      " Iteração:  1700\n",
      "theta0: 4.215096157546739 - theta1: 2.7701133864384917 --> MSE: 0.806584563967053\n",
      "=====================================\n",
      " Iteração:  1800\n",
      "theta0: 4.215096157546739 - theta1: 2.7701133864384917 --> MSE: 0.806584563967053\n",
      "=====================================\n",
      " Iteração:  1900\n",
      "theta0: 4.215096157546739 - theta1: 2.7701133864384917 --> MSE: 0.806584563967053\n",
      "=====================================\n"
     ]
    }
   ],
   "source": [
    "from sklearn.metrics import mean_squared_error\n",
    "\n",
    "alpha = 0.1 #taxa de aprendizado\n",
    "iteracoes = 2000 # número de iterações até parar.\n",
    "theta = np.random.randn(2,1) #Theta inicial (aleatorio)\n",
    "\n",
    "for i in range(iteracoes):\n",
    "  gradients = 2/X.shape[0] * X_b.T.dot(X_b.dot(theta) - y) #Calculando a derivada parcial da função de erro\n",
    "  theta = theta - alpha * gradients #calculando o restante da operação e atualizando os pesos (theta)\n",
    "  if i % 100 == 0: #a cada 100 iterações, mostrar o valor dos thetas e o erro.\n",
    "    y_pred = X_b.dot(theta)\n",
    "    print(\" Iteração: \", i)\n",
    "    print(f\"theta0: {theta[0,0]} - theta1: {theta[1,0]} --> MSE: {mean_squared_error(y[:,0],y_pred[:,0])}\") \n",
    "    print(\"=====================================\")"
   ]
  },
  {
   "cell_type": "code",
   "execution_count": 223,
   "metadata": {},
   "outputs": [
    {
     "data": {
      "text/plain": [
       "array([[4.21509616],\n",
       "       [2.77011339]])"
      ]
     },
     "execution_count": 223,
     "metadata": {},
     "output_type": "execute_result"
    }
   ],
   "source": [
    "theta_gd = theta\n",
    "theta_gd"
   ]
  },
  {
   "cell_type": "code",
   "execution_count": 224,
   "metadata": {},
   "outputs": [],
   "source": [
    "theta_equacao_normal = theta_best"
   ]
  },
  {
   "cell_type": "code",
   "execution_count": 225,
   "metadata": {},
   "outputs": [
    {
     "data": {
      "text/plain": [
       "array([[4.21509616],\n",
       "       [2.77011339]])"
      ]
     },
     "execution_count": 225,
     "metadata": {},
     "output_type": "execute_result"
    }
   ],
   "source": [
    "theta_equacao_normal"
   ]
  },
  {
   "cell_type": "markdown",
   "metadata": {
    "colab_type": "text",
    "id": "K_6_KDbswzZ4"
   },
   "source": [
    "**Gradiente Descendente com diferentes taxas de aprendizado**"
   ]
  },
  {
   "cell_type": "code",
   "execution_count": 226,
   "metadata": {
    "colab": {},
    "colab_type": "code",
    "id": "hCCUA_qTHU0K"
   },
   "outputs": [],
   "source": [
    "def plot_gradient_descent(theta, alpha, lista_thetas=None):\n",
    "    m = len(X_b)\n",
    "    plt.plot(X, y, \"b.\")\n",
    "    n_iterations = 1000\n",
    "    for iteration in range(n_iterations):\n",
    "        if iteration < 10:\n",
    "            y_predict = X_new_b.dot(theta)\n",
    "            style = \"b-\" if iteration > 0 else \"r--\"\n",
    "            plt.plot(X_new_b[:,1], y_predict, style)\n",
    "        gradients = 2/m * X_b.T.dot(X_b.dot(theta) - y)\n",
    "        theta = theta - alpha * gradients\n",
    "        if lista_thetas is not None:\n",
    "            lista_thetas.append(theta)\n",
    "    plt.xlabel(\"$x_1$\", fontsize=18)\n",
    "    plt.axis([0, 2, 0, 15])\n",
    "    plt.title(r\"$\\alpha = {}$\".format(alpha), fontsize=16)"
   ]
  },
  {
   "cell_type": "code",
   "execution_count": 227,
   "metadata": {
    "colab": {
     "base_uri": "https://localhost:8080/",
     "height": 314
    },
    "colab_type": "code",
    "id": "2oYR7IgNwzZx",
    "outputId": "ce893843-586c-47cb-dacb-396993b5b1e3"
   },
   "outputs": [
    {
     "name": "stdout",
     "output_type": "stream",
     "text": [
      "Salvando figura gradient_descent_plot_diferentes_alfas\n"
     ]
    },
    {
     "data": {
      "image/png": "[encoded data removed]",
      "text/plain": [
       "<Figure size 720x288 with 3 Axes>"
      ]
     },
     "metadata": {
      "needs_background": "light"
     },
     "output_type": "display_data"
    }
   ],
   "source": [
    "np.random.seed(42)\n",
    "theta = np.random.randn(2,1)  # inicialização aleatória\n",
    "\n",
    "lista_thetas_bgd = [] #Armazena as predições dos BGDs com diferentes alpha\n",
    "\n",
    "plt.figure(figsize=(10,4))\n",
    "plt.subplot(131)\n",
    "plot_gradient_descent(theta, alpha=0.02)\n",
    "plt.ylabel(\"$y$\", rotation=0, fontsize=18)\n",
    "plt.subplot(132)\n",
    "plot_gradient_descent(theta, alpha=0.1, lista_thetas=lista_thetas_bgd)\n",
    "plt.subplot(133)\n",
    "plot_gradient_descent(theta, alpha=0.5)\n",
    "\n",
    "salvar_figura(\"gradient_descent_plot_diferentes_alfas\")\n",
    "plt.show()"
   ]
  },
  {
   "cell_type": "markdown",
   "metadata": {
    "colab_type": "text",
    "id": "BAQOSCYnwzZv"
   },
   "source": [
    "### **Stochastic Gradient Descent (SGD)**"
   ]
  },
  {
   "cell_type": "code",
   "execution_count": 228,
   "metadata": {},
   "outputs": [
    {
     "data": {
      "text/plain": [
       "100"
      ]
     },
     "execution_count": 228,
     "metadata": {},
     "output_type": "execute_result"
    }
   ],
   "source": [
    "#Função retorna o tamanho (número de itens) de um objeto.\n",
    "#Nesse caso, o número de elementos no array.\n",
    "len(X_b) "
   ]
  },
  {
   "cell_type": "code",
   "execution_count": 229,
   "metadata": {
    "colab": {},
    "colab_type": "code",
    "id": "-42urkeTwzZZ"
   },
   "outputs": [],
   "source": [
    "X_new = X_new_b[:,1] #pegando somente os dados de X_new_b, ou seja, exceto a coluna de 1's\n",
    "lista_thetas_sgd = [] #armazena-ra a lista de thetas do algoritmo SGD\n",
    "n = len(X_b) \n",
    "np.random.seed(42)"
   ]
  },
  {
   "cell_type": "code",
   "execution_count": 230,
   "metadata": {
    "colab": {
     "base_uri": "https://localhost:8080/",
     "height": 290
    },
    "colab_type": "code",
    "id": "vBtwzDwNwzZQ",
    "outputId": "f5ceb6e9-0c68-41ff-d883-a9671746b3f6"
   },
   "outputs": [
    {
     "name": "stdout",
     "output_type": "stream",
     "text": [
      "Salvando figura sgd_plot\n"
     ]
    },
    {
     "data": {
      "image/png": "[encoded data removed]",
      "text/plain": [
       "<Figure size 432x288 with 1 Axes>"
      ]
     },
     "metadata": {
      "needs_background": "light"
     },
     "output_type": "display_data"
    }
   ],
   "source": [
    "#Algoritmo SGD\n",
    "n_epocas = 20 \n",
    "\n",
    "# hiperparâmetros - constante1 (t0) e constante2 (t1)\n",
    "t0, t1 = 5, 50 \n",
    "\n",
    "# Heurisitica usada para diminuir gradativamente o alpha (taxa de aprendizado)\n",
    "def diminuir_taxaAprendizado(t):\n",
    "    return t0 / (t + t1)\n",
    "\n",
    "# escolhendo os thetas iniciais aleatoriamente.\n",
    "theta = np.random.randn(2,1)\n",
    "\n",
    "for epoca in range(n_epocas):\n",
    "    for i in range(n):\n",
    "        #plotar as 20 primeiras iterações do SGD\n",
    "        if epoca == 0 and epoca < 20:\n",
    "            y_pred = X_new_b.dot(theta)\n",
    "            style = \"b-\" if i > 0 else \"r--\"\n",
    "            plt.plot(X_new, y_pred, style)\n",
    "        \n",
    "        #Seleciona aleatoriamente a instância dos dados que será usada para resolver o SGD\n",
    "        random_index = np.random.randint(n)\n",
    "        xi = X_b[random_index:random_index+1]\n",
    "        yi = y[random_index:random_index+1]\n",
    "        #Predição do theta encontrado\n",
    "        yi_pred = xi.dot(theta)\n",
    "        #resolução da derivada do custo\n",
    "        gradients = 2 * xi.T.dot(yi_pred - yi) \n",
    "        \n",
    "        #Heuristica para diminuir o valor de alpha ao longo das iterações\n",
    "        t = epoca * n + 1\n",
    "        alpha = diminuir_taxaAprendizado(t)\n",
    "        \n",
    "        #Atualização dos thetas\n",
    "        theta = theta - alpha * gradients\n",
    "        \n",
    "        #Adiciona o theta em uma lista para comparação posterior\n",
    "        lista_thetas_sgd.append(theta)\n",
    "        \n",
    "#Plota        \n",
    "plt.plot(X,y,\"b.\")\n",
    "plt.xlabel(\"$X_1$\", fontsize = 18)\n",
    "plt.ylabel(\"y\", fontsize = 18, rotation = 0)\n",
    "plt.axis([0,2,0,15])\n",
    "salvar_figura(\"sgd_plot\")\n",
    "plt.show()\n",
    "            \n",
    "            \n",
    "\n",
    "                                         "
   ]
  },
  {
   "cell_type": "markdown",
   "metadata": {
    "colab_type": "text",
    "id": "zxj1sC9AwzZO"
   },
   "source": [
    "> ***Observação:*** \n",
    "  - Por convenção, fazemos rodadas de `n` iteração; cada rodada é chamada de `epoca`. \n",
    "  - Enquanto no BGD executamos 1000 rodadas no código usando todo o dataset, com SGD conseguimos bons resultados apenas com 50 dessas rodadas."
   ]
  },
  {
   "cell_type": "code",
   "execution_count": 231,
   "metadata": {},
   "outputs": [],
   "source": [
    "theta_sgd = theta"
   ]
  },
  {
   "cell_type": "code",
   "execution_count": 232,
   "metadata": {},
   "outputs": [
    {
     "data": {
      "text/plain": [
       "array([[4.17783723],\n",
       "       [2.77718628]])"
      ]
     },
     "execution_count": 232,
     "metadata": {},
     "output_type": "execute_result"
    }
   ],
   "source": [
    "theta_sgd #Melhor theta encontrado pelo SGD"
   ]
  },
  {
   "cell_type": "code",
   "execution_count": 233,
   "metadata": {},
   "outputs": [
    {
     "data": {
      "text/plain": [
       "array([[4.21509616],\n",
       "       [2.77011339]])"
      ]
     },
     "execution_count": 233,
     "metadata": {},
     "output_type": "execute_result"
    }
   ],
   "source": [
    "theta_equacao_normal #Melhor theta encontrado pelo SGD"
   ]
  },
  {
   "cell_type": "code",
   "execution_count": 234,
   "metadata": {},
   "outputs": [
    {
     "data": {
      "text/plain": [
       "array([[4.21509616],\n",
       "       [2.77011339]])"
      ]
     },
     "execution_count": 234,
     "metadata": {},
     "output_type": "execute_result"
    }
   ],
   "source": [
    "theta_gd ##Melhor theta encontrado pelo BGD"
   ]
  },
  {
   "cell_type": "markdown",
   "metadata": {},
   "source": [
    "#### **SGD com Sci-kit Learn**"
   ]
  },
  {
   "cell_type": "code",
   "execution_count": 235,
   "metadata": {
    "colab": {
     "base_uri": "https://localhost:8080/",
     "height": 119
    },
    "colab_type": "code",
    "id": "OhynsirgwzXO",
    "outputId": "cf67987a-2e33-414a-ecbb-9c836c3e5f6f"
   },
   "outputs": [],
   "source": [
    "#Usando SGD no sci-kit learn\n",
    "from sklearn.linear_model import SGDRegressor"
   ]
  },
  {
   "cell_type": "code",
   "execution_count": 236,
   "metadata": {},
   "outputs": [
    {
     "data": {
      "text/plain": [
       "array([6.33428778, 9.40527849, 8.48372443, 5.60438199, 4.71643995])"
      ]
     },
     "execution_count": 236,
     "metadata": {},
     "output_type": "execute_result"
    }
   ],
   "source": [
    "#Retorna um array 1D\n",
    "y[:5].ravel() "
   ]
  },
  {
   "cell_type": "code",
   "execution_count": 237,
   "metadata": {},
   "outputs": [
    {
     "data": {
      "text/plain": [
       "SGDRegressor(alpha=0.0001, average=False, early_stopping=False, epsilon=0.1,\n",
       "             eta0=0.1, fit_intercept=True, l1_ratio=0.15,\n",
       "             learning_rate='invscaling', loss='squared_loss', max_iter=50,\n",
       "             n_iter_no_change=5, penalty=None, power_t=0.25, random_state=42,\n",
       "             shuffle=True, tol=-inf, validation_fraction=0.1, verbose=0,\n",
       "             warm_start=False)"
      ]
     },
     "execution_count": 237,
     "metadata": {},
     "output_type": "execute_result"
    }
   ],
   "source": [
    "sgd_lin_reg = SGDRegressor(max_iter=50, tol=-np.infty, penalty=None, eta0=0.1, random_state=42)\n",
    "sgd_lin_reg.fit(X, y.ravel())"
   ]
  },
  {
   "cell_type": "code",
   "execution_count": 238,
   "metadata": {
    "colab": {
     "base_uri": "https://localhost:8080/",
     "height": 34
    },
    "colab_type": "code",
    "id": "3dKBTJsfG_sX",
    "outputId": "9b060a43-9ed5-4cc0-a6bf-e56901160a9a"
   },
   "outputs": [
    {
     "data": {
      "text/plain": [
       "(array([4.16782089]), array([2.72603052]))"
      ]
     },
     "execution_count": 238,
     "metadata": {},
     "output_type": "execute_result"
    }
   ],
   "source": [
    "#Thethas sci-kit learn\n",
    "# theta0 = intercept e theta1 em diante = coef_\n",
    "sgd_lin_reg.intercept_, sgd_lin_reg.coef_"
   ]
  },
  {
   "cell_type": "markdown",
   "metadata": {
    "colab_type": "text",
    "id": "xucFMmVv6rmb"
   },
   "source": [
    "### **Mini-Batch Gradient Descent (miniBGD)**"
   ]
  },
  {
   "cell_type": "code",
   "execution_count": 239,
   "metadata": {
    "colab": {},
    "colab_type": "code",
    "id": "oZ3b6w5lG_sj"
   },
   "outputs": [],
   "source": [
    "#Armazenar os thetas das iterações do algoritmo\n",
    "lista_thetas_mgd = [] \n",
    "np.random.seed(42)\n",
    "\n",
    "n_iteracoes = 50\n",
    "tam_minibatch = 20\n",
    "\n",
    "#defindo theta aleatorio\n",
    "theta = np.random.randn(2,1) \n",
    "\n",
    "#Parametros heuristica\n",
    "t0, t1 = 200, 1000\n",
    "t = 0;\n",
    "def diminuir_taxaAprendizado(t):\n",
    "    return t0 / (t + t1)\n",
    "\n",
    "for i in range(n_iteracoes):\n",
    "    #mistura a ordem das instâncias do dataset\n",
    "    indices_misturados = np.random.permutation(n)\n",
    "    X_b_misturados = X_b[indices_misturados]\n",
    "    y_misturados = y[indices_misturados]\n",
    "    \n",
    "    for j in range(0, n, tam_minibatch):\n",
    "        t += 1\n",
    "        #Pega a quantidade de instâncias estipulada pelo parametro tam_minibatch par resolver o algoritmo\n",
    "        xi = X_b_misturados[j:j+tam_minibatch]\n",
    "        yi = y_misturados[j:j+tam_minibatch]\n",
    "        yi_pred = xi.dot(theta)\n",
    "        \n",
    "        #Resolve a derivada do custo\n",
    "        gradientes = 2/tam_minibatch * xi.T.dot(yi_pred - yi)\n",
    "        \n",
    "        #heuristica para diminuir alpha\n",
    "        alpha = diminuir_taxaAprendizado(t)\n",
    "        \n",
    "        #atualiza os thetas\n",
    "        theta = theta - alpha * gradientes\n",
    "        \n",
    "        #armazena na lista\n",
    "        lista_thetas_mgd.append(theta)\n",
    "        "
   ]
  },
  {
   "cell_type": "code",
   "execution_count": 240,
   "metadata": {
    "colab": {
     "base_uri": "https://localhost:8080/",
     "height": 51
    },
    "colab_type": "code",
    "id": "FC7riAK0G_sp",
    "outputId": "cfa95cae-353a-4398-aeaa-3e5f8c32b515"
   },
   "outputs": [
    {
     "data": {
      "text/plain": [
       "(array([[4.25214635],\n",
       "        [2.7896408 ]]),\n",
       " array([[4.17783723],\n",
       "        [2.77718628]]),\n",
       " array([[4.21509616],\n",
       "        [2.77011339]]),\n",
       " array([[4.21509616],\n",
       "        [2.77011339]]))"
      ]
     },
     "execution_count": 240,
     "metadata": {},
     "output_type": "execute_result"
    }
   ],
   "source": [
    "theta, theta_sgd, theta_best, theta_gd"
   ]
  },
  {
   "cell_type": "markdown",
   "metadata": {
    "colab_type": "text",
    "id": "8qKt_spH8_po"
   },
   "source": [
    "### **Comparação GDs**"
   ]
  },
  {
   "cell_type": "code",
   "execution_count": 241,
   "metadata": {
    "colab": {},
    "colab_type": "code",
    "id": "pNDSAItEG_sv"
   },
   "outputs": [],
   "source": [
    "#Juntando os resultados dos thetas em arrays numpy para plotar a comparação\n",
    "lista_thetas_mgd = np.array(lista_thetas_mgd)\n",
    "lista_thetas_sgd = np.array(lista_thetas_sgd)\n",
    "lista_thetas_bgd = np.array(lista_thetas_bgd)"
   ]
  },
  {
   "cell_type": "code",
   "execution_count": 242,
   "metadata": {},
   "outputs": [
    {
     "data": {
      "text/plain": [
       "2000"
      ]
     },
     "execution_count": 242,
     "metadata": {},
     "output_type": "execute_result"
    }
   ],
   "source": [
    "len(lista_thetas_sgd)"
   ]
  },
  {
   "cell_type": "code",
   "execution_count": 243,
   "metadata": {
    "colab": {
     "base_uri": "https://localhost:8080/",
     "height": 314
    },
    "colab_type": "code",
    "id": "dAeHm26MG_s0",
    "outputId": "fa4b85cf-f323-49be-df04-316e67cc540f"
   },
   "outputs": [
    {
     "name": "stdout",
     "output_type": "stream",
     "text": [
      "Salvando figura plot_comparacao_GDs\n"
     ]
    },
    {
     "data": {
      "image/png": "[encoded data removed]",
      "text/plain": [
       "<Figure size 504x288 with 1 Axes>"
      ]
     },
     "metadata": {
      "needs_background": "light"
     },
     "output_type": "display_data"
    }
   ],
   "source": [
    "#plotando comparação\n",
    "plt.figure(figsize=(7,4))\n",
    "\n",
    "plt.plot(lista_thetas_sgd[:, 0], lista_thetas_sgd[:, 1], \"r-s\", linewidth=1, label=\"Stochastic\")\n",
    "plt.plot(lista_thetas_mgd[:, 0], lista_thetas_mgd[:, 1], \"g-+\", linewidth=2, label=\"Mini-batch\")\n",
    "plt.plot(lista_thetas_bgd[:, 0], lista_thetas_bgd[:, 1], \"b-o\", linewidth=3, label=\"Batch\")\n",
    "\n",
    "plt.legend(loc=\"upper left\", fontsize=16)\n",
    "plt.xlabel(r\"$\\theta_0$\", fontsize=20)\n",
    "plt.ylabel(r\"$\\theta_1$   \", fontsize=20, rotation=0)\n",
    "plt.axis([2.5, 4.5, 2.3, 3.9])\n",
    "salvar_figura(\"plot_comparacao_GDs\")\n",
    "plt.show()"
   ]
  },
  {
   "cell_type": "markdown",
   "metadata": {
    "colab_type": "text",
    "id": "v9mgb-0RMa5t"
   },
   "source": [
    "## **Regressão Polinomial** ##\n",
    "\n",
    "> Primeiro, vamos gerar alguns dados não lineares, com base em uma equação quadrática simples ($y = ax^2 + bx + c$)."
   ]
  },
  {
   "cell_type": "code",
   "execution_count": 244,
   "metadata": {
    "colab": {},
    "colab_type": "code",
    "id": "UUmWTdl0Me9R"
   },
   "outputs": [],
   "source": [
    "#Gerando dados de acordo com um função quadrática\n",
    "n = 100;\n",
    "X = 6 * np.random.rand(n, 1) - 3\n",
    "y = 0.5 * X**2 + X + 2 + np.random.randn(n,1)"
   ]
  },
  {
   "cell_type": "code",
   "execution_count": 245,
   "metadata": {
    "colab": {
     "base_uri": "https://localhost:8080/",
     "height": 314
    },
    "colab_type": "code",
    "id": "tGcsgc5ISswL",
    "outputId": "01b851f3-c83a-4a82-8cac-dc03610d6c28"
   },
   "outputs": [
    {
     "name": "stdout",
     "output_type": "stream",
     "text": [
      "Salvando figura dados_dist_funcao_quadratica\n"
     ]
    },
    {
     "data": {
      "image/png": "[encoded data removed]",
      "text/plain": [
       "<Figure size 432x288 with 1 Axes>"
      ]
     },
     "metadata": {
      "needs_background": "light"
     },
     "output_type": "display_data"
    }
   ],
   "source": [
    "#Plotar dados\n",
    "plt.plot(X,y, \"b.\")\n",
    "plt.xlabel(\"$x_1$\", fontsize=18)\n",
    "plt.ylabel(\"y\", fontsize=18)\n",
    "plt.axis([-3,3,0,10])\n",
    "salvar_figura(\"dados_dist_funcao_quadratica\")\n",
    "plt.show()"
   ]
  },
  {
   "cell_type": "markdown",
   "metadata": {
    "colab_type": "text",
    "id": "KKB1fCySUA8T"
   },
   "source": [
    "> Uma linha reta não seria adequada para esse tipo de distribuição.\n",
    "> Vamos usar a função do Scikit-Learn `PolynomialFeatures` para adicionar graus polinomiais a nossos atributos.\n",
    "> - nesse caso 2ª grau, ou seja, elevar o atributo $x_1$ ao quadrado e adicioná-lo como uma novo atributo $x_2 = x_1^2$"
   ]
  },
  {
   "cell_type": "code",
   "execution_count": 246,
   "metadata": {
    "colab": {},
    "colab_type": "code",
    "id": "BLvSVEKgSxTQ"
   },
   "outputs": [],
   "source": [
    "#importando a classe para fazer a transformação do dataset\n",
    "from sklearn.preprocessing import PolynomialFeatures"
   ]
  },
  {
   "cell_type": "code",
   "execution_count": 247,
   "metadata": {},
   "outputs": [
    {
     "name": "stdout",
     "output_type": "stream",
     "text": [
      "Object `PolynomialFeatures #abre a documentação da classe` not found.\n"
     ]
    }
   ],
   "source": [
    "?PolynomialFeatures #abre a documentação da classe"
   ]
  },
  {
   "cell_type": "code",
   "execution_count": 248,
   "metadata": {
    "colab": {},
    "colab_type": "code",
    "id": "Hf7aQGoTVBw9"
   },
   "outputs": [],
   "source": [
    "#pegando os atributos polinomiais\n",
    "# parametro degree para escolher o grau polinomial\n",
    "# include_bias = True adiciona a coluna de 1's para representar o x0\n",
    "poly_atributos = PolynomialFeatures(degree=2, include_bias = False)"
   ]
  },
  {
   "cell_type": "code",
   "execution_count": 249,
   "metadata": {
    "colab": {
     "base_uri": "https://localhost:8080/",
     "height": 51
    },
    "colab_type": "code",
    "id": "3N8oRb9TVPZo",
    "outputId": "549cb7ce-defd-40de-a0e6-cfb534fb2d87"
   },
   "outputs": [
    {
     "data": {
      "text/plain": [
       "array([[ 2.38942838],\n",
       "       [ 1.66081999],\n",
       "       [-2.54112027],\n",
       "       [ 2.92037461],\n",
       "       [-1.37180422]])"
      ]
     },
     "execution_count": 249,
     "metadata": {},
     "output_type": "execute_result"
    }
   ],
   "source": [
    "#Transformando o dataset adicionando os novos atributos com grau polinomial\n",
    "X_poly = poly_atributos.fit_transform(X) \n",
    "X[:5] #original dataset"
   ]
  },
  {
   "cell_type": "code",
   "execution_count": 250,
   "metadata": {},
   "outputs": [
    {
     "data": {
      "text/plain": [
       "array([[ 2.38942838,  5.709368  ],\n",
       "       [ 1.66081999,  2.75832305],\n",
       "       [-2.54112027,  6.45729221],\n",
       "       [ 2.92037461,  8.52858786],\n",
       "       [-1.37180422,  1.88184681]])"
      ]
     },
     "execution_count": 250,
     "metadata": {},
     "output_type": "execute_result"
    }
   ],
   "source": [
    "X_poly[:5] #transformado dataset"
   ]
  },
  {
   "cell_type": "markdown",
   "metadata": {
    "colab_type": "text",
    "id": "IM1ZMxwnVrg6"
   },
   "source": [
    "> `X_poly` agora contém o atributo original mais o quadrado desse atributo.\n",
    "> Agora podemos treinar um modelo de regressão linear com esses novos dados"
   ]
  },
  {
   "cell_type": "code",
   "execution_count": 251,
   "metadata": {
    "colab": {
     "base_uri": "https://localhost:8080/",
     "height": 68
    },
    "colab_type": "code",
    "id": "V-G0D3bWVk8Q",
    "outputId": "d839cb81-3f2f-4166-a63b-884945545bdf"
   },
   "outputs": [],
   "source": [
    "from sklearn.linear_model import LinearRegression\n",
    "lin_reg_poly = LinearRegression()"
   ]
  },
  {
   "cell_type": "code",
   "execution_count": 252,
   "metadata": {
    "colab": {
     "base_uri": "https://localhost:8080/",
     "height": 314
    },
    "colab_type": "code",
    "id": "vXCsgaZvWdpV",
    "outputId": "a4308306-8623-481e-aa54-20a8556b81c6"
   },
   "outputs": [
    {
     "data": {
      "text/plain": [
       "LinearRegression(copy_X=True, fit_intercept=True, n_jobs=None, normalize=False)"
      ]
     },
     "execution_count": 252,
     "metadata": {},
     "output_type": "execute_result"
    }
   ],
   "source": [
    "lin_reg_poly.fit(X_poly, y)"
   ]
  },
  {
   "cell_type": "code",
   "execution_count": 253,
   "metadata": {
    "colab": {},
    "colab_type": "code",
    "id": "uUWK9AnxXGP-"
   },
   "outputs": [
    {
     "data": {
      "text/plain": [
       "(array([1.9735233]), array([[0.95038538, 0.52577032]]))"
      ]
     },
     "execution_count": 253,
     "metadata": {},
     "output_type": "execute_result"
    }
   ],
   "source": [
    "#Valores de theta\n",
    "lin_reg_poly.intercept_, lin_reg_poly.coef_"
   ]
  },
  {
   "cell_type": "code",
   "execution_count": 254,
   "metadata": {
    "colab": {},
    "colab_type": "code",
    "id": "GtAPNLNEd2Cg"
   },
   "outputs": [
    {
     "name": "stdout",
     "output_type": "stream",
     "text": [
      "a:0.5257703217604497 \n",
      "b:0.9503853846016609 \n",
      "c:1.973523304949662\n"
     ]
    }
   ],
   "source": [
    "#Como se fossem os valores de uma função do 2ª grau\n",
    "print(f\"a:{lin_reg_poly.coef_[0,1]} \\nb:{lin_reg_poly.coef_[0,0]} \\nc:{lin_reg_poly.intercept_[0]}\")"
   ]
  },
  {
   "cell_type": "markdown",
   "metadata": {},
   "source": [
    "A função `linspace()` Retorna números espaçados uniformemente em um intervalo especificado. No caso abaixo, vamos ter 100 número entre -3 e 3."
   ]
  },
  {
   "cell_type": "code",
   "execution_count": 255,
   "metadata": {},
   "outputs": [
    {
     "ename": "ValueError",
     "evalue": "Expected 2D array, got 1D array instead:\narray=[0. 2.].\nReshape your data either using array.reshape(-1, 1) if your data has a single feature or array.reshape(1, -1) if it contains a single sample.",
     "output_type": "error",
     "traceback": [
      "\u001b[1;31m---------------------------------------------------------------------------\u001b[0m",
      "\u001b[1;31mValueError\u001b[0m                                Traceback (most recent call last)",
      "\u001b[1;32m<ipython-input-255-394ba96a0859>\u001b[0m in \u001b[0;36m<module>\u001b[1;34m\u001b[0m\n\u001b[0;32m      1\u001b[0m \u001b[1;31m# X_new = np.linspace(-3, 3, 100).reshape(100,1)\u001b[0m\u001b[1;33m\u001b[0m\u001b[1;33m\u001b[0m\u001b[1;33m\u001b[0m\u001b[0m\n\u001b[0;32m      2\u001b[0m \u001b[0mX_new\u001b[0m\u001b[1;33m[\u001b[0m\u001b[1;33m:\u001b[0m\u001b[1;36m5\u001b[0m\u001b[1;33m]\u001b[0m\u001b[1;33m\u001b[0m\u001b[1;33m\u001b[0m\u001b[0m\n\u001b[1;32m----> 3\u001b[1;33m \u001b[0mX_new_poly\u001b[0m \u001b[1;33m=\u001b[0m \u001b[0mpoly_atributos\u001b[0m\u001b[1;33m.\u001b[0m\u001b[0mtransform\u001b[0m\u001b[1;33m(\u001b[0m\u001b[0mX_new\u001b[0m\u001b[1;33m)\u001b[0m\u001b[1;33m\u001b[0m\u001b[1;33m\u001b[0m\u001b[0m\n\u001b[0m\u001b[0;32m      4\u001b[0m \u001b[0my_new_pred\u001b[0m \u001b[1;33m=\u001b[0m \u001b[0mlin_reg_poly\u001b[0m\u001b[1;33m.\u001b[0m\u001b[0mpredict\u001b[0m\u001b[1;33m(\u001b[0m\u001b[0mX_new_poly\u001b[0m\u001b[1;33m)\u001b[0m\u001b[1;33m\u001b[0m\u001b[1;33m\u001b[0m\u001b[0m\n\u001b[0;32m      5\u001b[0m \u001b[1;33m\u001b[0m\u001b[0m\n",
      "\u001b[1;32m~\\anaconda3\\lib\\site-packages\\sklearn\\preprocessing\\_data.py\u001b[0m in \u001b[0;36mtransform\u001b[1;34m(self, X)\u001b[0m\n\u001b[0;32m   1544\u001b[0m \u001b[1;33m\u001b[0m\u001b[0m\n\u001b[0;32m   1545\u001b[0m         X = check_array(X, order='F', dtype=FLOAT_DTYPES,\n\u001b[1;32m-> 1546\u001b[1;33m                         accept_sparse=('csr', 'csc'))\n\u001b[0m\u001b[0;32m   1547\u001b[0m \u001b[1;33m\u001b[0m\u001b[0m\n\u001b[0;32m   1548\u001b[0m         \u001b[0mn_samples\u001b[0m\u001b[1;33m,\u001b[0m \u001b[0mn_features\u001b[0m \u001b[1;33m=\u001b[0m \u001b[0mX\u001b[0m\u001b[1;33m.\u001b[0m\u001b[0mshape\u001b[0m\u001b[1;33m\u001b[0m\u001b[1;33m\u001b[0m\u001b[0m\n",
      "\u001b[1;32m~\\anaconda3\\lib\\site-packages\\sklearn\\utils\\validation.py\u001b[0m in \u001b[0;36mcheck_array\u001b[1;34m(array, accept_sparse, accept_large_sparse, dtype, order, copy, force_all_finite, ensure_2d, allow_nd, ensure_min_samples, ensure_min_features, warn_on_dtype, estimator)\u001b[0m\n\u001b[0;32m    554\u001b[0m                     \u001b[1;34m\"Reshape your data either using array.reshape(-1, 1) if \"\u001b[0m\u001b[1;33m\u001b[0m\u001b[1;33m\u001b[0m\u001b[0m\n\u001b[0;32m    555\u001b[0m                     \u001b[1;34m\"your data has a single feature or array.reshape(1, -1) \"\u001b[0m\u001b[1;33m\u001b[0m\u001b[1;33m\u001b[0m\u001b[0m\n\u001b[1;32m--> 556\u001b[1;33m                     \"if it contains a single sample.\".format(array))\n\u001b[0m\u001b[0;32m    557\u001b[0m \u001b[1;33m\u001b[0m\u001b[0m\n\u001b[0;32m    558\u001b[0m         \u001b[1;31m# in the future np.flexible dtypes will be handled like object dtypes\u001b[0m\u001b[1;33m\u001b[0m\u001b[1;33m\u001b[0m\u001b[1;33m\u001b[0m\u001b[0m\n",
      "\u001b[1;31mValueError\u001b[0m: Expected 2D array, got 1D array instead:\narray=[0. 2.].\nReshape your data either using array.reshape(-1, 1) if your data has a single feature or array.reshape(1, -1) if it contains a single sample."
     ]
    }
   ],
   "source": [
    "# X_new = np.linspace(-3, 3, 100).reshape(100,1)\n",
    "X_new[:5]\n",
    "X_new_poly = poly_atributos.transform(X_new)\n",
    "y_new_pred = lin_reg_poly.predict(X_new_poly)\n",
    "\n",
    "plt.plot(X, y, \"b.\")\n",
    "plt.plot(X_new, y_new_pred, \"r-\", linewidth=2, label=\"Predições\")\n",
    "plt.xlabel(\"$x_1$\", fontsize=18)\n",
    "plt.ylabel(\"$y$\", rotation=0, fontsize=18)\n",
    "plt.legend(loc=\"upper left\", fontsize=14)\n",
    "plt.axis([-3, 3, 0, 10])\n",
    "salvar_figura(\"predicao_polinomial_plot\")\n",
    "plt.show()"
   ]
  },
  {
   "cell_type": "markdown",
   "metadata": {
    "colab_type": "text",
    "id": "6EJnL0w_9Njk"
   },
   "source": [
    "## **Curvas de Aprendizado**"
   ]
  },
  {
   "cell_type": "markdown",
   "metadata": {
    "colab_type": "text",
    "id": "7TDCzenYOxs6"
   },
   "source": [
    "***Pipeline***\n",
    "\n",
    "> Existem muitas etapas de transformação de dados que precisam ser executadas na ordem correta. Felizmente, o Scikit-Learn fornece a classe `Pipeline` para ajudar com essas seqüências de transformações.\n",
    "\n",
    "> O construtor do `Pipeline` pede uma lista de pares (nome/estimador), definindo uma sequência de etapas. Todos, exceto o último estimador, devem ser transformadores (ou seja, eles devem ter um método `fit_transform ()`).\n",
    "\n",
    "> Quando chamamos o método `fit()` do pipeline (`poly_reg_pipeline.fit(X_treino, y_treino)`), ele chama os métodos `fit_transform()` sequencialmente em todos os transformadores, passando a saída de cada chamada como parâmetro para a próxima chamada, até atingir o estimador final, para o qual chama apenas o método `fit()` do mesmo.\n",
    "\n",
    "> Para saber um pouco mais, leiam o artigo do Data Hackers [\"Como Usar Pipelines no Scikit-Learn\"](https://medium.com/data-hackers/como-usar-pipelines-no-scikit-learn-1398a4cc6ae9)"
   ]
  },
  {
   "cell_type": "markdown",
   "metadata": {},
   "source": [
    "**StandardScaler**\n",
    ">Reescala valores dos atributos deixando-os com uma distribuição Gaussiana de média = 0  e desvio padrão = 1. Abaixo segue a equação utilizada:\n",
    " $$ x'_i = \\frac{x_i - \\mu}{\\sigma} $$\n",
    "\n",
    "- $x_i$ é o valor original\n",
    "- $x'_i$ é o valor transformado\n",
    "- $\\mu$ média dos valores do atributo\n",
    "- $\\sigma$ desvio padrão dos valores do atributo\n",
    "\n",
    "Se quiserem um pouco mais de informações a respeito de Padronização e Normalização dos dados deem uma olhada neste artigo do [Data Hackers](https://medium.com/data-hackers/normalizar-ou-padronizar-as-variáveis-3b619876ccc9)\n",
    " "
   ]
  },
  {
   "cell_type": "code",
   "execution_count": null,
   "metadata": {
    "colab": {
     "base_uri": "https://localhost:8080/",
     "height": 314
    },
    "colab_type": "code",
    "id": "BAmWhtx5dcpf",
    "outputId": "c879516b-c54c-435d-8462-e33a3135ed76"
   },
   "outputs": [],
   "source": [
    "from sklearn.preprocessing import StandardScaler\n",
    "from sklearn.pipeline import Pipeline\n",
    "\n",
    "for estilo, largura_traco, grau_polinomio in ((\"g-\", 1, 300), (\"b--\", 2, 2), (\"r-+\", 2, 1)):\n",
    "    \n",
    "    polybig_features = PolynomialFeatures(degree=grau_polinomio, include_bias=False)\n",
    "    std_scaler = StandardScaler()\n",
    "    lin_reg = LinearRegression()\n",
    "    \n",
    "    poly_reg_pipeline = Pipeline([\n",
    "            (\"poly_features\", polybig_features),\n",
    "            (\"std_scaler\", std_scaler),\n",
    "            (\"lin_reg\", lin_reg),\n",
    "        ])\n",
    "    \n",
    "    poly_reg_pipeline.fit(X, y)\n",
    "    y_newbig = poly_reg_pipeline.predict(X_new)\n",
    "    plt.plot(X_new, y_newbig, estilo, label=str(grau_polinomio), linewidth=largura_traco)\n",
    "\n",
    "plt.plot(X, y, \"b.\", linewidth=3)\n",
    "plt.legend(loc=\"upper left\")\n",
    "plt.xlabel(\"$x_1$\", fontsize=18)\n",
    "plt.ylabel(\"$y$\", rotation=0, fontsize=18)\n",
    "plt.axis([-3, 3, 0, 10])\n",
    "salvar_figura(\"comparacao_graus_polinomial_plot\")\n",
    "plt.show()"
   ]
  },
  {
   "cell_type": "markdown",
   "metadata": {
    "colab_type": "text",
    "id": "UmDn-HWgM88-"
   },
   "source": [
    "### **Verificando erros do modelo com Validação Cruzada (CV)**"
   ]
  },
  {
   "cell_type": "code",
   "execution_count": null,
   "metadata": {
    "colab": {},
    "colab_type": "code",
    "id": "VCkAFn4aafBT"
   },
   "outputs": [],
   "source": [
    "from sklearn.metrics import mean_squared_error\n",
    "\n",
    "#função verificar erro treino\n",
    "def verificar_erro_treino(grau_polinomio, X_treino, y_treino):\n",
    "    \n",
    "    polybig_features = PolynomialFeatures(degree=grau_polinomio, include_bias=False)\n",
    "    std_scaler = StandardScaler()\n",
    "    lin_reg = LinearRegression()\n",
    "    \n",
    "    poly_reg_pipeline = Pipeline([\n",
    "            (\"poly_features\", polybig_features),\n",
    "            (\"std_scaler\", std_scaler),\n",
    "            (\"lin_reg\", lin_reg),\n",
    "        ])\n",
    "    \n",
    "    poly_reg_pipeline.fit(X_treino, y_treino)\n",
    "    y_pred = poly_reg_pipeline.predict(X_treino)\n",
    "    return mean_squared_error(y_treino, y_pred)\n"
   ]
  },
  {
   "cell_type": "markdown",
   "metadata": {},
   "source": [
    "**train_test_split()**\n",
    "\n",
    "> Separa o dataset aleatoriamente entre treino e teste. Para saber mais detalhes vocês podem consultar a [documentação](https://scikit-learn.org/stable/modules/generated/sklearn.model_selection.train_test_split.html?highlight=train%20test%20split#sklearn.model_selection.train_test_split)"
   ]
  },
  {
   "cell_type": "code",
   "execution_count": null,
   "metadata": {
    "colab": {
     "base_uri": "https://localhost:8080/",
     "height": 34
    },
    "colab_type": "code",
    "id": "RJ-g9OsCAL_d",
    "outputId": "06edcdf6-02ea-4d2c-a42d-f1b94b73d31f"
   },
   "outputs": [],
   "source": [
    "#Verificando o erro no treino do algoritmo\n",
    "from sklearn.model_selection import train_test_split\n",
    "\n",
    "#Separando o dataset entre treino (80% dos dados) e teste (20% dos dados)\n",
    "X_treino, X_val, y_treino, y_val = train_test_split(X, y, test_size=0.2, random_state=42)\n",
    "\n",
    "#buscando o erro das regressões com graus 2, 1 e 300\n",
    "pred_reg_2 = verificar_erro_treino(2, X_treino, y_treino)\n",
    "pred_reg_1 = verificar_erro_treino(1, X_treino, y_treino)\n",
    "pred_reg_300 = verificar_erro_treino(300, X_treino, y_treino)\n",
    "\n",
    "pred_reg_2, pred_reg_1, pred_reg_300"
   ]
  },
  {
   "cell_type": "code",
   "execution_count": null,
   "metadata": {
    "colab": {},
    "colab_type": "code",
    "id": "ZDEJomu4kKoP"
   },
   "outputs": [],
   "source": [
    "from sklearn.model_selection import cross_val_score\n",
    "\n",
    "#Função verificar erro com validação cruzada\n",
    "def verificar_erro_VC(grau_polinomio, X_treino, y_treino):\n",
    "    \n",
    "    polybig_features = PolynomialFeatures(degree=grau_polinomio, include_bias=False)\n",
    "    std_scaler = StandardScaler()\n",
    "    lin_reg = LinearRegression()\n",
    "    \n",
    "    poly_reg_pipeline = Pipeline([\n",
    "            (\"poly_features\", polybig_features),\n",
    "            (\"std_scaler\", std_scaler),\n",
    "            (\"lin_reg\", lin_reg),\n",
    "        ])\n",
    "    \n",
    "    poly_reg_pipeline.fit(X_treino, y_treino)\n",
    "    y_pred = poly_reg_pipeline.predict(X_treino)\n",
    "    return -cross_val_score(poly_reg_pipeline, X_treino, y_treino, cv=5, scoring=\"neg_mean_squared_error\")"
   ]
  },
  {
   "cell_type": "code",
   "execution_count": null,
   "metadata": {},
   "outputs": [],
   "source": [
    "pred_reg_2_VC = verificar_erro_VC(2, X_treino, y_treino)\n",
    "print(\"MSE por partição: \", pred_reg_2_VC)\n",
    "print(\"MSE média: \", pred_reg_2_VC.mean())"
   ]
  },
  {
   "cell_type": "code",
   "execution_count": null,
   "metadata": {
    "colab": {
     "base_uri": "https://localhost:8080/",
     "height": 34
    },
    "colab_type": "code",
    "id": "DzjW_jJrAh1s",
    "outputId": "06626a54-c164-488c-b18e-f18b10d1c490"
   },
   "outputs": [],
   "source": [
    "#Validação Cruzada execução\n",
    "pred_reg_2_VC = verificar_erro_VC(2, X_treino, y_treino)\n",
    "pred_reg_1_VC = verificar_erro_VC(1, X_treino, y_treino)\n",
    "pred_reg_300_VC = verificar_erro_VC(300, X_treino, y_treino)\n",
    "\n",
    "#Printando as médias das partições de cada modelo de regressão.\n",
    "pred_reg_2_VC.mean(), pred_reg_1_VC.mean(), pred_reg_300_VC.mean()\n"
   ]
  },
  {
   "cell_type": "markdown",
   "metadata": {
    "colab_type": "text",
    "id": "AII7KLSeiiLU"
   },
   "source": [
    "### ***Verificando erros do modelo com Curvas de Aprendizado***"
   ]
  },
  {
   "cell_type": "code",
   "execution_count": null,
   "metadata": {
    "colab": {},
    "colab_type": "code",
    "id": "53jltj0f-z-j"
   },
   "outputs": [],
   "source": [
    "#Função das curvas de aprendizado\n",
    "\n",
    "def curvas_aprendizado(modelo, X, y):\n",
    "    #Divide os dados\n",
    "    X_treino, X_val, y_treino, y_val = train_test_split(X, y, test_size=0.2, random_state=42)\n",
    "    \n",
    "    #Armazena os resultados\n",
    "    treino_erros, val_erros = [], []\n",
    "    \n",
    "    for m in range(1, len(X_treino)):\n",
    "        #treina cada vez com 1 instancia, depois com 2, depois com 3, e etc.\n",
    "        modelo.fit(X_treino[:m], y_treino[:m])\n",
    "        \n",
    "        #Faz a predição no treino\n",
    "        y_treino_pred = modelo.predict(X_treino[:m])\n",
    "        \n",
    "        #Faz a predição da validação\n",
    "        y_val_pred = modelo.predict(X_val)\n",
    "        \n",
    "        #Armazena os resultados\n",
    "        treino_erros.append(mean_squared_error(y_treino[:m], y_treino_pred))\n",
    "        val_erros.append(mean_squared_error(y_val, y_val_pred))\n",
    "    \n",
    "    #Plota os resultados na curva de aprenzido\n",
    "    plt.plot(np.sqrt(treino_erros), \"r-+\", linewidth=2, label=\"treino\")\n",
    "    plt.plot(np.sqrt(val_erros), \"b-\", linewidth=3, label=\"validação\")\n",
    "    plt.legend(loc=\"upper right\", fontsize=14)\n",
    "    plt.xlabel(\"n_treino\", fontsize=14)\n",
    "    plt.ylabel(\"MSE\", fontsize=14)    "
   ]
  },
  {
   "cell_type": "code",
   "execution_count": null,
   "metadata": {
    "colab": {
     "base_uri": "https://localhost:8080/",
     "height": 314
    },
    "colab_type": "code",
    "id": "7Ij9u6UBtW-1",
    "outputId": "98b22d22-b938-4c43-f179-23385da0a804"
   },
   "outputs": [],
   "source": [
    "#Treinando modelos e plotando curvas de aprendizado\n",
    "#modelo com underfitting\n",
    "grau_polinomio = 1\n",
    "\n",
    "polybig_features = PolynomialFeatures(degree=grau_polinomio, include_bias=False)\n",
    "std_scaler = StandardScaler()\n",
    "lin_reg = LinearRegression()\n",
    "\n",
    "poly_reg_pipeline = Pipeline([\n",
    "        (\"poly_features\", polybig_features),\n",
    "        (\"std_scaler\", std_scaler),\n",
    "        (\"lin_reg\", lin_reg),\n",
    "    ])\n",
    "\n",
    "curvas_aprendizado(poly_reg_pipeline, X, y)\n",
    "\n",
    "plt.title(\"Grau: \" + str(grau_polinomio))\n",
    "plt.axis([0, 80, 0, 3])                        \n",
    "salvar_figura(\"curvaAprendizado_underfitting_plot\")   \n",
    "plt.show() "
   ]
  },
  {
   "cell_type": "markdown",
   "metadata": {},
   "source": [
    "***Analisando uma curva de aprendizado com Underfitting***\n",
    "> - **Performance do treino**\n",
    "    - Com poucas instâncias, o modelo foi bem, por isso que a curva começa em zero. \n",
    "    - Á medida que novas instâncias são adicionadas, torna-se impossível para o modelo predizer corretamente, pois os dados não são lineares.\n",
    "    - o erro aumenta até atingir um platô;\n",
    "    - agora adicionar novas instâncias não faz diferença\n",
    "    \n",
    "> - **Performance Validação**\n",
    "    - Com poucas instâncias, o modelo é incapaz de generalizar adequadamente\n",
    "    - Á medida que o modelo é treinado com mais instâncias o erro de validação diminui lentamente.\n",
    "    - No entanto, uma linha reta não pode executar um bom trabalho de modelagem dos dados; \n",
    "    - o erro termina alto em um platô, muito próximo da outra curva.\n",
    "    \n",
    "> - **Conclusões**\n",
    "    - Curvas de aprendizado são típicas de um modelo comunderfitting.\n",
    "    - Ambas atingiram um platô, estão próximas e razoavelmente com erros altos.\n",
    "\n",
    "> - **O que pode ser feito?**\n",
    "    - Modelo com underfitting não melhoram se adicionarmos mais instâncias para treinamento\n",
    "    - Necessário um modelo mais complexo ou criar melhores atributos."
   ]
  },
  {
   "cell_type": "code",
   "execution_count": null,
   "metadata": {
    "colab": {
     "base_uri": "https://localhost:8080/",
     "height": 314
    },
    "colab_type": "code",
    "id": "U-sksN4-tSkI",
    "outputId": "b8d91475-0660-4e12-d1f4-00869e21a807"
   },
   "outputs": [],
   "source": [
    "#Treinando modelos e plotando curvas de aprendizado\n",
    "#Modelo com overffiting\n",
    "grau_polinomio = 10\n",
    "\n",
    "polybig_features = PolynomialFeatures(degree=grau_polinomio, include_bias=False)\n",
    "std_scaler = StandardScaler()\n",
    "lin_reg = LinearRegression()\n",
    "\n",
    "poly_reg_pipeline = Pipeline([\n",
    "        (\"poly_features\", polybig_features),\n",
    "        (\"std_scaler\", std_scaler),\n",
    "        (\"lin_reg\", lin_reg),\n",
    "    ])\n",
    "\n",
    "curvas_aprendizado(poly_reg_pipeline, X, y)\n",
    "\n",
    "plt.title(\"Grau: \" + str(grau_polinomio))\n",
    "plt.axis([0, 80, 0, 3])                        \n",
    "salvar_figura(\"curvaAprendizado_overfitting_plot\")   \n",
    "plt.show()"
   ]
  },
  {
   "cell_type": "markdown",
   "metadata": {},
   "source": [
    "***Analisando uma cruva de aprendizado com overfitting***\n",
    "\n",
    "> - Semelhante a curva anterior com duas importantes diferenças:\n",
    "    1. O erro no treino é muito menor que no modelo de Regressão Linear (grau = 1).\n",
    "    2. Há um espaço entre as curvas. Isso significa que o modelo tem um desempenho bem melhor nos dados de treinamento do que nos dados de validação.\n",
    "\n",
    "> - **Conclusões**\n",
    "    - Curvas de aprendizado são típicas de um modelo com overffiting.\n",
    "\n",
    "> - **O que pode ser feito?**\n",
    "    - adicionar mais dados de treinamento\n",
    "    - Reduzir o número de atributos\n",
    "    - **Regularização:** manter os atributos, mas diminuir a magnitude dos parâmetros 𝜃"
   ]
  },
  {
   "cell_type": "code",
   "execution_count": null,
   "metadata": {
    "colab": {
     "base_uri": "https://localhost:8080/",
     "height": 314
    },
    "colab_type": "code",
    "id": "gysTdHemBRLk",
    "outputId": "14a1d955-04f8-4983-eac4-713c8cdff4a4"
   },
   "outputs": [],
   "source": [
    "#Treinando modelos e plotando curvas de aprendizado\n",
    "#Modelo com configuração ideal\n",
    "grau_polinomio = 2\n",
    "\n",
    "polybig_features = PolynomialFeatures(degree=grau_polinomio, include_bias=False)\n",
    "std_scaler = StandardScaler()\n",
    "lin_reg = LinearRegression()\n",
    "\n",
    "poly_reg_pipeline = Pipeline([\n",
    "        (\"poly_features\", polybig_features),\n",
    "        (\"std_scaler\", std_scaler),\n",
    "        (\"lin_reg\", lin_reg),\n",
    "    ])\n",
    "\n",
    "curvas_aprendizado(poly_reg_pipeline, X, y)\n",
    "\n",
    "plt.title(\"Grau: \" + str(grau_polinomio))\n",
    "plt.axis([0, 80, 0, 3])                        \n",
    "salvar_figura(\"curvaAprendizado_ideal_plot\")   \n",
    "plt.show()"
   ]
  },
  {
   "cell_type": "markdown",
   "metadata": {},
   "source": [
    "***Analisando uma curva de aprendizado mais adequada***\n",
    "\n",
    "> - **Principais características:**\n",
    "    - Erro no treino baixo\n",
    "    - Erro na validação próximo do erro do treino "
   ]
  },
  {
   "cell_type": "markdown",
   "metadata": {
    "colab_type": "text",
    "id": "SUNzREfyQLdK"
   },
   "source": [
    "## **Regularização**"
   ]
  },
  {
   "cell_type": "markdown",
   "metadata": {
    "colab_type": "text",
    "id": "rs8635HoPZv6"
   },
   "source": [
    "### **Ridge Regression**"
   ]
  },
  {
   "cell_type": "code",
   "execution_count": null,
   "metadata": {
    "colab": {
     "base_uri": "https://localhost:8080/",
     "height": 314
    },
    "colab_type": "code",
    "id": "yeb2ZXimBiOE",
    "outputId": "e65bad59-a067-4eaa-fef0-9b68dfe6b36b"
   },
   "outputs": [],
   "source": [
    "from sklearn.linear_model import Ridge\n",
    "\n",
    "#Dados sintéticos para usar de exemplo\n",
    "np.random.seed(42)\n",
    "m = 20\n",
    "X = 3 * np.random.rand(m, 1)\n",
    "y = 1 + 0.5 * X + np.random.randn(m, 1) / 1.5\n",
    "X_new = np.linspace(0, 3, 100).reshape(100, 1)\n",
    "\n",
    "#Função para plotar os gráficos que comparam regressão linear e polinomial com diferentes\n",
    "# lambdas\n",
    "def plot_model(model_class, polynomial, alphas, **model_kargs):\n",
    "    for alpha, style in zip(alphas, (\"b-\", \"g--\", \"r:\")):\n",
    "        model = model_class(alpha, **model_kargs) if alpha > 0 else LinearRegression()\n",
    "        if polynomial:\n",
    "            model = Pipeline([\n",
    "                    (\"poly_features\", PolynomialFeatures(degree=10, include_bias=False)),\n",
    "                    (\"std_scaler\", StandardScaler()),\n",
    "                    (\"regul_reg\", model),\n",
    "                ])\n",
    "        model.fit(X, y)\n",
    "        y_new_regul = model.predict(X_new)\n",
    "        lw = 2 if alpha > 0 else 1\n",
    "        plt.plot(X_new, y_new_regul, style, linewidth=lw, label=r\"$\\lambda = {}$\".format(alpha))\n",
    "        \n",
    "    plt.plot(X, y, \"b.\", linewidth=3)\n",
    "    plt.legend(loc=\"upper left\", fontsize=15)\n",
    "    plt.xlabel(\"$x_1$\", fontsize=18)\n",
    "    plt.axis([0, 3, 0, 4])\n",
    "\n",
    "plt.figure(figsize=(8,4))\n",
    "plt.subplot(121)\n",
    "plot_model(Ridge, polynomial=False, alphas=(0, 10, 100), random_state=42)\n",
    "plt.ylabel(\"$y$\", rotation=0, fontsize=18)\n",
    "plt.subplot(122)\n",
    "plot_model(Ridge, polynomial=True, alphas=(0, 10**-5, 1), random_state=42)\n",
    "\n",
    "salvar_figura(\"ridge_regression_plot\")\n",
    "plt.show()"
   ]
  },
  {
   "cell_type": "code",
   "execution_count": null,
   "metadata": {
    "colab": {
     "base_uri": "https://localhost:8080/",
     "height": 34
    },
    "colab_type": "code",
    "id": "IcW_L48sMRDS",
    "outputId": "bbeebc21-dbf7-40ec-e62c-35019a00136d"
   },
   "outputs": [],
   "source": [
    "from sklearn.linear_model import Ridge\n",
    "#o parâmetro alpha representa o parâmetro lambda dos slides e dos gráficos\n",
    "ridge_reg = Ridge(alpha=1, solver=\"cholesky\", random_state = (42))\n",
    "ridge_reg.fit(X,y)"
   ]
  },
  {
   "cell_type": "code",
   "execution_count": null,
   "metadata": {},
   "outputs": [],
   "source": [
    "y_pred_ridge = ridge_reg.predict(X)"
   ]
  },
  {
   "cell_type": "code",
   "execution_count": null,
   "metadata": {},
   "outputs": [],
   "source": [
    "mean_squared_error(y, y_pred_ridge)"
   ]
  },
  {
   "cell_type": "code",
   "execution_count": null,
   "metadata": {
    "colab": {
     "base_uri": "https://localhost:8080/",
     "height": 34
    },
    "colab_type": "code",
    "id": "gx2T2FbSPIC4",
    "outputId": "7f1897d5-39cb-40e8-f568-da33d53359ac"
   },
   "outputs": [],
   "source": [
    "#Com stochastic gradient descent\n",
    "from sklearn.linear_model import SGDRegressor\n",
    "\n",
    "# Parâmetro penalty representa o tipo de regularizando que será usado, nesse caso l2 representa a Ridge Regression\n",
    "# Norma l2 é um outro nome usado para Ridge Regression\n",
    "# Da mesma forma, norma l1 é usado para Lasso Regression\n",
    "sgd_ridge = SGDRegressor(max_iter=50, tol=-np.infty, penalty=\"l2\", random_state = 42)\n",
    "sgd_ridge.fit(X, y.ravel())"
   ]
  },
  {
   "cell_type": "code",
   "execution_count": null,
   "metadata": {
    "colab": {},
    "colab_type": "code",
    "id": "7ChVLOBzPTLB"
   },
   "outputs": [],
   "source": [
    "y_pred_sgd = sgd_ridge.predict(X)\n",
    "mean_squared_error(y, y_pred_sgd)"
   ]
  },
  {
   "cell_type": "markdown",
   "metadata": {
    "colab_type": "text",
    "id": "IDEqZVnIPyLp"
   },
   "source": [
    "### Lasso Regression"
   ]
  },
  {
   "cell_type": "code",
   "execution_count": null,
   "metadata": {
    "colab": {
     "base_uri": "https://localhost:8080/",
     "height": 314
    },
    "colab_type": "code",
    "id": "6-iT571oP2uc",
    "outputId": "98477066-18a4-493b-f95f-45a49ec82e75"
   },
   "outputs": [],
   "source": [
    "from sklearn.linear_model import Lasso\n",
    "\n",
    "plt.figure(figsize=(8,4))\n",
    "plt.subplot(121)\n",
    "plot_model(Lasso, polynomial=False, alphas=(0, 0.1, 1), random_state=42)\n",
    "plt.ylabel(\"$y$\", rotation=0, fontsize=18)\n",
    "plt.subplot(122)\n",
    "plot_model(Lasso, polynomial=True, alphas=(0, 10**-7, 1), tol=1, random_state=42)\n",
    "\n",
    "salvar_figura(\"lasso_regression_plot\")\n",
    "plt.show()"
   ]
  },
  {
   "cell_type": "code",
   "execution_count": null,
   "metadata": {
    "colab": {},
    "colab_type": "code",
    "id": "KlaTcchXP_wk"
   },
   "outputs": [],
   "source": [
    "from sklearn.linear_model import Lasso\n",
    "lasso_reg = Lasso(alpha=0.1)\n",
    "lasso_reg.fit(X, y)"
   ]
  },
  {
   "cell_type": "code",
   "execution_count": null,
   "metadata": {},
   "outputs": [],
   "source": [
    "y_pred_lasso = lasso_reg.predict(X)\n",
    "mean_squared_error(y, y_pred_lasso)"
   ]
  },
  {
   "cell_type": "markdown",
   "metadata": {
    "colab_type": "text",
    "id": "ItuUhHI1SBoX"
   },
   "source": [
    "### **Elastic Net**\n",
    "\n",
    "> - Elastic Net é um meio termo entre a Ridge e a Lasso Regression.\n",
    "> - Quando `l1_ration = 0`, a Elastic Net é equivalente à Ridge, e quando`l1_ration = 1`, é equivalente à Lasso"
   ]
  },
  {
   "cell_type": "code",
   "execution_count": null,
   "metadata": {
    "colab": {},
    "colab_type": "code",
    "id": "a8Y_rpDeSELm"
   },
   "outputs": [],
   "source": [
    "from sklearn.linear_model import ElasticNet\n",
    "\n",
    "elastic_net = ElasticNet(alpha=0.1, l1_ratio=0, random_state=42)\n",
    "elastic_net.fit(X, y)\n",
    "y_pred_elasticNet = elastic_net.predict(X)\n",
    "mean_squared_error(y, y_pred_elasticNet)"
   ]
  },
  {
   "cell_type": "markdown",
   "metadata": {},
   "source": [
    "### **Regressão Logística**"
   ]
  },
  {
   "cell_type": "code",
   "execution_count": null,
   "metadata": {},
   "outputs": [],
   "source": [
    "from sklearn import datasets"
   ]
  },
  {
   "cell_type": "code",
   "execution_count": null,
   "metadata": {},
   "outputs": [],
   "source": [
    "iris = datasets.load_iris()\n",
    "iris"
   ]
  },
  {
   "cell_type": "code",
   "execution_count": null,
   "metadata": {},
   "outputs": [],
   "source": [
    "import pandas as pd\n",
    "#Transformando os dados em um data frame do pandas\n",
    "df = pd.DataFrame(iris.data)\n",
    "df.head()"
   ]
  },
  {
   "cell_type": "code",
   "execution_count": null,
   "metadata": {},
   "outputs": [],
   "source": [
    "#Renomeando as colunas do data frame de acordo com o nome dos atributos do iris dataset\n",
    "df.columns = iris.feature_names \n",
    "df.head()"
   ]
  },
  {
   "cell_type": "code",
   "execution_count": null,
   "metadata": {},
   "outputs": [],
   "source": [
    "#Pegando os atributos alvo do dataset iris e criando um dataset\n",
    "df_target = pd.DataFrame(iris.target)\n",
    "df_target"
   ]
  },
  {
   "cell_type": "code",
   "execution_count": null,
   "metadata": {},
   "outputs": [],
   "source": [
    "#Renomeando a coluna do atributo alvo\n",
    "df_target.columns = {\"tipo_flor\"}\n",
    "df_target.head()"
   ]
  },
  {
   "cell_type": "code",
   "execution_count": null,
   "metadata": {},
   "outputs": [],
   "source": [
    "#Pegando apenas um dos atributos do dataset iris\n",
    "X = pd.DataFrame(df[\"petal width (cm)\"])\n",
    "X.head()"
   ]
  },
  {
   "cell_type": "code",
   "execution_count": null,
   "metadata": {},
   "outputs": [],
   "source": [
    "#Considerando apenas a classe 2 do dataset iris\n",
    "# Onde tipo_flor == 2, então y = true, senão y = false\n",
    "y = (df_target == 2)\n",
    "y"
   ]
  },
  {
   "cell_type": "code",
   "execution_count": null,
   "metadata": {},
   "outputs": [],
   "source": [
    "from sklearn.linear_model import LogisticRegression\n",
    "\n",
    "log_reg = LogisticRegression(solver=\"liblinear\", random_state = 42)\n",
    "log_reg.fit(X, y)"
   ]
  },
  {
   "cell_type": "code",
   "execution_count": null,
   "metadata": {},
   "outputs": [],
   "source": [
    "X_new = np.linspace(0, 3, 1000).reshape(-1, 1)\n",
    "X_new[:5]"
   ]
  },
  {
   "cell_type": "code",
   "execution_count": null,
   "metadata": {},
   "outputs": [],
   "source": [
    "?log_reg.predict_proba"
   ]
  },
  {
   "cell_type": "code",
   "execution_count": null,
   "metadata": {},
   "outputs": [],
   "source": [
    "#criando valores entre 0 e 3 para servir como teste do modelo\n",
    "#X_new = np.linspace(0, 3, 1000).reshape(-1, 1)\n",
    "\n",
    "#Pegando as probabilidades encontradas pelo modelo\n",
    "y_proba = log_reg.predict_proba(X_new)"
   ]
  },
  {
   "cell_type": "code",
   "execution_count": null,
   "metadata": {},
   "outputs": [],
   "source": [
    "decision_boundary = X_new[y_proba[:, 1] >= 0.5][0]\n",
    "\n",
    "plt.figure(figsize=(8, 3))\n",
    "plt.plot(X[y==0], y[y==0], \"bs\")\n",
    "plt.plot(X[y==1], y[y==1], \"g^\")\n",
    "plt.plot([decision_boundary, decision_boundary], [-1, 2], \"k:\", linewidth=2)\n",
    "plt.plot(X_new, y_proba[:, 1], \"g-\", linewidth=2, label=\"Iris-Virginica\")\n",
    "plt.plot(X_new, y_proba[:, 0], \"b--\", linewidth=2, label=\"Not Iris-Virginica\")\n",
    "plt.text(decision_boundary+0.02, 0.15, \"Decision  boundary\", fontsize=14, color=\"k\", ha=\"center\")\n",
    "plt.arrow(decision_boundary, 0.08, -0.3, 0, head_width=0.05, head_length=0.1, fc='b', ec='b')\n",
    "plt.arrow(decision_boundary, 0.92, 0.3, 0, head_width=0.05, head_length=0.1, fc='g', ec='g')\n",
    "plt.xlabel(\"Petal width (cm)\", fontsize=14)\n",
    "plt.ylabel(\"Probability\", fontsize=14)\n",
    "plt.legend(loc=\"center left\", fontsize=14)\n",
    "plt.axis([0, 3, -0.02, 1.02])\n",
    "salvar_figura(\"logistic_regression_plot\")\n",
    "plt.show()"
   ]
  },
  {
   "cell_type": "code",
   "execution_count": null,
   "metadata": {},
   "outputs": [],
   "source": [
    "decision_boundary"
   ]
  },
  {
   "cell_type": "code",
   "execution_count": null,
   "metadata": {},
   "outputs": [],
   "source": [
    "#Pega a predição do modelo (True = iris-virgina)\n",
    "log_reg.predict([[2.1]])"
   ]
  },
  {
   "cell_type": "code",
   "execution_count": null,
   "metadata": {},
   "outputs": [],
   "source": [
    "?LogisticRegression"
   ]
  },
  {
   "cell_type": "code",
   "execution_count": null,
   "metadata": {},
   "outputs": [],
   "source": [
    "from sklearn.linear_model import LogisticRegression\n",
    "\n",
    "# Agora os dados tem dois atributos, altura e largura das petala\n",
    "X = iris[\"data\"][:, (2, 3)]  \n",
    "y = (iris[\"target\"] == 2).astype(np.int)\n",
    "\n",
    "#Treinando modelo de regressão logistica. C representa um parâmetro para regularização do modelo\n",
    "log_reg = LogisticRegression(solver=\"liblinear\", C=10**10, random_state=42)\n",
    "log_reg.fit(X, y)\n",
    "\n",
    "#Criando dados de teste\n",
    "x0, x1 = np.meshgrid(\n",
    "        np.linspace(2.9, 7, 500).reshape(-1, 1),\n",
    "        np.linspace(0.8, 2.7, 200).reshape(-1, 1),\n",
    "    )\n",
    "\n",
    "X_new = np.c_[x0.ravel(), x1.ravel()]\n",
    "\n",
    "#Pegando as probabilidades dos dados de test\n",
    "y_proba = log_reg.predict_proba(X_new)\n",
    "\n",
    "plt.figure(figsize=(10, 4))\n",
    "plt.plot(X[y==0, 0], X[y==0, 1], \"bs\")\n",
    "plt.plot(X[y==1, 0], X[y==1, 1], \"g^\")\n",
    "\n",
    "#Definidio o limite de decisão de acordo com os thetas encontrados pelo modelo\n",
    "zz = y_proba[:, 1].reshape(x0.shape)\n",
    "contour = plt.contour(x0, x1, zz, cmap=plt.cm.brg)\n",
    "left_right = np.array([2.9, 7])\n",
    "boundary = -(log_reg.coef_[0][0] * left_right + log_reg.intercept_[0]) / log_reg.coef_[0][1]\n",
    "\n",
    "#Plotando limite de decisão\n",
    "plt.clabel(contour, inline=1, fontsize=12)\n",
    "plt.plot(left_right, boundary, \"k--\", linewidth=3)\n",
    "\n",
    "#Plotando texto no grafico\n",
    "plt.text(3.5, 1.5, \"Não-Iris-Virginica\", fontsize=14, color=\"b\", ha=\"center\")\n",
    "plt.text(6.5, 2.3, \"Iris-Virginica\", fontsize=14, color=\"g\", ha=\"center\")\n",
    "\n",
    "plt.xlabel(\"Altura da pétala\", fontsize=14)\n",
    "plt.ylabel(\"Largura da pétala\", fontsize=14)\n",
    "plt.axis([2.9, 7, 0.8, 2.7])\n",
    "salvar_figura(\"logistic_regression_contour_plot\")\n",
    "plt.show()"
   ]
  },
  {
   "cell_type": "code",
   "execution_count": null,
   "metadata": {},
   "outputs": [],
   "source": []
  }
 ],
 "metadata": {
  "colab": {
   "collapsed_sections": [],
   "name": "Copy of Aula04_regressao_exemplos_pt2.ipynb",
   "provenance": [],
   "toc_visible": true
  },
  "kernelspec": {
   "display_name": "Python 3",
   "language": "python",
   "name": "python3"
  },
  "language_info": {
   "codemirror_mode": {
    "name": "ipython",
    "version": 3
   },
   "file_extension": ".py",
   "mimetype": "text/x-python",
   "name": "python",
   "nbconvert_exporter": "python",
   "pygments_lexer": "ipython3",
   "version": "3.7.6"
  }
 },
 "nbformat": 4,
 "nbformat_minor": 1
}
