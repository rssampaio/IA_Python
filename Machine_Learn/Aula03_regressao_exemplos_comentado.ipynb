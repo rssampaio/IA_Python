{
  "nbformat": 4,
  "nbformat_minor": 0,
  "metadata": {
    "colab": {
      "name": "Aula03_regressao_exemplos_comentado.ipynb",
      "provenance": [],
      "collapsed_sections": []
    },
    "kernelspec": {
      "name": "python3",
      "display_name": "Python 3"
    }
  },
  "cells": [
    {
      "cell_type": "markdown",
      "metadata": {
        "id": "D6w2lXzWWMNa",
        "colab_type": "text"
      },
      "source": [
        "# **Aula 03 - Regressão**"
      ]
    },
    {
      "cell_type": "code",
      "metadata": {
        "id": "J-NYUKN7WYgC",
        "colab_type": "code",
        "colab": {}
      },
      "source": [
        "import numpy as np\n",
        "import os\n",
        "\n",
        "#Para plotar imagens mais bonitinhas\n",
        "%matplotlib inline\n",
        "import matplotlib as mpl\n",
        "import matplotlib.pyplot as plt\n",
        "mpl.rc('axes', labelsize=14)\n",
        "mpl.rc('xtick', labelsize=12)\n",
        "mpl.rc('ytick', labelsize=12)\n",
        "\n",
        "# Para conseguir reproduzir os resultados várias vezes ao longo das execuções\n",
        "np.random.seed(42)\n",
        "\n",
        "#Caminho definido para salvar as imagens\n",
        "#Esse comando só funcionará se você estiver com o Google Drive montado\n",
        "DIR = \"/content/drive/My Drive/Colab Notebooks/Aula03_regressao/\"\n",
        "\n",
        "#Se a pasta ainda não foi criada, então vamos cria-la\n",
        "if not os.path.isdir(DIR):\n",
        "      os.makedirs(DIR)\n",
        "      print(\"Criando pasta\")\n",
        "\n",
        "#Função para salvar as imagens na pasta\n",
        "def salvar_figura(fig_id, tight_layout=True):\n",
        "    path = os.path.join(DIR, fig_id + \".png\")\n",
        "    print(\"Salvando figura\", fig_id)\n",
        "    if tight_layout:\n",
        "        plt.tight_layout()\n",
        "    plt.savefig(path, format='png', dpi=300)"
      ],
      "execution_count": 0,
      "outputs": []
    },
    {
      "cell_type": "code",
      "metadata": {
        "id": "hLwKDOQ9Kizf",
        "colab_type": "code",
        "outputId": "67e83550-6b5e-4d56-8037-b1de69be5776",
        "colab": {
          "base_uri": "https://localhost:8080/",
          "height": 54
        }
      },
      "source": [
        "from google.colab import drive\n",
        "drive.mount('/content/drive')"
      ],
      "execution_count": 11,
      "outputs": [
        {
          "output_type": "stream",
          "text": [
            "Drive already mounted at /content/drive; to attempt to forcibly remount, call drive.mount(\"/content/drive\", force_remount=True).\n"
          ],
          "name": "stdout"
        }
      ]
    },
    {
      "cell_type": "markdown",
      "metadata": {
        "id": "YeblTPnsWoNs",
        "colab_type": "text"
      },
      "source": [
        "## **Regressão Linear**\n",
        "\n",
        "$$\n",
        "h_{\\theta}(\\bf{x}) = \\hat{y} = \\theta_0 + \\theta_1x_1 + \\dots + \\theta_mx_m\n",
        "$$"
      ]
    },
    {
      "cell_type": "markdown",
      "metadata": {
        "id": "6r2EKRnhKoAF",
        "colab_type": "text"
      },
      "source": [
        "> A Função `rand()` do `numpy` gera valores aleatorios entre 0 e 1. Na célula de códgio abaixo, estamos criando uma matriz 100x1 com valores alteatórios, que ao multiplicarmos por 2, teremos valores entre 0 e 2, mas ainda com uma distribuição uniforme."
      ]
    },
    {
      "cell_type": "code",
      "metadata": {
        "id": "RQbIIS31Iz9I",
        "colab_type": "code",
        "colab": {}
      },
      "source": [
        "#Gerar dados sintéticos para X\n",
        "X = 2 * np.random.rand(100,1)"
      ],
      "execution_count": 0,
      "outputs": []
    },
    {
      "cell_type": "markdown",
      "metadata": {
        "id": "MT7YMhU-LuL_",
        "colab_type": "text"
      },
      "source": [
        "> A função `randn()` gera valores aleatórios seguindo uma Distribuição Gaussiana com média 0 e desvio padrão igual 1. Então a código abaixo, representa os valores dos atributos alvos, alcançados a partir de uma função linear, cujos coeficientes são 4 e 3."
      ]
    },
    {
      "cell_type": "code",
      "metadata": {
        "id": "YBlnXKMXJcbh",
        "colab_type": "code",
        "colab": {}
      },
      "source": [
        "y = 4 + 3 * X + np.random.randn(100,1)"
      ],
      "execution_count": 0,
      "outputs": []
    },
    {
      "cell_type": "code",
      "metadata": {
        "id": "l63TVh3FM4aD",
        "colab_type": "code",
        "outputId": "7fe147e3-e6b1-4a3f-ef6e-0c4513e26e0c",
        "colab": {
          "base_uri": "https://localhost:8080/",
          "height": 314
        }
      },
      "source": [
        "#Plotando os dados\n",
        "plt.plot(X,y,\"b.\")\n",
        "plt.xlabel(\"$x_1$\", fontsize=18)\n",
        "plt.ylabel(\"y\", rotation = 0, fontsize=18) \n",
        "plt.axis([0,2,0,15])\n",
        "salvar_figura(\"plot_dados_gerados\")\n",
        "plt.show()"
      ],
      "execution_count": 14,
      "outputs": [
        {
          "output_type": "stream",
          "text": [
            "Salvando figura plot_dados_gerados\n"
          ],
          "name": "stdout"
        },
        {
          "output_type": "display_data",
          "data": {
            "image/png": "[encoded data removed]",
            "text/plain": [
              "<Figure size 432x288 with 1 Axes>"
            ]
          },
          "metadata": {
            "tags": [],
            "needs_background": "light"
          }
        }
      ]
    },
    {
      "cell_type": "markdown",
      "metadata": {
        "id": "JYo9mbAfWtvl",
        "colab_type": "text"
      },
      "source": [
        "### **Equação Normal**\n",
        "\n",
        "> Equação matemática para encontrar diretamente os valores de $\\theta$:\n",
        "\n",
        "> $$\n",
        "\\hat{\\theta} = (\\bf{X}^T \\cdot \\bf{X})^{-1} \\cdot \\bf{X}^T \\cdot \\bf{y}\n",
        "$$"
      ]
    },
    {
      "cell_type": "markdown",
      "metadata": {
        "id": "lIEtrTqddynE",
        "colab_type": "text"
      },
      "source": [
        "Como estamos trabalhando com funções na forma vetorial, precisamos criar uma nova coluna para a matriz `X` que representa os atributos do dataset. Essa coluna será para representar o $x_0$ que será multiplicado pelo termo bias $\\theta_0$ na nossa Regressão Linear.\n",
        "\n",
        "> Relembrando que a Regressão Linear pode ser representada com a função: $\\hat{y} = \\theta_0 x_0 + \\theta_1 x_1$\n",
        "\n",
        "> Para adicionarmos a coluna para reprentar $x_0$, usaremos `c_` para concatenar dois arrays e a função `ones()` que cria arrays completos com 1's"
      ]
    },
    {
      "cell_type": "code",
      "metadata": {
        "id": "PNPlfXGofiiX",
        "colab_type": "code",
        "outputId": "b9555745-88b7-4707-80a7-435b44fe0df9",
        "colab": {
          "base_uri": "https://localhost:8080/",
          "height": 68
        }
      },
      "source": [
        "np.ones([3,2]) #retorna um array de 3 linhas e 2 colunas copletas com 1"
      ],
      "execution_count": 15,
      "outputs": [
        {
          "output_type": "execute_result",
          "data": {
            "text/plain": [
              "array([[1., 1.],\n",
              "       [1., 1.],\n",
              "       [1., 1.]])"
            ]
          },
          "metadata": {
            "tags": []
          },
          "execution_count": 15
        }
      ]
    },
    {
      "cell_type": "code",
      "metadata": {
        "id": "5RTEHd52gxs6",
        "colab_type": "code",
        "outputId": "dec0ae83-a05a-4b99-eff6-a242867dfd9d",
        "colab": {
          "base_uri": "https://localhost:8080/",
          "height": 102
        }
      },
      "source": [
        "a = [1,2,3]\n",
        "b = [4, 5, 6]\n",
        "print('a = ', a)\n",
        "print(\"b = \", b)\n",
        "np.c_[a, b] #concatena a com b"
      ],
      "execution_count": 16,
      "outputs": [
        {
          "output_type": "stream",
          "text": [
            "a =  [1, 2, 3]\n",
            "b =  [4, 5, 6]\n"
          ],
          "name": "stdout"
        },
        {
          "output_type": "execute_result",
          "data": {
            "text/plain": [
              "array([[1, 4],\n",
              "       [2, 5],\n",
              "       [3, 6]])"
            ]
          },
          "metadata": {
            "tags": []
          },
          "execution_count": 16
        }
      ]
    },
    {
      "cell_type": "code",
      "metadata": {
        "id": "xWHI_NKJV09k",
        "colab_type": "code",
        "outputId": "c12e6086-bbde-4afa-a5c5-82f556d47fc4",
        "colab": {
          "base_uri": "https://localhost:8080/",
          "height": 221
        }
      },
      "source": [
        "#Adicionar o x_0 = 1 a X\n",
        "X_b = np.c_[np.ones((100,1)), X] #cria x_0 com 100 linhas e 1 coluna e concatena com X, nosso dataset\n",
        "print(\"****5 primeiros elementos**** \\n\",X_b[:5]) #Mostra os 5 primeiros elementos do array\n",
        "print(\"***mostra o intervalo de elementos****\\n\", X_b[3:8]) #Mostra os elementos do indice 3 ao indice 7"
      ],
      "execution_count": 17,
      "outputs": [
        {
          "output_type": "stream",
          "text": [
            "****5 primeiros elementos**** \n",
            " [[1.         0.74908024]\n",
            " [1.         1.90142861]\n",
            " [1.         1.46398788]\n",
            " [1.         1.19731697]\n",
            " [1.         0.31203728]]\n",
            "***mostra o intervalo de elementos****\n",
            " [[1.         1.19731697]\n",
            " [1.         0.31203728]\n",
            " [1.         0.31198904]\n",
            " [1.         0.11616722]\n",
            " [1.         1.73235229]]\n"
          ],
          "name": "stdout"
        }
      ]
    },
    {
      "cell_type": "markdown",
      "metadata": {
        "id": "NKvNf1Caavzz",
        "colab_type": "text"
      },
      "source": [
        "> **Matriz Transposta**: \n",
        "\n",
        "$ A =\n",
        "\\begin{bmatrix}\n",
        "  10 & 20 & 30 \\\\\n",
        "  40 & 50 & 60\n",
        "\\end{bmatrix} \n",
        "A^T =\n",
        "\\begin{bmatrix}\n",
        "  10 & 40 \\\\\n",
        "  20 & 50 \\\\\n",
        "  30 & 60\n",
        "\\end{bmatrix}$\n",
        "\n",
        "\n",
        "No  NumPy, uma matriz transposta pode ser obtida usando o atributo `T`"
      ]
    },
    {
      "cell_type": "code",
      "metadata": {
        "id": "B3i0S9DAPbjL",
        "colab_type": "code",
        "outputId": "93d1a051-a51e-477e-e164-9f3b9b283136",
        "colab": {
          "base_uri": "https://localhost:8080/",
          "height": 697
        }
      },
      "source": [
        "#Transposta de X\n",
        "X_b.T"
      ],
      "execution_count": 18,
      "outputs": [
        {
          "output_type": "execute_result",
          "data": {
            "text/plain": [
              "array([[1.        , 1.        , 1.        , 1.        , 1.        ,\n",
              "        1.        , 1.        , 1.        , 1.        , 1.        ,\n",
              "        1.        , 1.        , 1.        , 1.        , 1.        ,\n",
              "        1.        , 1.        , 1.        , 1.        , 1.        ,\n",
              "        1.        , 1.        , 1.        , 1.        , 1.        ,\n",
              "        1.        , 1.        , 1.        , 1.        , 1.        ,\n",
              "        1.        , 1.        , 1.        , 1.        , 1.        ,\n",
              "        1.        , 1.        , 1.        , 1.        , 1.        ,\n",
              "        1.        , 1.        , 1.        , 1.        , 1.        ,\n",
              "        1.        , 1.        , 1.        , 1.        , 1.        ,\n",
              "        1.        , 1.        , 1.        , 1.        , 1.        ,\n",
              "        1.        , 1.        , 1.        , 1.        , 1.        ,\n",
              "        1.        , 1.        , 1.        , 1.        , 1.        ,\n",
              "        1.        , 1.        , 1.        , 1.        , 1.        ,\n",
              "        1.        , 1.        , 1.        , 1.        , 1.        ,\n",
              "        1.        , 1.        , 1.        , 1.        , 1.        ,\n",
              "        1.        , 1.        , 1.        , 1.        , 1.        ,\n",
              "        1.        , 1.        , 1.        , 1.        , 1.        ,\n",
              "        1.        , 1.        , 1.        , 1.        , 1.        ,\n",
              "        1.        , 1.        , 1.        , 1.        , 1.        ],\n",
              "       [0.74908024, 1.90142861, 1.46398788, 1.19731697, 0.31203728,\n",
              "        0.31198904, 0.11616722, 1.73235229, 1.20223002, 1.41614516,\n",
              "        0.04116899, 1.9398197 , 1.66488528, 0.42467822, 0.36364993,\n",
              "        0.36680902, 0.60848449, 1.04951286, 0.86389004, 0.58245828,\n",
              "        1.22370579, 0.27898772, 0.5842893 , 0.73272369, 0.91213997,\n",
              "        1.57035192, 0.39934756, 1.02846888, 1.18482914, 0.09290083,\n",
              "        1.2150897 , 0.34104825, 0.13010319, 1.89777107, 1.93126407,\n",
              "        1.6167947 , 0.60922754, 0.19534423, 1.36846605, 0.88030499,\n",
              "        0.24407647, 0.99035382, 0.06877704, 1.8186408 , 0.51755996,\n",
              "        1.32504457, 0.62342215, 1.04013604, 1.09342056, 0.36970891,\n",
              "        1.93916926, 1.55026565, 1.87899788, 1.7896547 , 1.19579996,\n",
              "        1.84374847, 0.176985  , 0.39196572, 0.09045458, 0.65066066,\n",
              "        0.77735458, 0.54269806, 1.65747502, 0.71350665, 0.56186902,\n",
              "        1.08539217, 0.28184845, 1.60439396, 0.14910129, 1.97377387,\n",
              "        1.54448954, 0.39743136, 0.01104423, 1.63092286, 1.41371469,\n",
              "        1.45801434, 1.54254069, 0.1480893 , 0.71693146, 0.23173812,\n",
              "        1.72620685, 1.24659625, 0.66179605, 0.1271167 , 0.62196464,\n",
              "        0.65036664, 1.45921236, 1.27511494, 1.77442549, 0.94442985,\n",
              "        0.23918849, 1.42648957, 1.5215701 , 1.1225544 , 1.54193436,\n",
              "        0.98759119, 1.04546566, 0.85508204, 0.05083825, 0.21578285]])"
            ]
          },
          "metadata": {
            "tags": []
          },
          "execution_count": 18
        }
      ]
    },
    {
      "cell_type": "markdown",
      "metadata": {
        "id": "TWIBaeILbTuU",
        "colab_type": "text"
      },
      "source": [
        "> **Produto Escalar de Matrizes**:\n",
        "\n",
        "> Uma matriz $Q$ de tamanho $m \\times n$ pode ser multiplicada por outra matriz $R$ de tamanho $n \\times q$. O resultado da multiplicação $P$ é uma matriz de tamanho $m \\times q$ (mesmo número de linhas da primeira, pelo mesmo número de colunas da segunda), em que cada elemento é computado através da seguinte equação:\n",
        "\n",
        "> $$\n",
        "P_{i,j} = \\sum_{k=1}^n{Q_{i,k} \\times R_{k,j}}\n",
        "$$\n",
        "\n",
        "> O elemento da posição $i,j$ na matriz resultante é a soma dos produtos dos elementos da linha $i$ da matriz $Q$ pelos elementos da coluna $j$ da matriz $R$. Por exemplo:\n",
        "\n",
        "> $Q = \\begin{bmatrix}\n",
        "  10 & 20 & 30 \\\\\n",
        "  40 & 50 & 60\n",
        "\\end{bmatrix} \n",
        "R = \\begin{bmatrix}\n",
        "  2 & 3 & 5 & 7 \\\\\n",
        "  11 & 13 & 17 & 19 \\\\\n",
        "  23 & 29 & 31 & 37\n",
        "\\end{bmatrix} P = \n",
        "\\begin{bmatrix}\n",
        "  930 & 1160 & 1320 & 1560 \\\\\n",
        "  2010 & 2510 & 2910 & 3450\n",
        "\\end{bmatrix}$\n",
        "\n",
        "> Como é calculado, por exemplo, o primeiro elemento da matriz $P$: $10 \\times 2 + 20 \\times 11 + 30 \\times 23$"
      ]
    },
    {
      "cell_type": "code",
      "metadata": {
        "id": "146jw9EndsEK",
        "colab_type": "code",
        "outputId": "c40b472f-9d98-434b-d45c-84d71f2d3553",
        "colab": {
          "base_uri": "https://localhost:8080/",
          "height": 34
        }
      },
      "source": [
        "10*2+20*11+30*23 #Exemplificando como é feito o calculo do primeiro elemento da matriz P"
      ],
      "execution_count": 19,
      "outputs": [
        {
          "output_type": "execute_result",
          "data": {
            "text/plain": [
              "930"
            ]
          },
          "metadata": {
            "tags": []
          },
          "execution_count": 19
        }
      ]
    },
    {
      "cell_type": "code",
      "metadata": {
        "id": "YMQvfXE9Pi-I",
        "colab_type": "code",
        "outputId": "35fa4b74-2262-4846-fb75-a1a296438d01",
        "colab": {
          "base_uri": "https://localhost:8080/",
          "height": 51
        }
      },
      "source": [
        "#Produto escalar\n",
        "X_transposta = X_b.T\n",
        "produto_escalar = X_transposta.dot(X_b)\n",
        "produto_escalar\n",
        "#Proderiamos fazer de forma direta\n",
        "# X_b.T.dot(X_b)"
      ],
      "execution_count": 20,
      "outputs": [
        {
          "output_type": "execute_result",
          "data": {
            "text/plain": [
              "array([[100.        ,  94.03614868],\n",
              "       [ 94.03614868, 123.47395265]])"
            ]
          },
          "metadata": {
            "tags": []
          },
          "execution_count": 20
        }
      ]
    },
    {
      "cell_type": "markdown",
      "metadata": {
        "id": "xeATbCPQMrrm",
        "colab_type": "text"
      },
      "source": [
        "Abaixo segue a solução da matriz inversa, ou seja, a seguinte operação $(X^T \\cdot X)^{-1}$\n",
        "\n",
        "> Lembrando que a notação $A^{-1}$ representa o inverso da matriz A.\n",
        "\n",
        "> Para calcular o inverso de uma matriz, podemos usar a função `inv()` da classe `linalg` do Numpy. A `linalg` possui diversas funções relacionadas a Algebra Linear.\n",
        "\n",
        "> O retorno da função e a matriz inversa da matriz passada como parâmetro\n"
      ]
    },
    {
      "cell_type": "code",
      "metadata": {
        "id": "t6L-OUb_afky",
        "colab_type": "code",
        "colab": {}
      },
      "source": [
        "#Matriz inversa\n",
        "mtz_inversa = np.linalg.inv(X_b.T.dot(X_b))"
      ],
      "execution_count": 0,
      "outputs": []
    },
    {
      "cell_type": "markdown",
      "metadata": {
        "id": "1fHY7JbGdWWq",
        "colab_type": "text"
      },
      "source": [
        "Segue abaixo a resolução direto da Equação Normal, anteriormente estavamos resolvendo a equação por partes para entendermos as funções de Algebra Linear do Numpy.\n",
        "\n",
        "> Lembrando que a fórmula da Equação Normal é a seguinte: $\n",
        "\\hat{\\theta} = (\\bf{X}^T \\cdot \\bf{X})^{-1} \\cdot \\bf{X}^T \\cdot \\bf{y}\n",
        "$\n",
        "\n",
        "> O resultado da Equação Normal, será o vetor de pesos $\\theta$, no caso do nosso exemplo, como temos apenas um atributo, ela retornará o $\\theta_0$ e o $\\theta_1$."
      ]
    },
    {
      "cell_type": "code",
      "metadata": {
        "id": "qpD4Wo08fweK",
        "colab_type": "code",
        "outputId": "a500661e-3634-4a5e-8895-85e05d7de500",
        "colab": {
          "base_uri": "https://localhost:8080/",
          "height": 51
        }
      },
      "source": [
        "#Equação Normal\n",
        "theta_best = np.linalg.inv(X_b.T.dot(X_b)).dot(X_b.T).dot(y)\n",
        "print(\"theta_0: \", theta_best[0,0])\n",
        "print(\"theta_1: \", theta_best[1,0])"
      ],
      "execution_count": 22,
      "outputs": [
        {
          "output_type": "stream",
          "text": [
            "theta_0:  4.21509615754675\n",
            "theta_1:  2.7701133864384806\n"
          ],
          "name": "stdout"
        }
      ]
    },
    {
      "cell_type": "markdown",
      "metadata": {
        "id": "8jVTFyYgg0EQ",
        "colab_type": "text"
      },
      "source": [
        "> Plotar predição alcançada pela Equação Normal\n",
        "\n",
        "> Para plotar a reta que representa a nossa Regressão Linear, temos que pegar o menor e o maior valor possível de $x$. No nosso exemplo, seriam 0 e 2. Após isso, usamos a Regressão Linear para encontrar o $\\hat{y}$ desses dois valores e conseguiremos plotar a reta."
      ]
    },
    {
      "cell_type": "code",
      "metadata": {
        "id": "jfSAHBYjgLsE",
        "colab_type": "code",
        "outputId": "43b9932a-895e-4671-ba23-ae280b92d4d8",
        "colab": {
          "base_uri": "https://localhost:8080/",
          "height": 51
        }
      },
      "source": [
        "# Criando o menor e o maior possível de x\n",
        "X_new = np.array([[0],[2]])\n",
        "X_new"
      ],
      "execution_count": 23,
      "outputs": [
        {
          "output_type": "execute_result",
          "data": {
            "text/plain": [
              "array([[0],\n",
              "       [2]])"
            ]
          },
          "metadata": {
            "tags": []
          },
          "execution_count": 23
        }
      ]
    },
    {
      "cell_type": "code",
      "metadata": {
        "id": "BsEwQ7bVhBOL",
        "colab_type": "code",
        "outputId": "f928a3b6-8ced-450d-bc83-9129176277ea",
        "colab": {
          "base_uri": "https://localhost:8080/",
          "height": 51
        }
      },
      "source": [
        "#Adicionando x_0 = 1\n",
        "X_new_b = np.c_[np.ones((2,1)), X_new]\n",
        "X_new_b"
      ],
      "execution_count": 24,
      "outputs": [
        {
          "output_type": "execute_result",
          "data": {
            "text/plain": [
              "array([[1., 0.],\n",
              "       [1., 2.]])"
            ]
          },
          "metadata": {
            "tags": []
          },
          "execution_count": 24
        }
      ]
    },
    {
      "cell_type": "markdown",
      "metadata": {
        "id": "mOa4mB_hioi3",
        "colab_type": "text"
      },
      "source": [
        "> Para encontrar o $\\hat{y}$ (`y_pred`) basta multiplicar no $X_{new}$ (`X_new_b`) por $\\theta$ (`theta_best`)"
      ]
    },
    {
      "cell_type": "code",
      "metadata": {
        "id": "00wXuH0qhmBy",
        "colab_type": "code",
        "outputId": "1be86adc-5c1b-4ef0-86d0-a5e07f8cdbe8",
        "colab": {
          "base_uri": "https://localhost:8080/",
          "height": 51
        }
      },
      "source": [
        "#Buscando as predições para esses dois valores de x\n",
        "y_pred = X_new_b.dot(theta_best)\n",
        "y_pred"
      ],
      "execution_count": 25,
      "outputs": [
        {
          "output_type": "execute_result",
          "data": {
            "text/plain": [
              "array([[4.21509616],\n",
              "       [9.75532293]])"
            ]
          },
          "metadata": {
            "tags": []
          },
          "execution_count": 25
        }
      ]
    },
    {
      "cell_type": "code",
      "metadata": {
        "id": "WRd7Tdzlhv0r",
        "colab_type": "code",
        "outputId": "f9fa3867-daeb-4fa6-c4fc-f287de3be66c",
        "colab": {
          "base_uri": "https://localhost:8080/",
          "height": 314
        }
      },
      "source": [
        "#Plotando a reta que representa a predição do modelo\n",
        "plt.plot(X,y,\"b.\")\n",
        "plt.plot(X_new, y_pred, \"r-\", linewidth=2, label=\"Predições\")\n",
        "plt.xlabel(\"$x_1$\", fontsize=18)\n",
        "plt.ylabel(\"y\", rotation=0, fontsize=18)\n",
        "plt.legend(loc=\"upper left\", fontsize=14)\n",
        "plt.axis([0,2,0,15])\n",
        "salvar_figura(\"plot_regressao_predicao\")\n",
        "plt.show()"
      ],
      "execution_count": 26,
      "outputs": [
        {
          "output_type": "stream",
          "text": [
            "Salvando figura plot_regressao_predicao\n"
          ],
          "name": "stdout"
        },
        {
          "output_type": "display_data",
          "data": {
            "image/png": "[encoded data removed]",
            "text/plain": [
              "<Figure size 432x288 with 1 Axes>"
            ]
          },
          "metadata": {
            "tags": [],
            "needs_background": "light"
          }
        }
      ]
    },
    {
      "cell_type": "code",
      "metadata": {
        "id": "27A7nCW2ik4j",
        "colab_type": "code",
        "outputId": "4103ad97-7353-46cb-d635-887b2187d746",
        "colab": {
          "base_uri": "https://localhost:8080/",
          "height": 34
        }
      },
      "source": [
        "#Predição de outros valores\n",
        "X_1 = np.array([[1, 1.25]])\n",
        "y_pred_1 = X_1.dot(theta_best)\n",
        "y_pred_1"
      ],
      "execution_count": 27,
      "outputs": [
        {
          "output_type": "execute_result",
          "data": {
            "text/plain": [
              "array([[7.67773789]])"
            ]
          },
          "metadata": {
            "tags": []
          },
          "execution_count": 27
        }
      ]
    },
    {
      "cell_type": "markdown",
      "metadata": {
        "id": "1GBwB2WAj2PF",
        "colab_type": "text"
      },
      "source": [
        "### Regressão Linear resolvida com Equação Normal no Scikit-Learn"
      ]
    },
    {
      "cell_type": "code",
      "metadata": {
        "id": "2DumQ-3Fi2_V",
        "colab_type": "code",
        "outputId": "51d99697-594f-470b-c225-81f2dc4b9447",
        "colab": {
          "base_uri": "https://localhost:8080/",
          "height": 34
        }
      },
      "source": [
        "#Importando e instanciando um modelo de Regressão Linear\n",
        "from sklearn.linear_model import LinearRegression\n",
        "linearRegression = LinearRegression()\n",
        "#Treinando o modelo\n",
        "linearRegression.fit(X, y)"
      ],
      "execution_count": 28,
      "outputs": [
        {
          "output_type": "execute_result",
          "data": {
            "text/plain": [
              "LinearRegression(copy_X=True, fit_intercept=True, n_jobs=None, normalize=False)"
            ]
          },
          "metadata": {
            "tags": []
          },
          "execution_count": 28
        }
      ]
    },
    {
      "cell_type": "markdown",
      "metadata": {
        "id": "2uROnhdVkWIb",
        "colab_type": "text"
      },
      "source": [
        "> Um modelo `LinearRegression` depois de treinado possui dois atributos:\n",
        "  - `intercept_`, que retorna o bias $\\theta_0$\n",
        "  - `coef_`, que retorna os outros coeficientes de $\\theta$"
      ]
    },
    {
      "cell_type": "code",
      "metadata": {
        "id": "WD9UinO_kKma",
        "colab_type": "code",
        "outputId": "e47b3e5e-799e-40fe-c7bc-88f8daa9280f",
        "colab": {
          "base_uri": "https://localhost:8080/",
          "height": 51
        }
      },
      "source": [
        "print(\"theta_0: \", linearRegression.intercept_)\n",
        "print(\"theta_1: \", linearRegression.coef_)"
      ],
      "execution_count": 29,
      "outputs": [
        {
          "output_type": "stream",
          "text": [
            "theta_0:  [4.21509616]\n",
            "theta_1:  [[2.77011339]]\n"
          ],
          "name": "stdout"
        }
      ]
    },
    {
      "cell_type": "code",
      "metadata": {
        "id": "30O-RGeElIEe",
        "colab_type": "code",
        "outputId": "98035c62-b888-48c8-8c73-487e756677e9",
        "colab": {
          "base_uri": "https://localhost:8080/",
          "height": 51
        }
      },
      "source": [
        "theta_best # notem que o mesmo valor de intercept_ e coef_"
      ],
      "execution_count": 30,
      "outputs": [
        {
          "output_type": "execute_result",
          "data": {
            "text/plain": [
              "array([[4.21509616],\n",
              "       [2.77011339]])"
            ]
          },
          "metadata": {
            "tags": []
          },
          "execution_count": 30
        }
      ]
    },
    {
      "cell_type": "code",
      "metadata": {
        "id": "R0xSacj97oIe",
        "colab_type": "code",
        "colab": {}
      },
      "source": [
        "#Fazendo a predição de todas as instâncias de X\n",
        "y_pred = linearRegression.predict(X) "
      ],
      "execution_count": 0,
      "outputs": []
    },
    {
      "cell_type": "code",
      "metadata": {
        "id": "6dI108Y-8CDP",
        "colab_type": "code",
        "outputId": "35627b7f-9a7f-4852-a842-5a3661b60d2a",
        "colab": {
          "base_uri": "https://localhost:8080/",
          "height": 34
        }
      },
      "source": [
        "#Calculando o MSE, que é a nossa função de custo.\n",
        "from sklearn.metrics import mean_squared_error\n",
        "mse_random = mean_squared_error(y, y_pred)\n",
        "print(\"MSE dataset artificial: \",mse_random)\n"
      ],
      "execution_count": 32,
      "outputs": [
        {
          "output_type": "stream",
          "text": [
            "MSE dataset artificial:  0.8065845639670531\n"
          ],
          "name": "stdout"
        }
      ]
    },
    {
      "cell_type": "markdown",
      "metadata": {
        "id": "AiFtjDKEqXP9",
        "colab_type": "text"
      },
      "source": [
        "### Regressão Linear - Exemplos dados reais\n",
        "\n",
        "> Vamos fazer a previsão do número de passageiros de uma companhia área. Para isso vamos:\n",
        "\n",
        "> 1. importar o arquivo para nossa pasta.\n",
        "> 2. importar o arquivo .csv para um Data Frame do Pandas\n",
        "> 3. plotar os dados para ver se eles realmente possuem distribuição linear\n",
        "> 4. dividir entre treino e teste, pode ser de forma aleatória usando `train_test_split` do Scikit-Learn\n",
        "> 5. importar a Regressão Linear, treinar o modelo com a função `fit()` e obter as predições usando o a função `predict()`\n",
        "> 6. plotar em um mesmo gráfico os valores preditos pelo seu modelo e os valores reais.\n",
        "> 7. medir o erro do seu modelo.\n"
      ]
    },
    {
      "cell_type": "code",
      "metadata": {
        "id": "rWb7DYkblXCs",
        "colab_type": "code",
        "colab": {}
      },
      "source": [
        "import pandas as pd"
      ],
      "execution_count": 0,
      "outputs": []
    },
    {
      "cell_type": "code",
      "metadata": {
        "id": "rO-wrT57yQrU",
        "colab_type": "code",
        "outputId": "d084b685-3013-4002-98dd-a70668c0afc8",
        "colab": {
          "base_uri": "https://localhost:8080/",
          "height": 204
        }
      },
      "source": [
        "# Importando arquivo csv para um data frame\n",
        "passageiros_dataset = pd.read_csv(DIR + \"Passageiros.csv\")\n",
        "passageiros_dataset.head()"
      ],
      "execution_count": 34,
      "outputs": [
        {
          "output_type": "execute_result",
          "data": {
            "text/html": [
              "<div>\n",
              "<style scoped>\n",
              "    .dataframe tbody tr th:only-of-type {\n",
              "        vertical-align: middle;\n",
              "    }\n",
              "\n",
              "    .dataframe tbody tr th {\n",
              "        vertical-align: top;\n",
              "    }\n",
              "\n",
              "    .dataframe thead th {\n",
              "        text-align: right;\n",
              "    }\n",
              "</style>\n",
              "<table border=\"1\" class=\"dataframe\">\n",
              "  <thead>\n",
              "    <tr style=\"text-align: right;\">\n",
              "      <th></th>\n",
              "      <th>tempo</th>\n",
              "      <th>nPassageiros</th>\n",
              "    </tr>\n",
              "  </thead>\n",
              "  <tbody>\n",
              "    <tr>\n",
              "      <th>0</th>\n",
              "      <td>1949.000000</td>\n",
              "      <td>112</td>\n",
              "    </tr>\n",
              "    <tr>\n",
              "      <th>1</th>\n",
              "      <td>1949.083333</td>\n",
              "      <td>118</td>\n",
              "    </tr>\n",
              "    <tr>\n",
              "      <th>2</th>\n",
              "      <td>1949.166667</td>\n",
              "      <td>132</td>\n",
              "    </tr>\n",
              "    <tr>\n",
              "      <th>3</th>\n",
              "      <td>1949.250000</td>\n",
              "      <td>129</td>\n",
              "    </tr>\n",
              "    <tr>\n",
              "      <th>4</th>\n",
              "      <td>1949.333333</td>\n",
              "      <td>121</td>\n",
              "    </tr>\n",
              "  </tbody>\n",
              "</table>\n",
              "</div>"
            ],
            "text/plain": [
              "         tempo  nPassageiros\n",
              "0  1949.000000           112\n",
              "1  1949.083333           118\n",
              "2  1949.166667           132\n",
              "3  1949.250000           129\n",
              "4  1949.333333           121"
            ]
          },
          "metadata": {
            "tags": []
          },
          "execution_count": 34
        }
      ]
    },
    {
      "cell_type": "code",
      "metadata": {
        "id": "QC_OEQhVyx_m",
        "colab_type": "code",
        "outputId": "00250a89-9ca2-4fcd-e159-ab2427d70c7f",
        "colab": {
          "base_uri": "https://localhost:8080/",
          "height": 290
        }
      },
      "source": [
        "plt.plot(passageiros_dataset['tempo'], passageiros_dataset['nPassageiros'])\n",
        "plt.xlabel(\"Tempo\", fontsize=18)\n",
        "plt.ylabel(\"Nº de Passageiros\", fontsize=18)\n",
        "plt.show()"
      ],
      "execution_count": 35,
      "outputs": [
        {
          "output_type": "display_data",
          "data": {
            "image/png": "[encoded data removed]",
            "text/plain": [
              "<Figure size 432x288 with 1 Axes>"
            ]
          },
          "metadata": {
            "tags": [],
            "needs_background": "light"
          }
        }
      ]
    },
    {
      "cell_type": "code",
      "metadata": {
        "id": "kwhdGSdJC6F9",
        "colab_type": "code",
        "outputId": "c4e825ab-d30c-4c30-f3c9-407e38255248",
        "colab": {
          "base_uri": "https://localhost:8080/",
          "height": 204
        }
      },
      "source": [
        "#Seleciona todas as colunas menos a última\n",
        "tempo_data_frame = passageiros_dataset.iloc[:,:-1]\n",
        "tempo_data_frame.head()"
      ],
      "execution_count": 36,
      "outputs": [
        {
          "output_type": "execute_result",
          "data": {
            "text/html": [
              "<div>\n",
              "<style scoped>\n",
              "    .dataframe tbody tr th:only-of-type {\n",
              "        vertical-align: middle;\n",
              "    }\n",
              "\n",
              "    .dataframe tbody tr th {\n",
              "        vertical-align: top;\n",
              "    }\n",
              "\n",
              "    .dataframe thead th {\n",
              "        text-align: right;\n",
              "    }\n",
              "</style>\n",
              "<table border=\"1\" class=\"dataframe\">\n",
              "  <thead>\n",
              "    <tr style=\"text-align: right;\">\n",
              "      <th></th>\n",
              "      <th>tempo</th>\n",
              "    </tr>\n",
              "  </thead>\n",
              "  <tbody>\n",
              "    <tr>\n",
              "      <th>0</th>\n",
              "      <td>1949.000000</td>\n",
              "    </tr>\n",
              "    <tr>\n",
              "      <th>1</th>\n",
              "      <td>1949.083333</td>\n",
              "    </tr>\n",
              "    <tr>\n",
              "      <th>2</th>\n",
              "      <td>1949.166667</td>\n",
              "    </tr>\n",
              "    <tr>\n",
              "      <th>3</th>\n",
              "      <td>1949.250000</td>\n",
              "    </tr>\n",
              "    <tr>\n",
              "      <th>4</th>\n",
              "      <td>1949.333333</td>\n",
              "    </tr>\n",
              "  </tbody>\n",
              "</table>\n",
              "</div>"
            ],
            "text/plain": [
              "         tempo\n",
              "0  1949.000000\n",
              "1  1949.083333\n",
              "2  1949.166667\n",
              "3  1949.250000\n",
              "4  1949.333333"
            ]
          },
          "metadata": {
            "tags": []
          },
          "execution_count": 36
        }
      ]
    },
    {
      "cell_type": "code",
      "metadata": {
        "id": "pbhaXowPk61s",
        "colab_type": "code",
        "outputId": "52baa9ac-b3a8-4f2a-f69b-2f6c488fee69",
        "colab": {
          "base_uri": "https://localhost:8080/",
          "height": 102
        }
      },
      "source": [
        "tempo = tempo_data_frame.values #retorna um array numpy\n",
        "tempo[:5]"
      ],
      "execution_count": 37,
      "outputs": [
        {
          "output_type": "execute_result",
          "data": {
            "text/plain": [
              "array([[1949.        ],\n",
              "       [1949.08333333],\n",
              "       [1949.16666667],\n",
              "       [1949.25      ],\n",
              "       [1949.33333333]])"
            ]
          },
          "metadata": {
            "tags": []
          },
          "execution_count": 37
        }
      ]
    },
    {
      "cell_type": "code",
      "metadata": {
        "id": "_OqljtaADANb",
        "colab_type": "code",
        "outputId": "61f13a98-b7a3-43c1-9016-c04b87456dcf",
        "colab": {
          "base_uri": "https://localhost:8080/",
          "height": 102
        }
      },
      "source": [
        "#Outra forma de fazer o mesmo é usando a função drop, passando como parametro a coluna a ser excluida\n",
        "# do data frame. axis = 1 representa que vamos excluir uma coluna, usamos axis = 0, para excluir linhas\n",
        "nPassageiros = passageiros_dataset.drop('tempo', axis=1).values\n",
        "nPassageiros[:5]"
      ],
      "execution_count": 38,
      "outputs": [
        {
          "output_type": "execute_result",
          "data": {
            "text/plain": [
              "array([[112],\n",
              "       [118],\n",
              "       [132],\n",
              "       [129],\n",
              "       [121]])"
            ]
          },
          "metadata": {
            "tags": []
          },
          "execution_count": 38
        }
      ]
    },
    {
      "cell_type": "code",
      "metadata": {
        "id": "fFnfG8481tjM",
        "colab_type": "code",
        "colab": {}
      },
      "source": [
        "#Dividir dataset em treino e teste\n",
        "from sklearn.model_selection import train_test_split\n",
        "X_treino_passageiros,  X_teste_passageiros, y_treino_passageiros, y_teste_passageiros = train_test_split(tempo, nPassageiros, test_size=0.3)"
      ],
      "execution_count": 0,
      "outputs": []
    },
    {
      "cell_type": "code",
      "metadata": {
        "id": "A-bqw69F2ynH",
        "colab_type": "code",
        "outputId": "cfd20eca-6821-4d4c-ca1f-937eb9a7ec71",
        "colab": {
          "base_uri": "https://localhost:8080/",
          "height": 34
        }
      },
      "source": [
        "# Importar, treino e fazer predições usando Regressão Linear\n",
        "from sklearn.linear_model import LinearRegression\n",
        "lin_reg_passageiros = LinearRegression()\n",
        "#treinando model\n",
        "lin_reg_passageiros.fit(X_treino_passageiros, y_treino_passageiros)"
      ],
      "execution_count": 40,
      "outputs": [
        {
          "output_type": "execute_result",
          "data": {
            "text/plain": [
              "LinearRegression(copy_X=True, fit_intercept=True, n_jobs=None, normalize=False)"
            ]
          },
          "metadata": {
            "tags": []
          },
          "execution_count": 40
        }
      ]
    },
    {
      "cell_type": "code",
      "metadata": {
        "id": "8n6vbwV23Ykf",
        "colab_type": "code",
        "colab": {
          "base_uri": "https://localhost:8080/",
          "height": 765
        },
        "outputId": "eb3b9487-8abd-453a-8955-f96fd326fc86"
      },
      "source": [
        "#Predição do dataset passageiros\n",
        "y_pred = lin_reg_passageiros.predict(X_teste_passageiros)\n",
        "y_pred"
      ],
      "execution_count": 41,
      "outputs": [
        {
          "output_type": "execute_result",
          "data": {
            "text/plain": [
              "array([[114.33232195],\n",
              "       [274.99171485],\n",
              "       [111.60928139],\n",
              "       [280.43779597],\n",
              "       [193.30049812],\n",
              "       [176.96225478],\n",
              "       [356.68293159],\n",
              "       [ 92.54799749],\n",
              "       [310.39124211],\n",
              "       [236.86914705],\n",
              "       [291.3299582 ],\n",
              "       [302.22212043],\n",
              "       [383.91333716],\n",
              "       [397.52853995],\n",
              "       [163.34705199],\n",
              "       [187.85441701],\n",
              "       [299.49907987],\n",
              "       [294.05299876],\n",
              "       [375.74421549],\n",
              "       [416.58982386],\n",
              "       [245.03826872],\n",
              "       [ 87.10191637],\n",
              "       [345.79076936],\n",
              "       [117.05536251],\n",
              "       [332.17556657],\n",
              "       [168.7931331 ],\n",
              "       [476.49671613],\n",
              "       [367.57509382],\n",
              "       [364.85205326],\n",
              "       [234.14610649],\n",
              "       [351.23685047],\n",
              "       [411.14374274],\n",
              "       [468.32759445],\n",
              "       [296.77603932],\n",
              "       [424.75894553],\n",
              "       [136.11664641],\n",
              "       [196.02353868],\n",
              "       [307.66820155],\n",
              "       [283.16083653],\n",
              "       [454.71239167],\n",
              "       [473.77367557],\n",
              "       [272.2686743 ],\n",
              "       [378.46725605],\n",
              "       [457.43543222]])"
            ]
          },
          "metadata": {
            "tags": []
          },
          "execution_count": 41
        }
      ]
    },
    {
      "cell_type": "code",
      "metadata": {
        "id": "r2Hhx4hXmjFT",
        "colab_type": "code",
        "outputId": "1b01543c-e8c3-4bd8-c7c4-4400236ce523",
        "colab": {
          "base_uri": "https://localhost:8080/",
          "height": 51
        }
      },
      "source": [
        "#Thetas encontrados pela Regressão Linear\n",
        "print(\"theta_0: \", lin_reg_passageiros.intercept_)\n",
        "print(\"theta: \", lin_reg_passageiros.coef_)"
      ],
      "execution_count": 42,
      "outputs": [
        {
          "output_type": "stream",
          "text": [
            "theta_0:  [-63599.37064817]\n",
            "theta:  [[32.67648669]]\n"
          ],
          "name": "stdout"
        }
      ]
    },
    {
      "cell_type": "markdown",
      "metadata": {
        "id": "pEvwR3A5nqTR",
        "colab_type": "text"
      },
      "source": [
        "Para melhor visualização e comparação da predição em números, vamos criar um Data Frame dos dados de testes, onde a primeira coluna será o tempo, a segunda o número de passageiros reais e a terceira o número de passageiros preditos pelo nosso modelo de regressão linear.\n",
        "\n",
        "No entanto, os nossos dados estão em formato de um array 2D. Usando a função `shape` do Numpy podemos ver o formato do array dos dados."
      ]
    },
    {
      "cell_type": "code",
      "metadata": {
        "id": "sO0UmPgGmhep",
        "colab_type": "code",
        "outputId": "5630602f-5b25-4182-f644-fc647e7695bd",
        "colab": {
          "base_uri": "https://localhost:8080/",
          "height": 68
        }
      },
      "source": [
        "print(\"Formato da coluna tempo: \", X_teste_passageiros.shape)\n",
        "print(\"Formato da coluna nº passageiros reais: \", y_teste_passageiros.shape)\n",
        "print(\"Formato da coluna nº passageiros predito: \", y_pred.shape)"
      ],
      "execution_count": 43,
      "outputs": [
        {
          "output_type": "stream",
          "text": [
            "Formato da coluna tempo:  (44, 1)\n",
            "Formato da coluna nº passageiros reais:  (44, 1)\n",
            "Formato da coluna nº passageiros predito:  (44, 1)\n"
          ],
          "name": "stdout"
        }
      ]
    },
    {
      "cell_type": "markdown",
      "metadata": {
        "id": "zS5vEPAAoge5",
        "colab_type": "text"
      },
      "source": [
        "Portanto, tempos uma array 2D, sendo 44 linhas e 1 coluna. Para criar um Data Frame precisamos usar arrays 1D. Para mudar a forma dos nossos arrays podemos usar tanto a função `reshape()`, quanto a `ravel()` do Numpy.\n",
        "\n",
        "> `reshape()` muda a forma o array de acordo com parâmetros passados para função, desde que o tamanho do array seja o mesmo.\n"
      ]
    },
    {
      "cell_type": "code",
      "metadata": {
        "id": "APze_VUXo1JC",
        "colab_type": "code",
        "colab": {
          "base_uri": "https://localhost:8080/",
          "height": 204
        },
        "outputId": "e8f140dc-a339-49aa-b4c4-ee17d1e1f360"
      },
      "source": [
        "X_teste_passageiros.reshape(44) #para isso precisamos definir o formato do novo array que queremos"
      ],
      "execution_count": 44,
      "outputs": [
        {
          "output_type": "execute_result",
          "data": {
            "text/plain": [
              "array([1949.83333333, 1954.75      , 1949.75      , 1954.91666667,\n",
              "       1952.25      , 1951.75      , 1957.25      , 1949.16666667,\n",
              "       1955.83333333, 1953.58333333, 1955.25      , 1955.58333333,\n",
              "       1958.08333333, 1958.5       , 1951.33333333, 1952.08333333,\n",
              "       1955.5       , 1955.33333333, 1957.83333333, 1959.08333333,\n",
              "       1953.83333333, 1949.        , 1956.91666667, 1949.91666667,\n",
              "       1956.5       , 1951.5       , 1960.91666667, 1957.58333333,\n",
              "       1957.5       , 1953.5       , 1957.08333333, 1958.91666667,\n",
              "       1960.66666667, 1955.41666667, 1959.33333333, 1950.5       ,\n",
              "       1952.33333333, 1955.75      , 1955.        , 1960.25      ,\n",
              "       1960.83333333, 1954.66666667, 1957.91666667, 1960.33333333])"
            ]
          },
          "metadata": {
            "tags": []
          },
          "execution_count": 44
        }
      ]
    },
    {
      "cell_type": "markdown",
      "metadata": {
        "id": "HyuXYAY6sxes",
        "colab_type": "text"
      },
      "source": [
        "> `ravel()` transforma qualquer forma de array em um array 1D"
      ]
    },
    {
      "cell_type": "code",
      "metadata": {
        "id": "Cak2E6GypNqn",
        "colab_type": "code",
        "colab": {
          "base_uri": "https://localhost:8080/",
          "height": 204
        },
        "outputId": "8b732b8a-8a2b-482b-80ea-1c2a64062df6"
      },
      "source": [
        "X_teste_passageiros.ravel()"
      ],
      "execution_count": 45,
      "outputs": [
        {
          "output_type": "execute_result",
          "data": {
            "text/plain": [
              "array([1949.83333333, 1954.75      , 1949.75      , 1954.91666667,\n",
              "       1952.25      , 1951.75      , 1957.25      , 1949.16666667,\n",
              "       1955.83333333, 1953.58333333, 1955.25      , 1955.58333333,\n",
              "       1958.08333333, 1958.5       , 1951.33333333, 1952.08333333,\n",
              "       1955.5       , 1955.33333333, 1957.83333333, 1959.08333333,\n",
              "       1953.83333333, 1949.        , 1956.91666667, 1949.91666667,\n",
              "       1956.5       , 1951.5       , 1960.91666667, 1957.58333333,\n",
              "       1957.5       , 1953.5       , 1957.08333333, 1958.91666667,\n",
              "       1960.66666667, 1955.41666667, 1959.33333333, 1950.5       ,\n",
              "       1952.33333333, 1955.75      , 1955.        , 1960.25      ,\n",
              "       1960.83333333, 1954.66666667, 1957.91666667, 1960.33333333])"
            ]
          },
          "metadata": {
            "tags": []
          },
          "execution_count": 45
        }
      ]
    },
    {
      "cell_type": "markdown",
      "metadata": {
        "id": "2gurgfo2uxe7",
        "colab_type": "text"
      },
      "source": [
        "Agora podemos criar o nosso data frame, pois com a função `ravel()`, vamos remodelar nossos arrays para um formato 1D"
      ]
    },
    {
      "cell_type": "code",
      "metadata": {
        "id": "TVGxKP4Kut55",
        "colab_type": "code",
        "outputId": "6f9a0d06-3eb6-4071-9912-cd14cce91684",
        "colab": {
          "base_uri": "https://localhost:8080/",
          "height": 34
        }
      },
      "source": [
        "X_teste_passageiros.ravel().shape"
      ],
      "execution_count": 46,
      "outputs": [
        {
          "output_type": "execute_result",
          "data": {
            "text/plain": [
              "(44,)"
            ]
          },
          "metadata": {
            "tags": []
          },
          "execution_count": 46
        }
      ]
    },
    {
      "cell_type": "code",
      "metadata": {
        "id": "8GimFJ8r5_Yq",
        "colab_type": "code",
        "outputId": "b49b99eb-bef0-4dd8-8abc-3c2d9f15bd1b",
        "colab": {
          "base_uri": "https://localhost:8080/",
          "height": 204
        }
      },
      "source": [
        "#Criando um dataframe\n",
        "df_passageiros = pd.DataFrame(\n",
        "    {'Tempo': X_teste_passageiros.ravel(),\n",
        "     'nPassageiros_reais': y_teste_passageiros.ravel(),\n",
        "     'nPassageiros_predito': y_pred.ravel()})\n",
        "df_passageiros.head()"
      ],
      "execution_count": 48,
      "outputs": [
        {
          "output_type": "execute_result",
          "data": {
            "text/html": [
              "<div>\n",
              "<style scoped>\n",
              "    .dataframe tbody tr th:only-of-type {\n",
              "        vertical-align: middle;\n",
              "    }\n",
              "\n",
              "    .dataframe tbody tr th {\n",
              "        vertical-align: top;\n",
              "    }\n",
              "\n",
              "    .dataframe thead th {\n",
              "        text-align: right;\n",
              "    }\n",
              "</style>\n",
              "<table border=\"1\" class=\"dataframe\">\n",
              "  <thead>\n",
              "    <tr style=\"text-align: right;\">\n",
              "      <th></th>\n",
              "      <th>Tempo</th>\n",
              "      <th>nPassageiros_reais</th>\n",
              "      <th>nPassageiros_predito</th>\n",
              "    </tr>\n",
              "  </thead>\n",
              "  <tbody>\n",
              "    <tr>\n",
              "      <th>0</th>\n",
              "      <td>1949.833333</td>\n",
              "      <td>104</td>\n",
              "      <td>114.332322</td>\n",
              "    </tr>\n",
              "    <tr>\n",
              "      <th>1</th>\n",
              "      <td>1954.750000</td>\n",
              "      <td>229</td>\n",
              "      <td>274.991715</td>\n",
              "    </tr>\n",
              "    <tr>\n",
              "      <th>2</th>\n",
              "      <td>1949.750000</td>\n",
              "      <td>119</td>\n",
              "      <td>111.609281</td>\n",
              "    </tr>\n",
              "    <tr>\n",
              "      <th>3</th>\n",
              "      <td>1954.916667</td>\n",
              "      <td>229</td>\n",
              "      <td>280.437796</td>\n",
              "    </tr>\n",
              "    <tr>\n",
              "      <th>4</th>\n",
              "      <td>1952.250000</td>\n",
              "      <td>181</td>\n",
              "      <td>193.300498</td>\n",
              "    </tr>\n",
              "  </tbody>\n",
              "</table>\n",
              "</div>"
            ],
            "text/plain": [
              "         Tempo  nPassageiros_reais  nPassageiros_predito\n",
              "0  1949.833333                 104            114.332322\n",
              "1  1954.750000                 229            274.991715\n",
              "2  1949.750000                 119            111.609281\n",
              "3  1954.916667                 229            280.437796\n",
              "4  1952.250000                 181            193.300498"
            ]
          },
          "metadata": {
            "tags": []
          },
          "execution_count": 48
        }
      ]
    },
    {
      "cell_type": "code",
      "metadata": {
        "id": "lCcd9j2-44F2",
        "colab_type": "code",
        "outputId": "34bbdc6b-2307-4753-9124-e077bc143c04",
        "colab": {
          "base_uri": "https://localhost:8080/",
          "height": 314
        }
      },
      "source": [
        "#Plotar os valores reais e os valores preditos\n",
        "plt.plot(df_passageiros['Tempo'],df_passageiros['nPassageiros_reais'], 'b.', label='Reais')\n",
        "plt.plot(df_passageiros['Tempo'],df_passageiros['nPassageiros_predito'], 'r-', linewidth=2, label='Predições')\n",
        "plt.xlabel(\"Tempo\", fontsize=18)\n",
        "plt.ylabel(\"Nº de Passageiros\", fontsize=18)\n",
        "plt.legend(loc=\"upper left\", fontsize=14)\n",
        "salvar_figura(\"nPassageiros_predicoes\")\n",
        "plt.show()"
      ],
      "execution_count": 49,
      "outputs": [
        {
          "output_type": "stream",
          "text": [
            "Salvando figura nPassageiros_predicoes\n"
          ],
          "name": "stdout"
        },
        {
          "output_type": "display_data",
          "data": {
            "image/png": "[encoded data removed]",
            "text/plain": [
              "<Figure size 432x288 with 1 Axes>"
            ]
          },
          "metadata": {
            "tags": [],
            "needs_background": "light"
          }
        }
      ]
    },
    {
      "cell_type": "code",
      "metadata": {
        "id": "xBJrorCr5TSy",
        "colab_type": "code",
        "outputId": "bdf53c71-1f6d-4bd9-b58e-7a54cd7d237e",
        "colab": {
          "base_uri": "https://localhost:8080/",
          "height": 34
        }
      },
      "source": [
        "#Medir o erro do modelo Regressão Linear com MSE\n",
        "from sklearn.metrics import mean_squared_error\n",
        "mse = mean_squared_error(y_teste_passageiros,y_pred)\n",
        "mse "
      ],
      "execution_count": 50,
      "outputs": [
        {
          "output_type": "execute_result",
          "data": {
            "text/plain": [
              "2377.0138706119387"
            ]
          },
          "metadata": {
            "tags": []
          },
          "execution_count": 50
        }
      ]
    },
    {
      "cell_type": "markdown",
      "metadata": {
        "id": "OxLA9JW_zoO6",
        "colab_type": "text"
      },
      "source": [
        "### **$R^2$**\n",
        "\n",
        "> **Avaliando melhor o modelo com $R^2$** <br> \n",
        " - Retorna valores entre 0 e 1\n",
        " - Quanto mais próximo de 1, melhor o modelo\n",
        " $$\n",
        " R^2 = 1 - \\frac{\\sum_{i=0}^{n} (y_i - \\hat{y}_i)^2}{\\sum_{i=0}^{n} (y_i - \\bar{y}_i)^2}\n",
        " $$"
      ]
    },
    {
      "cell_type": "code",
      "metadata": {
        "id": "G_yFKT7fz4sb",
        "colab_type": "code",
        "outputId": "bfca3141-896e-409f-9030-3628014c799f",
        "colab": {
          "base_uri": "https://localhost:8080/",
          "height": 34
        }
      },
      "source": [
        "from sklearn.metrics import r2_score\n",
        "r2 = r2_score(y_teste_passageiros, y_pred)\n",
        "r2"
      ],
      "execution_count": 51,
      "outputs": [
        {
          "output_type": "execute_result",
          "data": {
            "text/plain": [
              "0.8137902534776319"
            ]
          },
          "metadata": {
            "tags": []
          },
          "execution_count": 51
        }
      ]
    },
    {
      "cell_type": "markdown",
      "metadata": {
        "id": "49gHexj19WvS",
        "colab_type": "text"
      },
      "source": [
        "### **Gradiente Descendente para Regressão Linear**\n",
        "> Cada iteração do Gradiente Descendente na vetorial: $$\n",
        "\\theta^{(proximo)} = \\theta - \\alpha \\frac{2}{n}\\bf{X}^T \\cdot (\\bf{X} \\cdot \\theta - \\bf{y})\n",
        "$$"
      ]
    },
    {
      "cell_type": "code",
      "metadata": {
        "id": "x5DQxpZJ2WNK",
        "colab_type": "code",
        "colab": {
          "base_uri": "https://localhost:8080/",
          "height": 1000
        },
        "outputId": "ecbddd48-4bcb-4f7d-829f-75215e3ec184"
      },
      "source": [
        "alpha = 0.1 #taxa de aprendizado\n",
        "iteracoes = 2000 # número de iterações até parar.\n",
        "theta = np.random.randn(2,1) #Theta inicial (aleatorio)\n",
        "\n",
        "for i in range(iteracoes):\n",
        "  gradients = 2/X.shape[0] * X_b.T.dot(X_b.dot(theta) - y) #Calculando a derivada parcial da função de erro\n",
        "  theta = theta - alpha * gradients #calculando o restante da operação e atualizando os pesos (theta)\n",
        "  if i % 100 == 0: #a cada 100 iterações, mostrar o valor dos thetas e o erro.\n",
        "    y_pred = X_b.dot(theta)\n",
        "    print(\" Iteração: \", i)\n",
        "    print(f\"theta0: {theta[0,0]} - theta1: {theta[1,0]} --> MSE: {mean_squared_error(y[:,0],y_pred[:,0])}\") \n",
        "    print(\"=====================================\")"
      ],
      "execution_count": 52,
      "outputs": [
        {
          "output_type": "stream",
          "text": [
            " Iteração:  0\n",
            "theta0: 0.8695366951059695 - theta1: 1.4063481701952472 --> MSE: 22.876696801299502\n",
            "=====================================\n",
            " Iteração:  100\n",
            "theta0: 4.177017131609586 - theta1: 2.8037350965618337 --> MSE: 0.8070224939706654\n",
            "=====================================\n",
            " Iteração:  200\n",
            "theta0: 4.213891152980198 - theta1: 2.7711773399729243 --> MSE: 0.806585002508278\n",
            "=====================================\n",
            " Iteração:  300\n",
            "theta0: 4.215058025373729 - theta1: 2.770147055074592 --> MSE: 0.8065845644062068\n",
            "=====================================\n",
            " Iteração:  400\n",
            "theta0: 4.215094950860351 - theta1: 2.770114451876984 --> MSE: 0.806584563967493\n",
            "=====================================\n",
            " Iteração:  500\n",
            "theta0: 4.2150961193613545 - theta1: 2.7701134201541113 --> MSE: 0.8065845639670538\n",
            "=====================================\n",
            " Iteração:  600\n",
            "theta0: 4.215096156338379 - theta1: 2.7701133875054085 --> MSE: 0.8065845639670534\n",
            "=====================================\n",
            " Iteração:  700\n",
            "theta0: 4.21509615750851 - theta1: 2.770113386472246 --> MSE: 0.8065845639670531\n",
            "=====================================\n",
            " Iteração:  800\n",
            "theta0: 4.215096157545538 - theta1: 2.7701133864395526 --> MSE: 0.8065845639670531\n",
            "=====================================\n",
            " Iteração:  900\n",
            "theta0: 4.215096157546709 - theta1: 2.7701133864385183 --> MSE: 0.8065845639670534\n",
            "=====================================\n",
            " Iteração:  1000\n",
            "theta0: 4.215096157546739 - theta1: 2.7701133864384917 --> MSE: 0.806584563967053\n",
            "=====================================\n",
            " Iteração:  1100\n",
            "theta0: 4.215096157546739 - theta1: 2.7701133864384917 --> MSE: 0.806584563967053\n",
            "=====================================\n",
            " Iteração:  1200\n",
            "theta0: 4.215096157546739 - theta1: 2.7701133864384917 --> MSE: 0.806584563967053\n",
            "=====================================\n",
            " Iteração:  1300\n",
            "theta0: 4.215096157546739 - theta1: 2.7701133864384917 --> MSE: 0.806584563967053\n",
            "=====================================\n",
            " Iteração:  1400\n",
            "theta0: 4.215096157546739 - theta1: 2.7701133864384917 --> MSE: 0.806584563967053\n",
            "=====================================\n",
            " Iteração:  1500\n",
            "theta0: 4.215096157546739 - theta1: 2.7701133864384917 --> MSE: 0.806584563967053\n",
            "=====================================\n",
            " Iteração:  1600\n",
            "theta0: 4.215096157546739 - theta1: 2.7701133864384917 --> MSE: 0.806584563967053\n",
            "=====================================\n",
            " Iteração:  1700\n",
            "theta0: 4.215096157546739 - theta1: 2.7701133864384917 --> MSE: 0.806584563967053\n",
            "=====================================\n",
            " Iteração:  1800\n",
            "theta0: 4.215096157546739 - theta1: 2.7701133864384917 --> MSE: 0.806584563967053\n",
            "=====================================\n",
            " Iteração:  1900\n",
            "theta0: 4.215096157546739 - theta1: 2.7701133864384917 --> MSE: 0.806584563967053\n",
            "=====================================\n"
          ],
          "name": "stdout"
        }
      ]
    }
  ]
}